{
 "cells": [
  {
   "cell_type": "code",
   "execution_count": 1,
   "id": "accepting-azerbaijan",
   "metadata": {},
   "outputs": [],
   "source": [
    "import pandas as pd\n",
    "store = pd.HDFStore(\"/Volumes/GCS/bucket/iex_store.h5\")"
   ]
  },
  {
   "cell_type": "code",
   "execution_count": 2,
   "id": "boolean-gothic",
   "metadata": {},
   "outputs": [
    {
     "data": {
      "text/plain": [
       "<class 'pandas.io.pytables.HDFStore'>\n",
       "File path: /Volumes/GCS/bucket/iex_store.h5"
      ]
     },
     "execution_count": 2,
     "metadata": {},
     "output_type": "execute_result"
    }
   ],
   "source": [
    "store"
   ]
  },
  {
   "cell_type": "code",
   "execution_count": 4,
   "id": "accepting-tract",
   "metadata": {},
   "outputs": [
    {
     "data": {
      "text/plain": [
       "(Timestamp('2014-09-08 00:00:00'), Timestamp('2021-02-25 00:00:00'))"
      ]
     },
     "execution_count": 4,
     "metadata": {},
     "output_type": "execute_result"
    }
   ],
   "source": [
    "stock = 'GOOG'\n",
    "min_date = min(store[stock].index)\n",
    "max_date = max(store[stock].index)\n",
    "(min_date, max_date)"
   ]
  }
 ],
 "metadata": {
  "kernelspec": {
   "display_name": "Python 3",
   "language": "python",
   "name": "python3"
  },
  "language_info": {
   "codemirror_mode": {
    "name": "ipython",
    "version": 3
   },
   "file_extension": ".py",
   "mimetype": "text/x-python",
   "name": "python",
   "nbconvert_exporter": "python",
   "pygments_lexer": "ipython3",
   "version": "3.6.12"
  }
 },
 "nbformat": 4,
 "nbformat_minor": 5
}
