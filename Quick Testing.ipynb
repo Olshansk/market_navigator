{
 "cells": [
  {
   "cell_type": "code",
   "execution_count": 1,
   "metadata": {},
   "outputs": [],
   "source": [
    "%load_ext autoreload\n",
    "%autoreload 2"
   ]
  },
  {
   "cell_type": "code",
   "execution_count": 2,
   "metadata": {},
   "outputs": [],
   "source": [
    "from iexfinance.refdata import get_symbols, get_iex_symbols\n",
    "\n",
    "import os\n",
    "import sys\n",
    "import pandas as pd\n",
    "import altair as alt\n",
    "import datetime as dt\n",
    "\n",
    "from pandas import to_datetime\n",
    "from datetime import datetime, date\n",
    "from iexfinance.stocks import get_historical_data\n",
    "from dateutil.relativedelta import relativedelta"
   ]
  },
  {
   "cell_type": "code",
   "execution_count": 3,
   "metadata": {},
   "outputs": [
    {
     "name": "stderr",
     "output_type": "stream",
     "text": [
      "DEBUG:root:test\n"
     ]
    }
   ],
   "source": [
    "# Used to log the `MESSAGES USED` in `_IEXBAse`.\n",
    "# https://addisonlynch.github.io/iexfinance/stable/logging.html\n",
    "import logging\n",
    "logger = logging.getLogger()\n",
    "logger.setLevel(logging.DEBUG)\n",
    "logging.debug(\"test\")\n",
    "os.environ[\"IEX_LOG_LEVEL\"] = \"DEBUG\""
   ]
  },
  {
   "cell_type": "code",
   "execution_count": 4,
   "metadata": {},
   "outputs": [
    {
     "name": "stderr",
     "output_type": "stream",
     "text": [
      "INFO:numexpr.utils:NumExpr defaulting to 8 threads.\n"
     ]
    }
   ],
   "source": [
    "IEX_TOKEN = \"Tpk_57fa15c2c86b4dadbb31e0c1ad1db895\"\n",
    "os.environ[\"IEX_API_VERSION\"] = \"iexcloud-sandbox\"\n",
    "store = pd.HDFStore('dev_iex_store.h5')"
   ]
  },
  {
   "cell_type": "code",
   "execution_count": 5,
   "metadata": {},
   "outputs": [
    {
     "name": "stderr",
     "output_type": "stream",
     "text": [
      "DEBUG:urllib3.connectionpool:Starting new HTTPS connection (1): sandbox.iexapis.com:443\n",
      "DEBUG:urllib3.connectionpool:https://sandbox.iexapis.com:443 \"GET /stable/ref-data/symbols?token=Tpk_57fa15c2c86b4dadbb31e0c1ad1db895 HTTP/1.1\" 200 None\n"
     ]
    }
   ],
   "source": [
    "symbols = get_symbols(token=IEX_TOKEN)[:10]"
   ]
  },
  {
   "cell_type": "code",
   "execution_count": 6,
   "metadata": {},
   "outputs": [
    {
     "name": "stderr",
     "output_type": "stream",
     "text": [
      "DEBUG:urllib3.connectionpool:Starting new HTTPS connection (1): sandbox.iexapis.com:443\n",
      "DEBUG:urllib3.connectionpool:https://sandbox.iexapis.com:443 \"GET /stable/stock/market/batch?symbols=AAPL&types=chart&range=3m&chartByDay=False&chartCloseOnly=True&token=Tpk_57fa15c2c86b4dadbb31e0c1ad1db895 HTTP/1.1\" 200 None\n"
     ]
    }
   ],
   "source": [
    "df = get_historical_data('AAPL', datetime.now() - relativedelta(days=60), to_datetime(dt.date.today()), close_only=True, output_format='pandas', token=IEX_TOKEN)"
   ]
  },
  {
   "cell_type": "code",
   "execution_count": 7,
   "metadata": {},
   "outputs": [
    {
     "name": "stderr",
     "output_type": "stream",
     "text": [
      "DEBUG:urllib3.connectionpool:Starting new HTTPS connection (1): sandbox.iexapis.com:443\n",
      "DEBUG:urllib3.connectionpool:https://sandbox.iexapis.com:443 \"GET /stable/stock/market/batch?symbols=AAPL%2CGOOG&types=chart&range=3m&chartByDay=False&chartCloseOnly=False&token=Tpk_57fa15c2c86b4dadbb31e0c1ad1db895 HTTP/1.1\" 200 None\n",
      "DEBUG:urllib3.connectionpool:Starting new HTTPS connection (1): sandbox.iexapis.com:443\n",
      "DEBUG:urllib3.connectionpool:https://sandbox.iexapis.com:443 \"GET /stable/stock/market/batch?symbols=AAPL%2CGOOG&types=chart&range=3m&chartByDay=False&chartCloseOnly=False&token=Tpk_57fa15c2c86b4dadbb31e0c1ad1db895 HTTP/1.1\" 200 None\n"
     ]
    }
   ],
   "source": [
    "start = datetime.now() - relativedelta(days=60)\n",
    "end = datetime.now() - relativedelta(days=1)\n",
    "symbols = ['AAPL', 'GOOG']\n",
    "json = get_historical_data(symbols, start, end, close_only=False, output_format='json', token=IEX_TOKEN)\n",
    "df = get_historical_data(symbols, start, end, close_only=False, output_format='pandas', token=IEX_TOKEN)"
   ]
  },
  {
   "cell_type": "code",
   "execution_count": 8,
   "metadata": {},
   "outputs": [
    {
     "data": {
      "text/plain": [
       "Index(['close', 'high', 'low', 'open', 'symbol', 'volume', 'id', 'key',\n",
       "       'subkey', 'date', 'updated', 'changeOverTime', 'marketChangeOverTime',\n",
       "       'uOpen', 'uClose', 'uHigh', 'uLow', 'uVolume', 'fOpen', 'fClose',\n",
       "       'fHigh', 'fLow', 'fVolume', 'label', 'change', 'changePercent'],\n",
       "      dtype='object')"
      ]
     },
     "execution_count": 8,
     "metadata": {},
     "output_type": "execute_result"
    }
   ],
   "source": [
    "pd.DataFrame.from_dict(json['AAPL']['chart']).columns"
   ]
  },
  {
   "cell_type": "code",
   "execution_count": 9,
   "metadata": {},
   "outputs": [],
   "source": [
    "def json_to_pandas(out):\n",
    "    if len(symbols) > 1:\n",
    "        out = {\n",
    "            (symbol, day[\"date\"]): day\n",
    "            for symbol in out\n",
    "            for day in out[symbol][\"chart\"]\n",
    "        }\n",
    "#         result = pd.DataFrame.from_dict(out, orient='index')\n",
    "        result = pd.DataFrame.from_dict(out, orient=\"columns\").drop(\"date\").T\n",
    "        result.index = result.index.set_levels(\n",
    "            [result.index.levels[0], pd.to_datetime(result.index.levels[1])]\n",
    "        )\n",
    "        idx = pd.IndexSlice\n",
    "        result = result.loc[idx[:, start : end], :]\n",
    "    else:\n",
    "        out = {entr[\"date\"]: entr for entr in out[symbols[0]][\"chart\"]}\n",
    "        result = pd.DataFrame.from_dict(out, orient=\"columns\").drop(\"date\").T\n",
    "        result.index = pd.to_datetime(result.index)\n",
    "        result = result.loc[start : end, :]\n",
    "    return result\n",
    "\n",
    "def json_to_pandas1(out):\n",
    "    if len(symbols) > 1:\n",
    "        out = {\n",
    "            (symbol, pd.to_datetime(day[\"date\"])): day\n",
    "            for symbol in out\n",
    "            for day in out[symbol][\"chart\"]\n",
    "        }\n",
    "        result = pd.DataFrame.from_dict(out, orient='index')\n",
    "        idx = pd.IndexSlice\n",
    "        result = result.loc[idx[:, start : end], :]\n",
    "    else:\n",
    "        out = {entr[\"date\"]: entr for entr in out[symbols[0]][\"chart\"]}\n",
    "        result = pd.DataFrame.from_dict(out, orient=\"columns\").drop(\"date\").T\n",
    "        result.index = pd.to_datetime(result.index)\n",
    "        result = result.loc[start : end, :]\n",
    "    return result"
   ]
  },
  {
   "cell_type": "code",
   "execution_count": 10,
   "metadata": {},
   "outputs": [
    {
     "name": "stdout",
     "output_type": "stream",
     "text": [
      "--- 0.02695488929748535 seconds ---\n",
      "--- 0.032715797424316406 seconds ---\n"
     ]
    }
   ],
   "source": [
    "import time\n",
    "\n",
    "start_time = time.time()\n",
    "json_to_pandas(json)\n",
    "print(\"--- %s seconds ---\" % (time.time() - start_time))\n",
    "\n",
    "start_time = time.time()\n",
    "json_to_pandas1(json)\n",
    "print(\"--- %s seconds ---\" % (time.time() - start_time))"
   ]
  },
  {
   "cell_type": "code",
   "execution_count": 13,
   "metadata": {},
   "outputs": [
    {
     "name": "stderr",
     "output_type": "stream",
     "text": [
      "DEBUG:urllib3.connectionpool:Starting new HTTPS connection (1): sandbox.iexapis.com:443\n",
      "DEBUG:urllib3.connectionpool:https://sandbox.iexapis.com:443 \"GET /stable/ref-data/symbols?token=Tpk_57fa15c2c86b4dadbb31e0c1ad1db895 HTTP/1.1\" 200 None\n"
     ]
    },
    {
     "data": {
      "text/plain": [
       "['A', 'AA', 'AAA', 'AAAU', 'AACG', 'AACQ', 'AACQW', 'AADR', 'AAIC', 'AAIC-B']"
      ]
     },
     "execution_count": 13,
     "metadata": {},
     "output_type": "execute_result"
    }
   ],
   "source": [
    "all_symbols = get_symbols(token=IEX_TOKEN)\n",
    "symbols_df = all_symbols[:10]\n",
    "symbols = [symbol_metadata['symbol'] for _, symbol_metadata in symbols_df.iterrows()]\n",
    "symbols"
   ]
  }
 ],
 "metadata": {
  "kernelspec": {
   "display_name": "Python 3",
   "language": "python",
   "name": "python3"
  },
  "language_info": {
   "codemirror_mode": {
    "name": "ipython",
    "version": 3
   },
   "file_extension": ".py",
   "mimetype": "text/x-python",
   "name": "python",
   "nbconvert_exporter": "python",
   "pygments_lexer": "ipython3",
   "version": "3.7.7"
  }
 },
 "nbformat": 4,
 "nbformat_minor": 4
}
