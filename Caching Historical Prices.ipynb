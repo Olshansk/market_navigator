{
 "cells": [
  {
   "cell_type": "code",
   "execution_count": 1,
   "metadata": {},
   "outputs": [],
   "source": [
    "%load_ext autoreload\n",
    "%autoreload 2"
   ]
  },
  {
   "cell_type": "code",
   "execution_count": 2,
   "metadata": {},
   "outputs": [],
   "source": [
    "import os\n",
    "from datetime import datetime, date\n",
    "from dateutil.relativedelta import relativedelta"
   ]
  },
  {
   "cell_type": "code",
   "execution_count": 3,
   "metadata": {},
   "outputs": [
    {
     "name": "stderr",
     "output_type": "stream",
     "text": [
      "DEBUG:root:test\n"
     ]
    }
   ],
   "source": [
    "# Used to log the `MESSAGES USED` in `_IEXBAse`.\n",
    "# https://addisonlynch.github.io/iexfinance/stable/logging.html\n",
    "import logging\n",
    "logger = logging.getLogger()\n",
    "logger.setLevel(logging.DEBUG)\n",
    "logging.debug(\"test\")\n",
    "os.environ[\"IEX_LOG_LEVEL\"] = \"DEBUG\""
   ]
  },
  {
   "cell_type": "code",
   "execution_count": 59,
   "metadata": {},
   "outputs": [],
   "source": [
    "import pandas as pd\n",
    "store = pd.HDFStore('store.h5')"
   ]
  },
  {
   "cell_type": "code",
   "execution_count": 5,
   "metadata": {},
   "outputs": [],
   "source": [
    "# Iex finance links:\n",
    "# 0. https://addisonlynch.github.io/iexfinance/stable/stocks.html#stocks-historical\n",
    "# 1. HistoricalReader class: https://github.com/addisonlynch/iexfinance/blob/d6d23537029895cc0ea62b25649aeeda67103b9e/iexfinance/stocks/historical.py\n",
    "# 2. Stock class: https://github.com/addisonlynch/iexfinance/blob/d6d23537029895cc0ea62b25649aeeda67103b9e/iexfinance/stocks/base.py#L8\n",
    "# 3. _IEXBase: https://github.com/addisonlynch/iexfinance/blob/b23c0646f614c84dc32750aee3bbb3cf10afbe35/iexfinance/base.py#L18\n",
    "\n",
    "# https://intercom.help/iexcloud/en/articles/4063720-historical-stock-prices-on-iex-cloud\n",
    "from iexfinance.stocks import get_historical_data"
   ]
  },
  {
   "cell_type": "code",
   "execution_count": 6,
   "metadata": {},
   "outputs": [],
   "source": [
    "IEX_TOKEN = \"Tpk_57fa15c2c86b4dadbb31e0c1ad1db895\"\n",
    "NUM_YEARS_HISTORY = 1\n",
    "SYMBOL = 'AMZN'\n",
    "os.environ[\"IEX_API_VERSION\"] = \"iexcloud-sandbox\""
   ]
  },
  {
   "cell_type": "code",
   "execution_count": null,
   "metadata": {},
   "outputs": [],
   "source": []
  },
  {
   "cell_type": "code",
   "execution_count": 110,
   "metadata": {},
   "outputs": [
    {
     "name": "stderr",
     "output_type": "stream",
     "text": [
      "DEBUG:urllib3.connectionpool:Starting new HTTPS connection (1): sandbox.iexapis.com:443\n"
     ]
    },
    {
     "name": "stdout",
     "output_type": "stream",
     "text": [
      "here0\n"
     ]
    },
    {
     "name": "stderr",
     "output_type": "stream",
     "text": [
      "DEBUG:urllib3.connectionpool:https://sandbox.iexapis.com:443 \"GET /stable/stock/market/batch?symbols=AAPL&types=chart&range=max&chartByDay=False&chartCloseOnly=True&token=Tpk_57fa15c2c86b4dadbb31e0c1ad1db895 HTTP/1.1\" 200 None\n",
      "DEBUG - REQUEST: https://sandbox.iexapis.com/stable/stock/market/batch?symbols=AAPL&types=chart&range=max&chartByDay=False&chartCloseOnly=True&token=Tpk_57fa15c2c86b4dadbb31e0c1ad1db895\n",
      "DEBUG:iexfinance.base:REQUEST: https://sandbox.iexapis.com/stable/stock/market/batch?symbols=AAPL&types=chart&range=max&chartByDay=False&chartCloseOnly=True&token=Tpk_57fa15c2c86b4dadbb31e0c1ad1db895\n",
      "DEBUG - RESPONSE: 200\n",
      "DEBUG:iexfinance.base:RESPONSE: 200\n",
      "INFO - MESSAGES USED: 2518\n",
      "INFO:iexfinance.base:MESSAGES USED: 2518\n",
      "/Users/olshansky/.pyenv/versions/3.7.7/lib/python3.7/site-packages/ipykernel_launcher.py:43: PerformanceWarning: \n",
      "your performance may suffer as PyTables will pickle object types that it cannot\n",
      "map directly to c-types [inferred_type->mixed-integer-float,key->block0_values] [items->Index(['close', 'volume'], dtype='object')]\n",
      "\n"
     ]
    },
    {
     "data": {
      "text/html": [
       "<div>\n",
       "<style scoped>\n",
       "    .dataframe tbody tr th:only-of-type {\n",
       "        vertical-align: middle;\n",
       "    }\n",
       "\n",
       "    .dataframe tbody tr th {\n",
       "        vertical-align: top;\n",
       "    }\n",
       "\n",
       "    .dataframe thead th {\n",
       "        text-align: right;\n",
       "    }\n",
       "</style>\n",
       "<table border=\"1\" class=\"dataframe\">\n",
       "  <thead>\n",
       "    <tr style=\"text-align: right;\">\n",
       "      <th></th>\n",
       "      <th>close</th>\n",
       "      <th>volume</th>\n",
       "    </tr>\n",
       "  </thead>\n",
       "  <tbody>\n",
       "    <tr>\n",
       "      <th>2015-11-16</th>\n",
       "      <td>28.83</td>\n",
       "      <td>153963583</td>\n",
       "    </tr>\n",
       "    <tr>\n",
       "      <th>2015-11-17</th>\n",
       "      <td>29.37</td>\n",
       "      <td>114976074</td>\n",
       "    </tr>\n",
       "    <tr>\n",
       "      <th>2015-11-18</th>\n",
       "      <td>30.65</td>\n",
       "      <td>187520691</td>\n",
       "    </tr>\n",
       "    <tr>\n",
       "      <th>2015-11-19</th>\n",
       "      <td>30</td>\n",
       "      <td>173606370</td>\n",
       "    </tr>\n",
       "    <tr>\n",
       "      <th>2015-11-20</th>\n",
       "      <td>30.58</td>\n",
       "      <td>138770411</td>\n",
       "    </tr>\n",
       "    <tr>\n",
       "      <th>...</th>\n",
       "      <td>...</td>\n",
       "      <td>...</td>\n",
       "    </tr>\n",
       "    <tr>\n",
       "      <th>2020-11-09</th>\n",
       "      <td>120.35</td>\n",
       "      <td>158666003</td>\n",
       "    </tr>\n",
       "    <tr>\n",
       "      <th>2020-11-10</th>\n",
       "      <td>117.69</td>\n",
       "      <td>144802655</td>\n",
       "    </tr>\n",
       "    <tr>\n",
       "      <th>2020-11-11</th>\n",
       "      <td>124.82</td>\n",
       "      <td>116021697</td>\n",
       "    </tr>\n",
       "    <tr>\n",
       "      <th>2020-11-12</th>\n",
       "      <td>124</td>\n",
       "      <td>105087444</td>\n",
       "    </tr>\n",
       "    <tr>\n",
       "      <th>2020-11-13</th>\n",
       "      <td>122.24</td>\n",
       "      <td>81927408</td>\n",
       "    </tr>\n",
       "  </tbody>\n",
       "</table>\n",
       "<p>1259 rows × 2 columns</p>\n",
       "</div>"
      ],
      "text/plain": [
       "             close     volume\n",
       "2015-11-16   28.83  153963583\n",
       "2015-11-17   29.37  114976074\n",
       "2015-11-18   30.65  187520691\n",
       "2015-11-19      30  173606370\n",
       "2015-11-20   30.58  138770411\n",
       "...            ...        ...\n",
       "2020-11-09  120.35  158666003\n",
       "2020-11-10  117.69  144802655\n",
       "2020-11-11  124.82  116021697\n",
       "2020-11-12     124  105087444\n",
       "2020-11-13  122.24   81927408\n",
       "\n",
       "[1259 rows x 2 columns]"
      ]
     },
     "execution_count": 110,
     "metadata": {},
     "output_type": "execute_result"
    }
   ],
   "source": [
    "def sanitize_date(date):\n",
    "    return datetime(date.year, date.month, date.day)\n",
    "\n",
    "def get_historical_data_cached(store, symbol, start_date, end_date, **kwargs):\n",
    "    start_date = sanitize_date(start_date)\n",
    "    end_date = sanitize_date(end_date)\n",
    "    # Assumptions:\n",
    "    # 1. No missing data in existing dataframes in the store; data is complete between (date_min, date_max).\n",
    "    # 2. The requested data is of the same format (URL, params, retrieved columns, etc...).\n",
    "    # Reference for metadata: https://moonbooks.org/Articles/How-to-add-metadata-to-a-data-frame-with-pandas-in-python-/#store-in-a-hdf5-file\n",
    "    if symbol not in store:\n",
    "        print(\"here0\")        \n",
    "\n",
    "        df = get_historical_data(symbol, start_date, end_date, **kwargs)\n",
    "        metadata = {'min_date': start_date,'max_date': end_date}\n",
    "        \n",
    "        store[symbol] = df        \n",
    "        store.get_storer(symbol).attrs.metadata = metadata\n",
    "    else:\n",
    "        df = store[symbol]\n",
    "        metadata = store.get_storer(symbol).attrs.metadata\n",
    "        print(metadata)\n",
    "\n",
    "        if start_date < metadata['min_date']:\n",
    "            print(\"here1\")\n",
    "            df = df.append(get_historical_data(symbol, start_date, metadata['min_date'], **kwargs))\n",
    "            metadata['min_date'] = start_date\n",
    "        \n",
    "        if end_date > metadata['max_date']:\n",
    "            print(\"here2\", end_date, metadata['max_date'])            \n",
    "            df = df.append(get_historical_data(symbol, metadata['max_date'], end_date, **kwargs))\n",
    "            metadata['max_date'] = end_date            \n",
    "\n",
    "        df = df[~df.index.duplicated(keep='first')]        \n",
    "        store[symbol] = df\n",
    "        store.get_storer(symbol).attrs.metadata = metadata        \n",
    "    return df\n",
    "\n",
    "store = pd.HDFStore('store.h5')\n",
    "end_date = datetime.now() #- relativedelta(weeks=10)\n",
    "start_date = end_date - relativedelta(years=14) + relativedelta(days=10)\n",
    "SYMBOL = 'AAPL'\n",
    "get_historical_data_cached(store, SYMBOL, start_date, end_date, close_only=True, output_format='pandas', token=IEX_TOKEN)"
   ]
  }
 ],
 "metadata": {
  "kernelspec": {
   "display_name": "Python 3",
   "language": "python",
   "name": "python3"
  },
  "language_info": {
   "codemirror_mode": {
    "name": "ipython",
    "version": 3
   },
   "file_extension": ".py",
   "mimetype": "text/x-python",
   "name": "python",
   "nbconvert_exporter": "python",
   "pygments_lexer": "ipython3",
   "version": "3.7.7"
  }
 },
 "nbformat": 4,
 "nbformat_minor": 4
}
