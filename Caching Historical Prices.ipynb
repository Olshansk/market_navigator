{
 "cells": [
  {
   "cell_type": "code",
   "execution_count": 1,
   "metadata": {},
   "outputs": [],
   "source": [
    "%load_ext autoreload\n",
    "%autoreload 2"
   ]
  },
  {
   "cell_type": "code",
   "execution_count": 2,
   "metadata": {},
   "outputs": [],
   "source": [
    "import os\n",
    "from datetime import datetime, date\n",
    "from dateutil.relativedelta import relativedelta"
   ]
  },
  {
   "cell_type": "code",
   "execution_count": 3,
   "metadata": {},
   "outputs": [],
   "source": [
    "# Used to log the `MESSAGES USED` in `_IEXBAse`.\n",
    "# https://addisonlynch.github.io/iexfinance/stable/logging.html\n",
    "import logging\n",
    "logger = logging.getLogger()\n",
    "logger.setLevel(logging.DEBUG)\n",
    "logging.debug(\"test\")\n",
    "os.environ[\"IEX_LOG_LEVEL\"] = \"DEBUG\""
   ]
  },
  {
   "cell_type": "code",
   "execution_count": 4,
   "metadata": {},
   "outputs": [
    {
     "name": "stderr",
     "output_type": "stream",
     "text": [
      "INFO:numexpr.utils:Note: NumExpr detected 12 cores but \"NUMEXPR_MAX_THREADS\" not set, so enforcing safe limit of 8.\n",
      "INFO:numexpr.utils:NumExpr defaulting to 8 threads.\n"
     ]
    }
   ],
   "source": [
    "import pandas as pd\n",
    "store = pd.HDFStore('store.h5')"
   ]
  },
  {
   "cell_type": "code",
   "execution_count": 5,
   "metadata": {},
   "outputs": [],
   "source": [
    "# Iex finance links:\n",
    "# 0. https://addisonlynch.github.io/iexfinance/stable/stocks.html#stocks-historical\n",
    "# 1. HistoricalReader class: https://github.com/addisonlynch/iexfinance/blob/d6d23537029895cc0ea62b25649aeeda67103b9e/iexfinance/stocks/historical.py\n",
    "# 2. Stock class: https://github.com/addisonlynch/iexfinance/blob/d6d23537029895cc0ea62b25649aeeda67103b9e/iexfinance/stocks/base.py#L8\n",
    "# 3. _IEXBase: https://github.com/addisonlynch/iexfinance/blob/b23c0646f614c84dc32750aee3bbb3cf10afbe35/iexfinance/base.py#L18\n",
    "\n",
    "# https://intercom.help/iexcloud/en/articles/4063720-historical-stock-prices-on-iex-cloud\n",
    "from iexfinance.stocks import get_historical_data"
   ]
  },
  {
   "cell_type": "code",
   "execution_count": 6,
   "metadata": {},
   "outputs": [],
   "source": [
    "IEX_TOKEN = \"Tpk_57fa15c2c86b4dadbb31e0c1ad1db895\"\n",
    "NUM_YEARS_HISTORY = 1\n",
    "SYMBOL = 'AMZN'\n",
    "os.environ[\"IEX_API_VERSION\"] = \"iexcloud-sandbox\""
   ]
  },
  {
   "cell_type": "code",
   "execution_count": 7,
   "metadata": {},
   "outputs": [],
   "source": [
    "# Assumptions:\n",
    "# 1. No missing data in existing dataframes in the store; data is complete between (date_min, date_max).\n",
    "# 2. The requested data is of the same format (URL, params, retrieved columns, etc...).\n",
    "# Reference for metadata: https://moonbooks.org/Articles/How-to-add-metadata-to-a-data-frame-with-pandas-in-python-/#store-in-a-hdf5-file\n",
    "def get_historical_data_cached(store, symbol, start_date, end_date, **kwargs):\n",
    "    def sanitize_date(date):\n",
    "        return datetime(date.year, date.month, date.day)\n",
    "    \n",
    "    start_date = sanitize_date(start_date)\n",
    "    end_date = sanitize_date(end_date)\n",
    "\n",
    "#     kwargs['start'] = start_date\n",
    "#     kwargs['end'] = end_date\n",
    "    \n",
    "    print(f\"{symbol}: Requesting historical data between {start_date} and {end_date}.\")\n",
    "    \n",
    "    if symbol not in store:\n",
    "        print(f\"{symbol}: No data is cached.\")\n",
    "        df = get_historical_data(symbol, start_date, end_date, **kwargs)\n",
    "        metadata = {'min_date': start_date, 'max_date': end_date}\n",
    "    else:\n",
    "        df = store[symbol]\n",
    "        metadata = store.get_storer(symbol).attrs.metadata\n",
    "\n",
    "        print(f\"{symbol}: Data is catched between {metadata['min_date']} and {metadata['max_date']}.\")\n",
    "\n",
    "        if start_date < metadata['min_date']:\n",
    "            print(f\"{symbol}: Getting data between {start_date} and {metadata['min_date']}.\")\n",
    "            df = df.append(get_historical_data(symbol, start_date, metadata['min_date'], **kwargs))\n",
    "            metadata['min_date'] = start_date\n",
    "        \n",
    "        if end_date > metadata['max_date']:\n",
    "            print(f\"{symbol}: Getting data between {metadata['max_date']} and {end_date}.\")\n",
    "            print(f\"delta_days = {(datetime.now() - metadata['max_date']).days}\")\n",
    "            df = df.append(get_historical_data(symbol, metadata['max_date'], end_date, **kwargs))\n",
    "            metadata['max_date'] = end_date            \n",
    "            \n",
    "        df = df[~df.index.duplicated(keep='first')]\n",
    "\n",
    "    store[symbol] = df\n",
    "    store.get_storer(symbol).attrs.metadata = metadata        \n",
    "\n",
    "    return df"
   ]
  },
  {
   "cell_type": "code",
   "execution_count": 9,
   "metadata": {},
   "outputs": [
    {
     "name": "stderr",
     "output_type": "stream",
     "text": [
      "DEBUG:urllib3.connectionpool:Starting new HTTPS connection (1): sandbox.iexapis.com:443\n"
     ]
    },
    {
     "name": "stdout",
     "output_type": "stream",
     "text": [
      "AAPL: Requesting historical data between 2016-10-26 00:00:00 and 2020-10-26 00:00:00.\n",
      "AAPL: No data is cached.\n"
     ]
    },
    {
     "name": "stderr",
     "output_type": "stream",
     "text": [
      "DEBUG:urllib3.connectionpool:https://sandbox.iexapis.com:443 \"GET /stable/stock/market/batch?symbols=AAPL&types=chart&range=5y&chartByDay=False&chartCloseOnly=True&token=Tpk_57fa15c2c86b4dadbb31e0c1ad1db895 HTTP/1.1\" 200 None\n",
      "DEBUG - REQUEST: https://sandbox.iexapis.com/stable/stock/market/batch?symbols=AAPL&types=chart&range=5y&chartByDay=False&chartCloseOnly=True&token=Tpk_57fa15c2c86b4dadbb31e0c1ad1db895\n",
      "DEBUG:iexfinance.base:REQUEST: https://sandbox.iexapis.com/stable/stock/market/batch?symbols=AAPL&types=chart&range=5y&chartByDay=False&chartCloseOnly=True&token=Tpk_57fa15c2c86b4dadbb31e0c1ad1db895\n",
      "DEBUG - RESPONSE: 200\n",
      "DEBUG:iexfinance.base:RESPONSE: 200\n",
      "INFO - MESSAGES USED: 2518\n",
      "INFO:iexfinance.base:MESSAGES USED: 2518\n",
      "/Users/olshansky/.pyenv/versions/3.7.7/lib/python3.7/site-packages/ipykernel_launcher.py:12: PerformanceWarning: \n",
      "your performance may suffer as PyTables will pickle object types that it cannot\n",
      "map directly to c-types [inferred_type->mixed-integer-float,key->block0_values] [items->Index(['close', 'volume'], dtype='object')]\n",
      "\n",
      "  if sys.path[0] == '':\n",
      "DEBUG:urllib3.connectionpool:Starting new HTTPS connection (1): sandbox.iexapis.com:443\n"
     ]
    },
    {
     "name": "stdout",
     "output_type": "stream",
     "text": [
      "AAPL: Requesting historical data between 2016-10-26 00:00:00 and 2020-10-31 00:00:00.\n",
      "AAPL: Data is catched between 2016-10-26 00:00:00 and 2020-10-26 00:00:00.\n",
      "AAPL: Getting data between 2020-10-26 00:00:00 and 2020-10-31 00:00:00.\n",
      "delta_days = 31\n"
     ]
    },
    {
     "name": "stderr",
     "output_type": "stream",
     "text": [
      "DEBUG:urllib3.connectionpool:https://sandbox.iexapis.com:443 \"GET /stable/stock/market/batch?symbols=AAPL&types=chart&range=3m&chartByDay=False&chartCloseOnly=True&token=Tpk_57fa15c2c86b4dadbb31e0c1ad1db895 HTTP/1.1\" 200 None\n",
      "DEBUG - REQUEST: https://sandbox.iexapis.com/stable/stock/market/batch?symbols=AAPL&types=chart&range=3m&chartByDay=False&chartCloseOnly=True&token=Tpk_57fa15c2c86b4dadbb31e0c1ad1db895\n",
      "DEBUG:iexfinance.base:REQUEST: https://sandbox.iexapis.com/stable/stock/market/batch?symbols=AAPL&types=chart&range=3m&chartByDay=False&chartCloseOnly=True&token=Tpk_57fa15c2c86b4dadbb31e0c1ad1db895\n",
      "DEBUG - RESPONSE: 200\n",
      "DEBUG:iexfinance.base:RESPONSE: 200\n",
      "INFO - MESSAGES USED: 130\n",
      "INFO:iexfinance.base:MESSAGES USED: 130\n",
      "/Users/olshansky/.pyenv/versions/3.7.7/lib/python3.7/site-packages/ipykernel_launcher.py:18: PerformanceWarning: \n",
      "your performance may suffer as PyTables will pickle object types that it cannot\n",
      "map directly to c-types [inferred_type->mixed-integer-float,key->block0_values] [items->Index(['close', 'volume'], dtype='object')]\n",
      "\n",
      "DEBUG:urllib3.connectionpool:Starting new HTTPS connection (1): sandbox.iexapis.com:443\n"
     ]
    },
    {
     "name": "stdout",
     "output_type": "stream",
     "text": [
      "AAPL: Requesting historical data between 2016-10-26 00:00:00 and 2020-11-05 00:00:00.\n",
      "AAPL: Data is catched between 2016-10-26 00:00:00 and 2020-10-31 00:00:00.\n",
      "AAPL: Getting data between 2020-10-31 00:00:00 and 2020-11-05 00:00:00.\n",
      "delta_days = 26\n"
     ]
    },
    {
     "name": "stderr",
     "output_type": "stream",
     "text": [
      "DEBUG:urllib3.connectionpool:https://sandbox.iexapis.com:443 \"GET /stable/stock/market/batch?symbols=AAPL&types=chart&range=1m&chartByDay=False&chartCloseOnly=True&token=Tpk_57fa15c2c86b4dadbb31e0c1ad1db895 HTTP/1.1\" 200 None\n",
      "DEBUG - REQUEST: https://sandbox.iexapis.com/stable/stock/market/batch?symbols=AAPL&types=chart&range=1m&chartByDay=False&chartCloseOnly=True&token=Tpk_57fa15c2c86b4dadbb31e0c1ad1db895\n",
      "DEBUG:iexfinance.base:REQUEST: https://sandbox.iexapis.com/stable/stock/market/batch?symbols=AAPL&types=chart&range=1m&chartByDay=False&chartCloseOnly=True&token=Tpk_57fa15c2c86b4dadbb31e0c1ad1db895\n",
      "DEBUG - RESPONSE: 200\n",
      "DEBUG:iexfinance.base:RESPONSE: 200\n",
      "INFO - MESSAGES USED: 46\n",
      "INFO:iexfinance.base:MESSAGES USED: 46\n",
      "DEBUG:urllib3.connectionpool:Starting new HTTPS connection (1): sandbox.iexapis.com:443\n"
     ]
    },
    {
     "name": "stdout",
     "output_type": "stream",
     "text": [
      "AAPL: Requesting historical data between 2016-10-26 00:00:00 and 2020-11-10 00:00:00.\n",
      "AAPL: Data is catched between 2016-10-26 00:00:00 and 2020-11-05 00:00:00.\n",
      "AAPL: Getting data between 2020-11-05 00:00:00 and 2020-11-10 00:00:00.\n",
      "delta_days = 21\n"
     ]
    },
    {
     "name": "stderr",
     "output_type": "stream",
     "text": [
      "DEBUG:urllib3.connectionpool:https://sandbox.iexapis.com:443 \"GET /stable/stock/market/batch?symbols=AAPL&types=chart&range=1m&chartByDay=False&chartCloseOnly=True&token=Tpk_57fa15c2c86b4dadbb31e0c1ad1db895 HTTP/1.1\" 200 None\n",
      "DEBUG - REQUEST: https://sandbox.iexapis.com/stable/stock/market/batch?symbols=AAPL&types=chart&range=1m&chartByDay=False&chartCloseOnly=True&token=Tpk_57fa15c2c86b4dadbb31e0c1ad1db895\n",
      "DEBUG:iexfinance.base:REQUEST: https://sandbox.iexapis.com/stable/stock/market/batch?symbols=AAPL&types=chart&range=1m&chartByDay=False&chartCloseOnly=True&token=Tpk_57fa15c2c86b4dadbb31e0c1ad1db895\n",
      "DEBUG - RESPONSE: 200\n",
      "DEBUG:iexfinance.base:RESPONSE: 200\n",
      "INFO - MESSAGES USED: 46\n",
      "INFO:iexfinance.base:MESSAGES USED: 46\n",
      "DEBUG:urllib3.connectionpool:Starting new HTTPS connection (1): sandbox.iexapis.com:443\n"
     ]
    },
    {
     "name": "stdout",
     "output_type": "stream",
     "text": [
      "AAPL: Requesting historical data between 2016-10-26 00:00:00 and 2020-11-15 00:00:00.\n",
      "AAPL: Data is catched between 2016-10-26 00:00:00 and 2020-11-10 00:00:00.\n",
      "AAPL: Getting data between 2020-11-10 00:00:00 and 2020-11-15 00:00:00.\n",
      "delta_days = 16\n"
     ]
    },
    {
     "name": "stderr",
     "output_type": "stream",
     "text": [
      "DEBUG:urllib3.connectionpool:https://sandbox.iexapis.com:443 \"GET /stable/stock/market/batch?symbols=AAPL&types=chart&range=1m&chartByDay=False&chartCloseOnly=True&token=Tpk_57fa15c2c86b4dadbb31e0c1ad1db895 HTTP/1.1\" 200 None\n",
      "DEBUG - REQUEST: https://sandbox.iexapis.com/stable/stock/market/batch?symbols=AAPL&types=chart&range=1m&chartByDay=False&chartCloseOnly=True&token=Tpk_57fa15c2c86b4dadbb31e0c1ad1db895\n",
      "DEBUG:iexfinance.base:REQUEST: https://sandbox.iexapis.com/stable/stock/market/batch?symbols=AAPL&types=chart&range=1m&chartByDay=False&chartCloseOnly=True&token=Tpk_57fa15c2c86b4dadbb31e0c1ad1db895\n",
      "DEBUG - RESPONSE: 200\n",
      "DEBUG:iexfinance.base:RESPONSE: 200\n",
      "INFO - MESSAGES USED: 46\n",
      "INFO:iexfinance.base:MESSAGES USED: 46\n",
      "DEBUG:urllib3.connectionpool:Starting new HTTPS connection (1): sandbox.iexapis.com:443\n"
     ]
    },
    {
     "name": "stdout",
     "output_type": "stream",
     "text": [
      "AAPL: Requesting historical data between 2016-10-26 00:00:00 and 2020-11-20 00:00:00.\n",
      "AAPL: Data is catched between 2016-10-26 00:00:00 and 2020-11-15 00:00:00.\n",
      "AAPL: Getting data between 2020-11-15 00:00:00 and 2020-11-20 00:00:00.\n",
      "delta_days = 11\n"
     ]
    },
    {
     "name": "stderr",
     "output_type": "stream",
     "text": [
      "DEBUG:urllib3.connectionpool:https://sandbox.iexapis.com:443 \"GET /stable/stock/market/batch?symbols=AAPL&types=chart&range=1m&chartByDay=False&chartCloseOnly=True&token=Tpk_57fa15c2c86b4dadbb31e0c1ad1db895 HTTP/1.1\" 200 None\n",
      "DEBUG - REQUEST: https://sandbox.iexapis.com/stable/stock/market/batch?symbols=AAPL&types=chart&range=1m&chartByDay=False&chartCloseOnly=True&token=Tpk_57fa15c2c86b4dadbb31e0c1ad1db895\n",
      "DEBUG:iexfinance.base:REQUEST: https://sandbox.iexapis.com/stable/stock/market/batch?symbols=AAPL&types=chart&range=1m&chartByDay=False&chartCloseOnly=True&token=Tpk_57fa15c2c86b4dadbb31e0c1ad1db895\n",
      "DEBUG - RESPONSE: 200\n",
      "DEBUG:iexfinance.base:RESPONSE: 200\n",
      "INFO - MESSAGES USED: 46\n",
      "INFO:iexfinance.base:MESSAGES USED: 46\n",
      "DEBUG:urllib3.connectionpool:Starting new HTTPS connection (1): sandbox.iexapis.com:443\n"
     ]
    },
    {
     "name": "stdout",
     "output_type": "stream",
     "text": [
      "AAPL: Requesting historical data between 2016-10-26 00:00:00 and 2020-11-25 00:00:00.\n",
      "AAPL: Data is catched between 2016-10-26 00:00:00 and 2020-11-20 00:00:00.\n",
      "AAPL: Getting data between 2020-11-20 00:00:00 and 2020-11-25 00:00:00.\n",
      "delta_days = 6\n"
     ]
    },
    {
     "name": "stderr",
     "output_type": "stream",
     "text": [
      "DEBUG:urllib3.connectionpool:https://sandbox.iexapis.com:443 \"GET /stable/stock/market/batch?symbols=AAPL&types=chart&range=1m&chartByDay=False&chartCloseOnly=True&token=Tpk_57fa15c2c86b4dadbb31e0c1ad1db895 HTTP/1.1\" 200 None\n",
      "DEBUG - REQUEST: https://sandbox.iexapis.com/stable/stock/market/batch?symbols=AAPL&types=chart&range=1m&chartByDay=False&chartCloseOnly=True&token=Tpk_57fa15c2c86b4dadbb31e0c1ad1db895\n",
      "DEBUG:iexfinance.base:REQUEST: https://sandbox.iexapis.com/stable/stock/market/batch?symbols=AAPL&types=chart&range=1m&chartByDay=False&chartCloseOnly=True&token=Tpk_57fa15c2c86b4dadbb31e0c1ad1db895\n",
      "DEBUG - RESPONSE: 200\n",
      "DEBUG:iexfinance.base:RESPONSE: 200\n",
      "INFO - MESSAGES USED: 46\n",
      "INFO:iexfinance.base:MESSAGES USED: 46\n"
     ]
    },
    {
     "name": "stdout",
     "output_type": "stream",
     "text": [
      "AAPL: Requesting historical data between 2016-10-26 00:00:00 and 2020-11-30 00:00:00.\n",
      "AAPL: Data is catched between 2016-10-26 00:00:00 and 2020-11-25 00:00:00.\n",
      "AAPL: Getting data between 2020-11-25 00:00:00 and 2020-11-30 00:00:00.\n",
      "delta_days = 1\n"
     ]
    },
    {
     "ename": "ValueError",
     "evalue": "Start and end dates must be before current date",
     "output_type": "error",
     "traceback": [
      "\u001b[0;31m---------------------------------------------------------------------------\u001b[0m",
      "\u001b[0;31mValueError\u001b[0m                                Traceback (most recent call last)",
      "\u001b[0;32m<ipython-input-9-0fc3bff423d2>\u001b[0m in \u001b[0;36m<module>\u001b[0;34m\u001b[0m\n\u001b[1;32m     16\u001b[0m     \u001b[0;31m# iexfinance implementation: https://github.com/addisonlynch/iexfinance/blob/d6d23537029895cc0ea62b25649aeeda67103b9e/iexfinance/stocks/historical.py#L9\u001b[0m\u001b[0;34m\u001b[0m\u001b[0;34m\u001b[0m\u001b[0;34m\u001b[0m\u001b[0m\n\u001b[1;32m     17\u001b[0m     \u001b[0mend_date\u001b[0m \u001b[0;34m+=\u001b[0m \u001b[0mrelativedelta\u001b[0m\u001b[0;34m(\u001b[0m\u001b[0mdays\u001b[0m\u001b[0;34m=\u001b[0m\u001b[0;36m5\u001b[0m\u001b[0;34m)\u001b[0m\u001b[0;34m\u001b[0m\u001b[0;34m\u001b[0m\u001b[0m\n\u001b[0;32m---> 18\u001b[0;31m     \u001b[0mget_historical_data_cached\u001b[0m\u001b[0;34m(\u001b[0m\u001b[0mstore\u001b[0m\u001b[0;34m,\u001b[0m \u001b[0mSYMBOL\u001b[0m\u001b[0;34m,\u001b[0m \u001b[0mstart_date\u001b[0m\u001b[0;34m,\u001b[0m \u001b[0mend_date\u001b[0m\u001b[0;34m,\u001b[0m \u001b[0mclose_only\u001b[0m\u001b[0;34m=\u001b[0m\u001b[0;32mTrue\u001b[0m\u001b[0;34m,\u001b[0m \u001b[0moutput_format\u001b[0m\u001b[0;34m=\u001b[0m\u001b[0;34m'pandas'\u001b[0m\u001b[0;34m,\u001b[0m \u001b[0mtoken\u001b[0m\u001b[0;34m=\u001b[0m\u001b[0mIEX_TOKEN\u001b[0m\u001b[0;34m)\u001b[0m\u001b[0;34m\u001b[0m\u001b[0;34m\u001b[0m\u001b[0m\n\u001b[0m",
      "\u001b[0;32m<ipython-input-7-9b993d57b691>\u001b[0m in \u001b[0;36mget_historical_data_cached\u001b[0;34m(store, symbol, start_date, end_date, **kwargs)\u001b[0m\n\u001b[1;32m     33\u001b[0m             \u001b[0mprint\u001b[0m\u001b[0;34m(\u001b[0m\u001b[0;34mf\"{symbol}: Getting data between {metadata['max_date']} and {end_date}.\"\u001b[0m\u001b[0;34m)\u001b[0m\u001b[0;34m\u001b[0m\u001b[0;34m\u001b[0m\u001b[0m\n\u001b[1;32m     34\u001b[0m             \u001b[0mprint\u001b[0m\u001b[0;34m(\u001b[0m\u001b[0;34mf\"delta_days = {(datetime.now() - metadata['max_date']).days}\"\u001b[0m\u001b[0;34m)\u001b[0m\u001b[0;34m\u001b[0m\u001b[0;34m\u001b[0m\u001b[0m\n\u001b[0;32m---> 35\u001b[0;31m             \u001b[0mdf\u001b[0m \u001b[0;34m=\u001b[0m \u001b[0mdf\u001b[0m\u001b[0;34m.\u001b[0m\u001b[0mappend\u001b[0m\u001b[0;34m(\u001b[0m\u001b[0mget_historical_data\u001b[0m\u001b[0;34m(\u001b[0m\u001b[0msymbol\u001b[0m\u001b[0;34m,\u001b[0m \u001b[0mmetadata\u001b[0m\u001b[0;34m[\u001b[0m\u001b[0;34m'max_date'\u001b[0m\u001b[0;34m]\u001b[0m\u001b[0;34m,\u001b[0m \u001b[0mend_date\u001b[0m\u001b[0;34m,\u001b[0m \u001b[0;34m**\u001b[0m\u001b[0mkwargs\u001b[0m\u001b[0;34m)\u001b[0m\u001b[0;34m)\u001b[0m\u001b[0;34m\u001b[0m\u001b[0;34m\u001b[0m\u001b[0m\n\u001b[0m\u001b[1;32m     36\u001b[0m             \u001b[0mmetadata\u001b[0m\u001b[0;34m[\u001b[0m\u001b[0;34m'max_date'\u001b[0m\u001b[0;34m]\u001b[0m \u001b[0;34m=\u001b[0m \u001b[0mend_date\u001b[0m\u001b[0;34m\u001b[0m\u001b[0;34m\u001b[0m\u001b[0m\n\u001b[1;32m     37\u001b[0m \u001b[0;34m\u001b[0m\u001b[0m\n",
      "\u001b[0;32m~/.pyenv/versions/3.7.7/lib/python3.7/site-packages/iexfinance/stocks/__init__.py\u001b[0m in \u001b[0;36mget_historical_data\u001b[0;34m(symbols, start, end, close_only, **kwargs)\u001b[0m\n\u001b[1;32m     41\u001b[0m     \"\"\"\n\u001b[1;32m     42\u001b[0m     return HistoricalReader(\n\u001b[0;32m---> 43\u001b[0;31m         \u001b[0msymbols\u001b[0m\u001b[0;34m,\u001b[0m \u001b[0mstart\u001b[0m\u001b[0;34m=\u001b[0m\u001b[0mstart\u001b[0m\u001b[0;34m,\u001b[0m \u001b[0mend\u001b[0m\u001b[0;34m=\u001b[0m\u001b[0mend\u001b[0m\u001b[0;34m,\u001b[0m \u001b[0mclose_only\u001b[0m\u001b[0;34m=\u001b[0m\u001b[0mclose_only\u001b[0m\u001b[0;34m,\u001b[0m \u001b[0;34m**\u001b[0m\u001b[0mkwargs\u001b[0m\u001b[0;34m\u001b[0m\u001b[0;34m\u001b[0m\u001b[0m\n\u001b[0m\u001b[1;32m     44\u001b[0m     ).fetch()\n\u001b[1;32m     45\u001b[0m \u001b[0;34m\u001b[0m\u001b[0m\n",
      "\u001b[0;32m~/.pyenv/versions/3.7.7/lib/python3.7/site-packages/iexfinance/stocks/historical.py\u001b[0m in \u001b[0;36m__init__\u001b[0;34m(self, symbols, start, end, close_only, **kwargs)\u001b[0m\n\u001b[1;32m     16\u001b[0m     \u001b[0;32mdef\u001b[0m \u001b[0m__init__\u001b[0m\u001b[0;34m(\u001b[0m\u001b[0mself\u001b[0m\u001b[0;34m,\u001b[0m \u001b[0msymbols\u001b[0m\u001b[0;34m,\u001b[0m \u001b[0mstart\u001b[0m\u001b[0;34m=\u001b[0m\u001b[0;32mNone\u001b[0m\u001b[0;34m,\u001b[0m \u001b[0mend\u001b[0m\u001b[0;34m=\u001b[0m\u001b[0;32mNone\u001b[0m\u001b[0;34m,\u001b[0m \u001b[0mclose_only\u001b[0m\u001b[0;34m=\u001b[0m\u001b[0;32mFalse\u001b[0m\u001b[0;34m,\u001b[0m \u001b[0;34m**\u001b[0m\u001b[0mkwargs\u001b[0m\u001b[0;34m)\u001b[0m\u001b[0;34m:\u001b[0m\u001b[0;34m\u001b[0m\u001b[0;34m\u001b[0m\u001b[0m\n\u001b[1;32m     17\u001b[0m         \u001b[0mstart\u001b[0m \u001b[0;34m=\u001b[0m \u001b[0mstart\u001b[0m \u001b[0;32mor\u001b[0m \u001b[0mdatetime\u001b[0m\u001b[0;34m.\u001b[0m\u001b[0mdatetime\u001b[0m\u001b[0;34m.\u001b[0m\u001b[0mtoday\u001b[0m\u001b[0;34m(\u001b[0m\u001b[0;34m)\u001b[0m \u001b[0;34m-\u001b[0m \u001b[0mdatetime\u001b[0m\u001b[0;34m.\u001b[0m\u001b[0mtimedelta\u001b[0m\u001b[0;34m(\u001b[0m\u001b[0mdays\u001b[0m\u001b[0;34m=\u001b[0m\u001b[0;36m365\u001b[0m\u001b[0;34m)\u001b[0m\u001b[0;34m\u001b[0m\u001b[0;34m\u001b[0m\u001b[0m\n\u001b[0;32m---> 18\u001b[0;31m         \u001b[0mself\u001b[0m\u001b[0;34m.\u001b[0m\u001b[0mstart\u001b[0m\u001b[0;34m,\u001b[0m \u001b[0mself\u001b[0m\u001b[0;34m.\u001b[0m\u001b[0mend\u001b[0m \u001b[0;34m=\u001b[0m \u001b[0m_sanitize_dates\u001b[0m\u001b[0;34m(\u001b[0m\u001b[0mstart\u001b[0m\u001b[0;34m,\u001b[0m \u001b[0mend\u001b[0m\u001b[0;34m)\u001b[0m\u001b[0;34m\u001b[0m\u001b[0;34m\u001b[0m\u001b[0m\n\u001b[0m\u001b[1;32m     19\u001b[0m         \u001b[0mself\u001b[0m\u001b[0;34m.\u001b[0m\u001b[0mclose_only\u001b[0m \u001b[0;34m=\u001b[0m \u001b[0mclose_only\u001b[0m\u001b[0;34m\u001b[0m\u001b[0;34m\u001b[0m\u001b[0m\n\u001b[1;32m     20\u001b[0m         \u001b[0msuper\u001b[0m\u001b[0;34m(\u001b[0m\u001b[0mHistoricalReader\u001b[0m\u001b[0;34m,\u001b[0m \u001b[0mself\u001b[0m\u001b[0;34m)\u001b[0m\u001b[0;34m.\u001b[0m\u001b[0m__init__\u001b[0m\u001b[0;34m(\u001b[0m\u001b[0msymbols\u001b[0m\u001b[0;34m,\u001b[0m \u001b[0;34m**\u001b[0m\u001b[0mkwargs\u001b[0m\u001b[0;34m)\u001b[0m\u001b[0;34m\u001b[0m\u001b[0;34m\u001b[0m\u001b[0m\n",
      "\u001b[0;32m~/.pyenv/versions/3.7.7/lib/python3.7/site-packages/iexfinance/utils/__init__.py\u001b[0m in \u001b[0;36m_sanitize_dates\u001b[0;34m(start, end)\u001b[0m\n\u001b[1;32m     50\u001b[0m         \u001b[0;32mraise\u001b[0m \u001b[0mValueError\u001b[0m\u001b[0;34m(\u001b[0m\u001b[0;34m\"start must be an earlier date than end\"\u001b[0m\u001b[0;34m)\u001b[0m\u001b[0;34m\u001b[0m\u001b[0;34m\u001b[0m\u001b[0m\n\u001b[1;32m     51\u001b[0m     \u001b[0;32mif\u001b[0m \u001b[0mstart\u001b[0m \u001b[0;34m>\u001b[0m \u001b[0mtoday\u001b[0m \u001b[0;32mor\u001b[0m \u001b[0mend\u001b[0m \u001b[0;34m>\u001b[0m \u001b[0mtoday\u001b[0m\u001b[0;34m:\u001b[0m\u001b[0;34m\u001b[0m\u001b[0;34m\u001b[0m\u001b[0m\n\u001b[0;32m---> 52\u001b[0;31m         \u001b[0;32mraise\u001b[0m \u001b[0mValueError\u001b[0m\u001b[0;34m(\u001b[0m\u001b[0;34m\"Start and end dates must be before current date\"\u001b[0m\u001b[0;34m)\u001b[0m\u001b[0;34m\u001b[0m\u001b[0;34m\u001b[0m\u001b[0m\n\u001b[0m\u001b[1;32m     53\u001b[0m     \u001b[0;32mreturn\u001b[0m \u001b[0mstart\u001b[0m\u001b[0;34m,\u001b[0m \u001b[0mend\u001b[0m\u001b[0;34m\u001b[0m\u001b[0;34m\u001b[0m\u001b[0m\n\u001b[1;32m     54\u001b[0m \u001b[0;34m\u001b[0m\u001b[0m\n",
      "\u001b[0;31mValueError\u001b[0m: Start and end dates must be before current date"
     ]
    }
   ],
   "source": [
    "try:\n",
    "    os.remove('./store.h5')\n",
    "except:\n",
    "    pass\n",
    "\n",
    "store = pd.HDFStore('store.h5')\n",
    "SYMBOL = 'AAPL'\n",
    "\n",
    "end_date = datetime.now() - relativedelta(months=1)\n",
    "start_date = end_date - relativedelta(years=4)\n",
    "\n",
    "get_historical_data_cached(store, SYMBOL, start_date, end_date, close_only=True, output_format='pandas', token=IEX_TOKEN)\n",
    "\n",
    "while end_date < datetime.now():\n",
    "    # 5 days is the min range https://iexcloud.io/docs/api/#historical-prices\n",
    "    # iexfinance implementation: https://github.com/addisonlynch/iexfinance/blob/d6d23537029895cc0ea62b25649aeeda67103b9e/iexfinance/stocks/historical.py#L9\n",
    "    end_date += relativedelta(days=5)\n",
    "    get_historical_data_cached(store, SYMBOL, start_date, end_date, close_only=True, output_format='pandas', token=IEX_TOKEN)\n"
   ]
  }
 ],
 "metadata": {
  "kernelspec": {
   "display_name": "Python 3",
   "language": "python",
   "name": "python3"
  },
  "language_info": {
   "codemirror_mode": {
    "name": "ipython",
    "version": 3
   },
   "file_extension": ".py",
   "mimetype": "text/x-python",
   "name": "python",
   "nbconvert_exporter": "python",
   "pygments_lexer": "ipython3",
   "version": "3.7.7"
  }
 },
 "nbformat": 4,
 "nbformat_minor": 4
}
