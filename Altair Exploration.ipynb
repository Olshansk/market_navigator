{
 "cells": [
  {
   "cell_type": "code",
   "execution_count": 1,
   "metadata": {},
   "outputs": [],
   "source": [
    "%load_ext autoreload\n",
    "%autoreload 2"
   ]
  },
  {
   "cell_type": "code",
   "execution_count": 33,
   "metadata": {},
   "outputs": [],
   "source": [
    "from iexfinance.refdata import get_symbols, get_iex_symbols\n",
    "\n",
    "import os\n",
    "import sys\n",
    "import pandas as pd\n",
    "import altair as alt\n",
    "import datetime as dt\n",
    "\n",
    "from pandas import to_datetime\n",
    "from datetime import datetime, date\n",
    "from iexfinance.stocks import get_historical_data\n",
    "from dateutil.relativedelta import relativedelta\n",
    "\n",
    "sys.path.append('analysis/src')\n",
    "from analysis.src.per_high_low import get_min_max_dfs, compute_stocks_near_max_min"
   ]
  },
  {
   "cell_type": "code",
   "execution_count": 3,
   "metadata": {},
   "outputs": [
    {
     "name": "stderr",
     "output_type": "stream",
     "text": [
      "DEBUG:root:test\n"
     ]
    }
   ],
   "source": [
    "# Used to log the `MESSAGES USED` in `_IEXBAse`.\n",
    "# https://addisonlynch.github.io/iexfinance/stable/logging.html\n",
    "import logging\n",
    "logger = logging.getLogger()\n",
    "logger.setLevel(logging.DEBUG)\n",
    "logging.debug(\"test\")\n",
    "os.environ[\"IEX_LOG_LEVEL\"] = \"DEBUG\""
   ]
  },
  {
   "cell_type": "code",
   "execution_count": 4,
   "metadata": {},
   "outputs": [],
   "source": [
    "IEX_TOKEN = \"Tpk_57fa15c2c86b4dadbb31e0c1ad1db895\"\n",
    "os.environ[\"IEX_API_VERSION\"] = \"iexcloud-sandbox\"\n",
    "store = pd.HDFStore('dev_iex_store.h5')"
   ]
  },
  {
   "cell_type": "code",
   "execution_count": 25,
   "metadata": {},
   "outputs": [
    {
     "name": "stdout",
     "output_type": "stream",
     "text": [
      "2006-12-29 00:00:00\n",
      "2020-12-24 00:00:00\n"
     ]
    }
   ],
   "source": [
    "print(store['AAPL'].index.min())\n",
    "print(store['AAPL'].index.max())"
   ]
  },
  {
   "cell_type": "code",
   "execution_count": 26,
   "metadata": {},
   "outputs": [],
   "source": [
    "import random\n",
    "\n",
    "all_symbols = store.keys()"
   ]
  },
  {
   "cell_type": "code",
   "execution_count": 27,
   "metadata": {},
   "outputs": [],
   "source": [
    "RANDOM_SAMPLE_SIZE = 10\n",
    "symbols = random.sample(all_symbols, RANDOM_SAMPLE_SIZE)\n",
    "symbols = [symbol[1:] for symbol in symbols]"
   ]
  },
  {
   "cell_type": "code",
   "execution_count": 28,
   "metadata": {},
   "outputs": [
    {
     "data": {
      "text/html": [
       "<div>\n",
       "<style scoped>\n",
       "    .dataframe tbody tr th:only-of-type {\n",
       "        vertical-align: middle;\n",
       "    }\n",
       "\n",
       "    .dataframe tbody tr th {\n",
       "        vertical-align: top;\n",
       "    }\n",
       "\n",
       "    .dataframe thead th {\n",
       "        text-align: right;\n",
       "    }\n",
       "</style>\n",
       "<table border=\"1\" class=\"dataframe\">\n",
       "  <thead>\n",
       "    <tr style=\"text-align: right;\">\n",
       "      <th></th>\n",
       "      <th>country_id</th>\n",
       "      <th>population</th>\n",
       "      <th>income</th>\n",
       "    </tr>\n",
       "  </thead>\n",
       "  <tbody>\n",
       "    <tr>\n",
       "      <th>0</th>\n",
       "      <td>1</td>\n",
       "      <td>1</td>\n",
       "      <td>50</td>\n",
       "    </tr>\n",
       "    <tr>\n",
       "      <th>1</th>\n",
       "      <td>2</td>\n",
       "      <td>100</td>\n",
       "      <td>50</td>\n",
       "    </tr>\n",
       "    <tr>\n",
       "      <th>2</th>\n",
       "      <td>3</td>\n",
       "      <td>200</td>\n",
       "      <td>200</td>\n",
       "    </tr>\n",
       "    <tr>\n",
       "      <th>3</th>\n",
       "      <td>4</td>\n",
       "      <td>300</td>\n",
       "      <td>300</td>\n",
       "    </tr>\n",
       "    <tr>\n",
       "      <th>4</th>\n",
       "      <td>5</td>\n",
       "      <td>400</td>\n",
       "      <td>300</td>\n",
       "    </tr>\n",
       "    <tr>\n",
       "      <th>5</th>\n",
       "      <td>6</td>\n",
       "      <td>500</td>\n",
       "      <td>450</td>\n",
       "    </tr>\n",
       "  </tbody>\n",
       "</table>\n",
       "</div>"
      ],
      "text/plain": [
       "   country_id  population  income\n",
       "0           1           1      50\n",
       "1           2         100      50\n",
       "2           3         200     200\n",
       "3           4         300     300\n",
       "4           5         400     300\n",
       "5           6         500     450"
      ]
     },
     "execution_count": 28,
     "metadata": {},
     "output_type": "execute_result"
    }
   ],
   "source": [
    "df = pd.DataFrame({'country_id': [1, 2, 3, 4, 5, 6], 'population': [1, 100, 200, 300, 400, 500], 'income':     [50, 50, 200, 300, 300, 450]})\n",
    "df"
   ]
  },
  {
   "cell_type": "code",
   "execution_count": 44,
   "metadata": {},
   "outputs": [
    {
     "data": {
      "text/html": [
       "\n",
       "<div id=\"altair-viz-2c414803e5d2405a8b5aba243d6007a5\"></div>\n",
       "<script type=\"text/javascript\">\n",
       "  (function(spec, embedOpt){\n",
       "    let outputDiv = document.currentScript.previousElementSibling;\n",
       "    if (outputDiv.id !== \"altair-viz-2c414803e5d2405a8b5aba243d6007a5\") {\n",
       "      outputDiv = document.getElementById(\"altair-viz-2c414803e5d2405a8b5aba243d6007a5\");\n",
       "    }\n",
       "    const paths = {\n",
       "      \"vega\": \"https://cdn.jsdelivr.net/npm//vega@5?noext\",\n",
       "      \"vega-lib\": \"https://cdn.jsdelivr.net/npm//vega-lib?noext\",\n",
       "      \"vega-lite\": \"https://cdn.jsdelivr.net/npm//vega-lite@4.8.1?noext\",\n",
       "      \"vega-embed\": \"https://cdn.jsdelivr.net/npm//vega-embed@6?noext\",\n",
       "    };\n",
       "\n",
       "    function loadScript(lib) {\n",
       "      return new Promise(function(resolve, reject) {\n",
       "        var s = document.createElement('script');\n",
       "        s.src = paths[lib];\n",
       "        s.async = true;\n",
       "        s.onload = () => resolve(paths[lib]);\n",
       "        s.onerror = () => reject(`Error loading script: ${paths[lib]}`);\n",
       "        document.getElementsByTagName(\"head\")[0].appendChild(s);\n",
       "      });\n",
       "    }\n",
       "\n",
       "    function showError(err) {\n",
       "      outputDiv.innerHTML = `<div class=\"error\" style=\"color:red;\">${err}</div>`;\n",
       "      throw err;\n",
       "    }\n",
       "\n",
       "    function displayChart(vegaEmbed) {\n",
       "      vegaEmbed(outputDiv, spec, embedOpt)\n",
       "        .catch(err => showError(`Javascript Error: ${err.message}<br>This usually means there's a typo in your chart specification. See the javascript console for the full traceback.`));\n",
       "    }\n",
       "\n",
       "    if(typeof define === \"function\" && define.amd) {\n",
       "      requirejs.config({paths});\n",
       "      require([\"vega-embed\"], displayChart, err => showError(`Error loading script: ${err.message}`));\n",
       "    } else if (typeof vegaEmbed === \"function\") {\n",
       "      displayChart(vegaEmbed);\n",
       "    } else {\n",
       "      loadScript(\"vega\")\n",
       "        .then(() => loadScript(\"vega-lite\"))\n",
       "        .then(() => loadScript(\"vega-embed\"))\n",
       "        .catch(showError)\n",
       "        .then(() => displayChart(vegaEmbed));\n",
       "    }\n",
       "  })({\"config\": {\"view\": {\"continuousWidth\": 400, \"continuousHeight\": 300}}, \"data\": {\"name\": \"data-674d4f20e1bf0d3b75089546b619e2e6\"}, \"mark\": {\"type\": \"circle\", \"size\": 200}, \"encoding\": {\"color\": {\"type\": \"nominal\", \"field\": \"country_id\"}, \"x\": {\"type\": \"quantitative\", \"field\": \"population\"}}, \"$schema\": \"https://vega.github.io/schema/vega-lite/v4.8.1.json\", \"datasets\": {\"data-674d4f20e1bf0d3b75089546b619e2e6\": [{\"country_id\": 1, \"population\": 1, \"income\": 50}, {\"country_id\": 2, \"population\": 100, \"income\": 50}, {\"country_id\": 3, \"population\": 200, \"income\": 200}, {\"country_id\": 4, \"population\": 300, \"income\": 300}, {\"country_id\": 5, \"population\": 400, \"income\": 300}, {\"country_id\": 6, \"population\": 500, \"income\": 450}]}}, {\"mode\": \"vega-lite\"});\n",
       "</script>"
      ],
      "text/plain": [
       "alt.Chart(...)"
      ]
     },
     "execution_count": 44,
     "metadata": {},
     "output_type": "execute_result"
    }
   ],
   "source": [
    "cat_chart = alt.Chart(df).mark_circle(size=200).encode(x='population:Q', color='country_id:N')\n",
    "cat_chart"
   ]
  },
  {
   "cell_type": "code",
   "execution_count": 30,
   "metadata": {},
   "outputs": [
    {
     "name": "stderr",
     "output_type": "stream",
     "text": [
      "DEBUG:urllib3.connectionpool:Starting new HTTPS connection (1): sandbox.iexapis.com:443\n"
     ]
    },
    {
     "name": "stdout",
     "output_type": "stream",
     "text": [
      "FLDM: Trying to access historical data between 2017-01-04 00:00:00 and 2021-01-03 00:00:00.\n",
      "FLDM: No data is cached.\n"
     ]
    },
    {
     "name": "stderr",
     "output_type": "stream",
     "text": [
      "DEBUG:urllib3.connectionpool:https://sandbox.iexapis.com:443 \"GET /stable/stock/market/batch?chartByDay=False&chartCloseOnly=True&range=5y&symbols=FLDM&token=Tpk_57fa15c2c86b4dadbb31e0c1ad1db895&types=chart HTTP/1.1\" 200 None\n"
     ]
    },
    {
     "name": "stdout",
     "output_type": "stream",
     "text": [
      "Successfully processed FLDM\n"
     ]
    },
    {
     "name": "stderr",
     "output_type": "stream",
     "text": [
      "DEBUG:urllib3.connectionpool:Starting new HTTPS connection (1): sandbox.iexapis.com:443\n"
     ]
    },
    {
     "name": "stdout",
     "output_type": "stream",
     "text": [
      "SGTX: Trying to access historical data between 2017-01-04 00:00:00 and 2021-01-03 00:00:00.\n",
      "SGTX: No data is cached.\n"
     ]
    },
    {
     "name": "stderr",
     "output_type": "stream",
     "text": [
      "DEBUG:urllib3.connectionpool:https://sandbox.iexapis.com:443 \"GET /stable/stock/market/batch?chartByDay=False&chartCloseOnly=True&range=5y&symbols=SGTX&token=Tpk_57fa15c2c86b4dadbb31e0c1ad1db895&types=chart HTTP/1.1\" 200 None\n"
     ]
    },
    {
     "name": "stdout",
     "output_type": "stream",
     "text": [
      "Successfully processed SGTX\n"
     ]
    },
    {
     "name": "stderr",
     "output_type": "stream",
     "text": [
      "DEBUG:urllib3.connectionpool:Starting new HTTPS connection (1): sandbox.iexapis.com:443\n"
     ]
    },
    {
     "name": "stdout",
     "output_type": "stream",
     "text": [
      "BBH: Trying to access historical data between 2017-01-04 00:00:00 and 2021-01-03 00:00:00.\n",
      "BBH: No data is cached.\n"
     ]
    },
    {
     "name": "stderr",
     "output_type": "stream",
     "text": [
      "DEBUG:urllib3.connectionpool:https://sandbox.iexapis.com:443 \"GET /stable/stock/market/batch?chartByDay=False&chartCloseOnly=True&range=5y&symbols=BBH&token=Tpk_57fa15c2c86b4dadbb31e0c1ad1db895&types=chart HTTP/1.1\" 200 None\n"
     ]
    },
    {
     "name": "stdout",
     "output_type": "stream",
     "text": [
      "Successfully processed BBH\n"
     ]
    },
    {
     "name": "stderr",
     "output_type": "stream",
     "text": [
      "DEBUG:urllib3.connectionpool:Starting new HTTPS connection (1): sandbox.iexapis.com:443\n"
     ]
    },
    {
     "name": "stdout",
     "output_type": "stream",
     "text": [
      "HEC: Trying to access historical data between 2017-01-04 00:00:00 and 2021-01-03 00:00:00.\n",
      "HEC: No data is cached.\n"
     ]
    },
    {
     "name": "stderr",
     "output_type": "stream",
     "text": [
      "DEBUG:urllib3.connectionpool:https://sandbox.iexapis.com:443 \"GET /stable/stock/market/batch?chartByDay=False&chartCloseOnly=True&range=5y&symbols=HEC&token=Tpk_57fa15c2c86b4dadbb31e0c1ad1db895&types=chart HTTP/1.1\" 200 None\n"
     ]
    },
    {
     "name": "stdout",
     "output_type": "stream",
     "text": [
      "Successfully processed HEC\n"
     ]
    },
    {
     "name": "stderr",
     "output_type": "stream",
     "text": [
      "DEBUG:urllib3.connectionpool:Starting new HTTPS connection (1): sandbox.iexapis.com:443\n"
     ]
    },
    {
     "name": "stdout",
     "output_type": "stream",
     "text": [
      "MRK: Trying to access historical data between 2017-01-04 00:00:00 and 2021-01-03 00:00:00.\n",
      "MRK: No data is cached.\n"
     ]
    },
    {
     "name": "stderr",
     "output_type": "stream",
     "text": [
      "DEBUG:urllib3.connectionpool:https://sandbox.iexapis.com:443 \"GET /stable/stock/market/batch?chartByDay=False&chartCloseOnly=True&range=5y&symbols=MRK&token=Tpk_57fa15c2c86b4dadbb31e0c1ad1db895&types=chart HTTP/1.1\" 200 None\n"
     ]
    },
    {
     "name": "stdout",
     "output_type": "stream",
     "text": [
      "Successfully processed MRK\n"
     ]
    },
    {
     "name": "stderr",
     "output_type": "stream",
     "text": [
      "DEBUG:urllib3.connectionpool:Starting new HTTPS connection (1): sandbox.iexapis.com:443\n"
     ]
    },
    {
     "name": "stdout",
     "output_type": "stream",
     "text": [
      "SOAC+: Trying to access historical data between 2017-01-04 00:00:00 and 2021-01-03 00:00:00.\n",
      "SOAC+: No data is cached.\n"
     ]
    },
    {
     "name": "stderr",
     "output_type": "stream",
     "text": [
      "DEBUG:urllib3.connectionpool:https://sandbox.iexapis.com:443 \"GET /stable/stock/market/batch?chartByDay=False&chartCloseOnly=True&range=5y&symbols=SOAC%2B&token=Tpk_57fa15c2c86b4dadbb31e0c1ad1db895&types=chart HTTP/1.1\" 200 None\n"
     ]
    },
    {
     "name": "stdout",
     "output_type": "stream",
     "text": [
      "Successfully processed SOAC+\n"
     ]
    },
    {
     "name": "stderr",
     "output_type": "stream",
     "text": [
      "/Users/olshansky/.pyenv/versions/3.7.7/lib/python3.7/site-packages/tables/path.py:155: NaturalNameWarning: object name is not a valid Python identifier: 'SOAC+'; it does not match the pattern ``^[a-zA-Z_][a-zA-Z0-9_]*$``; you will not be able to use natural naming to access this object; using ``getattr()`` will still work, though\n",
      "  check_attribute_name(name)\n",
      "DEBUG:urllib3.connectionpool:Starting new HTTPS connection (1): sandbox.iexapis.com:443\n"
     ]
    },
    {
     "name": "stdout",
     "output_type": "stream",
     "text": [
      "SSPK: Trying to access historical data between 2017-01-04 00:00:00 and 2021-01-03 00:00:00.\n",
      "SSPK: No data is cached.\n"
     ]
    },
    {
     "name": "stderr",
     "output_type": "stream",
     "text": [
      "DEBUG:urllib3.connectionpool:https://sandbox.iexapis.com:443 \"GET /stable/stock/market/batch?chartByDay=False&chartCloseOnly=True&range=5y&symbols=SSPK&token=Tpk_57fa15c2c86b4dadbb31e0c1ad1db895&types=chart HTTP/1.1\" 200 None\n"
     ]
    },
    {
     "name": "stdout",
     "output_type": "stream",
     "text": [
      "Successfully processed SSPK\n"
     ]
    },
    {
     "name": "stderr",
     "output_type": "stream",
     "text": [
      "DEBUG:urllib3.connectionpool:Starting new HTTPS connection (1): sandbox.iexapis.com:443\n"
     ]
    },
    {
     "name": "stdout",
     "output_type": "stream",
     "text": [
      "FRA: Trying to access historical data between 2017-01-04 00:00:00 and 2021-01-03 00:00:00.\n",
      "FRA: No data is cached.\n"
     ]
    },
    {
     "name": "stderr",
     "output_type": "stream",
     "text": [
      "DEBUG:urllib3.connectionpool:https://sandbox.iexapis.com:443 \"GET /stable/stock/market/batch?chartByDay=False&chartCloseOnly=True&range=5y&symbols=FRA&token=Tpk_57fa15c2c86b4dadbb31e0c1ad1db895&types=chart HTTP/1.1\" 200 None\n"
     ]
    },
    {
     "name": "stdout",
     "output_type": "stream",
     "text": [
      "Successfully processed FRA\n"
     ]
    },
    {
     "name": "stderr",
     "output_type": "stream",
     "text": [
      "DEBUG:urllib3.connectionpool:Starting new HTTPS connection (1): sandbox.iexapis.com:443\n"
     ]
    },
    {
     "name": "stdout",
     "output_type": "stream",
     "text": [
      "NTIC: Trying to access historical data between 2017-01-04 00:00:00 and 2021-01-03 00:00:00.\n",
      "NTIC: No data is cached.\n"
     ]
    },
    {
     "name": "stderr",
     "output_type": "stream",
     "text": [
      "DEBUG:urllib3.connectionpool:https://sandbox.iexapis.com:443 \"GET /stable/stock/market/batch?chartByDay=False&chartCloseOnly=True&range=5y&symbols=NTIC&token=Tpk_57fa15c2c86b4dadbb31e0c1ad1db895&types=chart HTTP/1.1\" 200 None\n"
     ]
    },
    {
     "name": "stdout",
     "output_type": "stream",
     "text": [
      "Successfully processed NTIC\n"
     ]
    },
    {
     "name": "stderr",
     "output_type": "stream",
     "text": [
      "DEBUG:urllib3.connectionpool:Starting new HTTPS connection (1): sandbox.iexapis.com:443\n"
     ]
    },
    {
     "name": "stdout",
     "output_type": "stream",
     "text": [
      "PDN: Trying to access historical data between 2017-01-04 00:00:00 and 2021-01-03 00:00:00.\n",
      "PDN: No data is cached.\n"
     ]
    },
    {
     "name": "stderr",
     "output_type": "stream",
     "text": [
      "DEBUG:urllib3.connectionpool:https://sandbox.iexapis.com:443 \"GET /stable/stock/market/batch?chartByDay=False&chartCloseOnly=True&range=5y&symbols=PDN&token=Tpk_57fa15c2c86b4dadbb31e0c1ad1db895&types=chart HTTP/1.1\" 200 None\n"
     ]
    },
    {
     "name": "stdout",
     "output_type": "stream",
     "text": [
      "Successfully processed PDN\n"
     ]
    }
   ],
   "source": [
    "(df_min, df_max) = get_min_max_dfs(symbols)"
   ]
  },
  {
   "cell_type": "code",
   "execution_count": 32,
   "metadata": {},
   "outputs": [
    {
     "data": {
      "text/html": [
       "<div>\n",
       "<style scoped>\n",
       "    .dataframe tbody tr th:only-of-type {\n",
       "        vertical-align: middle;\n",
       "    }\n",
       "\n",
       "    .dataframe tbody tr th {\n",
       "        vertical-align: top;\n",
       "    }\n",
       "\n",
       "    .dataframe thead th {\n",
       "        text-align: right;\n",
       "    }\n",
       "</style>\n",
       "<table border=\"1\" class=\"dataframe\">\n",
       "  <thead>\n",
       "    <tr style=\"text-align: right;\">\n",
       "      <th></th>\n",
       "      <th>FLDM_near_max</th>\n",
       "      <th>SGTX_near_max</th>\n",
       "      <th>BBH_near_max</th>\n",
       "      <th>HEC_near_max</th>\n",
       "      <th>MRK_near_max</th>\n",
       "      <th>SOAC+_near_max</th>\n",
       "      <th>SSPK_near_max</th>\n",
       "      <th>FRA_near_max</th>\n",
       "      <th>NTIC_near_max</th>\n",
       "      <th>PDN_near_max</th>\n",
       "    </tr>\n",
       "    <tr>\n",
       "      <th>date</th>\n",
       "      <th></th>\n",
       "      <th></th>\n",
       "      <th></th>\n",
       "      <th></th>\n",
       "      <th></th>\n",
       "      <th></th>\n",
       "      <th></th>\n",
       "      <th></th>\n",
       "      <th></th>\n",
       "      <th></th>\n",
       "    </tr>\n",
       "  </thead>\n",
       "  <tbody>\n",
       "    <tr>\n",
       "      <th>2017-01-04</th>\n",
       "      <td>None</td>\n",
       "      <td>None</td>\n",
       "      <td>None</td>\n",
       "      <td>None</td>\n",
       "      <td>None</td>\n",
       "      <td>None</td>\n",
       "      <td>None</td>\n",
       "      <td>None</td>\n",
       "      <td>None</td>\n",
       "      <td>None</td>\n",
       "    </tr>\n",
       "    <tr>\n",
       "      <th>2017-01-05</th>\n",
       "      <td>None</td>\n",
       "      <td>None</td>\n",
       "      <td>None</td>\n",
       "      <td>None</td>\n",
       "      <td>None</td>\n",
       "      <td>None</td>\n",
       "      <td>None</td>\n",
       "      <td>None</td>\n",
       "      <td>None</td>\n",
       "      <td>None</td>\n",
       "    </tr>\n",
       "    <tr>\n",
       "      <th>2017-01-06</th>\n",
       "      <td>None</td>\n",
       "      <td>None</td>\n",
       "      <td>None</td>\n",
       "      <td>None</td>\n",
       "      <td>None</td>\n",
       "      <td>None</td>\n",
       "      <td>None</td>\n",
       "      <td>None</td>\n",
       "      <td>None</td>\n",
       "      <td>None</td>\n",
       "    </tr>\n",
       "    <tr>\n",
       "      <th>2017-01-09</th>\n",
       "      <td>None</td>\n",
       "      <td>None</td>\n",
       "      <td>None</td>\n",
       "      <td>None</td>\n",
       "      <td>None</td>\n",
       "      <td>None</td>\n",
       "      <td>None</td>\n",
       "      <td>None</td>\n",
       "      <td>None</td>\n",
       "      <td>None</td>\n",
       "    </tr>\n",
       "    <tr>\n",
       "      <th>2017-01-10</th>\n",
       "      <td>None</td>\n",
       "      <td>None</td>\n",
       "      <td>None</td>\n",
       "      <td>None</td>\n",
       "      <td>None</td>\n",
       "      <td>None</td>\n",
       "      <td>None</td>\n",
       "      <td>None</td>\n",
       "      <td>None</td>\n",
       "      <td>None</td>\n",
       "    </tr>\n",
       "    <tr>\n",
       "      <th>...</th>\n",
       "      <td>...</td>\n",
       "      <td>...</td>\n",
       "      <td>...</td>\n",
       "      <td>...</td>\n",
       "      <td>...</td>\n",
       "      <td>...</td>\n",
       "      <td>...</td>\n",
       "      <td>...</td>\n",
       "      <td>...</td>\n",
       "      <td>...</td>\n",
       "    </tr>\n",
       "    <tr>\n",
       "      <th>2020-12-24</th>\n",
       "      <td>False</td>\n",
       "      <td>None</td>\n",
       "      <td>True</td>\n",
       "      <td>None</td>\n",
       "      <td>True</td>\n",
       "      <td>None</td>\n",
       "      <td>True</td>\n",
       "      <td>True</td>\n",
       "      <td>False</td>\n",
       "      <td>True</td>\n",
       "    </tr>\n",
       "    <tr>\n",
       "      <th>2020-12-28</th>\n",
       "      <td>False</td>\n",
       "      <td>None</td>\n",
       "      <td>True</td>\n",
       "      <td>None</td>\n",
       "      <td>True</td>\n",
       "      <td>None</td>\n",
       "      <td>True</td>\n",
       "      <td>True</td>\n",
       "      <td>False</td>\n",
       "      <td>True</td>\n",
       "    </tr>\n",
       "    <tr>\n",
       "      <th>2020-12-29</th>\n",
       "      <td>False</td>\n",
       "      <td>None</td>\n",
       "      <td>True</td>\n",
       "      <td>None</td>\n",
       "      <td>True</td>\n",
       "      <td>None</td>\n",
       "      <td>True</td>\n",
       "      <td>True</td>\n",
       "      <td>False</td>\n",
       "      <td>True</td>\n",
       "    </tr>\n",
       "    <tr>\n",
       "      <th>2020-12-30</th>\n",
       "      <td>False</td>\n",
       "      <td>None</td>\n",
       "      <td>True</td>\n",
       "      <td>None</td>\n",
       "      <td>True</td>\n",
       "      <td>None</td>\n",
       "      <td>True</td>\n",
       "      <td>True</td>\n",
       "      <td>False</td>\n",
       "      <td>True</td>\n",
       "    </tr>\n",
       "    <tr>\n",
       "      <th>2020-12-31</th>\n",
       "      <td>False</td>\n",
       "      <td>None</td>\n",
       "      <td>True</td>\n",
       "      <td>None</td>\n",
       "      <td>True</td>\n",
       "      <td>None</td>\n",
       "      <td>True</td>\n",
       "      <td>True</td>\n",
       "      <td>False</td>\n",
       "      <td>True</td>\n",
       "    </tr>\n",
       "  </tbody>\n",
       "</table>\n",
       "<p>1006 rows × 10 columns</p>\n",
       "</div>"
      ],
      "text/plain": [
       "           FLDM_near_max SGTX_near_max BBH_near_max HEC_near_max MRK_near_max  \\\n",
       "date                                                                            \n",
       "2017-01-04          None          None         None         None         None   \n",
       "2017-01-05          None          None         None         None         None   \n",
       "2017-01-06          None          None         None         None         None   \n",
       "2017-01-09          None          None         None         None         None   \n",
       "2017-01-10          None          None         None         None         None   \n",
       "...                  ...           ...          ...          ...          ...   \n",
       "2020-12-24         False          None         True         None         True   \n",
       "2020-12-28         False          None         True         None         True   \n",
       "2020-12-29         False          None         True         None         True   \n",
       "2020-12-30         False          None         True         None         True   \n",
       "2020-12-31         False          None         True         None         True   \n",
       "\n",
       "           SOAC+_near_max SSPK_near_max FRA_near_max NTIC_near_max  \\\n",
       "date                                                                 \n",
       "2017-01-04           None          None         None          None   \n",
       "2017-01-05           None          None         None          None   \n",
       "2017-01-06           None          None         None          None   \n",
       "2017-01-09           None          None         None          None   \n",
       "2017-01-10           None          None         None          None   \n",
       "...                   ...           ...          ...           ...   \n",
       "2020-12-24           None          True         True         False   \n",
       "2020-12-28           None          True         True         False   \n",
       "2020-12-29           None          True         True         False   \n",
       "2020-12-30           None          True         True         False   \n",
       "2020-12-31           None          True         True         False   \n",
       "\n",
       "           PDN_near_max  \n",
       "date                     \n",
       "2017-01-04         None  \n",
       "2017-01-05         None  \n",
       "2017-01-06         None  \n",
       "2017-01-09         None  \n",
       "2017-01-10         None  \n",
       "...                 ...  \n",
       "2020-12-24         True  \n",
       "2020-12-28         True  \n",
       "2020-12-29         True  \n",
       "2020-12-30         True  \n",
       "2020-12-31         True  \n",
       "\n",
       "[1006 rows x 10 columns]"
      ]
     },
     "execution_count": 32,
     "metadata": {},
     "output_type": "execute_result"
    }
   ],
   "source": [
    "df_max"
   ]
  },
  {
   "cell_type": "code",
   "execution_count": 35,
   "metadata": {},
   "outputs": [
    {
     "data": {
      "text/html": [
       "<div>\n",
       "<style scoped>\n",
       "    .dataframe tbody tr th:only-of-type {\n",
       "        vertical-align: middle;\n",
       "    }\n",
       "\n",
       "    .dataframe tbody tr th {\n",
       "        vertical-align: top;\n",
       "    }\n",
       "\n",
       "    .dataframe thead th {\n",
       "        text-align: right;\n",
       "    }\n",
       "</style>\n",
       "<table border=\"1\" class=\"dataframe\">\n",
       "  <thead>\n",
       "    <tr style=\"text-align: right;\">\n",
       "      <th></th>\n",
       "      <th>near_max</th>\n",
       "      <th>near_min</th>\n",
       "    </tr>\n",
       "    <tr>\n",
       "      <th>date</th>\n",
       "      <th></th>\n",
       "      <th></th>\n",
       "    </tr>\n",
       "  </thead>\n",
       "  <tbody>\n",
       "    <tr>\n",
       "      <th>2017-01-04</th>\n",
       "      <td>NaN</td>\n",
       "      <td>NaN</td>\n",
       "    </tr>\n",
       "    <tr>\n",
       "      <th>2017-01-05</th>\n",
       "      <td>NaN</td>\n",
       "      <td>NaN</td>\n",
       "    </tr>\n",
       "    <tr>\n",
       "      <th>2017-01-06</th>\n",
       "      <td>NaN</td>\n",
       "      <td>NaN</td>\n",
       "    </tr>\n",
       "    <tr>\n",
       "      <th>2017-01-09</th>\n",
       "      <td>NaN</td>\n",
       "      <td>NaN</td>\n",
       "    </tr>\n",
       "    <tr>\n",
       "      <th>2017-01-10</th>\n",
       "      <td>NaN</td>\n",
       "      <td>NaN</td>\n",
       "    </tr>\n",
       "    <tr>\n",
       "      <th>...</th>\n",
       "      <td>...</td>\n",
       "      <td>...</td>\n",
       "    </tr>\n",
       "    <tr>\n",
       "      <th>2020-12-24</th>\n",
       "      <td>0.71</td>\n",
       "      <td>0.14</td>\n",
       "    </tr>\n",
       "    <tr>\n",
       "      <th>2020-12-28</th>\n",
       "      <td>0.71</td>\n",
       "      <td>0.14</td>\n",
       "    </tr>\n",
       "    <tr>\n",
       "      <th>2020-12-29</th>\n",
       "      <td>0.71</td>\n",
       "      <td>0.14</td>\n",
       "    </tr>\n",
       "    <tr>\n",
       "      <th>2020-12-30</th>\n",
       "      <td>0.71</td>\n",
       "      <td>0.14</td>\n",
       "    </tr>\n",
       "    <tr>\n",
       "      <th>2020-12-31</th>\n",
       "      <td>0.71</td>\n",
       "      <td>0.14</td>\n",
       "    </tr>\n",
       "  </tbody>\n",
       "</table>\n",
       "<p>1006 rows × 2 columns</p>\n",
       "</div>"
      ],
      "text/plain": [
       "            near_max  near_min\n",
       "date                          \n",
       "2017-01-04       NaN       NaN\n",
       "2017-01-05       NaN       NaN\n",
       "2017-01-06       NaN       NaN\n",
       "2017-01-09       NaN       NaN\n",
       "2017-01-10       NaN       NaN\n",
       "...              ...       ...\n",
       "2020-12-24      0.71      0.14\n",
       "2020-12-28      0.71      0.14\n",
       "2020-12-29      0.71      0.14\n",
       "2020-12-30      0.71      0.14\n",
       "2020-12-31      0.71      0.14\n",
       "\n",
       "[1006 rows x 2 columns]"
      ]
     },
     "execution_count": 35,
     "metadata": {},
     "output_type": "execute_result"
    }
   ],
   "source": [
    "df_res = compute_stocks_near_max_min(df_max, df_min)\n",
    "df_res"
   ]
  },
  {
   "cell_type": "code",
   "execution_count": 68,
   "metadata": {},
   "outputs": [
    {
     "data": {
      "text/html": [
       "\n",
       "<div id=\"altair-viz-f320bf6d7c3b4054a4842fc9b0405bb2\"></div>\n",
       "<script type=\"text/javascript\">\n",
       "  (function(spec, embedOpt){\n",
       "    let outputDiv = document.currentScript.previousElementSibling;\n",
       "    if (outputDiv.id !== \"altair-viz-f320bf6d7c3b4054a4842fc9b0405bb2\") {\n",
       "      outputDiv = document.getElementById(\"altair-viz-f320bf6d7c3b4054a4842fc9b0405bb2\");\n",
       "    }\n",
       "    const paths = {\n",
       "      \"vega\": \"https://cdn.jsdelivr.net/npm//vega@5?noext\",\n",
       "      \"vega-lib\": \"https://cdn.jsdelivr.net/npm//vega-lib?noext\",\n",
       "      \"vega-lite\": \"https://cdn.jsdelivr.net/npm//vega-lite@4.8.1?noext\",\n",
       "      \"vega-embed\": \"https://cdn.jsdelivr.net/npm//vega-embed@6?noext\",\n",
       "    };\n",
       "\n",
       "    function loadScript(lib) {\n",
       "      return new Promise(function(resolve, reject) {\n",
       "        var s = document.createElement('script');\n",
       "        s.src = paths[lib];\n",
       "        s.async = true;\n",
       "        s.onload = () => resolve(paths[lib]);\n",
       "        s.onerror = () => reject(`Error loading script: ${paths[lib]}`);\n",
       "        document.getElementsByTagName(\"head\")[0].appendChild(s);\n",
       "      });\n",
       "    }\n",
       "\n",
       "    function showError(err) {\n",
       "      outputDiv.innerHTML = `<div class=\"error\" style=\"color:red;\">${err}</div>`;\n",
       "      throw err;\n",
       "    }\n",
       "\n",
       "    function displayChart(vegaEmbed) {\n",
       "      vegaEmbed(outputDiv, spec, embedOpt)\n",
       "        .catch(err => showError(`Javascript Error: ${err.message}<br>This usually means there's a typo in your chart specification. See the javascript console for the full traceback.`));\n",
       "    }\n",
       "\n",
       "    if(typeof define === \"function\" && define.amd) {\n",
       "      requirejs.config({paths});\n",
       "      require([\"vega-embed\"], displayChart, err => showError(`Error loading script: ${err.message}`));\n",
       "    } else if (typeof vegaEmbed === \"function\") {\n",
       "      displayChart(vegaEmbed);\n",
       "    } else {\n",
       "      loadScript(\"vega\")\n",
       "        .then(() => loadScript(\"vega-lite\"))\n",
       "        .then(() => loadScript(\"vega-embed\"))\n",
       "        .catch(showError)\n",
       "        .then(() => displayChart(vegaEmbed));\n",
       "    }\n",
       "  })({\"config\": {\"view\": {\"continuousWidth\": 400, \"continuousHeight\": 300}}, \"data\": {\"name\": \"data-638f95c284ee48938ef9e736e65f5ce1\"}, \"mark\": \"line\", \"encoding\": {\"x\": {\"type\": \"temporal\", \"field\": \"date\"}, \"y\": {\"type\": \"quantitative\", \"field\": \"near_min\"}}, \"$schema\": \"https://vega.github.io/schema/vega-lite/v4.8.1.json\", \"datasets\": {\"data-638f95c284ee48938ef9e736e65f5ce1\": [{\"near_max\": null, \"near_min\": null}, {\"near_max\": null, \"near_min\": null}, {\"near_max\": null, \"near_min\": null}, {\"near_max\": null, \"near_min\": null}, {\"near_max\": null, \"near_min\": null}, {\"near_max\": null, \"near_min\": null}, {\"near_max\": null, \"near_min\": null}, {\"near_max\": null, \"near_min\": null}, {\"near_max\": null, \"near_min\": null}, {\"near_max\": null, \"near_min\": null}, {\"near_max\": null, \"near_min\": null}, {\"near_max\": null, \"near_min\": null}, {\"near_max\": null, \"near_min\": null}, {\"near_max\": null, \"near_min\": null}, {\"near_max\": null, \"near_min\": null}, {\"near_max\": null, \"near_min\": null}, {\"near_max\": null, \"near_min\": null}, {\"near_max\": null, \"near_min\": null}, {\"near_max\": null, \"near_min\": null}, {\"near_max\": null, \"near_min\": null}, {\"near_max\": null, \"near_min\": null}, {\"near_max\": null, \"near_min\": null}, {\"near_max\": null, \"near_min\": null}, {\"near_max\": null, \"near_min\": null}, {\"near_max\": null, \"near_min\": null}, {\"near_max\": null, \"near_min\": null}, {\"near_max\": null, \"near_min\": null}, {\"near_max\": null, \"near_min\": null}, {\"near_max\": null, \"near_min\": null}, {\"near_max\": null, \"near_min\": null}, {\"near_max\": null, \"near_min\": null}, {\"near_max\": null, \"near_min\": null}, {\"near_max\": null, \"near_min\": null}, {\"near_max\": null, \"near_min\": null}, {\"near_max\": null, \"near_min\": null}, {\"near_max\": null, \"near_min\": null}, {\"near_max\": null, \"near_min\": null}, {\"near_max\": null, \"near_min\": null}, {\"near_max\": null, \"near_min\": null}, {\"near_max\": null, \"near_min\": null}, {\"near_max\": null, \"near_min\": null}, {\"near_max\": null, \"near_min\": null}, {\"near_max\": null, \"near_min\": null}, {\"near_max\": null, \"near_min\": null}, {\"near_max\": null, \"near_min\": null}, {\"near_max\": null, \"near_min\": null}, {\"near_max\": null, \"near_min\": null}, {\"near_max\": null, \"near_min\": null}, {\"near_max\": null, \"near_min\": null}, {\"near_max\": null, \"near_min\": null}, {\"near_max\": null, \"near_min\": null}, {\"near_max\": null, \"near_min\": null}, {\"near_max\": null, \"near_min\": null}, {\"near_max\": null, \"near_min\": null}, {\"near_max\": null, \"near_min\": null}, {\"near_max\": null, \"near_min\": null}, {\"near_max\": null, \"near_min\": null}, {\"near_max\": null, \"near_min\": null}, {\"near_max\": null, \"near_min\": null}, {\"near_max\": null, \"near_min\": null}, {\"near_max\": null, \"near_min\": null}, {\"near_max\": null, \"near_min\": null}, {\"near_max\": null, \"near_min\": null}, {\"near_max\": null, \"near_min\": null}, {\"near_max\": null, \"near_min\": null}, {\"near_max\": null, \"near_min\": null}, {\"near_max\": null, \"near_min\": null}, {\"near_max\": null, \"near_min\": null}, {\"near_max\": null, \"near_min\": null}, {\"near_max\": null, \"near_min\": null}, {\"near_max\": null, \"near_min\": null}, {\"near_max\": null, \"near_min\": null}, {\"near_max\": null, \"near_min\": null}, {\"near_max\": null, \"near_min\": null}, {\"near_max\": null, \"near_min\": null}, {\"near_max\": null, \"near_min\": null}, {\"near_max\": null, \"near_min\": null}, {\"near_max\": null, \"near_min\": null}, {\"near_max\": null, \"near_min\": null}, {\"near_max\": null, \"near_min\": null}, {\"near_max\": null, \"near_min\": null}, {\"near_max\": null, \"near_min\": null}, {\"near_max\": null, \"near_min\": null}, {\"near_max\": null, \"near_min\": null}, {\"near_max\": null, \"near_min\": null}, {\"near_max\": null, \"near_min\": null}, {\"near_max\": null, \"near_min\": null}, {\"near_max\": null, \"near_min\": null}, {\"near_max\": null, \"near_min\": null}, {\"near_max\": null, \"near_min\": null}, {\"near_max\": null, \"near_min\": null}, {\"near_max\": null, \"near_min\": null}, {\"near_max\": null, \"near_min\": null}, {\"near_max\": null, \"near_min\": null}, {\"near_max\": null, \"near_min\": null}, {\"near_max\": null, \"near_min\": null}, {\"near_max\": null, \"near_min\": null}, {\"near_max\": null, \"near_min\": null}, {\"near_max\": null, \"near_min\": null}, {\"near_max\": null, \"near_min\": null}, {\"near_max\": null, \"near_min\": null}, {\"near_max\": null, \"near_min\": null}, {\"near_max\": null, \"near_min\": null}, {\"near_max\": null, \"near_min\": null}, {\"near_max\": null, \"near_min\": null}, {\"near_max\": null, \"near_min\": null}, {\"near_max\": null, \"near_min\": null}, {\"near_max\": null, \"near_min\": null}, {\"near_max\": null, \"near_min\": null}, {\"near_max\": null, \"near_min\": null}, {\"near_max\": null, \"near_min\": null}, {\"near_max\": null, \"near_min\": null}, {\"near_max\": null, \"near_min\": null}, {\"near_max\": null, \"near_min\": null}, {\"near_max\": null, \"near_min\": null}, {\"near_max\": null, \"near_min\": null}, {\"near_max\": null, \"near_min\": null}, {\"near_max\": null, \"near_min\": null}, {\"near_max\": null, \"near_min\": null}, {\"near_max\": null, \"near_min\": null}, {\"near_max\": null, \"near_min\": null}, {\"near_max\": null, \"near_min\": null}, {\"near_max\": null, \"near_min\": null}, {\"near_max\": null, \"near_min\": null}, {\"near_max\": null, \"near_min\": null}, {\"near_max\": null, \"near_min\": null}, {\"near_max\": null, \"near_min\": null}, {\"near_max\": null, \"near_min\": null}, {\"near_max\": null, \"near_min\": null}, {\"near_max\": null, \"near_min\": null}, {\"near_max\": null, \"near_min\": null}, {\"near_max\": null, \"near_min\": null}, {\"near_max\": null, \"near_min\": null}, {\"near_max\": null, \"near_min\": null}, {\"near_max\": null, \"near_min\": null}, {\"near_max\": null, \"near_min\": null}, {\"near_max\": null, \"near_min\": null}, {\"near_max\": null, \"near_min\": null}, {\"near_max\": null, \"near_min\": null}, {\"near_max\": null, \"near_min\": null}, {\"near_max\": null, \"near_min\": null}, {\"near_max\": null, \"near_min\": null}, {\"near_max\": null, \"near_min\": null}, {\"near_max\": null, \"near_min\": null}, {\"near_max\": null, \"near_min\": null}, {\"near_max\": null, \"near_min\": null}, {\"near_max\": null, \"near_min\": null}, {\"near_max\": null, \"near_min\": null}, {\"near_max\": null, \"near_min\": null}, {\"near_max\": null, \"near_min\": null}, {\"near_max\": null, \"near_min\": null}, {\"near_max\": null, \"near_min\": null}, {\"near_max\": null, \"near_min\": null}, {\"near_max\": null, \"near_min\": null}, {\"near_max\": null, \"near_min\": null}, {\"near_max\": null, \"near_min\": null}, {\"near_max\": null, \"near_min\": null}, {\"near_max\": null, \"near_min\": null}, {\"near_max\": null, \"near_min\": null}, {\"near_max\": null, \"near_min\": null}, {\"near_max\": null, \"near_min\": null}, {\"near_max\": null, \"near_min\": null}, {\"near_max\": null, \"near_min\": null}, {\"near_max\": null, \"near_min\": null}, {\"near_max\": null, \"near_min\": null}, {\"near_max\": null, \"near_min\": null}, {\"near_max\": null, \"near_min\": null}, {\"near_max\": null, \"near_min\": null}, {\"near_max\": null, \"near_min\": null}, {\"near_max\": null, \"near_min\": null}, {\"near_max\": null, \"near_min\": null}, {\"near_max\": null, \"near_min\": null}, {\"near_max\": null, \"near_min\": null}, {\"near_max\": null, \"near_min\": null}, {\"near_max\": null, \"near_min\": null}, {\"near_max\": null, \"near_min\": null}, {\"near_max\": null, \"near_min\": null}, {\"near_max\": null, \"near_min\": null}, {\"near_max\": null, \"near_min\": null}, {\"near_max\": null, \"near_min\": null}, {\"near_max\": null, \"near_min\": null}, {\"near_max\": null, \"near_min\": null}, {\"near_max\": null, \"near_min\": null}, {\"near_max\": null, \"near_min\": null}, {\"near_max\": null, \"near_min\": null}, {\"near_max\": null, \"near_min\": null}, {\"near_max\": null, \"near_min\": null}, {\"near_max\": null, \"near_min\": null}, {\"near_max\": null, \"near_min\": null}, {\"near_max\": null, \"near_min\": null}, {\"near_max\": null, \"near_min\": null}, {\"near_max\": null, \"near_min\": null}, {\"near_max\": null, \"near_min\": null}, {\"near_max\": null, \"near_min\": null}, {\"near_max\": null, \"near_min\": null}, {\"near_max\": null, \"near_min\": null}, {\"near_max\": null, \"near_min\": null}, {\"near_max\": null, \"near_min\": null}, {\"near_max\": null, \"near_min\": null}, {\"near_max\": null, \"near_min\": null}, {\"near_max\": null, \"near_min\": null}, {\"near_max\": null, \"near_min\": null}, {\"near_max\": null, \"near_min\": null}, {\"near_max\": null, \"near_min\": null}, {\"near_max\": null, \"near_min\": null}, {\"near_max\": null, \"near_min\": null}, {\"near_max\": null, \"near_min\": null}, {\"near_max\": null, \"near_min\": null}, {\"near_max\": null, \"near_min\": null}, {\"near_max\": null, \"near_min\": null}, {\"near_max\": null, \"near_min\": null}, {\"near_max\": null, \"near_min\": null}, {\"near_max\": null, \"near_min\": null}, {\"near_max\": null, \"near_min\": null}, {\"near_max\": null, \"near_min\": null}, {\"near_max\": null, \"near_min\": null}, {\"near_max\": null, \"near_min\": null}, {\"near_max\": null, \"near_min\": null}, {\"near_max\": null, \"near_min\": null}, {\"near_max\": null, \"near_min\": null}, {\"near_max\": null, \"near_min\": null}, {\"near_max\": null, \"near_min\": null}, {\"near_max\": null, \"near_min\": null}, {\"near_max\": null, \"near_min\": null}, {\"near_max\": null, \"near_min\": null}, {\"near_max\": null, \"near_min\": null}, {\"near_max\": null, \"near_min\": null}, {\"near_max\": null, \"near_min\": null}, {\"near_max\": null, \"near_min\": null}, {\"near_max\": null, \"near_min\": null}, {\"near_max\": null, \"near_min\": null}, {\"near_max\": null, \"near_min\": null}, {\"near_max\": null, \"near_min\": null}, {\"near_max\": null, \"near_min\": null}, {\"near_max\": null, \"near_min\": null}, {\"near_max\": null, \"near_min\": null}, {\"near_max\": null, \"near_min\": null}, {\"near_max\": null, \"near_min\": null}, {\"near_max\": null, \"near_min\": null}, {\"near_max\": null, \"near_min\": null}, {\"near_max\": null, \"near_min\": null}, {\"near_max\": null, \"near_min\": null}, {\"near_max\": null, \"near_min\": null}, {\"near_max\": null, \"near_min\": null}, {\"near_max\": null, \"near_min\": null}, {\"near_max\": null, \"near_min\": null}, {\"near_max\": null, \"near_min\": null}, {\"near_max\": null, \"near_min\": null}, {\"near_max\": null, \"near_min\": null}, {\"near_max\": null, \"near_min\": null}, {\"near_max\": null, \"near_min\": null}, {\"near_max\": 0.6, \"near_min\": 0.6}, {\"near_max\": 0.6, \"near_min\": 0.6}, {\"near_max\": 0.8, \"near_min\": 0.6}, {\"near_max\": 0.8, \"near_min\": 0.6}, {\"near_max\": 0.8, \"near_min\": 0.6}, {\"near_max\": 0.8, \"near_min\": 0.6}, {\"near_max\": 0.8, \"near_min\": 0.6}, {\"near_max\": 1.0, \"near_min\": 0.6}, {\"near_max\": 1.0, \"near_min\": 0.6}, {\"near_max\": 1.0, \"near_min\": 0.6}, {\"near_max\": 1.0, \"near_min\": 0.6}, {\"near_max\": 1.0, \"near_min\": 0.6}, {\"near_max\": 1.0, \"near_min\": 0.6}, {\"near_max\": 1.0, \"near_min\": 0.6}, {\"near_max\": 1.0, \"near_min\": 0.6}, {\"near_max\": 1.0, \"near_min\": 0.6}, {\"near_max\": 1.0, \"near_min\": 0.6}, {\"near_max\": 1.0, \"near_min\": 0.6}, {\"near_max\": 1.0, \"near_min\": 0.6}, {\"near_max\": 1.0, \"near_min\": 0.6}, {\"near_max\": 1.0, \"near_min\": 0.6}, {\"near_max\": 1.0, \"near_min\": 0.6}, {\"near_max\": 0.8, \"near_min\": 0.8}, {\"near_max\": 0.6, \"near_min\": 0.8}, {\"near_max\": 0.6, \"near_min\": 0.8}, {\"near_max\": 0.6, \"near_min\": 0.8}, {\"near_max\": 0.8, \"near_min\": 0.8}, {\"near_max\": 0.8, \"near_min\": 0.8}, {\"near_max\": 0.83, \"near_min\": 0.67}, {\"near_max\": 0.67, \"near_min\": 0.67}, {\"near_max\": 0.83, \"near_min\": 0.67}, {\"near_max\": 1.0, \"near_min\": 0.67}, {\"near_max\": 0.83, \"near_min\": 0.67}, {\"near_max\": 0.83, \"near_min\": 0.67}, {\"near_max\": 0.67, \"near_min\": 0.5}, {\"near_max\": 0.8, \"near_min\": 0.8}, {\"near_max\": 1.0, \"near_min\": 0.5}, {\"near_max\": 0.83, \"near_min\": 0.67}, {\"near_max\": 0.67, \"near_min\": 0.67}, {\"near_max\": 0.83, \"near_min\": 0.67}, {\"near_max\": 0.67, \"near_min\": 0.67}, {\"near_max\": 0.5, \"near_min\": 0.67}, {\"near_max\": 0.5, \"near_min\": 0.67}, {\"near_max\": 0.5, \"near_min\": 0.67}, {\"near_max\": 0.5, \"near_min\": 0.67}, {\"near_max\": 0.83, \"near_min\": 0.67}, {\"near_max\": 0.67, \"near_min\": 0.67}, {\"near_max\": 0.67, \"near_min\": 0.67}, {\"near_max\": 0.5, \"near_min\": 0.67}, {\"near_max\": 0.5, \"near_min\": 0.67}, {\"near_max\": 0.67, \"near_min\": 0.67}, {\"near_max\": 0.67, \"near_min\": 0.67}, {\"near_max\": 0.67, \"near_min\": 0.67}, {\"near_max\": 0.67, \"near_min\": 0.67}, {\"near_max\": 0.5, \"near_min\": 0.67}, {\"near_max\": 0.67, \"near_min\": 0.67}, {\"near_max\": 0.67, \"near_min\": 0.67}, {\"near_max\": 0.5, \"near_min\": 0.67}, {\"near_max\": 0.5, \"near_min\": 0.67}, {\"near_max\": 0.67, \"near_min\": 0.67}, {\"near_max\": 0.5, \"near_min\": 0.67}, {\"near_max\": 0.33, \"near_min\": 0.67}, {\"near_max\": 0.67, \"near_min\": 0.67}, {\"near_max\": 0.67, \"near_min\": 0.67}, {\"near_max\": 0.4, \"near_min\": 0.8}, {\"near_max\": 0.5, \"near_min\": 0.67}, {\"near_max\": 0.67, \"near_min\": 0.67}, {\"near_max\": 0.5, \"near_min\": 0.67}, {\"near_max\": 0.67, \"near_min\": 0.67}, {\"near_max\": 0.83, \"near_min\": 0.67}, {\"near_max\": 0.83, \"near_min\": 0.67}, {\"near_max\": 0.83, \"near_min\": 0.67}, {\"near_max\": 0.83, \"near_min\": 0.67}, {\"near_max\": 0.83, \"near_min\": 0.67}, {\"near_max\": 0.67, \"near_min\": 0.67}, {\"near_max\": 0.83, \"near_min\": 0.67}, {\"near_max\": 0.67, \"near_min\": 0.67}, {\"near_max\": 0.67, \"near_min\": 0.67}, {\"near_max\": 0.67, \"near_min\": 0.67}, {\"near_max\": 0.83, \"near_min\": 0.67}, {\"near_max\": 0.67, \"near_min\": 0.67}, {\"near_max\": 0.83, \"near_min\": 0.67}, {\"near_max\": 0.67, \"near_min\": 0.67}, {\"near_max\": 0.67, \"near_min\": 0.67}, {\"near_max\": 0.6, \"near_min\": 0.8}, {\"near_max\": 0.67, \"near_min\": 0.67}, {\"near_max\": 0.83, \"near_min\": 0.67}, {\"near_max\": 0.67, \"near_min\": 0.67}, {\"near_max\": 0.67, \"near_min\": 0.67}, {\"near_max\": 0.83, \"near_min\": 0.67}, {\"near_max\": 0.83, \"near_min\": 0.67}, {\"near_max\": 0.83, \"near_min\": 0.67}, {\"near_max\": 0.83, \"near_min\": 0.67}, {\"near_max\": 0.83, \"near_min\": 0.67}, {\"near_max\": 0.83, \"near_min\": 0.67}, {\"near_max\": 0.67, \"near_min\": 0.67}, {\"near_max\": 0.83, \"near_min\": 0.67}, {\"near_max\": 0.83, \"near_min\": 0.67}, {\"near_max\": 0.83, \"near_min\": 0.67}, {\"near_max\": 0.67, \"near_min\": 0.67}, {\"near_max\": 0.83, \"near_min\": 0.67}, {\"near_max\": 0.83, \"near_min\": 0.67}, {\"near_max\": 0.8, \"near_min\": 0.8}, {\"near_max\": 0.83, \"near_min\": 0.67}, {\"near_max\": 0.83, \"near_min\": 0.67}, {\"near_max\": 0.83, \"near_min\": 0.67}, {\"near_max\": 0.83, \"near_min\": 0.67}, {\"near_max\": 0.83, \"near_min\": 0.67}, {\"near_max\": 0.83, \"near_min\": 0.67}, {\"near_max\": 0.83, \"near_min\": 0.67}, {\"near_max\": 0.83, \"near_min\": 0.67}, {\"near_max\": 0.83, \"near_min\": 0.67}, {\"near_max\": 0.83, \"near_min\": 0.67}, {\"near_max\": 0.83, \"near_min\": 0.67}, {\"near_max\": 0.83, \"near_min\": 0.67}, {\"near_max\": 0.83, \"near_min\": 0.67}, {\"near_max\": 0.83, \"near_min\": 0.67}, {\"near_max\": 0.83, \"near_min\": 0.67}, {\"near_max\": 0.83, \"near_min\": 0.67}, {\"near_max\": 0.83, \"near_min\": 0.67}, {\"near_max\": 0.83, \"near_min\": 0.67}, {\"near_max\": 0.83, \"near_min\": 0.67}, {\"near_max\": 0.83, \"near_min\": 0.67}, {\"near_max\": 0.83, \"near_min\": 0.67}, {\"near_max\": 0.83, \"near_min\": 0.67}, {\"near_max\": 0.83, \"near_min\": 0.67}, {\"near_max\": 0.83, \"near_min\": 0.67}, {\"near_max\": 0.83, \"near_min\": 0.67}, {\"near_max\": 0.83, \"near_min\": 0.67}, {\"near_max\": 0.83, \"near_min\": 0.67}, {\"near_max\": 0.83, \"near_min\": 0.67}, {\"near_max\": 0.83, \"near_min\": 0.67}, {\"near_max\": 0.83, \"near_min\": 0.67}, {\"near_max\": 0.83, \"near_min\": 0.67}, {\"near_max\": 0.83, \"near_min\": 0.67}, {\"near_max\": 0.83, \"near_min\": 0.67}, {\"near_max\": 0.83, \"near_min\": 0.67}, {\"near_max\": 0.83, \"near_min\": 0.67}, {\"near_max\": 0.83, \"near_min\": 0.67}, {\"near_max\": 0.83, \"near_min\": 0.67}, {\"near_max\": 0.83, \"near_min\": 0.67}, {\"near_max\": 0.83, \"near_min\": 0.67}, {\"near_max\": 0.83, \"near_min\": 0.67}, {\"near_max\": 0.83, \"near_min\": 0.5}, {\"near_max\": 0.83, \"near_min\": 0.5}, {\"near_max\": 0.83, \"near_min\": 0.5}, {\"near_max\": 0.83, \"near_min\": 0.67}, {\"near_max\": 0.83, \"near_min\": 0.5}, {\"near_max\": 1.0, \"near_min\": 0.5}, {\"near_max\": 1.0, \"near_min\": 0.5}, {\"near_max\": 0.67, \"near_min\": 0.5}, {\"near_max\": 0.83, \"near_min\": 0.67}, {\"near_max\": 0.83, \"near_min\": 0.5}, {\"near_max\": 0.83, \"near_min\": 0.5}, {\"near_max\": 0.83, \"near_min\": 0.5}, {\"near_max\": 0.83, \"near_min\": 0.5}, {\"near_max\": 1.0, \"near_min\": 0.5}, {\"near_max\": 1.0, \"near_min\": 0.5}, {\"near_max\": 0.67, \"near_min\": 0.5}, {\"near_max\": 0.83, \"near_min\": 0.5}, {\"near_max\": 0.83, \"near_min\": 0.5}, {\"near_max\": 1.0, \"near_min\": 0.5}, {\"near_max\": 1.0, \"near_min\": 0.5}, {\"near_max\": 1.0, \"near_min\": 0.5}, {\"near_max\": 1.0, \"near_min\": 0.5}, {\"near_max\": 1.0, \"near_min\": 0.5}, {\"near_max\": 1.0, \"near_min\": 0.5}, {\"near_max\": 1.0, \"near_min\": 0.5}, {\"near_max\": 1.0, \"near_min\": 0.5}, {\"near_max\": 1.0, \"near_min\": 0.5}, {\"near_max\": 1.0, \"near_min\": 0.5}, {\"near_max\": 1.0, \"near_min\": 0.5}, {\"near_max\": 1.0, \"near_min\": 0.5}, {\"near_max\": 1.0, \"near_min\": 0.5}, {\"near_max\": 1.0, \"near_min\": 0.5}, {\"near_max\": 1.0, \"near_min\": 0.5}, {\"near_max\": 1.0, \"near_min\": 0.5}, {\"near_max\": 1.0, \"near_min\": 0.5}, {\"near_max\": 1.0, \"near_min\": 0.5}, {\"near_max\": 1.0, \"near_min\": 0.5}, {\"near_max\": 1.0, \"near_min\": 0.5}, {\"near_max\": 1.0, \"near_min\": 0.5}, {\"near_max\": 1.0, \"near_min\": 0.5}, {\"near_max\": 1.0, \"near_min\": 0.5}, {\"near_max\": 1.0, \"near_min\": 0.5}, {\"near_max\": 1.0, \"near_min\": 0.5}, {\"near_max\": 1.0, \"near_min\": 0.5}, {\"near_max\": 1.0, \"near_min\": 0.5}, {\"near_max\": 1.0, \"near_min\": 0.5}, {\"near_max\": 1.0, \"near_min\": 0.5}, {\"near_max\": 1.0, \"near_min\": 0.5}, {\"near_max\": 1.0, \"near_min\": 0.5}, {\"near_max\": 1.0, \"near_min\": 0.5}, {\"near_max\": 1.0, \"near_min\": 0.5}, {\"near_max\": 1.0, \"near_min\": 0.5}, {\"near_max\": 1.0, \"near_min\": 0.5}, {\"near_max\": 0.83, \"near_min\": 0.5}, {\"near_max\": 0.67, \"near_min\": 0.5}, {\"near_max\": 1.0, \"near_min\": 0.5}, {\"near_max\": 1.0, \"near_min\": 0.5}, {\"near_max\": 0.83, \"near_min\": 0.5}, {\"near_max\": 0.83, \"near_min\": 0.5}, {\"near_max\": 0.67, \"near_min\": 0.5}, {\"near_max\": 0.67, \"near_min\": 0.5}, {\"near_max\": 0.67, \"near_min\": 0.5}, {\"near_max\": 0.67, \"near_min\": 0.5}, {\"near_max\": 0.67, \"near_min\": 0.5}, {\"near_max\": 0.67, \"near_min\": 0.5}, {\"near_max\": 0.67, \"near_min\": 0.5}, {\"near_max\": 0.67, \"near_min\": 0.5}, {\"near_max\": 0.67, \"near_min\": 0.5}, {\"near_max\": 0.67, \"near_min\": 0.5}, {\"near_max\": 0.67, \"near_min\": 0.5}, {\"near_max\": 0.67, \"near_min\": 0.5}, {\"near_max\": 0.83, \"near_min\": 0.5}, {\"near_max\": 0.67, \"near_min\": 0.5}, {\"near_max\": 0.83, \"near_min\": 0.5}, {\"near_max\": 0.67, \"near_min\": 0.5}, {\"near_max\": 0.83, \"near_min\": 0.5}, {\"near_max\": 0.67, \"near_min\": 0.5}, {\"near_max\": 0.8, \"near_min\": 0.6}, {\"near_max\": 0.8, \"near_min\": 0.6}, {\"near_max\": 0.67, \"near_min\": 0.5}, {\"near_max\": 0.67, \"near_min\": 0.5}, {\"near_max\": 0.67, \"near_min\": 0.5}, {\"near_max\": 0.67, \"near_min\": 0.5}, {\"near_max\": 0.67, \"near_min\": 0.5}, {\"near_max\": 0.67, \"near_min\": 0.5}, {\"near_max\": 0.67, \"near_min\": 0.5}, {\"near_max\": 0.67, \"near_min\": 0.5}, {\"near_max\": 0.67, \"near_min\": 0.5}, {\"near_max\": 0.67, \"near_min\": 0.5}, {\"near_max\": 0.67, \"near_min\": 0.5}, {\"near_max\": 0.67, \"near_min\": 0.5}, {\"near_max\": 0.67, \"near_min\": 0.5}, {\"near_max\": 0.67, \"near_min\": 0.5}, {\"near_max\": 0.67, \"near_min\": 0.5}, {\"near_max\": 0.5, \"near_min\": 0.5}, {\"near_max\": 0.67, \"near_min\": 0.5}, {\"near_max\": 0.5, \"near_min\": 0.5}, {\"near_max\": 0.5, \"near_min\": 0.5}, {\"near_max\": 0.5, \"near_min\": 0.5}, {\"near_max\": 0.33, \"near_min\": 0.5}, {\"near_max\": 0.33, \"near_min\": 0.5}, {\"near_max\": 0.33, \"near_min\": 0.5}, {\"near_max\": 0.33, \"near_min\": 0.5}, {\"near_max\": 0.33, \"near_min\": 0.5}, {\"near_max\": 0.33, \"near_min\": 0.5}, {\"near_max\": 0.33, \"near_min\": 0.5}, {\"near_max\": 0.33, \"near_min\": 0.5}, {\"near_max\": 0.5, \"near_min\": 0.5}, {\"near_max\": 0.33, \"near_min\": 0.5}, {\"near_max\": 0.5, \"near_min\": 0.5}, {\"near_max\": 0.67, \"near_min\": 0.5}, {\"near_max\": 0.67, \"near_min\": 0.5}, {\"near_max\": 0.5, \"near_min\": 0.67}, {\"near_max\": 0.5, \"near_min\": 0.67}, {\"near_max\": 0.5, \"near_min\": 0.5}, {\"near_max\": 0.67, \"near_min\": 0.5}, {\"near_max\": 0.67, \"near_min\": 0.5}, {\"near_max\": 0.67, \"near_min\": 0.5}, {\"near_max\": 0.5, \"near_min\": 0.33}, {\"near_max\": 0.67, \"near_min\": 0.33}, {\"near_max\": 0.67, \"near_min\": 0.5}, {\"near_max\": 0.5, \"near_min\": 0.5}, {\"near_max\": 0.5, \"near_min\": 0.5}, {\"near_max\": 0.67, \"near_min\": 0.33}, {\"near_max\": 0.67, \"near_min\": 0.5}, {\"near_max\": 0.67, \"near_min\": 0.5}, {\"near_max\": 0.67, \"near_min\": 0.5}, {\"near_max\": 0.83, \"near_min\": 0.5}, {\"near_max\": 0.67, \"near_min\": 0.33}, {\"near_max\": 0.83, \"near_min\": 0.5}, {\"near_max\": 0.83, \"near_min\": 0.5}, {\"near_max\": 0.83, \"near_min\": 0.5}, {\"near_max\": 0.67, \"near_min\": 0.5}, {\"near_max\": 0.67, \"near_min\": 0.5}, {\"near_max\": 0.67, \"near_min\": 0.5}, {\"near_max\": 0.67, \"near_min\": 0.5}, {\"near_max\": 0.83, \"near_min\": 0.33}, {\"near_max\": 0.67, \"near_min\": 0.5}, {\"near_max\": 0.67, \"near_min\": 0.33}, {\"near_max\": 0.67, \"near_min\": 0.33}, {\"near_max\": 0.67, \"near_min\": 0.5}, {\"near_max\": 0.67, \"near_min\": 0.33}, {\"near_max\": 0.67, \"near_min\": 0.5}, {\"near_max\": 0.67, \"near_min\": 0.33}, {\"near_max\": 0.67, \"near_min\": 0.5}, {\"near_max\": 0.67, \"near_min\": 0.33}, {\"near_max\": 0.83, \"near_min\": 0.5}, {\"near_max\": 0.83, \"near_min\": 0.33}, {\"near_max\": 0.83, \"near_min\": 0.33}, {\"near_max\": 0.83, \"near_min\": 0.33}, {\"near_max\": 0.83, \"near_min\": 0.5}, {\"near_max\": 0.67, \"near_min\": 0.5}, {\"near_max\": 0.83, \"near_min\": 0.5}, {\"near_max\": 0.83, \"near_min\": 0.33}, {\"near_max\": 0.83, \"near_min\": 0.33}, {\"near_max\": 0.83, \"near_min\": 0.33}, {\"near_max\": 0.67, \"near_min\": 0.5}, {\"near_max\": 0.83, \"near_min\": 0.33}, {\"near_max\": 0.83, \"near_min\": 0.5}, {\"near_max\": 0.83, \"near_min\": 0.33}, {\"near_max\": 0.83, \"near_min\": 0.5}, {\"near_max\": 0.83, \"near_min\": 0.33}, {\"near_max\": 0.67, \"near_min\": 0.5}, {\"near_max\": 0.67, \"near_min\": 0.67}, {\"near_max\": 0.83, \"near_min\": 0.5}, {\"near_max\": 0.83, \"near_min\": 0.67}, {\"near_max\": 0.67, \"near_min\": 0.67}, {\"near_max\": 0.83, \"near_min\": 0.67}, {\"near_max\": 0.83, \"near_min\": 0.5}, {\"near_max\": 0.83, \"near_min\": 0.5}, {\"near_max\": 0.83, \"near_min\": 0.5}, {\"near_max\": 0.83, \"near_min\": 0.5}, {\"near_max\": 0.83, \"near_min\": 0.5}, {\"near_max\": 0.83, \"near_min\": 0.5}, {\"near_max\": 0.83, \"near_min\": 0.5}, {\"near_max\": 0.83, \"near_min\": 0.5}, {\"near_max\": 0.83, \"near_min\": 0.67}, {\"near_max\": 0.83, \"near_min\": 0.5}, {\"near_max\": 0.83, \"near_min\": 0.67}, {\"near_max\": 0.83, \"near_min\": 0.5}, {\"near_max\": 0.83, \"near_min\": 0.67}, {\"near_max\": 0.83, \"near_min\": 0.67}, {\"near_max\": 0.83, \"near_min\": 0.67}, {\"near_max\": 0.83, \"near_min\": 0.67}, {\"near_max\": 0.83, \"near_min\": 0.67}, {\"near_max\": 0.83, \"near_min\": 0.67}, {\"near_max\": 0.83, \"near_min\": 0.67}, {\"near_max\": 0.83, \"near_min\": 0.67}, {\"near_max\": 0.83, \"near_min\": 0.67}, {\"near_max\": 0.83, \"near_min\": 0.67}, {\"near_max\": 0.67, \"near_min\": 0.67}, {\"near_max\": 0.83, \"near_min\": 0.67}, {\"near_max\": 0.67, \"near_min\": 0.67}, {\"near_max\": 0.5, \"near_min\": 0.67}, {\"near_max\": 0.67, \"near_min\": 0.67}, {\"near_max\": 0.67, \"near_min\": 0.67}, {\"near_max\": 0.5, \"near_min\": 0.67}, {\"near_max\": 0.5, \"near_min\": 0.67}, {\"near_max\": 0.67, \"near_min\": 0.67}, {\"near_max\": 0.67, \"near_min\": 0.67}, {\"near_max\": 0.67, \"near_min\": 0.67}, {\"near_max\": 0.6, \"near_min\": 0.6}, {\"near_max\": 0.83, \"near_min\": 0.67}, {\"near_max\": 0.5, \"near_min\": 0.67}, {\"near_max\": 0.5, \"near_min\": 0.67}, {\"near_max\": 0.67, \"near_min\": 0.67}, {\"near_max\": 0.5, \"near_min\": 0.67}, {\"near_max\": 0.67, \"near_min\": 0.67}, {\"near_max\": 0.67, \"near_min\": 0.67}, {\"near_max\": 0.67, \"near_min\": 0.67}, {\"near_max\": 0.67, \"near_min\": 0.67}, {\"near_max\": 0.67, \"near_min\": 0.67}, {\"near_max\": 0.83, \"near_min\": 0.67}, {\"near_max\": 0.83, \"near_min\": 0.67}, {\"near_max\": 0.67, \"near_min\": 0.67}, {\"near_max\": 0.67, \"near_min\": 0.67}, {\"near_max\": 0.67, \"near_min\": 0.67}, {\"near_max\": 0.67, \"near_min\": 0.67}, {\"near_max\": 0.83, \"near_min\": 0.67}, {\"near_max\": 0.67, \"near_min\": 0.67}, {\"near_max\": 0.83, \"near_min\": 0.67}, {\"near_max\": 0.67, \"near_min\": 0.67}, {\"near_max\": 0.83, \"near_min\": 0.67}, {\"near_max\": 0.83, \"near_min\": 0.67}, {\"near_max\": 1.0, \"near_min\": 0.4}, {\"near_max\": 0.67, \"near_min\": 0.5}, {\"near_max\": 0.83, \"near_min\": 0.67}, {\"near_max\": 0.83, \"near_min\": 0.67}, {\"near_max\": 0.83, \"near_min\": 0.67}, {\"near_max\": 0.67, \"near_min\": 0.67}, {\"near_max\": 0.83, \"near_min\": 0.67}, {\"near_max\": 0.83, \"near_min\": 0.5}, {\"near_max\": 0.83, \"near_min\": 0.67}, {\"near_max\": 0.67, \"near_min\": 0.5}, {\"near_max\": 0.67, \"near_min\": 0.5}, {\"near_max\": 0.67, \"near_min\": 0.67}, {\"near_max\": 0.67, \"near_min\": 0.5}, {\"near_max\": 0.67, \"near_min\": 0.5}, {\"near_max\": 0.67, \"near_min\": 0.67}, {\"near_max\": 0.67, \"near_min\": 0.67}, {\"near_max\": 0.67, \"near_min\": 0.67}, {\"near_max\": 0.67, \"near_min\": 0.5}, {\"near_max\": 0.67, \"near_min\": 0.67}, {\"near_max\": 0.67, \"near_min\": 0.67}, {\"near_max\": 0.67, \"near_min\": 0.67}, {\"near_max\": 0.67, \"near_min\": 0.67}, {\"near_max\": 0.67, \"near_min\": 0.5}, {\"near_max\": 0.67, \"near_min\": 0.67}, {\"near_max\": 0.67, \"near_min\": 0.67}, {\"near_max\": 0.67, \"near_min\": 0.5}, {\"near_max\": 0.67, \"near_min\": 0.67}, {\"near_max\": 0.67, \"near_min\": 0.67}, {\"near_max\": 0.67, \"near_min\": 0.5}, {\"near_max\": 0.83, \"near_min\": 0.67}, {\"near_max\": 0.67, \"near_min\": 0.67}, {\"near_max\": 0.67, \"near_min\": 0.83}, {\"near_max\": 0.67, \"near_min\": 0.83}, {\"near_max\": 0.67, \"near_min\": 0.83}, {\"near_max\": 0.67, \"near_min\": 0.67}, {\"near_max\": 0.67, \"near_min\": 0.83}, {\"near_max\": 0.5, \"near_min\": 0.83}, {\"near_max\": 0.67, \"near_min\": 0.83}, {\"near_max\": 0.5, \"near_min\": 0.83}, {\"near_max\": 0.67, \"near_min\": 1.0}, {\"near_max\": 0.67, \"near_min\": 1.0}, {\"near_max\": 0.67, \"near_min\": 0.83}, {\"near_max\": 0.67, \"near_min\": 0.83}, {\"near_max\": 0.67, \"near_min\": 0.67}, {\"near_max\": 0.8, \"near_min\": 0.8}, {\"near_max\": 0.5, \"near_min\": 0.83}, {\"near_max\": 0.67, \"near_min\": 0.83}, {\"near_max\": 0.67, \"near_min\": 0.83}, {\"near_max\": 0.67, \"near_min\": 0.83}, {\"near_max\": 0.67, \"near_min\": 0.83}, {\"near_max\": 0.67, \"near_min\": 0.83}, {\"near_max\": 0.67, \"near_min\": 0.83}, {\"near_max\": 0.67, \"near_min\": 0.83}, {\"near_max\": 0.67, \"near_min\": 0.83}, {\"near_max\": 0.67, \"near_min\": 0.83}, {\"near_max\": 0.67, \"near_min\": 1.0}, {\"near_max\": 0.67, \"near_min\": 1.0}, {\"near_max\": 0.67, \"near_min\": 1.0}, {\"near_max\": 0.67, \"near_min\": 1.0}, {\"near_max\": 0.67, \"near_min\": 1.0}, {\"near_max\": 0.67, \"near_min\": 1.0}, {\"near_max\": 0.67, \"near_min\": 1.0}, {\"near_max\": 0.67, \"near_min\": 1.0}, {\"near_max\": 0.67, \"near_min\": 1.0}, {\"near_max\": 0.67, \"near_min\": 0.83}, {\"near_max\": 0.67, \"near_min\": 0.83}, {\"near_max\": 0.67, \"near_min\": 1.0}, {\"near_max\": 0.67, \"near_min\": 1.0}, {\"near_max\": 0.67, \"near_min\": 1.0}, {\"near_max\": 0.67, \"near_min\": 1.0}, {\"near_max\": 0.67, \"near_min\": 0.83}, {\"near_max\": 0.67, \"near_min\": 1.0}, {\"near_max\": 0.67, \"near_min\": 1.0}, {\"near_max\": 0.67, \"near_min\": 1.0}, {\"near_max\": 0.67, \"near_min\": 1.0}, {\"near_max\": 0.67, \"near_min\": 0.83}, {\"near_max\": 0.67, \"near_min\": 0.83}, {\"near_max\": 0.67, \"near_min\": 1.0}, {\"near_max\": 0.67, \"near_min\": 0.83}, {\"near_max\": 0.67, \"near_min\": 1.0}, {\"near_max\": 0.67, \"near_min\": 1.0}, {\"near_max\": 0.67, \"near_min\": 1.0}, {\"near_max\": 0.67, \"near_min\": 1.0}, {\"near_max\": 0.8, \"near_min\": 1.0}, {\"near_max\": 0.67, \"near_min\": 1.0}, {\"near_max\": 0.67, \"near_min\": 1.0}, {\"near_max\": 0.67, \"near_min\": 1.0}, {\"near_max\": 0.67, \"near_min\": 1.0}, {\"near_max\": 0.67, \"near_min\": 1.0}, {\"near_max\": 0.67, \"near_min\": 1.0}, {\"near_max\": 0.67, \"near_min\": 1.0}, {\"near_max\": 0.67, \"near_min\": 0.83}, {\"near_max\": 0.67, \"near_min\": 1.0}, {\"near_max\": 0.67, \"near_min\": 1.0}, {\"near_max\": 0.67, \"near_min\": 0.83}, {\"near_max\": 0.67, \"near_min\": 1.0}, {\"near_max\": 0.67, \"near_min\": 0.83}, {\"near_max\": 0.67, \"near_min\": 0.83}, {\"near_max\": 0.67, \"near_min\": 0.83}, {\"near_max\": 0.67, \"near_min\": 0.83}, {\"near_max\": 0.67, \"near_min\": 0.83}, {\"near_max\": 0.67, \"near_min\": 0.83}, {\"near_max\": 0.67, \"near_min\": 0.83}, {\"near_max\": 0.67, \"near_min\": 0.83}, {\"near_max\": 0.67, \"near_min\": 0.83}, {\"near_max\": 0.67, \"near_min\": 0.83}, {\"near_max\": 0.67, \"near_min\": 0.83}, {\"near_max\": 0.67, \"near_min\": 0.83}, {\"near_max\": 0.67, \"near_min\": 0.83}, {\"near_max\": 0.67, \"near_min\": 0.83}, {\"near_max\": 0.67, \"near_min\": 0.83}, {\"near_max\": 0.67, \"near_min\": 0.83}, {\"near_max\": 0.67, \"near_min\": 0.83}, {\"near_max\": 0.67, \"near_min\": 0.83}, {\"near_max\": 0.67, \"near_min\": 0.83}, {\"near_max\": 0.67, \"near_min\": 0.83}, {\"near_max\": 0.67, \"near_min\": 0.83}, {\"near_max\": 0.67, \"near_min\": 0.67}, {\"near_max\": 0.67, \"near_min\": 0.67}, {\"near_max\": 0.83, \"near_min\": 0.67}, {\"near_max\": 0.67, \"near_min\": 0.67}, {\"near_max\": 0.83, \"near_min\": 0.5}, {\"near_max\": 0.83, \"near_min\": 0.33}, {\"near_max\": 0.83, \"near_min\": 0.5}, {\"near_max\": 0.83, \"near_min\": 0.33}, {\"near_max\": 0.83, \"near_min\": 0.5}, {\"near_max\": 0.67, \"near_min\": 0.5}, {\"near_max\": 0.83, \"near_min\": 0.33}, {\"near_max\": 0.83, \"near_min\": 0.33}, {\"near_max\": 0.83, \"near_min\": 0.33}, {\"near_max\": 0.83, \"near_min\": 0.5}, {\"near_max\": 0.83, \"near_min\": 0.33}, {\"near_max\": 0.83, \"near_min\": 0.33}, {\"near_max\": 0.83, \"near_min\": 0.33}, {\"near_max\": 0.83, \"near_min\": 0.33}, {\"near_max\": 0.83, \"near_min\": 0.33}, {\"near_max\": 0.83, \"near_min\": 0.5}, {\"near_max\": 0.83, \"near_min\": 0.5}, {\"near_max\": 0.83, \"near_min\": 0.67}, {\"near_max\": 0.83, \"near_min\": 0.67}, {\"near_max\": 0.83, \"near_min\": 0.5}, {\"near_max\": 0.83, \"near_min\": 0.67}, {\"near_max\": 0.83, \"near_min\": 0.33}, {\"near_max\": 0.83, \"near_min\": 0.67}, {\"near_max\": 0.83, \"near_min\": 0.33}, {\"near_max\": 0.83, \"near_min\": 0.5}, {\"near_max\": 0.83, \"near_min\": 0.33}, {\"near_max\": 0.83, \"near_min\": 0.67}, {\"near_max\": 0.83, \"near_min\": 0.67}, {\"near_max\": 0.83, \"near_min\": 0.67}, {\"near_max\": 0.83, \"near_min\": 0.67}, {\"near_max\": 0.83, \"near_min\": 0.67}, {\"near_max\": 0.83, \"near_min\": 0.67}, {\"near_max\": 0.83, \"near_min\": 0.67}, {\"near_max\": 0.83, \"near_min\": 0.67}, {\"near_max\": 0.83, \"near_min\": 0.67}, {\"near_max\": 0.83, \"near_min\": 0.67}, {\"near_max\": 0.83, \"near_min\": 0.67}, {\"near_max\": 0.83, \"near_min\": 0.67}, {\"near_max\": 0.83, \"near_min\": 0.67}, {\"near_max\": 0.83, \"near_min\": 0.67}, {\"near_max\": 0.83, \"near_min\": 0.67}, {\"near_max\": 0.83, \"near_min\": 0.5}, {\"near_max\": 0.83, \"near_min\": 0.5}, {\"near_max\": 0.83, \"near_min\": 0.5}, {\"near_max\": 0.67, \"near_min\": 0.67}, {\"near_max\": 0.67, \"near_min\": 0.83}, {\"near_max\": 0.67, \"near_min\": 0.5}, {\"near_max\": 0.83, \"near_min\": 0.5}, {\"near_max\": 0.83, \"near_min\": 0.5}, {\"near_max\": 0.83, \"near_min\": 0.67}, {\"near_max\": 0.67, \"near_min\": 0.67}, {\"near_max\": 0.67, \"near_min\": 0.83}, {\"near_max\": 0.5, \"near_min\": 0.83}, {\"near_max\": 0.5, \"near_min\": 0.83}, {\"near_max\": 0.67, \"near_min\": 0.83}, {\"near_max\": 0.67, \"near_min\": 0.83}, {\"near_max\": 0.67, \"near_min\": 0.67}, {\"near_max\": 0.67, \"near_min\": 0.83}, {\"near_max\": 0.67, \"near_min\": 0.83}, {\"near_max\": 0.33, \"near_min\": 1.0}, {\"near_max\": 0.67, \"near_min\": 0.83}, {\"near_max\": 0.33, \"near_min\": 1.0}, {\"near_max\": 0.0, \"near_min\": 1.0}, {\"near_max\": 0.0, \"near_min\": 1.0}, {\"near_max\": 0.0, \"near_min\": 1.0}, {\"near_max\": 0.0, \"near_min\": 1.0}, {\"near_max\": 0.0, \"near_min\": 1.0}, {\"near_max\": 0.0, \"near_min\": 1.0}, {\"near_max\": 0.0, \"near_min\": 1.0}, {\"near_max\": 0.0, \"near_min\": 0.83}, {\"near_max\": 0.17, \"near_min\": 0.83}, {\"near_max\": 0.0, \"near_min\": 0.83}, {\"near_max\": 0.17, \"near_min\": 0.67}, {\"near_max\": 0.0, \"near_min\": 0.67}, {\"near_max\": 0.17, \"near_min\": 0.67}, {\"near_max\": 0.17, \"near_min\": 0.5}, {\"near_max\": 0.17, \"near_min\": 0.67}, {\"near_max\": 0.17, \"near_min\": 0.67}, {\"near_max\": 0.17, \"near_min\": 0.67}, {\"near_max\": 0.33, \"near_min\": 0.67}, {\"near_max\": 0.17, \"near_min\": 0.67}, {\"near_max\": 0.33, \"near_min\": 0.5}, {\"near_max\": 0.33, \"near_min\": 0.33}, {\"near_max\": 0.33, \"near_min\": 0.5}, {\"near_max\": 0.33, \"near_min\": 0.5}, {\"near_max\": 0.33, \"near_min\": 0.5}, {\"near_max\": 0.33, \"near_min\": 0.17}, {\"near_max\": 0.33, \"near_min\": 0.33}, {\"near_max\": 0.33, \"near_min\": 0.33}, {\"near_max\": 0.33, \"near_min\": 0.33}, {\"near_max\": 0.33, \"near_min\": 0.33}, {\"near_max\": 0.33, \"near_min\": 0.5}, {\"near_max\": 0.33, \"near_min\": 0.33}, {\"near_max\": 0.33, \"near_min\": 0.0}, {\"near_max\": 0.33, \"near_min\": 0.17}, {\"near_max\": 0.33, \"near_min\": 0.17}, {\"near_max\": 0.33, \"near_min\": 0.17}, {\"near_max\": 0.33, \"near_min\": 0.17}, {\"near_max\": 0.17, \"near_min\": 0.33}, {\"near_max\": 0.33, \"near_min\": 0.33}, {\"near_max\": 0.17, \"near_min\": 0.33}, {\"near_max\": 0.17, \"near_min\": 0.33}, {\"near_max\": 0.17, \"near_min\": 0.17}, {\"near_max\": 0.17, \"near_min\": 0.17}, {\"near_max\": 0.17, \"near_min\": 0.17}, {\"near_max\": 0.17, \"near_min\": 0.17}, {\"near_max\": 0.33, \"near_min\": 0.33}, {\"near_max\": 0.33, \"near_min\": 0.5}, {\"near_max\": 0.33, \"near_min\": 0.33}, {\"near_max\": 0.33, \"near_min\": 0.17}, {\"near_max\": 0.17, \"near_min\": 0.33}, {\"near_max\": 0.17, \"near_min\": 0.33}, {\"near_max\": 0.17, \"near_min\": 0.33}, {\"near_max\": 0.17, \"near_min\": 0.33}, {\"near_max\": 0.5, \"near_min\": 0.33}, {\"near_max\": 0.33, \"near_min\": 0.17}, {\"near_max\": 0.33, \"near_min\": 0.17}, {\"near_max\": 0.5, \"near_min\": 0.17}, {\"near_max\": 0.5, \"near_min\": 0.33}, {\"near_max\": 0.5, \"near_min\": 0.17}, {\"near_max\": 0.67, \"near_min\": 0.0}, {\"near_max\": 0.67, \"near_min\": 0.0}, {\"near_max\": 0.5, \"near_min\": 0.0}, {\"near_max\": 0.5, \"near_min\": 0.17}, {\"near_max\": 0.5, \"near_min\": 0.17}, {\"near_max\": 0.33, \"near_min\": 0.17}, {\"near_max\": 0.33, \"near_min\": 0.17}, {\"near_max\": 0.33, \"near_min\": 0.17}, {\"near_max\": 0.33, \"near_min\": 0.17}, {\"near_max\": 0.33, \"near_min\": 0.17}, {\"near_max\": 0.33, \"near_min\": 0.17}, {\"near_max\": 0.33, \"near_min\": 0.17}, {\"near_max\": 0.33, \"near_min\": 0.17}, {\"near_max\": 0.33, \"near_min\": 0.17}, {\"near_max\": 0.33, \"near_min\": 0.17}, {\"near_max\": 0.33, \"near_min\": 0.17}, {\"near_max\": 0.33, \"near_min\": 0.17}, {\"near_max\": 0.17, \"near_min\": 0.17}, {\"near_max\": 0.33, \"near_min\": 0.17}, {\"near_max\": 0.5, \"near_min\": 0.17}, {\"near_max\": 0.33, \"near_min\": 0.17}, {\"near_max\": 0.5, \"near_min\": 0.17}, {\"near_max\": 0.33, \"near_min\": 0.17}, {\"near_max\": 0.5, \"near_min\": 0.17}, {\"near_max\": 0.33, \"near_min\": 0.17}, {\"near_max\": 0.33, \"near_min\": 0.17}, {\"near_max\": 0.33, \"near_min\": 0.17}, {\"near_max\": 0.5, \"near_min\": 0.17}, {\"near_max\": 0.5, \"near_min\": 0.17}, {\"near_max\": 0.33, \"near_min\": 0.17}, {\"near_max\": 0.33, \"near_min\": 0.17}, {\"near_max\": 0.5, \"near_min\": 0.17}, {\"near_max\": 0.5, \"near_min\": 0.17}, {\"near_max\": 0.5, \"near_min\": 0.17}, {\"near_max\": 0.33, \"near_min\": 0.17}, {\"near_max\": 0.5, \"near_min\": 0.17}, {\"near_max\": 0.5, \"near_min\": 0.17}, {\"near_max\": 0.5, \"near_min\": 0.17}, {\"near_max\": 0.33, \"near_min\": 0.17}, {\"near_max\": 0.5, \"near_min\": 0.17}, {\"near_max\": 0.67, \"near_min\": 0.17}, {\"near_max\": 0.83, \"near_min\": 0.17}, {\"near_max\": 0.67, \"near_min\": 0.17}, {\"near_max\": 0.83, \"near_min\": 0.17}, {\"near_max\": 0.67, \"near_min\": 0.17}, {\"near_max\": 0.67, \"near_min\": 0.17}, {\"near_max\": 0.67, \"near_min\": 0.17}, {\"near_max\": 0.67, \"near_min\": 0.17}, {\"near_max\": 0.83, \"near_min\": 0.17}, {\"near_max\": 0.67, \"near_min\": 0.17}, {\"near_max\": 0.67, \"near_min\": 0.17}, {\"near_max\": 0.67, \"near_min\": 0.0}, {\"near_max\": 0.83, \"near_min\": 0.0}, {\"near_max\": 0.83, \"near_min\": 0.0}, {\"near_max\": 0.83, \"near_min\": 0.0}, {\"near_max\": 0.67, \"near_min\": 0.0}, {\"near_max\": 0.67, \"near_min\": 0.0}, {\"near_max\": 0.67, \"near_min\": 0.0}, {\"near_max\": 0.83, \"near_min\": 0.0}, {\"near_max\": 0.67, \"near_min\": 0.0}, {\"near_max\": 0.67, \"near_min\": 0.0}, {\"near_max\": 0.5, \"near_min\": 0.0}, {\"near_max\": 0.67, \"near_min\": 0.0}, {\"near_max\": 0.67, \"near_min\": 0.0}, {\"near_max\": 0.67, \"near_min\": 0.0}, {\"near_max\": 0.67, \"near_min\": 0.0}, {\"near_max\": 0.5, \"near_min\": 0.0}, {\"near_max\": 0.67, \"near_min\": 0.0}, {\"near_max\": 0.67, \"near_min\": 0.0}, {\"near_max\": 0.67, \"near_min\": 0.0}, {\"near_max\": 0.67, \"near_min\": 0.17}, {\"near_max\": 0.5, \"near_min\": 0.0}, {\"near_max\": 0.67, \"near_min\": 0.0}, {\"near_max\": 0.67, \"near_min\": 0.0}, {\"near_max\": 0.67, \"near_min\": 0.0}, {\"near_max\": 0.5, \"near_min\": 0.17}, {\"near_max\": 0.67, \"near_min\": 0.17}, {\"near_max\": 0.5, \"near_min\": 0.17}, {\"near_max\": 0.67, \"near_min\": 0.0}, {\"near_max\": 0.5, \"near_min\": 0.17}, {\"near_max\": 0.5, \"near_min\": 0.0}, {\"near_max\": 0.67, \"near_min\": 0.17}, {\"near_max\": 0.5, \"near_min\": 0.0}, {\"near_max\": 0.5, \"near_min\": 0.17}, {\"near_max\": 0.5, \"near_min\": 0.17}, {\"near_max\": 0.67, \"near_min\": 0.17}, {\"near_max\": 0.5, \"near_min\": 0.17}, {\"near_max\": 0.67, \"near_min\": 0.17}, {\"near_max\": 0.67, \"near_min\": 0.17}, {\"near_max\": 0.67, \"near_min\": 0.17}, {\"near_max\": 0.67, \"near_min\": 0.17}, {\"near_max\": 0.5, \"near_min\": 0.17}, {\"near_max\": 0.67, \"near_min\": 0.17}, {\"near_max\": 0.67, \"near_min\": 0.17}, {\"near_max\": 0.67, \"near_min\": 0.17}, {\"near_max\": 0.33, \"near_min\": 0.17}, {\"near_max\": 0.33, \"near_min\": 0.17}, {\"near_max\": 0.5, \"near_min\": 0.17}, {\"near_max\": 0.5, \"near_min\": 0.17}, {\"near_max\": 0.5, \"near_min\": 0.17}, {\"near_max\": 0.5, \"near_min\": 0.17}, {\"near_max\": 0.33, \"near_min\": 0.17}, {\"near_max\": 0.33, \"near_min\": 0.17}, {\"near_max\": 0.33, \"near_min\": 0.17}, {\"near_max\": 0.33, \"near_min\": 0.17}, {\"near_max\": 0.33, \"near_min\": 0.17}, {\"near_max\": 0.33, \"near_min\": 0.17}, {\"near_max\": 0.67, \"near_min\": 0.17}, {\"near_max\": 0.5, \"near_min\": 0.17}, {\"near_max\": 0.67, \"near_min\": 0.17}, {\"near_max\": 0.5, \"near_min\": 0.17}, {\"near_max\": 0.67, \"near_min\": 0.17}, {\"near_max\": 0.67, \"near_min\": 0.17}, {\"near_max\": 0.67, \"near_min\": 0.17}, {\"near_max\": 0.67, \"near_min\": 0.17}, {\"near_max\": 0.67, \"near_min\": 0.17}, {\"near_max\": 0.67, \"near_min\": 0.17}, {\"near_max\": 0.67, \"near_min\": 0.17}, {\"near_max\": 0.67, \"near_min\": 0.17}, {\"near_max\": 0.71, \"near_min\": 0.29}, {\"near_max\": 0.71, \"near_min\": 0.29}, {\"near_max\": 0.71, \"near_min\": 0.29}, {\"near_max\": 0.71, \"near_min\": 0.29}, {\"near_max\": 0.71, \"near_min\": 0.29}, {\"near_max\": 0.71, \"near_min\": 0.29}, {\"near_max\": 0.71, \"near_min\": 0.14}, {\"near_max\": 0.71, \"near_min\": 0.29}, {\"near_max\": 0.71, \"near_min\": 0.14}, {\"near_max\": 0.71, \"near_min\": 0.29}, {\"near_max\": 0.71, \"near_min\": 0.29}, {\"near_max\": 0.71, \"near_min\": 0.14}, {\"near_max\": 0.71, \"near_min\": 0.29}, {\"near_max\": 0.71, \"near_min\": 0.0}, {\"near_max\": 0.71, \"near_min\": 0.0}, {\"near_max\": 0.71, \"near_min\": 0.14}, {\"near_max\": 0.57, \"near_min\": 0.14}, {\"near_max\": 0.57, \"near_min\": 0.14}, {\"near_max\": 0.71, \"near_min\": 0.14}, {\"near_max\": 0.71, \"near_min\": 0.14}, {\"near_max\": 0.71, \"near_min\": 0.14}, {\"near_max\": 0.71, \"near_min\": 0.14}, {\"near_max\": 0.71, \"near_min\": 0.14}, {\"near_max\": 0.71, \"near_min\": 0.14}, {\"near_max\": 0.71, \"near_min\": 0.14}, {\"near_max\": 0.71, \"near_min\": 0.14}, {\"near_max\": 0.71, \"near_min\": 0.14}, {\"near_max\": 0.71, \"near_min\": 0.14}]}}, {\"mode\": \"vega-lite\"});\n",
       "</script>"
      ],
      "text/plain": [
       "alt.Chart(...)"
      ]
     },
     "execution_count": 68,
     "metadata": {},
     "output_type": "execute_result"
    }
   ],
   "source": [
    "alt.Chart(df_res).mark_line().encode(x='date:T', y='near_min:Q')"
   ]
  },
  {
   "cell_type": "code",
   "execution_count": 87,
   "metadata": {},
   "outputs": [
    {
     "data": {
      "text/html": [
       "\n",
       "<div id=\"altair-viz-65c72972858141cda3eee6612e678064\"></div>\n",
       "<script type=\"text/javascript\">\n",
       "  (function(spec, embedOpt){\n",
       "    let outputDiv = document.currentScript.previousElementSibling;\n",
       "    if (outputDiv.id !== \"altair-viz-65c72972858141cda3eee6612e678064\") {\n",
       "      outputDiv = document.getElementById(\"altair-viz-65c72972858141cda3eee6612e678064\");\n",
       "    }\n",
       "    const paths = {\n",
       "      \"vega\": \"https://cdn.jsdelivr.net/npm//vega@5?noext\",\n",
       "      \"vega-lib\": \"https://cdn.jsdelivr.net/npm//vega-lib?noext\",\n",
       "      \"vega-lite\": \"https://cdn.jsdelivr.net/npm//vega-lite@4.8.1?noext\",\n",
       "      \"vega-embed\": \"https://cdn.jsdelivr.net/npm//vega-embed@6?noext\",\n",
       "    };\n",
       "\n",
       "    function loadScript(lib) {\n",
       "      return new Promise(function(resolve, reject) {\n",
       "        var s = document.createElement('script');\n",
       "        s.src = paths[lib];\n",
       "        s.async = true;\n",
       "        s.onload = () => resolve(paths[lib]);\n",
       "        s.onerror = () => reject(`Error loading script: ${paths[lib]}`);\n",
       "        document.getElementsByTagName(\"head\")[0].appendChild(s);\n",
       "      });\n",
       "    }\n",
       "\n",
       "    function showError(err) {\n",
       "      outputDiv.innerHTML = `<div class=\"error\" style=\"color:red;\">${err}</div>`;\n",
       "      throw err;\n",
       "    }\n",
       "\n",
       "    function displayChart(vegaEmbed) {\n",
       "      vegaEmbed(outputDiv, spec, embedOpt)\n",
       "        .catch(err => showError(`Javascript Error: ${err.message}<br>This usually means there's a typo in your chart specification. See the javascript console for the full traceback.`));\n",
       "    }\n",
       "\n",
       "    if(typeof define === \"function\" && define.amd) {\n",
       "      requirejs.config({paths});\n",
       "      require([\"vega-embed\"], displayChart, err => showError(`Error loading script: ${err.message}`));\n",
       "    } else if (typeof vegaEmbed === \"function\") {\n",
       "      displayChart(vegaEmbed);\n",
       "    } else {\n",
       "      loadScript(\"vega\")\n",
       "        .then(() => loadScript(\"vega-lite\"))\n",
       "        .then(() => loadScript(\"vega-embed\"))\n",
       "        .catch(showError)\n",
       "        .then(() => displayChart(vegaEmbed));\n",
       "    }\n",
       "  })({\"config\": {\"view\": {\"continuousWidth\": 400, \"continuousHeight\": 300}}, \"data\": {\"name\": \"data-c7ce8f41dfd5424fd00b1ad86d7fca1d\"}, \"mark\": \"line\", \"encoding\": {\"color\": {\"type\": \"nominal\", \"field\": \"variable\"}, \"x\": {\"type\": \"temporal\", \"field\": \"date\"}, \"y\": {\"type\": \"quantitative\", \"field\": \"value\"}}, \"$schema\": \"https://vega.github.io/schema/vega-lite/v4.8.1.json\", \"datasets\": {\"data-c7ce8f41dfd5424fd00b1ad86d7fca1d\": [{\"date\": \"2018-01-03T00:00:00\", \"variable\": \"near_max\", \"value\": 0.6}, {\"date\": \"2018-01-04T00:00:00\", \"variable\": \"near_max\", \"value\": 0.6}, {\"date\": \"2018-01-05T00:00:00\", \"variable\": \"near_max\", \"value\": 0.8}, {\"date\": \"2018-01-08T00:00:00\", \"variable\": \"near_max\", \"value\": 0.8}, {\"date\": \"2018-01-09T00:00:00\", \"variable\": \"near_max\", \"value\": 0.8}, {\"date\": \"2018-01-10T00:00:00\", \"variable\": \"near_max\", \"value\": 0.8}, {\"date\": \"2018-01-11T00:00:00\", \"variable\": \"near_max\", \"value\": 0.8}, {\"date\": \"2018-01-12T00:00:00\", \"variable\": \"near_max\", \"value\": 1.0}, {\"date\": \"2018-01-16T00:00:00\", \"variable\": \"near_max\", \"value\": 1.0}, {\"date\": \"2018-01-17T00:00:00\", \"variable\": \"near_max\", \"value\": 1.0}, {\"date\": \"2018-01-18T00:00:00\", \"variable\": \"near_max\", \"value\": 1.0}, {\"date\": \"2018-01-19T00:00:00\", \"variable\": \"near_max\", \"value\": 1.0}, {\"date\": \"2018-01-22T00:00:00\", \"variable\": \"near_max\", \"value\": 1.0}, {\"date\": \"2018-01-23T00:00:00\", \"variable\": \"near_max\", \"value\": 1.0}, {\"date\": \"2018-01-24T00:00:00\", \"variable\": \"near_max\", \"value\": 1.0}, {\"date\": \"2018-01-25T00:00:00\", \"variable\": \"near_max\", \"value\": 1.0}, {\"date\": \"2018-01-26T00:00:00\", \"variable\": \"near_max\", \"value\": 1.0}, {\"date\": \"2018-01-29T00:00:00\", \"variable\": \"near_max\", \"value\": 1.0}, {\"date\": \"2018-01-30T00:00:00\", \"variable\": \"near_max\", \"value\": 1.0}, {\"date\": \"2018-01-31T00:00:00\", \"variable\": \"near_max\", \"value\": 1.0}, {\"date\": \"2018-02-01T00:00:00\", \"variable\": \"near_max\", \"value\": 1.0}, {\"date\": \"2018-02-02T00:00:00\", \"variable\": \"near_max\", \"value\": 1.0}, {\"date\": \"2018-02-05T00:00:00\", \"variable\": \"near_max\", \"value\": 0.8}, {\"date\": \"2018-02-06T00:00:00\", \"variable\": \"near_max\", \"value\": 0.6}, {\"date\": \"2018-02-07T00:00:00\", \"variable\": \"near_max\", \"value\": 0.6}, {\"date\": \"2018-02-08T00:00:00\", \"variable\": \"near_max\", \"value\": 0.6}, {\"date\": \"2018-02-09T00:00:00\", \"variable\": \"near_max\", \"value\": 0.8}, {\"date\": \"2018-02-12T00:00:00\", \"variable\": \"near_max\", \"value\": 0.8}, {\"date\": \"2018-02-13T00:00:00\", \"variable\": \"near_max\", \"value\": 0.83}, {\"date\": \"2018-02-14T00:00:00\", \"variable\": \"near_max\", \"value\": 0.67}, {\"date\": \"2018-02-15T00:00:00\", \"variable\": \"near_max\", \"value\": 0.83}, {\"date\": \"2018-02-16T00:00:00\", \"variable\": \"near_max\", \"value\": 1.0}, {\"date\": \"2018-02-20T00:00:00\", \"variable\": \"near_max\", \"value\": 0.83}, {\"date\": \"2018-02-21T00:00:00\", \"variable\": \"near_max\", \"value\": 0.83}, {\"date\": \"2018-02-22T00:00:00\", \"variable\": \"near_max\", \"value\": 0.67}, {\"date\": \"2018-02-23T00:00:00\", \"variable\": \"near_max\", \"value\": 0.8}, {\"date\": \"2018-02-26T00:00:00\", \"variable\": \"near_max\", \"value\": 1.0}, {\"date\": \"2018-02-27T00:00:00\", \"variable\": \"near_max\", \"value\": 0.83}, {\"date\": \"2018-02-28T00:00:00\", \"variable\": \"near_max\", \"value\": 0.67}, {\"date\": \"2018-03-01T00:00:00\", \"variable\": \"near_max\", \"value\": 0.83}, {\"date\": \"2018-03-02T00:00:00\", \"variable\": \"near_max\", \"value\": 0.67}, {\"date\": \"2018-03-05T00:00:00\", \"variable\": \"near_max\", \"value\": 0.5}, {\"date\": \"2018-03-06T00:00:00\", \"variable\": \"near_max\", \"value\": 0.5}, {\"date\": \"2018-03-07T00:00:00\", \"variable\": \"near_max\", \"value\": 0.5}, {\"date\": \"2018-03-08T00:00:00\", \"variable\": \"near_max\", \"value\": 0.5}, {\"date\": \"2018-03-09T00:00:00\", \"variable\": \"near_max\", \"value\": 0.83}, {\"date\": \"2018-03-12T00:00:00\", \"variable\": \"near_max\", \"value\": 0.67}, {\"date\": \"2018-03-13T00:00:00\", \"variable\": \"near_max\", \"value\": 0.67}, {\"date\": \"2018-03-14T00:00:00\", \"variable\": \"near_max\", \"value\": 0.5}, {\"date\": \"2018-03-15T00:00:00\", \"variable\": \"near_max\", \"value\": 0.5}, {\"date\": \"2018-03-16T00:00:00\", \"variable\": \"near_max\", \"value\": 0.67}, {\"date\": \"2018-03-19T00:00:00\", \"variable\": \"near_max\", \"value\": 0.67}, {\"date\": \"2018-03-20T00:00:00\", \"variable\": \"near_max\", \"value\": 0.67}, {\"date\": \"2018-03-21T00:00:00\", \"variable\": \"near_max\", \"value\": 0.67}, {\"date\": \"2018-03-22T00:00:00\", \"variable\": \"near_max\", \"value\": 0.5}, {\"date\": \"2018-03-23T00:00:00\", \"variable\": \"near_max\", \"value\": 0.67}, {\"date\": \"2018-03-26T00:00:00\", \"variable\": \"near_max\", \"value\": 0.67}, {\"date\": \"2018-03-27T00:00:00\", \"variable\": \"near_max\", \"value\": 0.5}, {\"date\": \"2018-03-28T00:00:00\", \"variable\": \"near_max\", \"value\": 0.5}, {\"date\": \"2018-03-29T00:00:00\", \"variable\": \"near_max\", \"value\": 0.67}, {\"date\": \"2018-04-02T00:00:00\", \"variable\": \"near_max\", \"value\": 0.5}, {\"date\": \"2018-04-03T00:00:00\", \"variable\": \"near_max\", \"value\": 0.33}, {\"date\": \"2018-04-04T00:00:00\", \"variable\": \"near_max\", \"value\": 0.67}, {\"date\": \"2018-04-05T00:00:00\", \"variable\": \"near_max\", \"value\": 0.67}, {\"date\": \"2018-04-06T00:00:00\", \"variable\": \"near_max\", \"value\": 0.4}, {\"date\": \"2018-04-09T00:00:00\", \"variable\": \"near_max\", \"value\": 0.5}, {\"date\": \"2018-04-10T00:00:00\", \"variable\": \"near_max\", \"value\": 0.67}, {\"date\": \"2018-04-11T00:00:00\", \"variable\": \"near_max\", \"value\": 0.5}, {\"date\": \"2018-04-12T00:00:00\", \"variable\": \"near_max\", \"value\": 0.67}, {\"date\": \"2018-04-13T00:00:00\", \"variable\": \"near_max\", \"value\": 0.83}, {\"date\": \"2018-04-16T00:00:00\", \"variable\": \"near_max\", \"value\": 0.83}, {\"date\": \"2018-04-17T00:00:00\", \"variable\": \"near_max\", \"value\": 0.83}, {\"date\": \"2018-04-18T00:00:00\", \"variable\": \"near_max\", \"value\": 0.83}, {\"date\": \"2018-04-19T00:00:00\", \"variable\": \"near_max\", \"value\": 0.83}, {\"date\": \"2018-04-20T00:00:00\", \"variable\": \"near_max\", \"value\": 0.67}, {\"date\": \"2018-04-23T00:00:00\", \"variable\": \"near_max\", \"value\": 0.83}, {\"date\": \"2018-04-24T00:00:00\", \"variable\": \"near_max\", \"value\": 0.67}, {\"date\": \"2018-04-25T00:00:00\", \"variable\": \"near_max\", \"value\": 0.67}, {\"date\": \"2018-04-26T00:00:00\", \"variable\": \"near_max\", \"value\": 0.67}, {\"date\": \"2018-04-27T00:00:00\", \"variable\": \"near_max\", \"value\": 0.83}, {\"date\": \"2018-04-30T00:00:00\", \"variable\": \"near_max\", \"value\": 0.67}, {\"date\": \"2018-05-01T00:00:00\", \"variable\": \"near_max\", \"value\": 0.83}, {\"date\": \"2018-05-02T00:00:00\", \"variable\": \"near_max\", \"value\": 0.67}, {\"date\": \"2018-05-03T00:00:00\", \"variable\": \"near_max\", \"value\": 0.67}, {\"date\": \"2018-05-04T00:00:00\", \"variable\": \"near_max\", \"value\": 0.6}, {\"date\": \"2018-05-07T00:00:00\", \"variable\": \"near_max\", \"value\": 0.67}, {\"date\": \"2018-05-08T00:00:00\", \"variable\": \"near_max\", \"value\": 0.83}, {\"date\": \"2018-05-09T00:00:00\", \"variable\": \"near_max\", \"value\": 0.67}, {\"date\": \"2018-05-10T00:00:00\", \"variable\": \"near_max\", \"value\": 0.67}, {\"date\": \"2018-05-11T00:00:00\", \"variable\": \"near_max\", \"value\": 0.83}, {\"date\": \"2018-05-14T00:00:00\", \"variable\": \"near_max\", \"value\": 0.83}, {\"date\": \"2018-05-15T00:00:00\", \"variable\": \"near_max\", \"value\": 0.83}, {\"date\": \"2018-05-16T00:00:00\", \"variable\": \"near_max\", \"value\": 0.83}, {\"date\": \"2018-05-17T00:00:00\", \"variable\": \"near_max\", \"value\": 0.83}, {\"date\": \"2018-05-18T00:00:00\", \"variable\": \"near_max\", \"value\": 0.83}, {\"date\": \"2018-05-21T00:00:00\", \"variable\": \"near_max\", \"value\": 0.67}, {\"date\": \"2018-05-22T00:00:00\", \"variable\": \"near_max\", \"value\": 0.83}, {\"date\": \"2018-05-23T00:00:00\", \"variable\": \"near_max\", \"value\": 0.83}, {\"date\": \"2018-05-24T00:00:00\", \"variable\": \"near_max\", \"value\": 0.83}, {\"date\": \"2018-05-25T00:00:00\", \"variable\": \"near_max\", \"value\": 0.67}, {\"date\": \"2018-05-29T00:00:00\", \"variable\": \"near_max\", \"value\": 0.83}, {\"date\": \"2018-05-30T00:00:00\", \"variable\": \"near_max\", \"value\": 0.83}, {\"date\": \"2018-05-31T00:00:00\", \"variable\": \"near_max\", \"value\": 0.8}, {\"date\": \"2018-06-01T00:00:00\", \"variable\": \"near_max\", \"value\": 0.83}, {\"date\": \"2018-06-04T00:00:00\", \"variable\": \"near_max\", \"value\": 0.83}, {\"date\": \"2018-06-05T00:00:00\", \"variable\": \"near_max\", \"value\": 0.83}, {\"date\": \"2018-06-06T00:00:00\", \"variable\": \"near_max\", \"value\": 0.83}, {\"date\": \"2018-06-07T00:00:00\", \"variable\": \"near_max\", \"value\": 0.83}, {\"date\": \"2018-06-08T00:00:00\", \"variable\": \"near_max\", \"value\": 0.83}, {\"date\": \"2018-06-11T00:00:00\", \"variable\": \"near_max\", \"value\": 0.83}, {\"date\": \"2018-06-12T00:00:00\", \"variable\": \"near_max\", \"value\": 0.83}, {\"date\": \"2018-06-13T00:00:00\", \"variable\": \"near_max\", \"value\": 0.83}, {\"date\": \"2018-06-14T00:00:00\", \"variable\": \"near_max\", \"value\": 0.83}, {\"date\": \"2018-06-15T00:00:00\", \"variable\": \"near_max\", \"value\": 0.83}, {\"date\": \"2018-06-18T00:00:00\", \"variable\": \"near_max\", \"value\": 0.83}, {\"date\": \"2018-06-19T00:00:00\", \"variable\": \"near_max\", \"value\": 0.83}, {\"date\": \"2018-06-20T00:00:00\", \"variable\": \"near_max\", \"value\": 0.83}, {\"date\": \"2018-06-21T00:00:00\", \"variable\": \"near_max\", \"value\": 0.83}, {\"date\": \"2018-06-22T00:00:00\", \"variable\": \"near_max\", \"value\": 0.83}, {\"date\": \"2018-06-25T00:00:00\", \"variable\": \"near_max\", \"value\": 0.83}, {\"date\": \"2018-06-26T00:00:00\", \"variable\": \"near_max\", \"value\": 0.83}, {\"date\": \"2018-06-27T00:00:00\", \"variable\": \"near_max\", \"value\": 0.83}, {\"date\": \"2018-06-28T00:00:00\", \"variable\": \"near_max\", \"value\": 0.83}, {\"date\": \"2018-06-29T00:00:00\", \"variable\": \"near_max\", \"value\": 0.83}, {\"date\": \"2018-07-02T00:00:00\", \"variable\": \"near_max\", \"value\": 0.83}, {\"date\": \"2018-07-03T00:00:00\", \"variable\": \"near_max\", \"value\": 0.83}, {\"date\": \"2018-07-05T00:00:00\", \"variable\": \"near_max\", \"value\": 0.83}, {\"date\": \"2018-07-06T00:00:00\", \"variable\": \"near_max\", \"value\": 0.83}, {\"date\": \"2018-07-09T00:00:00\", \"variable\": \"near_max\", \"value\": 0.83}, {\"date\": \"2018-07-10T00:00:00\", \"variable\": \"near_max\", \"value\": 0.83}, {\"date\": \"2018-07-11T00:00:00\", \"variable\": \"near_max\", \"value\": 0.83}, {\"date\": \"2018-07-12T00:00:00\", \"variable\": \"near_max\", \"value\": 0.83}, {\"date\": \"2018-07-13T00:00:00\", \"variable\": \"near_max\", \"value\": 0.83}, {\"date\": \"2018-07-16T00:00:00\", \"variable\": \"near_max\", \"value\": 0.83}, {\"date\": \"2018-07-17T00:00:00\", \"variable\": \"near_max\", \"value\": 0.83}, {\"date\": \"2018-07-18T00:00:00\", \"variable\": \"near_max\", \"value\": 0.83}, {\"date\": \"2018-07-19T00:00:00\", \"variable\": \"near_max\", \"value\": 0.83}, {\"date\": \"2018-07-20T00:00:00\", \"variable\": \"near_max\", \"value\": 0.83}, {\"date\": \"2018-07-23T00:00:00\", \"variable\": \"near_max\", \"value\": 0.83}, {\"date\": \"2018-07-24T00:00:00\", \"variable\": \"near_max\", \"value\": 0.83}, {\"date\": \"2018-07-25T00:00:00\", \"variable\": \"near_max\", \"value\": 0.83}, {\"date\": \"2018-07-26T00:00:00\", \"variable\": \"near_max\", \"value\": 0.83}, {\"date\": \"2018-07-27T00:00:00\", \"variable\": \"near_max\", \"value\": 0.83}, {\"date\": \"2018-07-30T00:00:00\", \"variable\": \"near_max\", \"value\": 0.83}, {\"date\": \"2018-07-31T00:00:00\", \"variable\": \"near_max\", \"value\": 0.83}, {\"date\": \"2018-08-01T00:00:00\", \"variable\": \"near_max\", \"value\": 0.83}, {\"date\": \"2018-08-02T00:00:00\", \"variable\": \"near_max\", \"value\": 0.83}, {\"date\": \"2018-08-03T00:00:00\", \"variable\": \"near_max\", \"value\": 0.83}, {\"date\": \"2018-08-06T00:00:00\", \"variable\": \"near_max\", \"value\": 1.0}, {\"date\": \"2018-08-07T00:00:00\", \"variable\": \"near_max\", \"value\": 1.0}, {\"date\": \"2018-08-08T00:00:00\", \"variable\": \"near_max\", \"value\": 0.67}, {\"date\": \"2018-08-09T00:00:00\", \"variable\": \"near_max\", \"value\": 0.83}, {\"date\": \"2018-08-10T00:00:00\", \"variable\": \"near_max\", \"value\": 0.83}, {\"date\": \"2018-08-13T00:00:00\", \"variable\": \"near_max\", \"value\": 0.83}, {\"date\": \"2018-08-14T00:00:00\", \"variable\": \"near_max\", \"value\": 0.83}, {\"date\": \"2018-08-15T00:00:00\", \"variable\": \"near_max\", \"value\": 0.83}, {\"date\": \"2018-08-16T00:00:00\", \"variable\": \"near_max\", \"value\": 1.0}, {\"date\": \"2018-08-17T00:00:00\", \"variable\": \"near_max\", \"value\": 1.0}, {\"date\": \"2018-08-20T00:00:00\", \"variable\": \"near_max\", \"value\": 0.67}, {\"date\": \"2018-08-21T00:00:00\", \"variable\": \"near_max\", \"value\": 0.83}, {\"date\": \"2018-08-22T00:00:00\", \"variable\": \"near_max\", \"value\": 0.83}, {\"date\": \"2018-08-23T00:00:00\", \"variable\": \"near_max\", \"value\": 1.0}, {\"date\": \"2018-08-24T00:00:00\", \"variable\": \"near_max\", \"value\": 1.0}, {\"date\": \"2018-08-27T00:00:00\", \"variable\": \"near_max\", \"value\": 1.0}, {\"date\": \"2018-08-28T00:00:00\", \"variable\": \"near_max\", \"value\": 1.0}, {\"date\": \"2018-08-29T00:00:00\", \"variable\": \"near_max\", \"value\": 1.0}, {\"date\": \"2018-08-30T00:00:00\", \"variable\": \"near_max\", \"value\": 1.0}, {\"date\": \"2018-08-31T00:00:00\", \"variable\": \"near_max\", \"value\": 1.0}, {\"date\": \"2018-09-04T00:00:00\", \"variable\": \"near_max\", \"value\": 1.0}, {\"date\": \"2018-09-05T00:00:00\", \"variable\": \"near_max\", \"value\": 1.0}, {\"date\": \"2018-09-06T00:00:00\", \"variable\": \"near_max\", \"value\": 1.0}, {\"date\": \"2018-09-07T00:00:00\", \"variable\": \"near_max\", \"value\": 1.0}, {\"date\": \"2018-09-10T00:00:00\", \"variable\": \"near_max\", \"value\": 1.0}, {\"date\": \"2018-09-11T00:00:00\", \"variable\": \"near_max\", \"value\": 1.0}, {\"date\": \"2018-09-12T00:00:00\", \"variable\": \"near_max\", \"value\": 1.0}, {\"date\": \"2018-09-13T00:00:00\", \"variable\": \"near_max\", \"value\": 1.0}, {\"date\": \"2018-09-14T00:00:00\", \"variable\": \"near_max\", \"value\": 1.0}, {\"date\": \"2018-09-17T00:00:00\", \"variable\": \"near_max\", \"value\": 1.0}, {\"date\": \"2018-09-18T00:00:00\", \"variable\": \"near_max\", \"value\": 1.0}, {\"date\": \"2018-09-19T00:00:00\", \"variable\": \"near_max\", \"value\": 1.0}, {\"date\": \"2018-09-20T00:00:00\", \"variable\": \"near_max\", \"value\": 1.0}, {\"date\": \"2018-09-21T00:00:00\", \"variable\": \"near_max\", \"value\": 1.0}, {\"date\": \"2018-09-24T00:00:00\", \"variable\": \"near_max\", \"value\": 1.0}, {\"date\": \"2018-09-25T00:00:00\", \"variable\": \"near_max\", \"value\": 1.0}, {\"date\": \"2018-09-26T00:00:00\", \"variable\": \"near_max\", \"value\": 1.0}, {\"date\": \"2018-09-27T00:00:00\", \"variable\": \"near_max\", \"value\": 1.0}, {\"date\": \"2018-09-28T00:00:00\", \"variable\": \"near_max\", \"value\": 1.0}, {\"date\": \"2018-10-01T00:00:00\", \"variable\": \"near_max\", \"value\": 1.0}, {\"date\": \"2018-10-02T00:00:00\", \"variable\": \"near_max\", \"value\": 1.0}, {\"date\": \"2018-10-03T00:00:00\", \"variable\": \"near_max\", \"value\": 1.0}, {\"date\": \"2018-10-04T00:00:00\", \"variable\": \"near_max\", \"value\": 1.0}, {\"date\": \"2018-10-05T00:00:00\", \"variable\": \"near_max\", \"value\": 1.0}, {\"date\": \"2018-10-08T00:00:00\", \"variable\": \"near_max\", \"value\": 1.0}, {\"date\": \"2018-10-09T00:00:00\", \"variable\": \"near_max\", \"value\": 1.0}, {\"date\": \"2018-10-10T00:00:00\", \"variable\": \"near_max\", \"value\": 1.0}, {\"date\": \"2018-10-11T00:00:00\", \"variable\": \"near_max\", \"value\": 1.0}, {\"date\": \"2018-10-12T00:00:00\", \"variable\": \"near_max\", \"value\": 0.83}, {\"date\": \"2018-10-15T00:00:00\", \"variable\": \"near_max\", \"value\": 0.67}, {\"date\": \"2018-10-16T00:00:00\", \"variable\": \"near_max\", \"value\": 1.0}, {\"date\": \"2018-10-17T00:00:00\", \"variable\": \"near_max\", \"value\": 1.0}, {\"date\": \"2018-10-18T00:00:00\", \"variable\": \"near_max\", \"value\": 0.83}, {\"date\": \"2018-10-19T00:00:00\", \"variable\": \"near_max\", \"value\": 0.83}, {\"date\": \"2018-10-22T00:00:00\", \"variable\": \"near_max\", \"value\": 0.67}, {\"date\": \"2018-10-23T00:00:00\", \"variable\": \"near_max\", \"value\": 0.67}, {\"date\": \"2018-10-24T00:00:00\", \"variable\": \"near_max\", \"value\": 0.67}, {\"date\": \"2018-10-25T00:00:00\", \"variable\": \"near_max\", \"value\": 0.67}, {\"date\": \"2018-10-26T00:00:00\", \"variable\": \"near_max\", \"value\": 0.67}, {\"date\": \"2018-10-29T00:00:00\", \"variable\": \"near_max\", \"value\": 0.67}, {\"date\": \"2018-10-30T00:00:00\", \"variable\": \"near_max\", \"value\": 0.67}, {\"date\": \"2018-10-31T00:00:00\", \"variable\": \"near_max\", \"value\": 0.67}, {\"date\": \"2018-11-01T00:00:00\", \"variable\": \"near_max\", \"value\": 0.67}, {\"date\": \"2018-11-02T00:00:00\", \"variable\": \"near_max\", \"value\": 0.67}, {\"date\": \"2018-11-05T00:00:00\", \"variable\": \"near_max\", \"value\": 0.67}, {\"date\": \"2018-11-06T00:00:00\", \"variable\": \"near_max\", \"value\": 0.67}, {\"date\": \"2018-11-07T00:00:00\", \"variable\": \"near_max\", \"value\": 0.83}, {\"date\": \"2018-11-08T00:00:00\", \"variable\": \"near_max\", \"value\": 0.67}, {\"date\": \"2018-11-09T00:00:00\", \"variable\": \"near_max\", \"value\": 0.83}, {\"date\": \"2018-11-12T00:00:00\", \"variable\": \"near_max\", \"value\": 0.67}, {\"date\": \"2018-11-13T00:00:00\", \"variable\": \"near_max\", \"value\": 0.83}, {\"date\": \"2018-11-14T00:00:00\", \"variable\": \"near_max\", \"value\": 0.67}, {\"date\": \"2018-11-15T00:00:00\", \"variable\": \"near_max\", \"value\": 0.8}, {\"date\": \"2018-11-16T00:00:00\", \"variable\": \"near_max\", \"value\": 0.8}, {\"date\": \"2018-11-19T00:00:00\", \"variable\": \"near_max\", \"value\": 0.67}, {\"date\": \"2018-11-20T00:00:00\", \"variable\": \"near_max\", \"value\": 0.67}, {\"date\": \"2018-11-21T00:00:00\", \"variable\": \"near_max\", \"value\": 0.67}, {\"date\": \"2018-11-23T00:00:00\", \"variable\": \"near_max\", \"value\": 0.67}, {\"date\": \"2018-11-26T00:00:00\", \"variable\": \"near_max\", \"value\": 0.67}, {\"date\": \"2018-11-27T00:00:00\", \"variable\": \"near_max\", \"value\": 0.67}, {\"date\": \"2018-11-28T00:00:00\", \"variable\": \"near_max\", \"value\": 0.67}, {\"date\": \"2018-11-29T00:00:00\", \"variable\": \"near_max\", \"value\": 0.67}, {\"date\": \"2018-11-30T00:00:00\", \"variable\": \"near_max\", \"value\": 0.67}, {\"date\": \"2018-12-03T00:00:00\", \"variable\": \"near_max\", \"value\": 0.67}, {\"date\": \"2018-12-04T00:00:00\", \"variable\": \"near_max\", \"value\": 0.67}, {\"date\": \"2018-12-06T00:00:00\", \"variable\": \"near_max\", \"value\": 0.67}, {\"date\": \"2018-12-07T00:00:00\", \"variable\": \"near_max\", \"value\": 0.67}, {\"date\": \"2018-12-10T00:00:00\", \"variable\": \"near_max\", \"value\": 0.67}, {\"date\": \"2018-12-11T00:00:00\", \"variable\": \"near_max\", \"value\": 0.67}, {\"date\": \"2018-12-12T00:00:00\", \"variable\": \"near_max\", \"value\": 0.5}, {\"date\": \"2018-12-13T00:00:00\", \"variable\": \"near_max\", \"value\": 0.67}, {\"date\": \"2018-12-14T00:00:00\", \"variable\": \"near_max\", \"value\": 0.5}, {\"date\": \"2018-12-17T00:00:00\", \"variable\": \"near_max\", \"value\": 0.5}, {\"date\": \"2018-12-18T00:00:00\", \"variable\": \"near_max\", \"value\": 0.5}, {\"date\": \"2018-12-19T00:00:00\", \"variable\": \"near_max\", \"value\": 0.33}, {\"date\": \"2018-12-20T00:00:00\", \"variable\": \"near_max\", \"value\": 0.33}, {\"date\": \"2018-12-21T00:00:00\", \"variable\": \"near_max\", \"value\": 0.33}, {\"date\": \"2018-12-24T00:00:00\", \"variable\": \"near_max\", \"value\": 0.33}, {\"date\": \"2018-12-26T00:00:00\", \"variable\": \"near_max\", \"value\": 0.33}, {\"date\": \"2018-12-27T00:00:00\", \"variable\": \"near_max\", \"value\": 0.33}, {\"date\": \"2018-12-28T00:00:00\", \"variable\": \"near_max\", \"value\": 0.33}, {\"date\": \"2018-12-31T00:00:00\", \"variable\": \"near_max\", \"value\": 0.33}, {\"date\": \"2019-01-02T00:00:00\", \"variable\": \"near_max\", \"value\": 0.5}, {\"date\": \"2019-01-03T00:00:00\", \"variable\": \"near_max\", \"value\": 0.33}, {\"date\": \"2019-01-04T00:00:00\", \"variable\": \"near_max\", \"value\": 0.5}, {\"date\": \"2019-01-07T00:00:00\", \"variable\": \"near_max\", \"value\": 0.67}, {\"date\": \"2019-01-08T00:00:00\", \"variable\": \"near_max\", \"value\": 0.67}, {\"date\": \"2019-01-09T00:00:00\", \"variable\": \"near_max\", \"value\": 0.5}, {\"date\": \"2019-01-10T00:00:00\", \"variable\": \"near_max\", \"value\": 0.5}, {\"date\": \"2019-01-11T00:00:00\", \"variable\": \"near_max\", \"value\": 0.5}, {\"date\": \"2019-01-14T00:00:00\", \"variable\": \"near_max\", \"value\": 0.67}, {\"date\": \"2019-01-15T00:00:00\", \"variable\": \"near_max\", \"value\": 0.67}, {\"date\": \"2019-01-16T00:00:00\", \"variable\": \"near_max\", \"value\": 0.67}, {\"date\": \"2019-01-17T00:00:00\", \"variable\": \"near_max\", \"value\": 0.5}, {\"date\": \"2019-01-18T00:00:00\", \"variable\": \"near_max\", \"value\": 0.67}, {\"date\": \"2019-01-22T00:00:00\", \"variable\": \"near_max\", \"value\": 0.67}, {\"date\": \"2019-01-23T00:00:00\", \"variable\": \"near_max\", \"value\": 0.5}, {\"date\": \"2019-01-24T00:00:00\", \"variable\": \"near_max\", \"value\": 0.5}, {\"date\": \"2019-01-25T00:00:00\", \"variable\": \"near_max\", \"value\": 0.67}, {\"date\": \"2019-01-28T00:00:00\", \"variable\": \"near_max\", \"value\": 0.67}, {\"date\": \"2019-01-29T00:00:00\", \"variable\": \"near_max\", \"value\": 0.67}, {\"date\": \"2019-01-30T00:00:00\", \"variable\": \"near_max\", \"value\": 0.67}, {\"date\": \"2019-01-31T00:00:00\", \"variable\": \"near_max\", \"value\": 0.83}, {\"date\": \"2019-02-01T00:00:00\", \"variable\": \"near_max\", \"value\": 0.67}, {\"date\": \"2019-02-04T00:00:00\", \"variable\": \"near_max\", \"value\": 0.83}, {\"date\": \"2019-02-05T00:00:00\", \"variable\": \"near_max\", \"value\": 0.83}, {\"date\": \"2019-02-06T00:00:00\", \"variable\": \"near_max\", \"value\": 0.83}, {\"date\": \"2019-02-07T00:00:00\", \"variable\": \"near_max\", \"value\": 0.67}, {\"date\": \"2019-02-08T00:00:00\", \"variable\": \"near_max\", \"value\": 0.67}, {\"date\": \"2019-02-11T00:00:00\", \"variable\": \"near_max\", \"value\": 0.67}, {\"date\": \"2019-02-12T00:00:00\", \"variable\": \"near_max\", \"value\": 0.67}, {\"date\": \"2019-02-13T00:00:00\", \"variable\": \"near_max\", \"value\": 0.83}, {\"date\": \"2019-02-14T00:00:00\", \"variable\": \"near_max\", \"value\": 0.67}, {\"date\": \"2019-02-15T00:00:00\", \"variable\": \"near_max\", \"value\": 0.67}, {\"date\": \"2019-02-19T00:00:00\", \"variable\": \"near_max\", \"value\": 0.67}, {\"date\": \"2019-02-20T00:00:00\", \"variable\": \"near_max\", \"value\": 0.67}, {\"date\": \"2019-02-21T00:00:00\", \"variable\": \"near_max\", \"value\": 0.67}, {\"date\": \"2019-02-22T00:00:00\", \"variable\": \"near_max\", \"value\": 0.67}, {\"date\": \"2019-02-25T00:00:00\", \"variable\": \"near_max\", \"value\": 0.67}, {\"date\": \"2019-02-26T00:00:00\", \"variable\": \"near_max\", \"value\": 0.67}, {\"date\": \"2019-02-27T00:00:00\", \"variable\": \"near_max\", \"value\": 0.67}, {\"date\": \"2019-02-28T00:00:00\", \"variable\": \"near_max\", \"value\": 0.83}, {\"date\": \"2019-03-01T00:00:00\", \"variable\": \"near_max\", \"value\": 0.83}, {\"date\": \"2019-03-04T00:00:00\", \"variable\": \"near_max\", \"value\": 0.83}, {\"date\": \"2019-03-05T00:00:00\", \"variable\": \"near_max\", \"value\": 0.83}, {\"date\": \"2019-03-06T00:00:00\", \"variable\": \"near_max\", \"value\": 0.83}, {\"date\": \"2019-03-07T00:00:00\", \"variable\": \"near_max\", \"value\": 0.67}, {\"date\": \"2019-03-08T00:00:00\", \"variable\": \"near_max\", \"value\": 0.83}, {\"date\": \"2019-03-11T00:00:00\", \"variable\": \"near_max\", \"value\": 0.83}, {\"date\": \"2019-03-12T00:00:00\", \"variable\": \"near_max\", \"value\": 0.83}, {\"date\": \"2019-03-13T00:00:00\", \"variable\": \"near_max\", \"value\": 0.83}, {\"date\": \"2019-03-14T00:00:00\", \"variable\": \"near_max\", \"value\": 0.67}, {\"date\": \"2019-03-15T00:00:00\", \"variable\": \"near_max\", \"value\": 0.83}, {\"date\": \"2019-03-18T00:00:00\", \"variable\": \"near_max\", \"value\": 0.83}, {\"date\": \"2019-03-19T00:00:00\", \"variable\": \"near_max\", \"value\": 0.83}, {\"date\": \"2019-03-20T00:00:00\", \"variable\": \"near_max\", \"value\": 0.83}, {\"date\": \"2019-03-21T00:00:00\", \"variable\": \"near_max\", \"value\": 0.83}, {\"date\": \"2019-03-22T00:00:00\", \"variable\": \"near_max\", \"value\": 0.67}, {\"date\": \"2019-03-25T00:00:00\", \"variable\": \"near_max\", \"value\": 0.67}, {\"date\": \"2019-03-26T00:00:00\", \"variable\": \"near_max\", \"value\": 0.83}, {\"date\": \"2019-03-27T00:00:00\", \"variable\": \"near_max\", \"value\": 0.83}, {\"date\": \"2019-03-28T00:00:00\", \"variable\": \"near_max\", \"value\": 0.67}, {\"date\": \"2019-03-29T00:00:00\", \"variable\": \"near_max\", \"value\": 0.83}, {\"date\": \"2019-04-01T00:00:00\", \"variable\": \"near_max\", \"value\": 0.83}, {\"date\": \"2019-04-02T00:00:00\", \"variable\": \"near_max\", \"value\": 0.83}, {\"date\": \"2019-04-03T00:00:00\", \"variable\": \"near_max\", \"value\": 0.83}, {\"date\": \"2019-04-04T00:00:00\", \"variable\": \"near_max\", \"value\": 0.83}, {\"date\": \"2019-04-05T00:00:00\", \"variable\": \"near_max\", \"value\": 0.83}, {\"date\": \"2019-04-08T00:00:00\", \"variable\": \"near_max\", \"value\": 0.83}, {\"date\": \"2019-04-09T00:00:00\", \"variable\": \"near_max\", \"value\": 0.83}, {\"date\": \"2019-04-10T00:00:00\", \"variable\": \"near_max\", \"value\": 0.83}, {\"date\": \"2019-04-11T00:00:00\", \"variable\": \"near_max\", \"value\": 0.83}, {\"date\": \"2019-04-12T00:00:00\", \"variable\": \"near_max\", \"value\": 0.83}, {\"date\": \"2019-04-15T00:00:00\", \"variable\": \"near_max\", \"value\": 0.83}, {\"date\": \"2019-04-16T00:00:00\", \"variable\": \"near_max\", \"value\": 0.83}, {\"date\": \"2019-04-17T00:00:00\", \"variable\": \"near_max\", \"value\": 0.83}, {\"date\": \"2019-04-18T00:00:00\", \"variable\": \"near_max\", \"value\": 0.83}, {\"date\": \"2019-04-22T00:00:00\", \"variable\": \"near_max\", \"value\": 0.83}, {\"date\": \"2019-04-23T00:00:00\", \"variable\": \"near_max\", \"value\": 0.83}, {\"date\": \"2019-04-24T00:00:00\", \"variable\": \"near_max\", \"value\": 0.83}, {\"date\": \"2019-04-25T00:00:00\", \"variable\": \"near_max\", \"value\": 0.83}, {\"date\": \"2019-04-26T00:00:00\", \"variable\": \"near_max\", \"value\": 0.83}, {\"date\": \"2019-04-29T00:00:00\", \"variable\": \"near_max\", \"value\": 0.83}, {\"date\": \"2019-04-30T00:00:00\", \"variable\": \"near_max\", \"value\": 0.83}, {\"date\": \"2019-05-01T00:00:00\", \"variable\": \"near_max\", \"value\": 0.83}, {\"date\": \"2019-05-02T00:00:00\", \"variable\": \"near_max\", \"value\": 0.67}, {\"date\": \"2019-05-03T00:00:00\", \"variable\": \"near_max\", \"value\": 0.83}, {\"date\": \"2019-05-06T00:00:00\", \"variable\": \"near_max\", \"value\": 0.67}, {\"date\": \"2019-05-07T00:00:00\", \"variable\": \"near_max\", \"value\": 0.5}, {\"date\": \"2019-05-08T00:00:00\", \"variable\": \"near_max\", \"value\": 0.67}, {\"date\": \"2019-05-09T00:00:00\", \"variable\": \"near_max\", \"value\": 0.67}, {\"date\": \"2019-05-10T00:00:00\", \"variable\": \"near_max\", \"value\": 0.5}, {\"date\": \"2019-05-13T00:00:00\", \"variable\": \"near_max\", \"value\": 0.5}, {\"date\": \"2019-05-14T00:00:00\", \"variable\": \"near_max\", \"value\": 0.67}, {\"date\": \"2019-05-15T00:00:00\", \"variable\": \"near_max\", \"value\": 0.67}, {\"date\": \"2019-05-16T00:00:00\", \"variable\": \"near_max\", \"value\": 0.67}, {\"date\": \"2019-05-17T00:00:00\", \"variable\": \"near_max\", \"value\": 0.6}, {\"date\": \"2019-05-20T00:00:00\", \"variable\": \"near_max\", \"value\": 0.83}, {\"date\": \"2019-05-21T00:00:00\", \"variable\": \"near_max\", \"value\": 0.5}, {\"date\": \"2019-05-22T00:00:00\", \"variable\": \"near_max\", \"value\": 0.5}, {\"date\": \"2019-05-23T00:00:00\", \"variable\": \"near_max\", \"value\": 0.67}, {\"date\": \"2019-05-24T00:00:00\", \"variable\": \"near_max\", \"value\": 0.5}, {\"date\": \"2019-05-28T00:00:00\", \"variable\": \"near_max\", \"value\": 0.67}, {\"date\": \"2019-05-29T00:00:00\", \"variable\": \"near_max\", \"value\": 0.67}, {\"date\": \"2019-05-30T00:00:00\", \"variable\": \"near_max\", \"value\": 0.67}, {\"date\": \"2019-05-31T00:00:00\", \"variable\": \"near_max\", \"value\": 0.67}, {\"date\": \"2019-06-03T00:00:00\", \"variable\": \"near_max\", \"value\": 0.67}, {\"date\": \"2019-06-04T00:00:00\", \"variable\": \"near_max\", \"value\": 0.83}, {\"date\": \"2019-06-05T00:00:00\", \"variable\": \"near_max\", \"value\": 0.83}, {\"date\": \"2019-06-06T00:00:00\", \"variable\": \"near_max\", \"value\": 0.67}, {\"date\": \"2019-06-07T00:00:00\", \"variable\": \"near_max\", \"value\": 0.67}, {\"date\": \"2019-06-10T00:00:00\", \"variable\": \"near_max\", \"value\": 0.67}, {\"date\": \"2019-06-11T00:00:00\", \"variable\": \"near_max\", \"value\": 0.67}, {\"date\": \"2019-06-12T00:00:00\", \"variable\": \"near_max\", \"value\": 0.83}, {\"date\": \"2019-06-13T00:00:00\", \"variable\": \"near_max\", \"value\": 0.67}, {\"date\": \"2019-06-14T00:00:00\", \"variable\": \"near_max\", \"value\": 0.83}, {\"date\": \"2019-06-17T00:00:00\", \"variable\": \"near_max\", \"value\": 0.67}, {\"date\": \"2019-06-18T00:00:00\", \"variable\": \"near_max\", \"value\": 0.83}, {\"date\": \"2019-06-19T00:00:00\", \"variable\": \"near_max\", \"value\": 0.83}, {\"date\": \"2019-06-20T00:00:00\", \"variable\": \"near_max\", \"value\": 1.0}, {\"date\": \"2019-06-21T00:00:00\", \"variable\": \"near_max\", \"value\": 0.67}, {\"date\": \"2019-06-24T00:00:00\", \"variable\": \"near_max\", \"value\": 0.83}, {\"date\": \"2019-06-25T00:00:00\", \"variable\": \"near_max\", \"value\": 0.83}, {\"date\": \"2019-06-26T00:00:00\", \"variable\": \"near_max\", \"value\": 0.83}, {\"date\": \"2019-06-27T00:00:00\", \"variable\": \"near_max\", \"value\": 0.67}, {\"date\": \"2019-06-28T00:00:00\", \"variable\": \"near_max\", \"value\": 0.83}, {\"date\": \"2019-07-01T00:00:00\", \"variable\": \"near_max\", \"value\": 0.83}, {\"date\": \"2019-07-02T00:00:00\", \"variable\": \"near_max\", \"value\": 0.83}, {\"date\": \"2019-07-03T00:00:00\", \"variable\": \"near_max\", \"value\": 0.67}, {\"date\": \"2019-07-05T00:00:00\", \"variable\": \"near_max\", \"value\": 0.67}, {\"date\": \"2019-07-08T00:00:00\", \"variable\": \"near_max\", \"value\": 0.67}, {\"date\": \"2019-07-09T00:00:00\", \"variable\": \"near_max\", \"value\": 0.67}, {\"date\": \"2019-07-10T00:00:00\", \"variable\": \"near_max\", \"value\": 0.67}, {\"date\": \"2019-07-11T00:00:00\", \"variable\": \"near_max\", \"value\": 0.67}, {\"date\": \"2019-07-12T00:00:00\", \"variable\": \"near_max\", \"value\": 0.67}, {\"date\": \"2019-07-15T00:00:00\", \"variable\": \"near_max\", \"value\": 0.67}, {\"date\": \"2019-07-16T00:00:00\", \"variable\": \"near_max\", \"value\": 0.67}, {\"date\": \"2019-07-17T00:00:00\", \"variable\": \"near_max\", \"value\": 0.67}, {\"date\": \"2019-07-18T00:00:00\", \"variable\": \"near_max\", \"value\": 0.67}, {\"date\": \"2019-07-19T00:00:00\", \"variable\": \"near_max\", \"value\": 0.67}, {\"date\": \"2019-07-22T00:00:00\", \"variable\": \"near_max\", \"value\": 0.67}, {\"date\": \"2019-07-23T00:00:00\", \"variable\": \"near_max\", \"value\": 0.67}, {\"date\": \"2019-07-24T00:00:00\", \"variable\": \"near_max\", \"value\": 0.67}, {\"date\": \"2019-07-25T00:00:00\", \"variable\": \"near_max\", \"value\": 0.67}, {\"date\": \"2019-07-26T00:00:00\", \"variable\": \"near_max\", \"value\": 0.67}, {\"date\": \"2019-07-29T00:00:00\", \"variable\": \"near_max\", \"value\": 0.67}, {\"date\": \"2019-07-30T00:00:00\", \"variable\": \"near_max\", \"value\": 0.67}, {\"date\": \"2019-07-31T00:00:00\", \"variable\": \"near_max\", \"value\": 0.67}, {\"date\": \"2019-08-01T00:00:00\", \"variable\": \"near_max\", \"value\": 0.83}, {\"date\": \"2019-08-02T00:00:00\", \"variable\": \"near_max\", \"value\": 0.67}, {\"date\": \"2019-08-05T00:00:00\", \"variable\": \"near_max\", \"value\": 0.67}, {\"date\": \"2019-08-06T00:00:00\", \"variable\": \"near_max\", \"value\": 0.67}, {\"date\": \"2019-08-07T00:00:00\", \"variable\": \"near_max\", \"value\": 0.67}, {\"date\": \"2019-08-08T00:00:00\", \"variable\": \"near_max\", \"value\": 0.67}, {\"date\": \"2019-08-09T00:00:00\", \"variable\": \"near_max\", \"value\": 0.67}, {\"date\": \"2019-08-12T00:00:00\", \"variable\": \"near_max\", \"value\": 0.5}, {\"date\": \"2019-08-13T00:00:00\", \"variable\": \"near_max\", \"value\": 0.67}, {\"date\": \"2019-08-14T00:00:00\", \"variable\": \"near_max\", \"value\": 0.5}, {\"date\": \"2019-08-15T00:00:00\", \"variable\": \"near_max\", \"value\": 0.67}, {\"date\": \"2019-08-16T00:00:00\", \"variable\": \"near_max\", \"value\": 0.67}, {\"date\": \"2019-08-19T00:00:00\", \"variable\": \"near_max\", \"value\": 0.67}, {\"date\": \"2019-08-20T00:00:00\", \"variable\": \"near_max\", \"value\": 0.67}, {\"date\": \"2019-08-21T00:00:00\", \"variable\": \"near_max\", \"value\": 0.67}, {\"date\": \"2019-08-22T00:00:00\", \"variable\": \"near_max\", \"value\": 0.8}, {\"date\": \"2019-08-23T00:00:00\", \"variable\": \"near_max\", \"value\": 0.5}, {\"date\": \"2019-08-26T00:00:00\", \"variable\": \"near_max\", \"value\": 0.67}, {\"date\": \"2019-08-27T00:00:00\", \"variable\": \"near_max\", \"value\": 0.67}, {\"date\": \"2019-08-28T00:00:00\", \"variable\": \"near_max\", \"value\": 0.67}, {\"date\": \"2019-08-29T00:00:00\", \"variable\": \"near_max\", \"value\": 0.67}, {\"date\": \"2019-08-30T00:00:00\", \"variable\": \"near_max\", \"value\": 0.67}, {\"date\": \"2019-09-03T00:00:00\", \"variable\": \"near_max\", \"value\": 0.67}, {\"date\": \"2019-09-04T00:00:00\", \"variable\": \"near_max\", \"value\": 0.67}, {\"date\": \"2019-09-05T00:00:00\", \"variable\": \"near_max\", \"value\": 0.67}, {\"date\": \"2019-09-06T00:00:00\", \"variable\": \"near_max\", \"value\": 0.67}, {\"date\": \"2019-09-09T00:00:00\", \"variable\": \"near_max\", \"value\": 0.67}, {\"date\": \"2019-09-10T00:00:00\", \"variable\": \"near_max\", \"value\": 0.67}, {\"date\": \"2019-09-11T00:00:00\", \"variable\": \"near_max\", \"value\": 0.67}, {\"date\": \"2019-09-12T00:00:00\", \"variable\": \"near_max\", \"value\": 0.67}, {\"date\": \"2019-09-13T00:00:00\", \"variable\": \"near_max\", \"value\": 0.67}, {\"date\": \"2019-09-16T00:00:00\", \"variable\": \"near_max\", \"value\": 0.67}, {\"date\": \"2019-09-17T00:00:00\", \"variable\": \"near_max\", \"value\": 0.67}, {\"date\": \"2019-09-18T00:00:00\", \"variable\": \"near_max\", \"value\": 0.67}, {\"date\": \"2019-09-19T00:00:00\", \"variable\": \"near_max\", \"value\": 0.67}, {\"date\": \"2019-09-20T00:00:00\", \"variable\": \"near_max\", \"value\": 0.67}, {\"date\": \"2019-09-23T00:00:00\", \"variable\": \"near_max\", \"value\": 0.67}, {\"date\": \"2019-09-24T00:00:00\", \"variable\": \"near_max\", \"value\": 0.67}, {\"date\": \"2019-09-25T00:00:00\", \"variable\": \"near_max\", \"value\": 0.67}, {\"date\": \"2019-09-26T00:00:00\", \"variable\": \"near_max\", \"value\": 0.67}, {\"date\": \"2019-09-27T00:00:00\", \"variable\": \"near_max\", \"value\": 0.67}, {\"date\": \"2019-09-30T00:00:00\", \"variable\": \"near_max\", \"value\": 0.67}, {\"date\": \"2019-10-01T00:00:00\", \"variable\": \"near_max\", \"value\": 0.67}, {\"date\": \"2019-10-02T00:00:00\", \"variable\": \"near_max\", \"value\": 0.67}, {\"date\": \"2019-10-03T00:00:00\", \"variable\": \"near_max\", \"value\": 0.67}, {\"date\": \"2019-10-04T00:00:00\", \"variable\": \"near_max\", \"value\": 0.67}, {\"date\": \"2019-10-07T00:00:00\", \"variable\": \"near_max\", \"value\": 0.67}, {\"date\": \"2019-10-08T00:00:00\", \"variable\": \"near_max\", \"value\": 0.67}, {\"date\": \"2019-10-09T00:00:00\", \"variable\": \"near_max\", \"value\": 0.67}, {\"date\": \"2019-10-10T00:00:00\", \"variable\": \"near_max\", \"value\": 0.67}, {\"date\": \"2019-10-11T00:00:00\", \"variable\": \"near_max\", \"value\": 0.67}, {\"date\": \"2019-10-14T00:00:00\", \"variable\": \"near_max\", \"value\": 0.67}, {\"date\": \"2019-10-15T00:00:00\", \"variable\": \"near_max\", \"value\": 0.67}, {\"date\": \"2019-10-16T00:00:00\", \"variable\": \"near_max\", \"value\": 0.67}, {\"date\": \"2019-10-17T00:00:00\", \"variable\": \"near_max\", \"value\": 0.8}, {\"date\": \"2019-10-18T00:00:00\", \"variable\": \"near_max\", \"value\": 0.67}, {\"date\": \"2019-10-21T00:00:00\", \"variable\": \"near_max\", \"value\": 0.67}, {\"date\": \"2019-10-22T00:00:00\", \"variable\": \"near_max\", \"value\": 0.67}, {\"date\": \"2019-10-23T00:00:00\", \"variable\": \"near_max\", \"value\": 0.67}, {\"date\": \"2019-10-24T00:00:00\", \"variable\": \"near_max\", \"value\": 0.67}, {\"date\": \"2019-10-25T00:00:00\", \"variable\": \"near_max\", \"value\": 0.67}, {\"date\": \"2019-10-28T00:00:00\", \"variable\": \"near_max\", \"value\": 0.67}, {\"date\": \"2019-10-29T00:00:00\", \"variable\": \"near_max\", \"value\": 0.67}, {\"date\": \"2019-10-30T00:00:00\", \"variable\": \"near_max\", \"value\": 0.67}, {\"date\": \"2019-10-31T00:00:00\", \"variable\": \"near_max\", \"value\": 0.67}, {\"date\": \"2019-11-01T00:00:00\", \"variable\": \"near_max\", \"value\": 0.67}, {\"date\": \"2019-11-04T00:00:00\", \"variable\": \"near_max\", \"value\": 0.67}, {\"date\": \"2019-11-05T00:00:00\", \"variable\": \"near_max\", \"value\": 0.67}, {\"date\": \"2019-11-06T00:00:00\", \"variable\": \"near_max\", \"value\": 0.67}, {\"date\": \"2019-11-07T00:00:00\", \"variable\": \"near_max\", \"value\": 0.67}, {\"date\": \"2019-11-08T00:00:00\", \"variable\": \"near_max\", \"value\": 0.67}, {\"date\": \"2019-11-11T00:00:00\", \"variable\": \"near_max\", \"value\": 0.67}, {\"date\": \"2019-11-12T00:00:00\", \"variable\": \"near_max\", \"value\": 0.67}, {\"date\": \"2019-11-13T00:00:00\", \"variable\": \"near_max\", \"value\": 0.67}, {\"date\": \"2019-11-14T00:00:00\", \"variable\": \"near_max\", \"value\": 0.67}, {\"date\": \"2019-11-15T00:00:00\", \"variable\": \"near_max\", \"value\": 0.67}, {\"date\": \"2019-11-18T00:00:00\", \"variable\": \"near_max\", \"value\": 0.67}, {\"date\": \"2019-11-19T00:00:00\", \"variable\": \"near_max\", \"value\": 0.67}, {\"date\": \"2019-11-20T00:00:00\", \"variable\": \"near_max\", \"value\": 0.67}, {\"date\": \"2019-11-21T00:00:00\", \"variable\": \"near_max\", \"value\": 0.67}, {\"date\": \"2019-11-22T00:00:00\", \"variable\": \"near_max\", \"value\": 0.67}, {\"date\": \"2019-11-25T00:00:00\", \"variable\": \"near_max\", \"value\": 0.67}, {\"date\": \"2019-11-26T00:00:00\", \"variable\": \"near_max\", \"value\": 0.67}, {\"date\": \"2019-11-27T00:00:00\", \"variable\": \"near_max\", \"value\": 0.67}, {\"date\": \"2019-11-29T00:00:00\", \"variable\": \"near_max\", \"value\": 0.67}, {\"date\": \"2019-12-02T00:00:00\", \"variable\": \"near_max\", \"value\": 0.67}, {\"date\": \"2019-12-03T00:00:00\", \"variable\": \"near_max\", \"value\": 0.67}, {\"date\": \"2019-12-04T00:00:00\", \"variable\": \"near_max\", \"value\": 0.67}, {\"date\": \"2019-12-05T00:00:00\", \"variable\": \"near_max\", \"value\": 0.67}, {\"date\": \"2019-12-06T00:00:00\", \"variable\": \"near_max\", \"value\": 0.67}, {\"date\": \"2019-12-09T00:00:00\", \"variable\": \"near_max\", \"value\": 0.83}, {\"date\": \"2019-12-10T00:00:00\", \"variable\": \"near_max\", \"value\": 0.67}, {\"date\": \"2019-12-11T00:00:00\", \"variable\": \"near_max\", \"value\": 0.83}, {\"date\": \"2019-12-12T00:00:00\", \"variable\": \"near_max\", \"value\": 0.83}, {\"date\": \"2019-12-13T00:00:00\", \"variable\": \"near_max\", \"value\": 0.83}, {\"date\": \"2019-12-16T00:00:00\", \"variable\": \"near_max\", \"value\": 0.83}, {\"date\": \"2019-12-17T00:00:00\", \"variable\": \"near_max\", \"value\": 0.83}, {\"date\": \"2019-12-18T00:00:00\", \"variable\": \"near_max\", \"value\": 0.67}, {\"date\": \"2019-12-19T00:00:00\", \"variable\": \"near_max\", \"value\": 0.83}, {\"date\": \"2019-12-20T00:00:00\", \"variable\": \"near_max\", \"value\": 0.83}, {\"date\": \"2019-12-23T00:00:00\", \"variable\": \"near_max\", \"value\": 0.83}, {\"date\": \"2019-12-24T00:00:00\", \"variable\": \"near_max\", \"value\": 0.83}, {\"date\": \"2019-12-26T00:00:00\", \"variable\": \"near_max\", \"value\": 0.83}, {\"date\": \"2019-12-27T00:00:00\", \"variable\": \"near_max\", \"value\": 0.83}, {\"date\": \"2019-12-30T00:00:00\", \"variable\": \"near_max\", \"value\": 0.83}, {\"date\": \"2019-12-31T00:00:00\", \"variable\": \"near_max\", \"value\": 0.83}, {\"date\": \"2020-01-02T00:00:00\", \"variable\": \"near_max\", \"value\": 0.83}, {\"date\": \"2020-01-03T00:00:00\", \"variable\": \"near_max\", \"value\": 0.83}, {\"date\": \"2020-01-06T00:00:00\", \"variable\": \"near_max\", \"value\": 0.83}, {\"date\": \"2020-01-07T00:00:00\", \"variable\": \"near_max\", \"value\": 0.83}, {\"date\": \"2020-01-08T00:00:00\", \"variable\": \"near_max\", \"value\": 0.83}, {\"date\": \"2020-01-09T00:00:00\", \"variable\": \"near_max\", \"value\": 0.83}, {\"date\": \"2020-01-10T00:00:00\", \"variable\": \"near_max\", \"value\": 0.83}, {\"date\": \"2020-01-13T00:00:00\", \"variable\": \"near_max\", \"value\": 0.83}, {\"date\": \"2020-01-14T00:00:00\", \"variable\": \"near_max\", \"value\": 0.83}, {\"date\": \"2020-01-15T00:00:00\", \"variable\": \"near_max\", \"value\": 0.83}, {\"date\": \"2020-01-16T00:00:00\", \"variable\": \"near_max\", \"value\": 0.83}, {\"date\": \"2020-01-17T00:00:00\", \"variable\": \"near_max\", \"value\": 0.83}, {\"date\": \"2020-01-21T00:00:00\", \"variable\": \"near_max\", \"value\": 0.83}, {\"date\": \"2020-01-22T00:00:00\", \"variable\": \"near_max\", \"value\": 0.83}, {\"date\": \"2020-01-23T00:00:00\", \"variable\": \"near_max\", \"value\": 0.83}, {\"date\": \"2020-01-24T00:00:00\", \"variable\": \"near_max\", \"value\": 0.83}, {\"date\": \"2020-01-27T00:00:00\", \"variable\": \"near_max\", \"value\": 0.83}, {\"date\": \"2020-01-28T00:00:00\", \"variable\": \"near_max\", \"value\": 0.83}, {\"date\": \"2020-01-29T00:00:00\", \"variable\": \"near_max\", \"value\": 0.83}, {\"date\": \"2020-01-30T00:00:00\", \"variable\": \"near_max\", \"value\": 0.83}, {\"date\": \"2020-01-31T00:00:00\", \"variable\": \"near_max\", \"value\": 0.83}, {\"date\": \"2020-02-03T00:00:00\", \"variable\": \"near_max\", \"value\": 0.83}, {\"date\": \"2020-02-04T00:00:00\", \"variable\": \"near_max\", \"value\": 0.83}, {\"date\": \"2020-02-05T00:00:00\", \"variable\": \"near_max\", \"value\": 0.83}, {\"date\": \"2020-02-06T00:00:00\", \"variable\": \"near_max\", \"value\": 0.83}, {\"date\": \"2020-02-07T00:00:00\", \"variable\": \"near_max\", \"value\": 0.83}, {\"date\": \"2020-02-10T00:00:00\", \"variable\": \"near_max\", \"value\": 0.83}, {\"date\": \"2020-02-11T00:00:00\", \"variable\": \"near_max\", \"value\": 0.83}, {\"date\": \"2020-02-12T00:00:00\", \"variable\": \"near_max\", \"value\": 0.83}, {\"date\": \"2020-02-13T00:00:00\", \"variable\": \"near_max\", \"value\": 0.83}, {\"date\": \"2020-02-14T00:00:00\", \"variable\": \"near_max\", \"value\": 0.67}, {\"date\": \"2020-02-18T00:00:00\", \"variable\": \"near_max\", \"value\": 0.67}, {\"date\": \"2020-02-19T00:00:00\", \"variable\": \"near_max\", \"value\": 0.67}, {\"date\": \"2020-02-20T00:00:00\", \"variable\": \"near_max\", \"value\": 0.83}, {\"date\": \"2020-02-21T00:00:00\", \"variable\": \"near_max\", \"value\": 0.83}, {\"date\": \"2020-02-24T00:00:00\", \"variable\": \"near_max\", \"value\": 0.83}, {\"date\": \"2020-02-25T00:00:00\", \"variable\": \"near_max\", \"value\": 0.67}, {\"date\": \"2020-02-26T00:00:00\", \"variable\": \"near_max\", \"value\": 0.67}, {\"date\": \"2020-02-27T00:00:00\", \"variable\": \"near_max\", \"value\": 0.5}, {\"date\": \"2020-02-28T00:00:00\", \"variable\": \"near_max\", \"value\": 0.5}, {\"date\": \"2020-03-02T00:00:00\", \"variable\": \"near_max\", \"value\": 0.67}, {\"date\": \"2020-03-03T00:00:00\", \"variable\": \"near_max\", \"value\": 0.67}, {\"date\": \"2020-03-04T00:00:00\", \"variable\": \"near_max\", \"value\": 0.67}, {\"date\": \"2020-03-05T00:00:00\", \"variable\": \"near_max\", \"value\": 0.67}, {\"date\": \"2020-03-06T00:00:00\", \"variable\": \"near_max\", \"value\": 0.67}, {\"date\": \"2020-03-09T00:00:00\", \"variable\": \"near_max\", \"value\": 0.33}, {\"date\": \"2020-03-10T00:00:00\", \"variable\": \"near_max\", \"value\": 0.67}, {\"date\": \"2020-03-11T00:00:00\", \"variable\": \"near_max\", \"value\": 0.33}, {\"date\": \"2020-03-12T00:00:00\", \"variable\": \"near_max\", \"value\": 0.0}, {\"date\": \"2020-03-13T00:00:00\", \"variable\": \"near_max\", \"value\": 0.0}, {\"date\": \"2020-03-16T00:00:00\", \"variable\": \"near_max\", \"value\": 0.0}, {\"date\": \"2020-03-17T00:00:00\", \"variable\": \"near_max\", \"value\": 0.0}, {\"date\": \"2020-03-18T00:00:00\", \"variable\": \"near_max\", \"value\": 0.0}, {\"date\": \"2020-03-19T00:00:00\", \"variable\": \"near_max\", \"value\": 0.0}, {\"date\": \"2020-03-20T00:00:00\", \"variable\": \"near_max\", \"value\": 0.0}, {\"date\": \"2020-03-23T00:00:00\", \"variable\": \"near_max\", \"value\": 0.0}, {\"date\": \"2020-03-24T00:00:00\", \"variable\": \"near_max\", \"value\": 0.17}, {\"date\": \"2020-03-25T00:00:00\", \"variable\": \"near_max\", \"value\": 0.0}, {\"date\": \"2020-03-26T00:00:00\", \"variable\": \"near_max\", \"value\": 0.17}, {\"date\": \"2020-03-27T00:00:00\", \"variable\": \"near_max\", \"value\": 0.0}, {\"date\": \"2020-03-30T00:00:00\", \"variable\": \"near_max\", \"value\": 0.17}, {\"date\": \"2020-03-31T00:00:00\", \"variable\": \"near_max\", \"value\": 0.17}, {\"date\": \"2020-04-01T00:00:00\", \"variable\": \"near_max\", \"value\": 0.17}, {\"date\": \"2020-04-02T00:00:00\", \"variable\": \"near_max\", \"value\": 0.17}, {\"date\": \"2020-04-03T00:00:00\", \"variable\": \"near_max\", \"value\": 0.17}, {\"date\": \"2020-04-06T00:00:00\", \"variable\": \"near_max\", \"value\": 0.33}, {\"date\": \"2020-04-07T00:00:00\", \"variable\": \"near_max\", \"value\": 0.17}, {\"date\": \"2020-04-08T00:00:00\", \"variable\": \"near_max\", \"value\": 0.33}, {\"date\": \"2020-04-09T00:00:00\", \"variable\": \"near_max\", \"value\": 0.33}, {\"date\": \"2020-04-13T00:00:00\", \"variable\": \"near_max\", \"value\": 0.33}, {\"date\": \"2020-04-14T00:00:00\", \"variable\": \"near_max\", \"value\": 0.33}, {\"date\": \"2020-04-15T00:00:00\", \"variable\": \"near_max\", \"value\": 0.33}, {\"date\": \"2020-04-16T00:00:00\", \"variable\": \"near_max\", \"value\": 0.33}, {\"date\": \"2020-04-17T00:00:00\", \"variable\": \"near_max\", \"value\": 0.33}, {\"date\": \"2020-04-20T00:00:00\", \"variable\": \"near_max\", \"value\": 0.33}, {\"date\": \"2020-04-21T00:00:00\", \"variable\": \"near_max\", \"value\": 0.33}, {\"date\": \"2020-04-22T00:00:00\", \"variable\": \"near_max\", \"value\": 0.33}, {\"date\": \"2020-04-23T00:00:00\", \"variable\": \"near_max\", \"value\": 0.33}, {\"date\": \"2020-04-24T00:00:00\", \"variable\": \"near_max\", \"value\": 0.33}, {\"date\": \"2020-04-27T00:00:00\", \"variable\": \"near_max\", \"value\": 0.33}, {\"date\": \"2020-04-28T00:00:00\", \"variable\": \"near_max\", \"value\": 0.33}, {\"date\": \"2020-04-29T00:00:00\", \"variable\": \"near_max\", \"value\": 0.33}, {\"date\": \"2020-04-30T00:00:00\", \"variable\": \"near_max\", \"value\": 0.33}, {\"date\": \"2020-05-01T00:00:00\", \"variable\": \"near_max\", \"value\": 0.33}, {\"date\": \"2020-05-04T00:00:00\", \"variable\": \"near_max\", \"value\": 0.17}, {\"date\": \"2020-05-05T00:00:00\", \"variable\": \"near_max\", \"value\": 0.33}, {\"date\": \"2020-05-06T00:00:00\", \"variable\": \"near_max\", \"value\": 0.17}, {\"date\": \"2020-05-07T00:00:00\", \"variable\": \"near_max\", \"value\": 0.17}, {\"date\": \"2020-05-08T00:00:00\", \"variable\": \"near_max\", \"value\": 0.17}, {\"date\": \"2020-05-11T00:00:00\", \"variable\": \"near_max\", \"value\": 0.17}, {\"date\": \"2020-05-12T00:00:00\", \"variable\": \"near_max\", \"value\": 0.17}, {\"date\": \"2020-05-13T00:00:00\", \"variable\": \"near_max\", \"value\": 0.17}, {\"date\": \"2020-05-14T00:00:00\", \"variable\": \"near_max\", \"value\": 0.33}, {\"date\": \"2020-05-15T00:00:00\", \"variable\": \"near_max\", \"value\": 0.33}, {\"date\": \"2020-05-18T00:00:00\", \"variable\": \"near_max\", \"value\": 0.33}, {\"date\": \"2020-05-19T00:00:00\", \"variable\": \"near_max\", \"value\": 0.33}, {\"date\": \"2020-05-20T00:00:00\", \"variable\": \"near_max\", \"value\": 0.17}, {\"date\": \"2020-05-21T00:00:00\", \"variable\": \"near_max\", \"value\": 0.17}, {\"date\": \"2020-05-22T00:00:00\", \"variable\": \"near_max\", \"value\": 0.17}, {\"date\": \"2020-05-26T00:00:00\", \"variable\": \"near_max\", \"value\": 0.17}, {\"date\": \"2020-05-27T00:00:00\", \"variable\": \"near_max\", \"value\": 0.5}, {\"date\": \"2020-05-28T00:00:00\", \"variable\": \"near_max\", \"value\": 0.33}, {\"date\": \"2020-05-29T00:00:00\", \"variable\": \"near_max\", \"value\": 0.33}, {\"date\": \"2020-06-01T00:00:00\", \"variable\": \"near_max\", \"value\": 0.5}, {\"date\": \"2020-06-02T00:00:00\", \"variable\": \"near_max\", \"value\": 0.5}, {\"date\": \"2020-06-03T00:00:00\", \"variable\": \"near_max\", \"value\": 0.5}, {\"date\": \"2020-06-04T00:00:00\", \"variable\": \"near_max\", \"value\": 0.67}, {\"date\": \"2020-06-05T00:00:00\", \"variable\": \"near_max\", \"value\": 0.67}, {\"date\": \"2020-06-08T00:00:00\", \"variable\": \"near_max\", \"value\": 0.5}, {\"date\": \"2020-06-09T00:00:00\", \"variable\": \"near_max\", \"value\": 0.5}, {\"date\": \"2020-06-10T00:00:00\", \"variable\": \"near_max\", \"value\": 0.5}, {\"date\": \"2020-06-11T00:00:00\", \"variable\": \"near_max\", \"value\": 0.33}, {\"date\": \"2020-06-12T00:00:00\", \"variable\": \"near_max\", \"value\": 0.33}, {\"date\": \"2020-06-15T00:00:00\", \"variable\": \"near_max\", \"value\": 0.33}, {\"date\": \"2020-06-16T00:00:00\", \"variable\": \"near_max\", \"value\": 0.33}, {\"date\": \"2020-06-17T00:00:00\", \"variable\": \"near_max\", \"value\": 0.33}, {\"date\": \"2020-06-18T00:00:00\", \"variable\": \"near_max\", \"value\": 0.33}, {\"date\": \"2020-06-19T00:00:00\", \"variable\": \"near_max\", \"value\": 0.33}, {\"date\": \"2020-06-22T00:00:00\", \"variable\": \"near_max\", \"value\": 0.33}, {\"date\": \"2020-06-23T00:00:00\", \"variable\": \"near_max\", \"value\": 0.33}, {\"date\": \"2020-06-24T00:00:00\", \"variable\": \"near_max\", \"value\": 0.33}, {\"date\": \"2020-06-25T00:00:00\", \"variable\": \"near_max\", \"value\": 0.33}, {\"date\": \"2020-06-26T00:00:00\", \"variable\": \"near_max\", \"value\": 0.33}, {\"date\": \"2020-06-29T00:00:00\", \"variable\": \"near_max\", \"value\": 0.17}, {\"date\": \"2020-06-30T00:00:00\", \"variable\": \"near_max\", \"value\": 0.33}, {\"date\": \"2020-07-01T00:00:00\", \"variable\": \"near_max\", \"value\": 0.5}, {\"date\": \"2020-07-02T00:00:00\", \"variable\": \"near_max\", \"value\": 0.33}, {\"date\": \"2020-07-06T00:00:00\", \"variable\": \"near_max\", \"value\": 0.5}, {\"date\": \"2020-07-07T00:00:00\", \"variable\": \"near_max\", \"value\": 0.33}, {\"date\": \"2020-07-08T00:00:00\", \"variable\": \"near_max\", \"value\": 0.5}, {\"date\": \"2020-07-09T00:00:00\", \"variable\": \"near_max\", \"value\": 0.33}, {\"date\": \"2020-07-10T00:00:00\", \"variable\": \"near_max\", \"value\": 0.33}, {\"date\": \"2020-07-13T00:00:00\", \"variable\": \"near_max\", \"value\": 0.33}, {\"date\": \"2020-07-14T00:00:00\", \"variable\": \"near_max\", \"value\": 0.5}, {\"date\": \"2020-07-15T00:00:00\", \"variable\": \"near_max\", \"value\": 0.5}, {\"date\": \"2020-07-16T00:00:00\", \"variable\": \"near_max\", \"value\": 0.33}, {\"date\": \"2020-07-17T00:00:00\", \"variable\": \"near_max\", \"value\": 0.33}, {\"date\": \"2020-07-20T00:00:00\", \"variable\": \"near_max\", \"value\": 0.5}, {\"date\": \"2020-07-21T00:00:00\", \"variable\": \"near_max\", \"value\": 0.5}, {\"date\": \"2020-07-22T00:00:00\", \"variable\": \"near_max\", \"value\": 0.5}, {\"date\": \"2020-07-23T00:00:00\", \"variable\": \"near_max\", \"value\": 0.33}, {\"date\": \"2020-07-24T00:00:00\", \"variable\": \"near_max\", \"value\": 0.5}, {\"date\": \"2020-07-27T00:00:00\", \"variable\": \"near_max\", \"value\": 0.5}, {\"date\": \"2020-07-28T00:00:00\", \"variable\": \"near_max\", \"value\": 0.5}, {\"date\": \"2020-07-29T00:00:00\", \"variable\": \"near_max\", \"value\": 0.33}, {\"date\": \"2020-07-30T00:00:00\", \"variable\": \"near_max\", \"value\": 0.5}, {\"date\": \"2020-07-31T00:00:00\", \"variable\": \"near_max\", \"value\": 0.67}, {\"date\": \"2020-08-03T00:00:00\", \"variable\": \"near_max\", \"value\": 0.83}, {\"date\": \"2020-08-04T00:00:00\", \"variable\": \"near_max\", \"value\": 0.67}, {\"date\": \"2020-08-05T00:00:00\", \"variable\": \"near_max\", \"value\": 0.83}, {\"date\": \"2020-08-06T00:00:00\", \"variable\": \"near_max\", \"value\": 0.67}, {\"date\": \"2020-08-07T00:00:00\", \"variable\": \"near_max\", \"value\": 0.67}, {\"date\": \"2020-08-10T00:00:00\", \"variable\": \"near_max\", \"value\": 0.67}, {\"date\": \"2020-08-11T00:00:00\", \"variable\": \"near_max\", \"value\": 0.67}, {\"date\": \"2020-08-12T00:00:00\", \"variable\": \"near_max\", \"value\": 0.83}, {\"date\": \"2020-08-13T00:00:00\", \"variable\": \"near_max\", \"value\": 0.67}, {\"date\": \"2020-08-14T00:00:00\", \"variable\": \"near_max\", \"value\": 0.67}, {\"date\": \"2020-08-17T00:00:00\", \"variable\": \"near_max\", \"value\": 0.67}, {\"date\": \"2020-08-18T00:00:00\", \"variable\": \"near_max\", \"value\": 0.83}, {\"date\": \"2020-08-19T00:00:00\", \"variable\": \"near_max\", \"value\": 0.83}, {\"date\": \"2020-08-20T00:00:00\", \"variable\": \"near_max\", \"value\": 0.83}, {\"date\": \"2020-08-21T00:00:00\", \"variable\": \"near_max\", \"value\": 0.67}, {\"date\": \"2020-08-24T00:00:00\", \"variable\": \"near_max\", \"value\": 0.67}, {\"date\": \"2020-08-25T00:00:00\", \"variable\": \"near_max\", \"value\": 0.67}, {\"date\": \"2020-08-26T00:00:00\", \"variable\": \"near_max\", \"value\": 0.83}, {\"date\": \"2020-08-27T00:00:00\", \"variable\": \"near_max\", \"value\": 0.67}, {\"date\": \"2020-08-28T00:00:00\", \"variable\": \"near_max\", \"value\": 0.67}, {\"date\": \"2020-08-31T00:00:00\", \"variable\": \"near_max\", \"value\": 0.5}, {\"date\": \"2020-09-01T00:00:00\", \"variable\": \"near_max\", \"value\": 0.67}, {\"date\": \"2020-09-02T00:00:00\", \"variable\": \"near_max\", \"value\": 0.67}, {\"date\": \"2020-09-03T00:00:00\", \"variable\": \"near_max\", \"value\": 0.67}, {\"date\": \"2020-09-04T00:00:00\", \"variable\": \"near_max\", \"value\": 0.67}, {\"date\": \"2020-09-08T00:00:00\", \"variable\": \"near_max\", \"value\": 0.5}, {\"date\": \"2020-09-09T00:00:00\", \"variable\": \"near_max\", \"value\": 0.67}, {\"date\": \"2020-09-10T00:00:00\", \"variable\": \"near_max\", \"value\": 0.67}, {\"date\": \"2020-09-11T00:00:00\", \"variable\": \"near_max\", \"value\": 0.67}, {\"date\": \"2020-09-14T00:00:00\", \"variable\": \"near_max\", \"value\": 0.67}, {\"date\": \"2020-09-15T00:00:00\", \"variable\": \"near_max\", \"value\": 0.5}, {\"date\": \"2020-09-16T00:00:00\", \"variable\": \"near_max\", \"value\": 0.67}, {\"date\": \"2020-09-17T00:00:00\", \"variable\": \"near_max\", \"value\": 0.67}, {\"date\": \"2020-09-18T00:00:00\", \"variable\": \"near_max\", \"value\": 0.67}, {\"date\": \"2020-09-21T00:00:00\", \"variable\": \"near_max\", \"value\": 0.5}, {\"date\": \"2020-09-22T00:00:00\", \"variable\": \"near_max\", \"value\": 0.67}, {\"date\": \"2020-09-23T00:00:00\", \"variable\": \"near_max\", \"value\": 0.5}, {\"date\": \"2020-09-24T00:00:00\", \"variable\": \"near_max\", \"value\": 0.67}, {\"date\": \"2020-09-25T00:00:00\", \"variable\": \"near_max\", \"value\": 0.5}, {\"date\": \"2020-09-28T00:00:00\", \"variable\": \"near_max\", \"value\": 0.5}, {\"date\": \"2020-09-29T00:00:00\", \"variable\": \"near_max\", \"value\": 0.67}, {\"date\": \"2020-09-30T00:00:00\", \"variable\": \"near_max\", \"value\": 0.5}, {\"date\": \"2020-10-01T00:00:00\", \"variable\": \"near_max\", \"value\": 0.5}, {\"date\": \"2020-10-02T00:00:00\", \"variable\": \"near_max\", \"value\": 0.5}, {\"date\": \"2020-10-05T00:00:00\", \"variable\": \"near_max\", \"value\": 0.67}, {\"date\": \"2020-10-06T00:00:00\", \"variable\": \"near_max\", \"value\": 0.5}, {\"date\": \"2020-10-07T00:00:00\", \"variable\": \"near_max\", \"value\": 0.67}, {\"date\": \"2020-10-08T00:00:00\", \"variable\": \"near_max\", \"value\": 0.67}, {\"date\": \"2020-10-09T00:00:00\", \"variable\": \"near_max\", \"value\": 0.67}, {\"date\": \"2020-10-12T00:00:00\", \"variable\": \"near_max\", \"value\": 0.67}, {\"date\": \"2020-10-13T00:00:00\", \"variable\": \"near_max\", \"value\": 0.5}, {\"date\": \"2020-10-14T00:00:00\", \"variable\": \"near_max\", \"value\": 0.67}, {\"date\": \"2020-10-15T00:00:00\", \"variable\": \"near_max\", \"value\": 0.67}, {\"date\": \"2020-10-16T00:00:00\", \"variable\": \"near_max\", \"value\": 0.67}, {\"date\": \"2020-10-19T00:00:00\", \"variable\": \"near_max\", \"value\": 0.33}, {\"date\": \"2020-10-20T00:00:00\", \"variable\": \"near_max\", \"value\": 0.33}, {\"date\": \"2020-10-21T00:00:00\", \"variable\": \"near_max\", \"value\": 0.5}, {\"date\": \"2020-10-22T00:00:00\", \"variable\": \"near_max\", \"value\": 0.5}, {\"date\": \"2020-10-23T00:00:00\", \"variable\": \"near_max\", \"value\": 0.5}, {\"date\": \"2020-10-26T00:00:00\", \"variable\": \"near_max\", \"value\": 0.5}, {\"date\": \"2020-10-27T00:00:00\", \"variable\": \"near_max\", \"value\": 0.33}, {\"date\": \"2020-10-28T00:00:00\", \"variable\": \"near_max\", \"value\": 0.33}, {\"date\": \"2020-10-29T00:00:00\", \"variable\": \"near_max\", \"value\": 0.33}, {\"date\": \"2020-10-30T00:00:00\", \"variable\": \"near_max\", \"value\": 0.33}, {\"date\": \"2020-11-02T00:00:00\", \"variable\": \"near_max\", \"value\": 0.33}, {\"date\": \"2020-11-03T00:00:00\", \"variable\": \"near_max\", \"value\": 0.33}, {\"date\": \"2020-11-04T00:00:00\", \"variable\": \"near_max\", \"value\": 0.67}, {\"date\": \"2020-11-05T00:00:00\", \"variable\": \"near_max\", \"value\": 0.5}, {\"date\": \"2020-11-06T00:00:00\", \"variable\": \"near_max\", \"value\": 0.67}, {\"date\": \"2020-11-09T00:00:00\", \"variable\": \"near_max\", \"value\": 0.5}, {\"date\": \"2020-11-10T00:00:00\", \"variable\": \"near_max\", \"value\": 0.67}, {\"date\": \"2020-11-11T00:00:00\", \"variable\": \"near_max\", \"value\": 0.67}, {\"date\": \"2020-11-12T00:00:00\", \"variable\": \"near_max\", \"value\": 0.67}, {\"date\": \"2020-11-13T00:00:00\", \"variable\": \"near_max\", \"value\": 0.67}, {\"date\": \"2020-11-16T00:00:00\", \"variable\": \"near_max\", \"value\": 0.67}, {\"date\": \"2020-11-17T00:00:00\", \"variable\": \"near_max\", \"value\": 0.67}, {\"date\": \"2020-11-18T00:00:00\", \"variable\": \"near_max\", \"value\": 0.67}, {\"date\": \"2020-11-19T00:00:00\", \"variable\": \"near_max\", \"value\": 0.67}, {\"date\": \"2020-11-20T00:00:00\", \"variable\": \"near_max\", \"value\": 0.71}, {\"date\": \"2020-11-23T00:00:00\", \"variable\": \"near_max\", \"value\": 0.71}, {\"date\": \"2020-11-24T00:00:00\", \"variable\": \"near_max\", \"value\": 0.71}, {\"date\": \"2020-11-25T00:00:00\", \"variable\": \"near_max\", \"value\": 0.71}, {\"date\": \"2020-11-27T00:00:00\", \"variable\": \"near_max\", \"value\": 0.71}, {\"date\": \"2020-11-30T00:00:00\", \"variable\": \"near_max\", \"value\": 0.71}, {\"date\": \"2020-12-01T00:00:00\", \"variable\": \"near_max\", \"value\": 0.71}, {\"date\": \"2020-12-02T00:00:00\", \"variable\": \"near_max\", \"value\": 0.71}, {\"date\": \"2020-12-03T00:00:00\", \"variable\": \"near_max\", \"value\": 0.71}, {\"date\": \"2020-12-04T00:00:00\", \"variable\": \"near_max\", \"value\": 0.71}, {\"date\": \"2020-12-07T00:00:00\", \"variable\": \"near_max\", \"value\": 0.71}, {\"date\": \"2020-12-08T00:00:00\", \"variable\": \"near_max\", \"value\": 0.71}, {\"date\": \"2020-12-09T00:00:00\", \"variable\": \"near_max\", \"value\": 0.71}, {\"date\": \"2020-12-10T00:00:00\", \"variable\": \"near_max\", \"value\": 0.71}, {\"date\": \"2020-12-11T00:00:00\", \"variable\": \"near_max\", \"value\": 0.71}, {\"date\": \"2020-12-14T00:00:00\", \"variable\": \"near_max\", \"value\": 0.71}, {\"date\": \"2020-12-15T00:00:00\", \"variable\": \"near_max\", \"value\": 0.57}, {\"date\": \"2020-12-16T00:00:00\", \"variable\": \"near_max\", \"value\": 0.57}, {\"date\": \"2020-12-17T00:00:00\", \"variable\": \"near_max\", \"value\": 0.71}, {\"date\": \"2020-12-18T00:00:00\", \"variable\": \"near_max\", \"value\": 0.71}, {\"date\": \"2020-12-21T00:00:00\", \"variable\": \"near_max\", \"value\": 0.71}, {\"date\": \"2020-12-22T00:00:00\", \"variable\": \"near_max\", \"value\": 0.71}, {\"date\": \"2020-12-23T00:00:00\", \"variable\": \"near_max\", \"value\": 0.71}, {\"date\": \"2020-12-24T00:00:00\", \"variable\": \"near_max\", \"value\": 0.71}, {\"date\": \"2020-12-28T00:00:00\", \"variable\": \"near_max\", \"value\": 0.71}, {\"date\": \"2020-12-29T00:00:00\", \"variable\": \"near_max\", \"value\": 0.71}, {\"date\": \"2020-12-30T00:00:00\", \"variable\": \"near_max\", \"value\": 0.71}, {\"date\": \"2020-12-31T00:00:00\", \"variable\": \"near_max\", \"value\": 0.71}, {\"date\": \"2018-01-03T00:00:00\", \"variable\": \"near_min\", \"value\": 0.6}, {\"date\": \"2018-01-04T00:00:00\", \"variable\": \"near_min\", \"value\": 0.6}, {\"date\": \"2018-01-05T00:00:00\", \"variable\": \"near_min\", \"value\": 0.6}, {\"date\": \"2018-01-08T00:00:00\", \"variable\": \"near_min\", \"value\": 0.6}, {\"date\": \"2018-01-09T00:00:00\", \"variable\": \"near_min\", \"value\": 0.6}, {\"date\": \"2018-01-10T00:00:00\", \"variable\": \"near_min\", \"value\": 0.6}, {\"date\": \"2018-01-11T00:00:00\", \"variable\": \"near_min\", \"value\": 0.6}, {\"date\": \"2018-01-12T00:00:00\", \"variable\": \"near_min\", \"value\": 0.6}, {\"date\": \"2018-01-16T00:00:00\", \"variable\": \"near_min\", \"value\": 0.6}, {\"date\": \"2018-01-17T00:00:00\", \"variable\": \"near_min\", \"value\": 0.6}, {\"date\": \"2018-01-18T00:00:00\", \"variable\": \"near_min\", \"value\": 0.6}, {\"date\": \"2018-01-19T00:00:00\", \"variable\": \"near_min\", \"value\": 0.6}, {\"date\": \"2018-01-22T00:00:00\", \"variable\": \"near_min\", \"value\": 0.6}, {\"date\": \"2018-01-23T00:00:00\", \"variable\": \"near_min\", \"value\": 0.6}, {\"date\": \"2018-01-24T00:00:00\", \"variable\": \"near_min\", \"value\": 0.6}, {\"date\": \"2018-01-25T00:00:00\", \"variable\": \"near_min\", \"value\": 0.6}, {\"date\": \"2018-01-26T00:00:00\", \"variable\": \"near_min\", \"value\": 0.6}, {\"date\": \"2018-01-29T00:00:00\", \"variable\": \"near_min\", \"value\": 0.6}, {\"date\": \"2018-01-30T00:00:00\", \"variable\": \"near_min\", \"value\": 0.6}, {\"date\": \"2018-01-31T00:00:00\", \"variable\": \"near_min\", \"value\": 0.6}, {\"date\": \"2018-02-01T00:00:00\", \"variable\": \"near_min\", \"value\": 0.6}, {\"date\": \"2018-02-02T00:00:00\", \"variable\": \"near_min\", \"value\": 0.6}, {\"date\": \"2018-02-05T00:00:00\", \"variable\": \"near_min\", \"value\": 0.8}, {\"date\": \"2018-02-06T00:00:00\", \"variable\": \"near_min\", \"value\": 0.8}, {\"date\": \"2018-02-07T00:00:00\", \"variable\": \"near_min\", \"value\": 0.8}, {\"date\": \"2018-02-08T00:00:00\", \"variable\": \"near_min\", \"value\": 0.8}, {\"date\": \"2018-02-09T00:00:00\", \"variable\": \"near_min\", \"value\": 0.8}, {\"date\": \"2018-02-12T00:00:00\", \"variable\": \"near_min\", \"value\": 0.8}, {\"date\": \"2018-02-13T00:00:00\", \"variable\": \"near_min\", \"value\": 0.67}, {\"date\": \"2018-02-14T00:00:00\", \"variable\": \"near_min\", \"value\": 0.67}, {\"date\": \"2018-02-15T00:00:00\", \"variable\": \"near_min\", \"value\": 0.67}, {\"date\": \"2018-02-16T00:00:00\", \"variable\": \"near_min\", \"value\": 0.67}, {\"date\": \"2018-02-20T00:00:00\", \"variable\": \"near_min\", \"value\": 0.67}, {\"date\": \"2018-02-21T00:00:00\", \"variable\": \"near_min\", \"value\": 0.67}, {\"date\": \"2018-02-22T00:00:00\", \"variable\": \"near_min\", \"value\": 0.5}, {\"date\": \"2018-02-23T00:00:00\", \"variable\": \"near_min\", \"value\": 0.8}, {\"date\": \"2018-02-26T00:00:00\", \"variable\": \"near_min\", \"value\": 0.5}, {\"date\": \"2018-02-27T00:00:00\", \"variable\": \"near_min\", \"value\": 0.67}, {\"date\": \"2018-02-28T00:00:00\", \"variable\": \"near_min\", \"value\": 0.67}, {\"date\": \"2018-03-01T00:00:00\", \"variable\": \"near_min\", \"value\": 0.67}, {\"date\": \"2018-03-02T00:00:00\", \"variable\": \"near_min\", \"value\": 0.67}, {\"date\": \"2018-03-05T00:00:00\", \"variable\": \"near_min\", \"value\": 0.67}, {\"date\": \"2018-03-06T00:00:00\", \"variable\": \"near_min\", \"value\": 0.67}, {\"date\": \"2018-03-07T00:00:00\", \"variable\": \"near_min\", \"value\": 0.67}, {\"date\": \"2018-03-08T00:00:00\", \"variable\": \"near_min\", \"value\": 0.67}, {\"date\": \"2018-03-09T00:00:00\", \"variable\": \"near_min\", \"value\": 0.67}, {\"date\": \"2018-03-12T00:00:00\", \"variable\": \"near_min\", \"value\": 0.67}, {\"date\": \"2018-03-13T00:00:00\", \"variable\": \"near_min\", \"value\": 0.67}, {\"date\": \"2018-03-14T00:00:00\", \"variable\": \"near_min\", \"value\": 0.67}, {\"date\": \"2018-03-15T00:00:00\", \"variable\": \"near_min\", \"value\": 0.67}, {\"date\": \"2018-03-16T00:00:00\", \"variable\": \"near_min\", \"value\": 0.67}, {\"date\": \"2018-03-19T00:00:00\", \"variable\": \"near_min\", \"value\": 0.67}, {\"date\": \"2018-03-20T00:00:00\", \"variable\": \"near_min\", \"value\": 0.67}, {\"date\": \"2018-03-21T00:00:00\", \"variable\": \"near_min\", \"value\": 0.67}, {\"date\": \"2018-03-22T00:00:00\", \"variable\": \"near_min\", \"value\": 0.67}, {\"date\": \"2018-03-23T00:00:00\", \"variable\": \"near_min\", \"value\": 0.67}, {\"date\": \"2018-03-26T00:00:00\", \"variable\": \"near_min\", \"value\": 0.67}, {\"date\": \"2018-03-27T00:00:00\", \"variable\": \"near_min\", \"value\": 0.67}, {\"date\": \"2018-03-28T00:00:00\", \"variable\": \"near_min\", \"value\": 0.67}, {\"date\": \"2018-03-29T00:00:00\", \"variable\": \"near_min\", \"value\": 0.67}, {\"date\": \"2018-04-02T00:00:00\", \"variable\": \"near_min\", \"value\": 0.67}, {\"date\": \"2018-04-03T00:00:00\", \"variable\": \"near_min\", \"value\": 0.67}, {\"date\": \"2018-04-04T00:00:00\", \"variable\": \"near_min\", \"value\": 0.67}, {\"date\": \"2018-04-05T00:00:00\", \"variable\": \"near_min\", \"value\": 0.67}, {\"date\": \"2018-04-06T00:00:00\", \"variable\": \"near_min\", \"value\": 0.8}, {\"date\": \"2018-04-09T00:00:00\", \"variable\": \"near_min\", \"value\": 0.67}, {\"date\": \"2018-04-10T00:00:00\", \"variable\": \"near_min\", \"value\": 0.67}, {\"date\": \"2018-04-11T00:00:00\", \"variable\": \"near_min\", \"value\": 0.67}, {\"date\": \"2018-04-12T00:00:00\", \"variable\": \"near_min\", \"value\": 0.67}, {\"date\": \"2018-04-13T00:00:00\", \"variable\": \"near_min\", \"value\": 0.67}, {\"date\": \"2018-04-16T00:00:00\", \"variable\": \"near_min\", \"value\": 0.67}, {\"date\": \"2018-04-17T00:00:00\", \"variable\": \"near_min\", \"value\": 0.67}, {\"date\": \"2018-04-18T00:00:00\", \"variable\": \"near_min\", \"value\": 0.67}, {\"date\": \"2018-04-19T00:00:00\", \"variable\": \"near_min\", \"value\": 0.67}, {\"date\": \"2018-04-20T00:00:00\", \"variable\": \"near_min\", \"value\": 0.67}, {\"date\": \"2018-04-23T00:00:00\", \"variable\": \"near_min\", \"value\": 0.67}, {\"date\": \"2018-04-24T00:00:00\", \"variable\": \"near_min\", \"value\": 0.67}, {\"date\": \"2018-04-25T00:00:00\", \"variable\": \"near_min\", \"value\": 0.67}, {\"date\": \"2018-04-26T00:00:00\", \"variable\": \"near_min\", \"value\": 0.67}, {\"date\": \"2018-04-27T00:00:00\", \"variable\": \"near_min\", \"value\": 0.67}, {\"date\": \"2018-04-30T00:00:00\", \"variable\": \"near_min\", \"value\": 0.67}, {\"date\": \"2018-05-01T00:00:00\", \"variable\": \"near_min\", \"value\": 0.67}, {\"date\": \"2018-05-02T00:00:00\", \"variable\": \"near_min\", \"value\": 0.67}, {\"date\": \"2018-05-03T00:00:00\", \"variable\": \"near_min\", \"value\": 0.67}, {\"date\": \"2018-05-04T00:00:00\", \"variable\": \"near_min\", \"value\": 0.8}, {\"date\": \"2018-05-07T00:00:00\", \"variable\": \"near_min\", \"value\": 0.67}, {\"date\": \"2018-05-08T00:00:00\", \"variable\": \"near_min\", \"value\": 0.67}, {\"date\": \"2018-05-09T00:00:00\", \"variable\": \"near_min\", \"value\": 0.67}, {\"date\": \"2018-05-10T00:00:00\", \"variable\": \"near_min\", \"value\": 0.67}, {\"date\": \"2018-05-11T00:00:00\", \"variable\": \"near_min\", \"value\": 0.67}, {\"date\": \"2018-05-14T00:00:00\", \"variable\": \"near_min\", \"value\": 0.67}, {\"date\": \"2018-05-15T00:00:00\", \"variable\": \"near_min\", \"value\": 0.67}, {\"date\": \"2018-05-16T00:00:00\", \"variable\": \"near_min\", \"value\": 0.67}, {\"date\": \"2018-05-17T00:00:00\", \"variable\": \"near_min\", \"value\": 0.67}, {\"date\": \"2018-05-18T00:00:00\", \"variable\": \"near_min\", \"value\": 0.67}, {\"date\": \"2018-05-21T00:00:00\", \"variable\": \"near_min\", \"value\": 0.67}, {\"date\": \"2018-05-22T00:00:00\", \"variable\": \"near_min\", \"value\": 0.67}, {\"date\": \"2018-05-23T00:00:00\", \"variable\": \"near_min\", \"value\": 0.67}, {\"date\": \"2018-05-24T00:00:00\", \"variable\": \"near_min\", \"value\": 0.67}, {\"date\": \"2018-05-25T00:00:00\", \"variable\": \"near_min\", \"value\": 0.67}, {\"date\": \"2018-05-29T00:00:00\", \"variable\": \"near_min\", \"value\": 0.67}, {\"date\": \"2018-05-30T00:00:00\", \"variable\": \"near_min\", \"value\": 0.67}, {\"date\": \"2018-05-31T00:00:00\", \"variable\": \"near_min\", \"value\": 0.8}, {\"date\": \"2018-06-01T00:00:00\", \"variable\": \"near_min\", \"value\": 0.67}, {\"date\": \"2018-06-04T00:00:00\", \"variable\": \"near_min\", \"value\": 0.67}, {\"date\": \"2018-06-05T00:00:00\", \"variable\": \"near_min\", \"value\": 0.67}, {\"date\": \"2018-06-06T00:00:00\", \"variable\": \"near_min\", \"value\": 0.67}, {\"date\": \"2018-06-07T00:00:00\", \"variable\": \"near_min\", \"value\": 0.67}, {\"date\": \"2018-06-08T00:00:00\", \"variable\": \"near_min\", \"value\": 0.67}, {\"date\": \"2018-06-11T00:00:00\", \"variable\": \"near_min\", \"value\": 0.67}, {\"date\": \"2018-06-12T00:00:00\", \"variable\": \"near_min\", \"value\": 0.67}, {\"date\": \"2018-06-13T00:00:00\", \"variable\": \"near_min\", \"value\": 0.67}, {\"date\": \"2018-06-14T00:00:00\", \"variable\": \"near_min\", \"value\": 0.67}, {\"date\": \"2018-06-15T00:00:00\", \"variable\": \"near_min\", \"value\": 0.67}, {\"date\": \"2018-06-18T00:00:00\", \"variable\": \"near_min\", \"value\": 0.67}, {\"date\": \"2018-06-19T00:00:00\", \"variable\": \"near_min\", \"value\": 0.67}, {\"date\": \"2018-06-20T00:00:00\", \"variable\": \"near_min\", \"value\": 0.67}, {\"date\": \"2018-06-21T00:00:00\", \"variable\": \"near_min\", \"value\": 0.67}, {\"date\": \"2018-06-22T00:00:00\", \"variable\": \"near_min\", \"value\": 0.67}, {\"date\": \"2018-06-25T00:00:00\", \"variable\": \"near_min\", \"value\": 0.67}, {\"date\": \"2018-06-26T00:00:00\", \"variable\": \"near_min\", \"value\": 0.67}, {\"date\": \"2018-06-27T00:00:00\", \"variable\": \"near_min\", \"value\": 0.67}, {\"date\": \"2018-06-28T00:00:00\", \"variable\": \"near_min\", \"value\": 0.67}, {\"date\": \"2018-06-29T00:00:00\", \"variable\": \"near_min\", \"value\": 0.67}, {\"date\": \"2018-07-02T00:00:00\", \"variable\": \"near_min\", \"value\": 0.67}, {\"date\": \"2018-07-03T00:00:00\", \"variable\": \"near_min\", \"value\": 0.67}, {\"date\": \"2018-07-05T00:00:00\", \"variable\": \"near_min\", \"value\": 0.67}, {\"date\": \"2018-07-06T00:00:00\", \"variable\": \"near_min\", \"value\": 0.67}, {\"date\": \"2018-07-09T00:00:00\", \"variable\": \"near_min\", \"value\": 0.67}, {\"date\": \"2018-07-10T00:00:00\", \"variable\": \"near_min\", \"value\": 0.67}, {\"date\": \"2018-07-11T00:00:00\", \"variable\": \"near_min\", \"value\": 0.67}, {\"date\": \"2018-07-12T00:00:00\", \"variable\": \"near_min\", \"value\": 0.67}, {\"date\": \"2018-07-13T00:00:00\", \"variable\": \"near_min\", \"value\": 0.67}, {\"date\": \"2018-07-16T00:00:00\", \"variable\": \"near_min\", \"value\": 0.67}, {\"date\": \"2018-07-17T00:00:00\", \"variable\": \"near_min\", \"value\": 0.67}, {\"date\": \"2018-07-18T00:00:00\", \"variable\": \"near_min\", \"value\": 0.67}, {\"date\": \"2018-07-19T00:00:00\", \"variable\": \"near_min\", \"value\": 0.67}, {\"date\": \"2018-07-20T00:00:00\", \"variable\": \"near_min\", \"value\": 0.67}, {\"date\": \"2018-07-23T00:00:00\", \"variable\": \"near_min\", \"value\": 0.67}, {\"date\": \"2018-07-24T00:00:00\", \"variable\": \"near_min\", \"value\": 0.67}, {\"date\": \"2018-07-25T00:00:00\", \"variable\": \"near_min\", \"value\": 0.67}, {\"date\": \"2018-07-26T00:00:00\", \"variable\": \"near_min\", \"value\": 0.67}, {\"date\": \"2018-07-27T00:00:00\", \"variable\": \"near_min\", \"value\": 0.67}, {\"date\": \"2018-07-30T00:00:00\", \"variable\": \"near_min\", \"value\": 0.5}, {\"date\": \"2018-07-31T00:00:00\", \"variable\": \"near_min\", \"value\": 0.5}, {\"date\": \"2018-08-01T00:00:00\", \"variable\": \"near_min\", \"value\": 0.5}, {\"date\": \"2018-08-02T00:00:00\", \"variable\": \"near_min\", \"value\": 0.67}, {\"date\": \"2018-08-03T00:00:00\", \"variable\": \"near_min\", \"value\": 0.5}, {\"date\": \"2018-08-06T00:00:00\", \"variable\": \"near_min\", \"value\": 0.5}, {\"date\": \"2018-08-07T00:00:00\", \"variable\": \"near_min\", \"value\": 0.5}, {\"date\": \"2018-08-08T00:00:00\", \"variable\": \"near_min\", \"value\": 0.5}, {\"date\": \"2018-08-09T00:00:00\", \"variable\": \"near_min\", \"value\": 0.67}, {\"date\": \"2018-08-10T00:00:00\", \"variable\": \"near_min\", \"value\": 0.5}, {\"date\": \"2018-08-13T00:00:00\", \"variable\": \"near_min\", \"value\": 0.5}, {\"date\": \"2018-08-14T00:00:00\", \"variable\": \"near_min\", \"value\": 0.5}, {\"date\": \"2018-08-15T00:00:00\", \"variable\": \"near_min\", \"value\": 0.5}, {\"date\": \"2018-08-16T00:00:00\", \"variable\": \"near_min\", \"value\": 0.5}, {\"date\": \"2018-08-17T00:00:00\", \"variable\": \"near_min\", \"value\": 0.5}, {\"date\": \"2018-08-20T00:00:00\", \"variable\": \"near_min\", \"value\": 0.5}, {\"date\": \"2018-08-21T00:00:00\", \"variable\": \"near_min\", \"value\": 0.5}, {\"date\": \"2018-08-22T00:00:00\", \"variable\": \"near_min\", \"value\": 0.5}, {\"date\": \"2018-08-23T00:00:00\", \"variable\": \"near_min\", \"value\": 0.5}, {\"date\": \"2018-08-24T00:00:00\", \"variable\": \"near_min\", \"value\": 0.5}, {\"date\": \"2018-08-27T00:00:00\", \"variable\": \"near_min\", \"value\": 0.5}, {\"date\": \"2018-08-28T00:00:00\", \"variable\": \"near_min\", \"value\": 0.5}, {\"date\": \"2018-08-29T00:00:00\", \"variable\": \"near_min\", \"value\": 0.5}, {\"date\": \"2018-08-30T00:00:00\", \"variable\": \"near_min\", \"value\": 0.5}, {\"date\": \"2018-08-31T00:00:00\", \"variable\": \"near_min\", \"value\": 0.5}, {\"date\": \"2018-09-04T00:00:00\", \"variable\": \"near_min\", \"value\": 0.5}, {\"date\": \"2018-09-05T00:00:00\", \"variable\": \"near_min\", \"value\": 0.5}, {\"date\": \"2018-09-06T00:00:00\", \"variable\": \"near_min\", \"value\": 0.5}, {\"date\": \"2018-09-07T00:00:00\", \"variable\": \"near_min\", \"value\": 0.5}, {\"date\": \"2018-09-10T00:00:00\", \"variable\": \"near_min\", \"value\": 0.5}, {\"date\": \"2018-09-11T00:00:00\", \"variable\": \"near_min\", \"value\": 0.5}, {\"date\": \"2018-09-12T00:00:00\", \"variable\": \"near_min\", \"value\": 0.5}, {\"date\": \"2018-09-13T00:00:00\", \"variable\": \"near_min\", \"value\": 0.5}, {\"date\": \"2018-09-14T00:00:00\", \"variable\": \"near_min\", \"value\": 0.5}, {\"date\": \"2018-09-17T00:00:00\", \"variable\": \"near_min\", \"value\": 0.5}, {\"date\": \"2018-09-18T00:00:00\", \"variable\": \"near_min\", \"value\": 0.5}, {\"date\": \"2018-09-19T00:00:00\", \"variable\": \"near_min\", \"value\": 0.5}, {\"date\": \"2018-09-20T00:00:00\", \"variable\": \"near_min\", \"value\": 0.5}, {\"date\": \"2018-09-21T00:00:00\", \"variable\": \"near_min\", \"value\": 0.5}, {\"date\": \"2018-09-24T00:00:00\", \"variable\": \"near_min\", \"value\": 0.5}, {\"date\": \"2018-09-25T00:00:00\", \"variable\": \"near_min\", \"value\": 0.5}, {\"date\": \"2018-09-26T00:00:00\", \"variable\": \"near_min\", \"value\": 0.5}, {\"date\": \"2018-09-27T00:00:00\", \"variable\": \"near_min\", \"value\": 0.5}, {\"date\": \"2018-09-28T00:00:00\", \"variable\": \"near_min\", \"value\": 0.5}, {\"date\": \"2018-10-01T00:00:00\", \"variable\": \"near_min\", \"value\": 0.5}, {\"date\": \"2018-10-02T00:00:00\", \"variable\": \"near_min\", \"value\": 0.5}, {\"date\": \"2018-10-03T00:00:00\", \"variable\": \"near_min\", \"value\": 0.5}, {\"date\": \"2018-10-04T00:00:00\", \"variable\": \"near_min\", \"value\": 0.5}, {\"date\": \"2018-10-05T00:00:00\", \"variable\": \"near_min\", \"value\": 0.5}, {\"date\": \"2018-10-08T00:00:00\", \"variable\": \"near_min\", \"value\": 0.5}, {\"date\": \"2018-10-09T00:00:00\", \"variable\": \"near_min\", \"value\": 0.5}, {\"date\": \"2018-10-10T00:00:00\", \"variable\": \"near_min\", \"value\": 0.5}, {\"date\": \"2018-10-11T00:00:00\", \"variable\": \"near_min\", \"value\": 0.5}, {\"date\": \"2018-10-12T00:00:00\", \"variable\": \"near_min\", \"value\": 0.5}, {\"date\": \"2018-10-15T00:00:00\", \"variable\": \"near_min\", \"value\": 0.5}, {\"date\": \"2018-10-16T00:00:00\", \"variable\": \"near_min\", \"value\": 0.5}, {\"date\": \"2018-10-17T00:00:00\", \"variable\": \"near_min\", \"value\": 0.5}, {\"date\": \"2018-10-18T00:00:00\", \"variable\": \"near_min\", \"value\": 0.5}, {\"date\": \"2018-10-19T00:00:00\", \"variable\": \"near_min\", \"value\": 0.5}, {\"date\": \"2018-10-22T00:00:00\", \"variable\": \"near_min\", \"value\": 0.5}, {\"date\": \"2018-10-23T00:00:00\", \"variable\": \"near_min\", \"value\": 0.5}, {\"date\": \"2018-10-24T00:00:00\", \"variable\": \"near_min\", \"value\": 0.5}, {\"date\": \"2018-10-25T00:00:00\", \"variable\": \"near_min\", \"value\": 0.5}, {\"date\": \"2018-10-26T00:00:00\", \"variable\": \"near_min\", \"value\": 0.5}, {\"date\": \"2018-10-29T00:00:00\", \"variable\": \"near_min\", \"value\": 0.5}, {\"date\": \"2018-10-30T00:00:00\", \"variable\": \"near_min\", \"value\": 0.5}, {\"date\": \"2018-10-31T00:00:00\", \"variable\": \"near_min\", \"value\": 0.5}, {\"date\": \"2018-11-01T00:00:00\", \"variable\": \"near_min\", \"value\": 0.5}, {\"date\": \"2018-11-02T00:00:00\", \"variable\": \"near_min\", \"value\": 0.5}, {\"date\": \"2018-11-05T00:00:00\", \"variable\": \"near_min\", \"value\": 0.5}, {\"date\": \"2018-11-06T00:00:00\", \"variable\": \"near_min\", \"value\": 0.5}, {\"date\": \"2018-11-07T00:00:00\", \"variable\": \"near_min\", \"value\": 0.5}, {\"date\": \"2018-11-08T00:00:00\", \"variable\": \"near_min\", \"value\": 0.5}, {\"date\": \"2018-11-09T00:00:00\", \"variable\": \"near_min\", \"value\": 0.5}, {\"date\": \"2018-11-12T00:00:00\", \"variable\": \"near_min\", \"value\": 0.5}, {\"date\": \"2018-11-13T00:00:00\", \"variable\": \"near_min\", \"value\": 0.5}, {\"date\": \"2018-11-14T00:00:00\", \"variable\": \"near_min\", \"value\": 0.5}, {\"date\": \"2018-11-15T00:00:00\", \"variable\": \"near_min\", \"value\": 0.6}, {\"date\": \"2018-11-16T00:00:00\", \"variable\": \"near_min\", \"value\": 0.6}, {\"date\": \"2018-11-19T00:00:00\", \"variable\": \"near_min\", \"value\": 0.5}, {\"date\": \"2018-11-20T00:00:00\", \"variable\": \"near_min\", \"value\": 0.5}, {\"date\": \"2018-11-21T00:00:00\", \"variable\": \"near_min\", \"value\": 0.5}, {\"date\": \"2018-11-23T00:00:00\", \"variable\": \"near_min\", \"value\": 0.5}, {\"date\": \"2018-11-26T00:00:00\", \"variable\": \"near_min\", \"value\": 0.5}, {\"date\": \"2018-11-27T00:00:00\", \"variable\": \"near_min\", \"value\": 0.5}, {\"date\": \"2018-11-28T00:00:00\", \"variable\": \"near_min\", \"value\": 0.5}, {\"date\": \"2018-11-29T00:00:00\", \"variable\": \"near_min\", \"value\": 0.5}, {\"date\": \"2018-11-30T00:00:00\", \"variable\": \"near_min\", \"value\": 0.5}, {\"date\": \"2018-12-03T00:00:00\", \"variable\": \"near_min\", \"value\": 0.5}, {\"date\": \"2018-12-04T00:00:00\", \"variable\": \"near_min\", \"value\": 0.5}, {\"date\": \"2018-12-06T00:00:00\", \"variable\": \"near_min\", \"value\": 0.5}, {\"date\": \"2018-12-07T00:00:00\", \"variable\": \"near_min\", \"value\": 0.5}, {\"date\": \"2018-12-10T00:00:00\", \"variable\": \"near_min\", \"value\": 0.5}, {\"date\": \"2018-12-11T00:00:00\", \"variable\": \"near_min\", \"value\": 0.5}, {\"date\": \"2018-12-12T00:00:00\", \"variable\": \"near_min\", \"value\": 0.5}, {\"date\": \"2018-12-13T00:00:00\", \"variable\": \"near_min\", \"value\": 0.5}, {\"date\": \"2018-12-14T00:00:00\", \"variable\": \"near_min\", \"value\": 0.5}, {\"date\": \"2018-12-17T00:00:00\", \"variable\": \"near_min\", \"value\": 0.5}, {\"date\": \"2018-12-18T00:00:00\", \"variable\": \"near_min\", \"value\": 0.5}, {\"date\": \"2018-12-19T00:00:00\", \"variable\": \"near_min\", \"value\": 0.5}, {\"date\": \"2018-12-20T00:00:00\", \"variable\": \"near_min\", \"value\": 0.5}, {\"date\": \"2018-12-21T00:00:00\", \"variable\": \"near_min\", \"value\": 0.5}, {\"date\": \"2018-12-24T00:00:00\", \"variable\": \"near_min\", \"value\": 0.5}, {\"date\": \"2018-12-26T00:00:00\", \"variable\": \"near_min\", \"value\": 0.5}, {\"date\": \"2018-12-27T00:00:00\", \"variable\": \"near_min\", \"value\": 0.5}, {\"date\": \"2018-12-28T00:00:00\", \"variable\": \"near_min\", \"value\": 0.5}, {\"date\": \"2018-12-31T00:00:00\", \"variable\": \"near_min\", \"value\": 0.5}, {\"date\": \"2019-01-02T00:00:00\", \"variable\": \"near_min\", \"value\": 0.5}, {\"date\": \"2019-01-03T00:00:00\", \"variable\": \"near_min\", \"value\": 0.5}, {\"date\": \"2019-01-04T00:00:00\", \"variable\": \"near_min\", \"value\": 0.5}, {\"date\": \"2019-01-07T00:00:00\", \"variable\": \"near_min\", \"value\": 0.5}, {\"date\": \"2019-01-08T00:00:00\", \"variable\": \"near_min\", \"value\": 0.5}, {\"date\": \"2019-01-09T00:00:00\", \"variable\": \"near_min\", \"value\": 0.67}, {\"date\": \"2019-01-10T00:00:00\", \"variable\": \"near_min\", \"value\": 0.67}, {\"date\": \"2019-01-11T00:00:00\", \"variable\": \"near_min\", \"value\": 0.5}, {\"date\": \"2019-01-14T00:00:00\", \"variable\": \"near_min\", \"value\": 0.5}, {\"date\": \"2019-01-15T00:00:00\", \"variable\": \"near_min\", \"value\": 0.5}, {\"date\": \"2019-01-16T00:00:00\", \"variable\": \"near_min\", \"value\": 0.5}, {\"date\": \"2019-01-17T00:00:00\", \"variable\": \"near_min\", \"value\": 0.33}, {\"date\": \"2019-01-18T00:00:00\", \"variable\": \"near_min\", \"value\": 0.33}, {\"date\": \"2019-01-22T00:00:00\", \"variable\": \"near_min\", \"value\": 0.5}, {\"date\": \"2019-01-23T00:00:00\", \"variable\": \"near_min\", \"value\": 0.5}, {\"date\": \"2019-01-24T00:00:00\", \"variable\": \"near_min\", \"value\": 0.5}, {\"date\": \"2019-01-25T00:00:00\", \"variable\": \"near_min\", \"value\": 0.33}, {\"date\": \"2019-01-28T00:00:00\", \"variable\": \"near_min\", \"value\": 0.5}, {\"date\": \"2019-01-29T00:00:00\", \"variable\": \"near_min\", \"value\": 0.5}, {\"date\": \"2019-01-30T00:00:00\", \"variable\": \"near_min\", \"value\": 0.5}, {\"date\": \"2019-01-31T00:00:00\", \"variable\": \"near_min\", \"value\": 0.5}, {\"date\": \"2019-02-01T00:00:00\", \"variable\": \"near_min\", \"value\": 0.33}, {\"date\": \"2019-02-04T00:00:00\", \"variable\": \"near_min\", \"value\": 0.5}, {\"date\": \"2019-02-05T00:00:00\", \"variable\": \"near_min\", \"value\": 0.5}, {\"date\": \"2019-02-06T00:00:00\", \"variable\": \"near_min\", \"value\": 0.5}, {\"date\": \"2019-02-07T00:00:00\", \"variable\": \"near_min\", \"value\": 0.5}, {\"date\": \"2019-02-08T00:00:00\", \"variable\": \"near_min\", \"value\": 0.5}, {\"date\": \"2019-02-11T00:00:00\", \"variable\": \"near_min\", \"value\": 0.5}, {\"date\": \"2019-02-12T00:00:00\", \"variable\": \"near_min\", \"value\": 0.5}, {\"date\": \"2019-02-13T00:00:00\", \"variable\": \"near_min\", \"value\": 0.33}, {\"date\": \"2019-02-14T00:00:00\", \"variable\": \"near_min\", \"value\": 0.5}, {\"date\": \"2019-02-15T00:00:00\", \"variable\": \"near_min\", \"value\": 0.33}, {\"date\": \"2019-02-19T00:00:00\", \"variable\": \"near_min\", \"value\": 0.33}, {\"date\": \"2019-02-20T00:00:00\", \"variable\": \"near_min\", \"value\": 0.5}, {\"date\": \"2019-02-21T00:00:00\", \"variable\": \"near_min\", \"value\": 0.33}, {\"date\": \"2019-02-22T00:00:00\", \"variable\": \"near_min\", \"value\": 0.5}, {\"date\": \"2019-02-25T00:00:00\", \"variable\": \"near_min\", \"value\": 0.33}, {\"date\": \"2019-02-26T00:00:00\", \"variable\": \"near_min\", \"value\": 0.5}, {\"date\": \"2019-02-27T00:00:00\", \"variable\": \"near_min\", \"value\": 0.33}, {\"date\": \"2019-02-28T00:00:00\", \"variable\": \"near_min\", \"value\": 0.5}, {\"date\": \"2019-03-01T00:00:00\", \"variable\": \"near_min\", \"value\": 0.33}, {\"date\": \"2019-03-04T00:00:00\", \"variable\": \"near_min\", \"value\": 0.33}, {\"date\": \"2019-03-05T00:00:00\", \"variable\": \"near_min\", \"value\": 0.33}, {\"date\": \"2019-03-06T00:00:00\", \"variable\": \"near_min\", \"value\": 0.5}, {\"date\": \"2019-03-07T00:00:00\", \"variable\": \"near_min\", \"value\": 0.5}, {\"date\": \"2019-03-08T00:00:00\", \"variable\": \"near_min\", \"value\": 0.5}, {\"date\": \"2019-03-11T00:00:00\", \"variable\": \"near_min\", \"value\": 0.33}, {\"date\": \"2019-03-12T00:00:00\", \"variable\": \"near_min\", \"value\": 0.33}, {\"date\": \"2019-03-13T00:00:00\", \"variable\": \"near_min\", \"value\": 0.33}, {\"date\": \"2019-03-14T00:00:00\", \"variable\": \"near_min\", \"value\": 0.5}, {\"date\": \"2019-03-15T00:00:00\", \"variable\": \"near_min\", \"value\": 0.33}, {\"date\": \"2019-03-18T00:00:00\", \"variable\": \"near_min\", \"value\": 0.5}, {\"date\": \"2019-03-19T00:00:00\", \"variable\": \"near_min\", \"value\": 0.33}, {\"date\": \"2019-03-20T00:00:00\", \"variable\": \"near_min\", \"value\": 0.5}, {\"date\": \"2019-03-21T00:00:00\", \"variable\": \"near_min\", \"value\": 0.33}, {\"date\": \"2019-03-22T00:00:00\", \"variable\": \"near_min\", \"value\": 0.5}, {\"date\": \"2019-03-25T00:00:00\", \"variable\": \"near_min\", \"value\": 0.67}, {\"date\": \"2019-03-26T00:00:00\", \"variable\": \"near_min\", \"value\": 0.5}, {\"date\": \"2019-03-27T00:00:00\", \"variable\": \"near_min\", \"value\": 0.67}, {\"date\": \"2019-03-28T00:00:00\", \"variable\": \"near_min\", \"value\": 0.67}, {\"date\": \"2019-03-29T00:00:00\", \"variable\": \"near_min\", \"value\": 0.67}, {\"date\": \"2019-04-01T00:00:00\", \"variable\": \"near_min\", \"value\": 0.5}, {\"date\": \"2019-04-02T00:00:00\", \"variable\": \"near_min\", \"value\": 0.5}, {\"date\": \"2019-04-03T00:00:00\", \"variable\": \"near_min\", \"value\": 0.5}, {\"date\": \"2019-04-04T00:00:00\", \"variable\": \"near_min\", \"value\": 0.5}, {\"date\": \"2019-04-05T00:00:00\", \"variable\": \"near_min\", \"value\": 0.5}, {\"date\": \"2019-04-08T00:00:00\", \"variable\": \"near_min\", \"value\": 0.5}, {\"date\": \"2019-04-09T00:00:00\", \"variable\": \"near_min\", \"value\": 0.5}, {\"date\": \"2019-04-10T00:00:00\", \"variable\": \"near_min\", \"value\": 0.5}, {\"date\": \"2019-04-11T00:00:00\", \"variable\": \"near_min\", \"value\": 0.67}, {\"date\": \"2019-04-12T00:00:00\", \"variable\": \"near_min\", \"value\": 0.5}, {\"date\": \"2019-04-15T00:00:00\", \"variable\": \"near_min\", \"value\": 0.67}, {\"date\": \"2019-04-16T00:00:00\", \"variable\": \"near_min\", \"value\": 0.5}, {\"date\": \"2019-04-17T00:00:00\", \"variable\": \"near_min\", \"value\": 0.67}, {\"date\": \"2019-04-18T00:00:00\", \"variable\": \"near_min\", \"value\": 0.67}, {\"date\": \"2019-04-22T00:00:00\", \"variable\": \"near_min\", \"value\": 0.67}, {\"date\": \"2019-04-23T00:00:00\", \"variable\": \"near_min\", \"value\": 0.67}, {\"date\": \"2019-04-24T00:00:00\", \"variable\": \"near_min\", \"value\": 0.67}, {\"date\": \"2019-04-25T00:00:00\", \"variable\": \"near_min\", \"value\": 0.67}, {\"date\": \"2019-04-26T00:00:00\", \"variable\": \"near_min\", \"value\": 0.67}, {\"date\": \"2019-04-29T00:00:00\", \"variable\": \"near_min\", \"value\": 0.67}, {\"date\": \"2019-04-30T00:00:00\", \"variable\": \"near_min\", \"value\": 0.67}, {\"date\": \"2019-05-01T00:00:00\", \"variable\": \"near_min\", \"value\": 0.67}, {\"date\": \"2019-05-02T00:00:00\", \"variable\": \"near_min\", \"value\": 0.67}, {\"date\": \"2019-05-03T00:00:00\", \"variable\": \"near_min\", \"value\": 0.67}, {\"date\": \"2019-05-06T00:00:00\", \"variable\": \"near_min\", \"value\": 0.67}, {\"date\": \"2019-05-07T00:00:00\", \"variable\": \"near_min\", \"value\": 0.67}, {\"date\": \"2019-05-08T00:00:00\", \"variable\": \"near_min\", \"value\": 0.67}, {\"date\": \"2019-05-09T00:00:00\", \"variable\": \"near_min\", \"value\": 0.67}, {\"date\": \"2019-05-10T00:00:00\", \"variable\": \"near_min\", \"value\": 0.67}, {\"date\": \"2019-05-13T00:00:00\", \"variable\": \"near_min\", \"value\": 0.67}, {\"date\": \"2019-05-14T00:00:00\", \"variable\": \"near_min\", \"value\": 0.67}, {\"date\": \"2019-05-15T00:00:00\", \"variable\": \"near_min\", \"value\": 0.67}, {\"date\": \"2019-05-16T00:00:00\", \"variable\": \"near_min\", \"value\": 0.67}, {\"date\": \"2019-05-17T00:00:00\", \"variable\": \"near_min\", \"value\": 0.6}, {\"date\": \"2019-05-20T00:00:00\", \"variable\": \"near_min\", \"value\": 0.67}, {\"date\": \"2019-05-21T00:00:00\", \"variable\": \"near_min\", \"value\": 0.67}, {\"date\": \"2019-05-22T00:00:00\", \"variable\": \"near_min\", \"value\": 0.67}, {\"date\": \"2019-05-23T00:00:00\", \"variable\": \"near_min\", \"value\": 0.67}, {\"date\": \"2019-05-24T00:00:00\", \"variable\": \"near_min\", \"value\": 0.67}, {\"date\": \"2019-05-28T00:00:00\", \"variable\": \"near_min\", \"value\": 0.67}, {\"date\": \"2019-05-29T00:00:00\", \"variable\": \"near_min\", \"value\": 0.67}, {\"date\": \"2019-05-30T00:00:00\", \"variable\": \"near_min\", \"value\": 0.67}, {\"date\": \"2019-05-31T00:00:00\", \"variable\": \"near_min\", \"value\": 0.67}, {\"date\": \"2019-06-03T00:00:00\", \"variable\": \"near_min\", \"value\": 0.67}, {\"date\": \"2019-06-04T00:00:00\", \"variable\": \"near_min\", \"value\": 0.67}, {\"date\": \"2019-06-05T00:00:00\", \"variable\": \"near_min\", \"value\": 0.67}, {\"date\": \"2019-06-06T00:00:00\", \"variable\": \"near_min\", \"value\": 0.67}, {\"date\": \"2019-06-07T00:00:00\", \"variable\": \"near_min\", \"value\": 0.67}, {\"date\": \"2019-06-10T00:00:00\", \"variable\": \"near_min\", \"value\": 0.67}, {\"date\": \"2019-06-11T00:00:00\", \"variable\": \"near_min\", \"value\": 0.67}, {\"date\": \"2019-06-12T00:00:00\", \"variable\": \"near_min\", \"value\": 0.67}, {\"date\": \"2019-06-13T00:00:00\", \"variable\": \"near_min\", \"value\": 0.67}, {\"date\": \"2019-06-14T00:00:00\", \"variable\": \"near_min\", \"value\": 0.67}, {\"date\": \"2019-06-17T00:00:00\", \"variable\": \"near_min\", \"value\": 0.67}, {\"date\": \"2019-06-18T00:00:00\", \"variable\": \"near_min\", \"value\": 0.67}, {\"date\": \"2019-06-19T00:00:00\", \"variable\": \"near_min\", \"value\": 0.67}, {\"date\": \"2019-06-20T00:00:00\", \"variable\": \"near_min\", \"value\": 0.4}, {\"date\": \"2019-06-21T00:00:00\", \"variable\": \"near_min\", \"value\": 0.5}, {\"date\": \"2019-06-24T00:00:00\", \"variable\": \"near_min\", \"value\": 0.67}, {\"date\": \"2019-06-25T00:00:00\", \"variable\": \"near_min\", \"value\": 0.67}, {\"date\": \"2019-06-26T00:00:00\", \"variable\": \"near_min\", \"value\": 0.67}, {\"date\": \"2019-06-27T00:00:00\", \"variable\": \"near_min\", \"value\": 0.67}, {\"date\": \"2019-06-28T00:00:00\", \"variable\": \"near_min\", \"value\": 0.67}, {\"date\": \"2019-07-01T00:00:00\", \"variable\": \"near_min\", \"value\": 0.5}, {\"date\": \"2019-07-02T00:00:00\", \"variable\": \"near_min\", \"value\": 0.67}, {\"date\": \"2019-07-03T00:00:00\", \"variable\": \"near_min\", \"value\": 0.5}, {\"date\": \"2019-07-05T00:00:00\", \"variable\": \"near_min\", \"value\": 0.5}, {\"date\": \"2019-07-08T00:00:00\", \"variable\": \"near_min\", \"value\": 0.67}, {\"date\": \"2019-07-09T00:00:00\", \"variable\": \"near_min\", \"value\": 0.5}, {\"date\": \"2019-07-10T00:00:00\", \"variable\": \"near_min\", \"value\": 0.5}, {\"date\": \"2019-07-11T00:00:00\", \"variable\": \"near_min\", \"value\": 0.67}, {\"date\": \"2019-07-12T00:00:00\", \"variable\": \"near_min\", \"value\": 0.67}, {\"date\": \"2019-07-15T00:00:00\", \"variable\": \"near_min\", \"value\": 0.67}, {\"date\": \"2019-07-16T00:00:00\", \"variable\": \"near_min\", \"value\": 0.5}, {\"date\": \"2019-07-17T00:00:00\", \"variable\": \"near_min\", \"value\": 0.67}, {\"date\": \"2019-07-18T00:00:00\", \"variable\": \"near_min\", \"value\": 0.67}, {\"date\": \"2019-07-19T00:00:00\", \"variable\": \"near_min\", \"value\": 0.67}, {\"date\": \"2019-07-22T00:00:00\", \"variable\": \"near_min\", \"value\": 0.67}, {\"date\": \"2019-07-23T00:00:00\", \"variable\": \"near_min\", \"value\": 0.5}, {\"date\": \"2019-07-24T00:00:00\", \"variable\": \"near_min\", \"value\": 0.67}, {\"date\": \"2019-07-25T00:00:00\", \"variable\": \"near_min\", \"value\": 0.67}, {\"date\": \"2019-07-26T00:00:00\", \"variable\": \"near_min\", \"value\": 0.5}, {\"date\": \"2019-07-29T00:00:00\", \"variable\": \"near_min\", \"value\": 0.67}, {\"date\": \"2019-07-30T00:00:00\", \"variable\": \"near_min\", \"value\": 0.67}, {\"date\": \"2019-07-31T00:00:00\", \"variable\": \"near_min\", \"value\": 0.5}, {\"date\": \"2019-08-01T00:00:00\", \"variable\": \"near_min\", \"value\": 0.67}, {\"date\": \"2019-08-02T00:00:00\", \"variable\": \"near_min\", \"value\": 0.67}, {\"date\": \"2019-08-05T00:00:00\", \"variable\": \"near_min\", \"value\": 0.83}, {\"date\": \"2019-08-06T00:00:00\", \"variable\": \"near_min\", \"value\": 0.83}, {\"date\": \"2019-08-07T00:00:00\", \"variable\": \"near_min\", \"value\": 0.83}, {\"date\": \"2019-08-08T00:00:00\", \"variable\": \"near_min\", \"value\": 0.67}, {\"date\": \"2019-08-09T00:00:00\", \"variable\": \"near_min\", \"value\": 0.83}, {\"date\": \"2019-08-12T00:00:00\", \"variable\": \"near_min\", \"value\": 0.83}, {\"date\": \"2019-08-13T00:00:00\", \"variable\": \"near_min\", \"value\": 0.83}, {\"date\": \"2019-08-14T00:00:00\", \"variable\": \"near_min\", \"value\": 0.83}, {\"date\": \"2019-08-15T00:00:00\", \"variable\": \"near_min\", \"value\": 1.0}, {\"date\": \"2019-08-16T00:00:00\", \"variable\": \"near_min\", \"value\": 1.0}, {\"date\": \"2019-08-19T00:00:00\", \"variable\": \"near_min\", \"value\": 0.83}, {\"date\": \"2019-08-20T00:00:00\", \"variable\": \"near_min\", \"value\": 0.83}, {\"date\": \"2019-08-21T00:00:00\", \"variable\": \"near_min\", \"value\": 0.67}, {\"date\": \"2019-08-22T00:00:00\", \"variable\": \"near_min\", \"value\": 0.8}, {\"date\": \"2019-08-23T00:00:00\", \"variable\": \"near_min\", \"value\": 0.83}, {\"date\": \"2019-08-26T00:00:00\", \"variable\": \"near_min\", \"value\": 0.83}, {\"date\": \"2019-08-27T00:00:00\", \"variable\": \"near_min\", \"value\": 0.83}, {\"date\": \"2019-08-28T00:00:00\", \"variable\": \"near_min\", \"value\": 0.83}, {\"date\": \"2019-08-29T00:00:00\", \"variable\": \"near_min\", \"value\": 0.83}, {\"date\": \"2019-08-30T00:00:00\", \"variable\": \"near_min\", \"value\": 0.83}, {\"date\": \"2019-09-03T00:00:00\", \"variable\": \"near_min\", \"value\": 0.83}, {\"date\": \"2019-09-04T00:00:00\", \"variable\": \"near_min\", \"value\": 0.83}, {\"date\": \"2019-09-05T00:00:00\", \"variable\": \"near_min\", \"value\": 0.83}, {\"date\": \"2019-09-06T00:00:00\", \"variable\": \"near_min\", \"value\": 0.83}, {\"date\": \"2019-09-09T00:00:00\", \"variable\": \"near_min\", \"value\": 1.0}, {\"date\": \"2019-09-10T00:00:00\", \"variable\": \"near_min\", \"value\": 1.0}, {\"date\": \"2019-09-11T00:00:00\", \"variable\": \"near_min\", \"value\": 1.0}, {\"date\": \"2019-09-12T00:00:00\", \"variable\": \"near_min\", \"value\": 1.0}, {\"date\": \"2019-09-13T00:00:00\", \"variable\": \"near_min\", \"value\": 1.0}, {\"date\": \"2019-09-16T00:00:00\", \"variable\": \"near_min\", \"value\": 1.0}, {\"date\": \"2019-09-17T00:00:00\", \"variable\": \"near_min\", \"value\": 1.0}, {\"date\": \"2019-09-18T00:00:00\", \"variable\": \"near_min\", \"value\": 1.0}, {\"date\": \"2019-09-19T00:00:00\", \"variable\": \"near_min\", \"value\": 1.0}, {\"date\": \"2019-09-20T00:00:00\", \"variable\": \"near_min\", \"value\": 0.83}, {\"date\": \"2019-09-23T00:00:00\", \"variable\": \"near_min\", \"value\": 0.83}, {\"date\": \"2019-09-24T00:00:00\", \"variable\": \"near_min\", \"value\": 1.0}, {\"date\": \"2019-09-25T00:00:00\", \"variable\": \"near_min\", \"value\": 1.0}, {\"date\": \"2019-09-26T00:00:00\", \"variable\": \"near_min\", \"value\": 1.0}, {\"date\": \"2019-09-27T00:00:00\", \"variable\": \"near_min\", \"value\": 1.0}, {\"date\": \"2019-09-30T00:00:00\", \"variable\": \"near_min\", \"value\": 0.83}, {\"date\": \"2019-10-01T00:00:00\", \"variable\": \"near_min\", \"value\": 1.0}, {\"date\": \"2019-10-02T00:00:00\", \"variable\": \"near_min\", \"value\": 1.0}, {\"date\": \"2019-10-03T00:00:00\", \"variable\": \"near_min\", \"value\": 1.0}, {\"date\": \"2019-10-04T00:00:00\", \"variable\": \"near_min\", \"value\": 1.0}, {\"date\": \"2019-10-07T00:00:00\", \"variable\": \"near_min\", \"value\": 0.83}, {\"date\": \"2019-10-08T00:00:00\", \"variable\": \"near_min\", \"value\": 0.83}, {\"date\": \"2019-10-09T00:00:00\", \"variable\": \"near_min\", \"value\": 1.0}, {\"date\": \"2019-10-10T00:00:00\", \"variable\": \"near_min\", \"value\": 0.83}, {\"date\": \"2019-10-11T00:00:00\", \"variable\": \"near_min\", \"value\": 1.0}, {\"date\": \"2019-10-14T00:00:00\", \"variable\": \"near_min\", \"value\": 1.0}, {\"date\": \"2019-10-15T00:00:00\", \"variable\": \"near_min\", \"value\": 1.0}, {\"date\": \"2019-10-16T00:00:00\", \"variable\": \"near_min\", \"value\": 1.0}, {\"date\": \"2019-10-17T00:00:00\", \"variable\": \"near_min\", \"value\": 1.0}, {\"date\": \"2019-10-18T00:00:00\", \"variable\": \"near_min\", \"value\": 1.0}, {\"date\": \"2019-10-21T00:00:00\", \"variable\": \"near_min\", \"value\": 1.0}, {\"date\": \"2019-10-22T00:00:00\", \"variable\": \"near_min\", \"value\": 1.0}, {\"date\": \"2019-10-23T00:00:00\", \"variable\": \"near_min\", \"value\": 1.0}, {\"date\": \"2019-10-24T00:00:00\", \"variable\": \"near_min\", \"value\": 1.0}, {\"date\": \"2019-10-25T00:00:00\", \"variable\": \"near_min\", \"value\": 1.0}, {\"date\": \"2019-10-28T00:00:00\", \"variable\": \"near_min\", \"value\": 1.0}, {\"date\": \"2019-10-29T00:00:00\", \"variable\": \"near_min\", \"value\": 0.83}, {\"date\": \"2019-10-30T00:00:00\", \"variable\": \"near_min\", \"value\": 1.0}, {\"date\": \"2019-10-31T00:00:00\", \"variable\": \"near_min\", \"value\": 1.0}, {\"date\": \"2019-11-01T00:00:00\", \"variable\": \"near_min\", \"value\": 0.83}, {\"date\": \"2019-11-04T00:00:00\", \"variable\": \"near_min\", \"value\": 1.0}, {\"date\": \"2019-11-05T00:00:00\", \"variable\": \"near_min\", \"value\": 0.83}, {\"date\": \"2019-11-06T00:00:00\", \"variable\": \"near_min\", \"value\": 0.83}, {\"date\": \"2019-11-07T00:00:00\", \"variable\": \"near_min\", \"value\": 0.83}, {\"date\": \"2019-11-08T00:00:00\", \"variable\": \"near_min\", \"value\": 0.83}, {\"date\": \"2019-11-11T00:00:00\", \"variable\": \"near_min\", \"value\": 0.83}, {\"date\": \"2019-11-12T00:00:00\", \"variable\": \"near_min\", \"value\": 0.83}, {\"date\": \"2019-11-13T00:00:00\", \"variable\": \"near_min\", \"value\": 0.83}, {\"date\": \"2019-11-14T00:00:00\", \"variable\": \"near_min\", \"value\": 0.83}, {\"date\": \"2019-11-15T00:00:00\", \"variable\": \"near_min\", \"value\": 0.83}, {\"date\": \"2019-11-18T00:00:00\", \"variable\": \"near_min\", \"value\": 0.83}, {\"date\": \"2019-11-19T00:00:00\", \"variable\": \"near_min\", \"value\": 0.83}, {\"date\": \"2019-11-20T00:00:00\", \"variable\": \"near_min\", \"value\": 0.83}, {\"date\": \"2019-11-21T00:00:00\", \"variable\": \"near_min\", \"value\": 0.83}, {\"date\": \"2019-11-22T00:00:00\", \"variable\": \"near_min\", \"value\": 0.83}, {\"date\": \"2019-11-25T00:00:00\", \"variable\": \"near_min\", \"value\": 0.83}, {\"date\": \"2019-11-26T00:00:00\", \"variable\": \"near_min\", \"value\": 0.83}, {\"date\": \"2019-11-27T00:00:00\", \"variable\": \"near_min\", \"value\": 0.83}, {\"date\": \"2019-11-29T00:00:00\", \"variable\": \"near_min\", \"value\": 0.83}, {\"date\": \"2019-12-02T00:00:00\", \"variable\": \"near_min\", \"value\": 0.83}, {\"date\": \"2019-12-03T00:00:00\", \"variable\": \"near_min\", \"value\": 0.83}, {\"date\": \"2019-12-04T00:00:00\", \"variable\": \"near_min\", \"value\": 0.83}, {\"date\": \"2019-12-05T00:00:00\", \"variable\": \"near_min\", \"value\": 0.67}, {\"date\": \"2019-12-06T00:00:00\", \"variable\": \"near_min\", \"value\": 0.67}, {\"date\": \"2019-12-09T00:00:00\", \"variable\": \"near_min\", \"value\": 0.67}, {\"date\": \"2019-12-10T00:00:00\", \"variable\": \"near_min\", \"value\": 0.67}, {\"date\": \"2019-12-11T00:00:00\", \"variable\": \"near_min\", \"value\": 0.5}, {\"date\": \"2019-12-12T00:00:00\", \"variable\": \"near_min\", \"value\": 0.33}, {\"date\": \"2019-12-13T00:00:00\", \"variable\": \"near_min\", \"value\": 0.5}, {\"date\": \"2019-12-16T00:00:00\", \"variable\": \"near_min\", \"value\": 0.33}, {\"date\": \"2019-12-17T00:00:00\", \"variable\": \"near_min\", \"value\": 0.5}, {\"date\": \"2019-12-18T00:00:00\", \"variable\": \"near_min\", \"value\": 0.5}, {\"date\": \"2019-12-19T00:00:00\", \"variable\": \"near_min\", \"value\": 0.33}, {\"date\": \"2019-12-20T00:00:00\", \"variable\": \"near_min\", \"value\": 0.33}, {\"date\": \"2019-12-23T00:00:00\", \"variable\": \"near_min\", \"value\": 0.33}, {\"date\": \"2019-12-24T00:00:00\", \"variable\": \"near_min\", \"value\": 0.5}, {\"date\": \"2019-12-26T00:00:00\", \"variable\": \"near_min\", \"value\": 0.33}, {\"date\": \"2019-12-27T00:00:00\", \"variable\": \"near_min\", \"value\": 0.33}, {\"date\": \"2019-12-30T00:00:00\", \"variable\": \"near_min\", \"value\": 0.33}, {\"date\": \"2019-12-31T00:00:00\", \"variable\": \"near_min\", \"value\": 0.33}, {\"date\": \"2020-01-02T00:00:00\", \"variable\": \"near_min\", \"value\": 0.33}, {\"date\": \"2020-01-03T00:00:00\", \"variable\": \"near_min\", \"value\": 0.5}, {\"date\": \"2020-01-06T00:00:00\", \"variable\": \"near_min\", \"value\": 0.5}, {\"date\": \"2020-01-07T00:00:00\", \"variable\": \"near_min\", \"value\": 0.67}, {\"date\": \"2020-01-08T00:00:00\", \"variable\": \"near_min\", \"value\": 0.67}, {\"date\": \"2020-01-09T00:00:00\", \"variable\": \"near_min\", \"value\": 0.5}, {\"date\": \"2020-01-10T00:00:00\", \"variable\": \"near_min\", \"value\": 0.67}, {\"date\": \"2020-01-13T00:00:00\", \"variable\": \"near_min\", \"value\": 0.33}, {\"date\": \"2020-01-14T00:00:00\", \"variable\": \"near_min\", \"value\": 0.67}, {\"date\": \"2020-01-15T00:00:00\", \"variable\": \"near_min\", \"value\": 0.33}, {\"date\": \"2020-01-16T00:00:00\", \"variable\": \"near_min\", \"value\": 0.5}, {\"date\": \"2020-01-17T00:00:00\", \"variable\": \"near_min\", \"value\": 0.33}, {\"date\": \"2020-01-21T00:00:00\", \"variable\": \"near_min\", \"value\": 0.67}, {\"date\": \"2020-01-22T00:00:00\", \"variable\": \"near_min\", \"value\": 0.67}, {\"date\": \"2020-01-23T00:00:00\", \"variable\": \"near_min\", \"value\": 0.67}, {\"date\": \"2020-01-24T00:00:00\", \"variable\": \"near_min\", \"value\": 0.67}, {\"date\": \"2020-01-27T00:00:00\", \"variable\": \"near_min\", \"value\": 0.67}, {\"date\": \"2020-01-28T00:00:00\", \"variable\": \"near_min\", \"value\": 0.67}, {\"date\": \"2020-01-29T00:00:00\", \"variable\": \"near_min\", \"value\": 0.67}, {\"date\": \"2020-01-30T00:00:00\", \"variable\": \"near_min\", \"value\": 0.67}, {\"date\": \"2020-01-31T00:00:00\", \"variable\": \"near_min\", \"value\": 0.67}, {\"date\": \"2020-02-03T00:00:00\", \"variable\": \"near_min\", \"value\": 0.67}, {\"date\": \"2020-02-04T00:00:00\", \"variable\": \"near_min\", \"value\": 0.67}, {\"date\": \"2020-02-05T00:00:00\", \"variable\": \"near_min\", \"value\": 0.67}, {\"date\": \"2020-02-06T00:00:00\", \"variable\": \"near_min\", \"value\": 0.67}, {\"date\": \"2020-02-07T00:00:00\", \"variable\": \"near_min\", \"value\": 0.67}, {\"date\": \"2020-02-10T00:00:00\", \"variable\": \"near_min\", \"value\": 0.67}, {\"date\": \"2020-02-11T00:00:00\", \"variable\": \"near_min\", \"value\": 0.5}, {\"date\": \"2020-02-12T00:00:00\", \"variable\": \"near_min\", \"value\": 0.5}, {\"date\": \"2020-02-13T00:00:00\", \"variable\": \"near_min\", \"value\": 0.5}, {\"date\": \"2020-02-14T00:00:00\", \"variable\": \"near_min\", \"value\": 0.67}, {\"date\": \"2020-02-18T00:00:00\", \"variable\": \"near_min\", \"value\": 0.83}, {\"date\": \"2020-02-19T00:00:00\", \"variable\": \"near_min\", \"value\": 0.5}, {\"date\": \"2020-02-20T00:00:00\", \"variable\": \"near_min\", \"value\": 0.5}, {\"date\": \"2020-02-21T00:00:00\", \"variable\": \"near_min\", \"value\": 0.5}, {\"date\": \"2020-02-24T00:00:00\", \"variable\": \"near_min\", \"value\": 0.67}, {\"date\": \"2020-02-25T00:00:00\", \"variable\": \"near_min\", \"value\": 0.67}, {\"date\": \"2020-02-26T00:00:00\", \"variable\": \"near_min\", \"value\": 0.83}, {\"date\": \"2020-02-27T00:00:00\", \"variable\": \"near_min\", \"value\": 0.83}, {\"date\": \"2020-02-28T00:00:00\", \"variable\": \"near_min\", \"value\": 0.83}, {\"date\": \"2020-03-02T00:00:00\", \"variable\": \"near_min\", \"value\": 0.83}, {\"date\": \"2020-03-03T00:00:00\", \"variable\": \"near_min\", \"value\": 0.83}, {\"date\": \"2020-03-04T00:00:00\", \"variable\": \"near_min\", \"value\": 0.67}, {\"date\": \"2020-03-05T00:00:00\", \"variable\": \"near_min\", \"value\": 0.83}, {\"date\": \"2020-03-06T00:00:00\", \"variable\": \"near_min\", \"value\": 0.83}, {\"date\": \"2020-03-09T00:00:00\", \"variable\": \"near_min\", \"value\": 1.0}, {\"date\": \"2020-03-10T00:00:00\", \"variable\": \"near_min\", \"value\": 0.83}, {\"date\": \"2020-03-11T00:00:00\", \"variable\": \"near_min\", \"value\": 1.0}, {\"date\": \"2020-03-12T00:00:00\", \"variable\": \"near_min\", \"value\": 1.0}, {\"date\": \"2020-03-13T00:00:00\", \"variable\": \"near_min\", \"value\": 1.0}, {\"date\": \"2020-03-16T00:00:00\", \"variable\": \"near_min\", \"value\": 1.0}, {\"date\": \"2020-03-17T00:00:00\", \"variable\": \"near_min\", \"value\": 1.0}, {\"date\": \"2020-03-18T00:00:00\", \"variable\": \"near_min\", \"value\": 1.0}, {\"date\": \"2020-03-19T00:00:00\", \"variable\": \"near_min\", \"value\": 1.0}, {\"date\": \"2020-03-20T00:00:00\", \"variable\": \"near_min\", \"value\": 1.0}, {\"date\": \"2020-03-23T00:00:00\", \"variable\": \"near_min\", \"value\": 0.83}, {\"date\": \"2020-03-24T00:00:00\", \"variable\": \"near_min\", \"value\": 0.83}, {\"date\": \"2020-03-25T00:00:00\", \"variable\": \"near_min\", \"value\": 0.83}, {\"date\": \"2020-03-26T00:00:00\", \"variable\": \"near_min\", \"value\": 0.67}, {\"date\": \"2020-03-27T00:00:00\", \"variable\": \"near_min\", \"value\": 0.67}, {\"date\": \"2020-03-30T00:00:00\", \"variable\": \"near_min\", \"value\": 0.67}, {\"date\": \"2020-03-31T00:00:00\", \"variable\": \"near_min\", \"value\": 0.5}, {\"date\": \"2020-04-01T00:00:00\", \"variable\": \"near_min\", \"value\": 0.67}, {\"date\": \"2020-04-02T00:00:00\", \"variable\": \"near_min\", \"value\": 0.67}, {\"date\": \"2020-04-03T00:00:00\", \"variable\": \"near_min\", \"value\": 0.67}, {\"date\": \"2020-04-06T00:00:00\", \"variable\": \"near_min\", \"value\": 0.67}, {\"date\": \"2020-04-07T00:00:00\", \"variable\": \"near_min\", \"value\": 0.67}, {\"date\": \"2020-04-08T00:00:00\", \"variable\": \"near_min\", \"value\": 0.5}, {\"date\": \"2020-04-09T00:00:00\", \"variable\": \"near_min\", \"value\": 0.33}, {\"date\": \"2020-04-13T00:00:00\", \"variable\": \"near_min\", \"value\": 0.5}, {\"date\": \"2020-04-14T00:00:00\", \"variable\": \"near_min\", \"value\": 0.5}, {\"date\": \"2020-04-15T00:00:00\", \"variable\": \"near_min\", \"value\": 0.5}, {\"date\": \"2020-04-16T00:00:00\", \"variable\": \"near_min\", \"value\": 0.17}, {\"date\": \"2020-04-17T00:00:00\", \"variable\": \"near_min\", \"value\": 0.33}, {\"date\": \"2020-04-20T00:00:00\", \"variable\": \"near_min\", \"value\": 0.33}, {\"date\": \"2020-04-21T00:00:00\", \"variable\": \"near_min\", \"value\": 0.33}, {\"date\": \"2020-04-22T00:00:00\", \"variable\": \"near_min\", \"value\": 0.33}, {\"date\": \"2020-04-23T00:00:00\", \"variable\": \"near_min\", \"value\": 0.5}, {\"date\": \"2020-04-24T00:00:00\", \"variable\": \"near_min\", \"value\": 0.33}, {\"date\": \"2020-04-27T00:00:00\", \"variable\": \"near_min\", \"value\": 0.0}, {\"date\": \"2020-04-28T00:00:00\", \"variable\": \"near_min\", \"value\": 0.17}, {\"date\": \"2020-04-29T00:00:00\", \"variable\": \"near_min\", \"value\": 0.17}, {\"date\": \"2020-04-30T00:00:00\", \"variable\": \"near_min\", \"value\": 0.17}, {\"date\": \"2020-05-01T00:00:00\", \"variable\": \"near_min\", \"value\": 0.17}, {\"date\": \"2020-05-04T00:00:00\", \"variable\": \"near_min\", \"value\": 0.33}, {\"date\": \"2020-05-05T00:00:00\", \"variable\": \"near_min\", \"value\": 0.33}, {\"date\": \"2020-05-06T00:00:00\", \"variable\": \"near_min\", \"value\": 0.33}, {\"date\": \"2020-05-07T00:00:00\", \"variable\": \"near_min\", \"value\": 0.33}, {\"date\": \"2020-05-08T00:00:00\", \"variable\": \"near_min\", \"value\": 0.17}, {\"date\": \"2020-05-11T00:00:00\", \"variable\": \"near_min\", \"value\": 0.17}, {\"date\": \"2020-05-12T00:00:00\", \"variable\": \"near_min\", \"value\": 0.17}, {\"date\": \"2020-05-13T00:00:00\", \"variable\": \"near_min\", \"value\": 0.17}, {\"date\": \"2020-05-14T00:00:00\", \"variable\": \"near_min\", \"value\": 0.33}, {\"date\": \"2020-05-15T00:00:00\", \"variable\": \"near_min\", \"value\": 0.5}, {\"date\": \"2020-05-18T00:00:00\", \"variable\": \"near_min\", \"value\": 0.33}, {\"date\": \"2020-05-19T00:00:00\", \"variable\": \"near_min\", \"value\": 0.17}, {\"date\": \"2020-05-20T00:00:00\", \"variable\": \"near_min\", \"value\": 0.33}, {\"date\": \"2020-05-21T00:00:00\", \"variable\": \"near_min\", \"value\": 0.33}, {\"date\": \"2020-05-22T00:00:00\", \"variable\": \"near_min\", \"value\": 0.33}, {\"date\": \"2020-05-26T00:00:00\", \"variable\": \"near_min\", \"value\": 0.33}, {\"date\": \"2020-05-27T00:00:00\", \"variable\": \"near_min\", \"value\": 0.33}, {\"date\": \"2020-05-28T00:00:00\", \"variable\": \"near_min\", \"value\": 0.17}, {\"date\": \"2020-05-29T00:00:00\", \"variable\": \"near_min\", \"value\": 0.17}, {\"date\": \"2020-06-01T00:00:00\", \"variable\": \"near_min\", \"value\": 0.17}, {\"date\": \"2020-06-02T00:00:00\", \"variable\": \"near_min\", \"value\": 0.33}, {\"date\": \"2020-06-03T00:00:00\", \"variable\": \"near_min\", \"value\": 0.17}, {\"date\": \"2020-06-04T00:00:00\", \"variable\": \"near_min\", \"value\": 0.0}, {\"date\": \"2020-06-05T00:00:00\", \"variable\": \"near_min\", \"value\": 0.0}, {\"date\": \"2020-06-08T00:00:00\", \"variable\": \"near_min\", \"value\": 0.0}, {\"date\": \"2020-06-09T00:00:00\", \"variable\": \"near_min\", \"value\": 0.17}, {\"date\": \"2020-06-10T00:00:00\", \"variable\": \"near_min\", \"value\": 0.17}, {\"date\": \"2020-06-11T00:00:00\", \"variable\": \"near_min\", \"value\": 0.17}, {\"date\": \"2020-06-12T00:00:00\", \"variable\": \"near_min\", \"value\": 0.17}, {\"date\": \"2020-06-15T00:00:00\", \"variable\": \"near_min\", \"value\": 0.17}, {\"date\": \"2020-06-16T00:00:00\", \"variable\": \"near_min\", \"value\": 0.17}, {\"date\": \"2020-06-17T00:00:00\", \"variable\": \"near_min\", \"value\": 0.17}, {\"date\": \"2020-06-18T00:00:00\", \"variable\": \"near_min\", \"value\": 0.17}, {\"date\": \"2020-06-19T00:00:00\", \"variable\": \"near_min\", \"value\": 0.17}, {\"date\": \"2020-06-22T00:00:00\", \"variable\": \"near_min\", \"value\": 0.17}, {\"date\": \"2020-06-23T00:00:00\", \"variable\": \"near_min\", \"value\": 0.17}, {\"date\": \"2020-06-24T00:00:00\", \"variable\": \"near_min\", \"value\": 0.17}, {\"date\": \"2020-06-25T00:00:00\", \"variable\": \"near_min\", \"value\": 0.17}, {\"date\": \"2020-06-26T00:00:00\", \"variable\": \"near_min\", \"value\": 0.17}, {\"date\": \"2020-06-29T00:00:00\", \"variable\": \"near_min\", \"value\": 0.17}, {\"date\": \"2020-06-30T00:00:00\", \"variable\": \"near_min\", \"value\": 0.17}, {\"date\": \"2020-07-01T00:00:00\", \"variable\": \"near_min\", \"value\": 0.17}, {\"date\": \"2020-07-02T00:00:00\", \"variable\": \"near_min\", \"value\": 0.17}, {\"date\": \"2020-07-06T00:00:00\", \"variable\": \"near_min\", \"value\": 0.17}, {\"date\": \"2020-07-07T00:00:00\", \"variable\": \"near_min\", \"value\": 0.17}, {\"date\": \"2020-07-08T00:00:00\", \"variable\": \"near_min\", \"value\": 0.17}, {\"date\": \"2020-07-09T00:00:00\", \"variable\": \"near_min\", \"value\": 0.17}, {\"date\": \"2020-07-10T00:00:00\", \"variable\": \"near_min\", \"value\": 0.17}, {\"date\": \"2020-07-13T00:00:00\", \"variable\": \"near_min\", \"value\": 0.17}, {\"date\": \"2020-07-14T00:00:00\", \"variable\": \"near_min\", \"value\": 0.17}, {\"date\": \"2020-07-15T00:00:00\", \"variable\": \"near_min\", \"value\": 0.17}, {\"date\": \"2020-07-16T00:00:00\", \"variable\": \"near_min\", \"value\": 0.17}, {\"date\": \"2020-07-17T00:00:00\", \"variable\": \"near_min\", \"value\": 0.17}, {\"date\": \"2020-07-20T00:00:00\", \"variable\": \"near_min\", \"value\": 0.17}, {\"date\": \"2020-07-21T00:00:00\", \"variable\": \"near_min\", \"value\": 0.17}, {\"date\": \"2020-07-22T00:00:00\", \"variable\": \"near_min\", \"value\": 0.17}, {\"date\": \"2020-07-23T00:00:00\", \"variable\": \"near_min\", \"value\": 0.17}, {\"date\": \"2020-07-24T00:00:00\", \"variable\": \"near_min\", \"value\": 0.17}, {\"date\": \"2020-07-27T00:00:00\", \"variable\": \"near_min\", \"value\": 0.17}, {\"date\": \"2020-07-28T00:00:00\", \"variable\": \"near_min\", \"value\": 0.17}, {\"date\": \"2020-07-29T00:00:00\", \"variable\": \"near_min\", \"value\": 0.17}, {\"date\": \"2020-07-30T00:00:00\", \"variable\": \"near_min\", \"value\": 0.17}, {\"date\": \"2020-07-31T00:00:00\", \"variable\": \"near_min\", \"value\": 0.17}, {\"date\": \"2020-08-03T00:00:00\", \"variable\": \"near_min\", \"value\": 0.17}, {\"date\": \"2020-08-04T00:00:00\", \"variable\": \"near_min\", \"value\": 0.17}, {\"date\": \"2020-08-05T00:00:00\", \"variable\": \"near_min\", \"value\": 0.17}, {\"date\": \"2020-08-06T00:00:00\", \"variable\": \"near_min\", \"value\": 0.17}, {\"date\": \"2020-08-07T00:00:00\", \"variable\": \"near_min\", \"value\": 0.17}, {\"date\": \"2020-08-10T00:00:00\", \"variable\": \"near_min\", \"value\": 0.17}, {\"date\": \"2020-08-11T00:00:00\", \"variable\": \"near_min\", \"value\": 0.17}, {\"date\": \"2020-08-12T00:00:00\", \"variable\": \"near_min\", \"value\": 0.17}, {\"date\": \"2020-08-13T00:00:00\", \"variable\": \"near_min\", \"value\": 0.17}, {\"date\": \"2020-08-14T00:00:00\", \"variable\": \"near_min\", \"value\": 0.17}, {\"date\": \"2020-08-17T00:00:00\", \"variable\": \"near_min\", \"value\": 0.0}, {\"date\": \"2020-08-18T00:00:00\", \"variable\": \"near_min\", \"value\": 0.0}, {\"date\": \"2020-08-19T00:00:00\", \"variable\": \"near_min\", \"value\": 0.0}, {\"date\": \"2020-08-20T00:00:00\", \"variable\": \"near_min\", \"value\": 0.0}, {\"date\": \"2020-08-21T00:00:00\", \"variable\": \"near_min\", \"value\": 0.0}, {\"date\": \"2020-08-24T00:00:00\", \"variable\": \"near_min\", \"value\": 0.0}, {\"date\": \"2020-08-25T00:00:00\", \"variable\": \"near_min\", \"value\": 0.0}, {\"date\": \"2020-08-26T00:00:00\", \"variable\": \"near_min\", \"value\": 0.0}, {\"date\": \"2020-08-27T00:00:00\", \"variable\": \"near_min\", \"value\": 0.0}, {\"date\": \"2020-08-28T00:00:00\", \"variable\": \"near_min\", \"value\": 0.0}, {\"date\": \"2020-08-31T00:00:00\", \"variable\": \"near_min\", \"value\": 0.0}, {\"date\": \"2020-09-01T00:00:00\", \"variable\": \"near_min\", \"value\": 0.0}, {\"date\": \"2020-09-02T00:00:00\", \"variable\": \"near_min\", \"value\": 0.0}, {\"date\": \"2020-09-03T00:00:00\", \"variable\": \"near_min\", \"value\": 0.0}, {\"date\": \"2020-09-04T00:00:00\", \"variable\": \"near_min\", \"value\": 0.0}, {\"date\": \"2020-09-08T00:00:00\", \"variable\": \"near_min\", \"value\": 0.0}, {\"date\": \"2020-09-09T00:00:00\", \"variable\": \"near_min\", \"value\": 0.0}, {\"date\": \"2020-09-10T00:00:00\", \"variable\": \"near_min\", \"value\": 0.0}, {\"date\": \"2020-09-11T00:00:00\", \"variable\": \"near_min\", \"value\": 0.0}, {\"date\": \"2020-09-14T00:00:00\", \"variable\": \"near_min\", \"value\": 0.17}, {\"date\": \"2020-09-15T00:00:00\", \"variable\": \"near_min\", \"value\": 0.0}, {\"date\": \"2020-09-16T00:00:00\", \"variable\": \"near_min\", \"value\": 0.0}, {\"date\": \"2020-09-17T00:00:00\", \"variable\": \"near_min\", \"value\": 0.0}, {\"date\": \"2020-09-18T00:00:00\", \"variable\": \"near_min\", \"value\": 0.0}, {\"date\": \"2020-09-21T00:00:00\", \"variable\": \"near_min\", \"value\": 0.17}, {\"date\": \"2020-09-22T00:00:00\", \"variable\": \"near_min\", \"value\": 0.17}, {\"date\": \"2020-09-23T00:00:00\", \"variable\": \"near_min\", \"value\": 0.17}, {\"date\": \"2020-09-24T00:00:00\", \"variable\": \"near_min\", \"value\": 0.0}, {\"date\": \"2020-09-25T00:00:00\", \"variable\": \"near_min\", \"value\": 0.17}, {\"date\": \"2020-09-28T00:00:00\", \"variable\": \"near_min\", \"value\": 0.0}, {\"date\": \"2020-09-29T00:00:00\", \"variable\": \"near_min\", \"value\": 0.17}, {\"date\": \"2020-09-30T00:00:00\", \"variable\": \"near_min\", \"value\": 0.0}, {\"date\": \"2020-10-01T00:00:00\", \"variable\": \"near_min\", \"value\": 0.17}, {\"date\": \"2020-10-02T00:00:00\", \"variable\": \"near_min\", \"value\": 0.17}, {\"date\": \"2020-10-05T00:00:00\", \"variable\": \"near_min\", \"value\": 0.17}, {\"date\": \"2020-10-06T00:00:00\", \"variable\": \"near_min\", \"value\": 0.17}, {\"date\": \"2020-10-07T00:00:00\", \"variable\": \"near_min\", \"value\": 0.17}, {\"date\": \"2020-10-08T00:00:00\", \"variable\": \"near_min\", \"value\": 0.17}, {\"date\": \"2020-10-09T00:00:00\", \"variable\": \"near_min\", \"value\": 0.17}, {\"date\": \"2020-10-12T00:00:00\", \"variable\": \"near_min\", \"value\": 0.17}, {\"date\": \"2020-10-13T00:00:00\", \"variable\": \"near_min\", \"value\": 0.17}, {\"date\": \"2020-10-14T00:00:00\", \"variable\": \"near_min\", \"value\": 0.17}, {\"date\": \"2020-10-15T00:00:00\", \"variable\": \"near_min\", \"value\": 0.17}, {\"date\": \"2020-10-16T00:00:00\", \"variable\": \"near_min\", \"value\": 0.17}, {\"date\": \"2020-10-19T00:00:00\", \"variable\": \"near_min\", \"value\": 0.17}, {\"date\": \"2020-10-20T00:00:00\", \"variable\": \"near_min\", \"value\": 0.17}, {\"date\": \"2020-10-21T00:00:00\", \"variable\": \"near_min\", \"value\": 0.17}, {\"date\": \"2020-10-22T00:00:00\", \"variable\": \"near_min\", \"value\": 0.17}, {\"date\": \"2020-10-23T00:00:00\", \"variable\": \"near_min\", \"value\": 0.17}, {\"date\": \"2020-10-26T00:00:00\", \"variable\": \"near_min\", \"value\": 0.17}, {\"date\": \"2020-10-27T00:00:00\", \"variable\": \"near_min\", \"value\": 0.17}, {\"date\": \"2020-10-28T00:00:00\", \"variable\": \"near_min\", \"value\": 0.17}, {\"date\": \"2020-10-29T00:00:00\", \"variable\": \"near_min\", \"value\": 0.17}, {\"date\": \"2020-10-30T00:00:00\", \"variable\": \"near_min\", \"value\": 0.17}, {\"date\": \"2020-11-02T00:00:00\", \"variable\": \"near_min\", \"value\": 0.17}, {\"date\": \"2020-11-03T00:00:00\", \"variable\": \"near_min\", \"value\": 0.17}, {\"date\": \"2020-11-04T00:00:00\", \"variable\": \"near_min\", \"value\": 0.17}, {\"date\": \"2020-11-05T00:00:00\", \"variable\": \"near_min\", \"value\": 0.17}, {\"date\": \"2020-11-06T00:00:00\", \"variable\": \"near_min\", \"value\": 0.17}, {\"date\": \"2020-11-09T00:00:00\", \"variable\": \"near_min\", \"value\": 0.17}, {\"date\": \"2020-11-10T00:00:00\", \"variable\": \"near_min\", \"value\": 0.17}, {\"date\": \"2020-11-11T00:00:00\", \"variable\": \"near_min\", \"value\": 0.17}, {\"date\": \"2020-11-12T00:00:00\", \"variable\": \"near_min\", \"value\": 0.17}, {\"date\": \"2020-11-13T00:00:00\", \"variable\": \"near_min\", \"value\": 0.17}, {\"date\": \"2020-11-16T00:00:00\", \"variable\": \"near_min\", \"value\": 0.17}, {\"date\": \"2020-11-17T00:00:00\", \"variable\": \"near_min\", \"value\": 0.17}, {\"date\": \"2020-11-18T00:00:00\", \"variable\": \"near_min\", \"value\": 0.17}, {\"date\": \"2020-11-19T00:00:00\", \"variable\": \"near_min\", \"value\": 0.17}, {\"date\": \"2020-11-20T00:00:00\", \"variable\": \"near_min\", \"value\": 0.29}, {\"date\": \"2020-11-23T00:00:00\", \"variable\": \"near_min\", \"value\": 0.29}, {\"date\": \"2020-11-24T00:00:00\", \"variable\": \"near_min\", \"value\": 0.29}, {\"date\": \"2020-11-25T00:00:00\", \"variable\": \"near_min\", \"value\": 0.29}, {\"date\": \"2020-11-27T00:00:00\", \"variable\": \"near_min\", \"value\": 0.29}, {\"date\": \"2020-11-30T00:00:00\", \"variable\": \"near_min\", \"value\": 0.29}, {\"date\": \"2020-12-01T00:00:00\", \"variable\": \"near_min\", \"value\": 0.14}, {\"date\": \"2020-12-02T00:00:00\", \"variable\": \"near_min\", \"value\": 0.29}, {\"date\": \"2020-12-03T00:00:00\", \"variable\": \"near_min\", \"value\": 0.14}, {\"date\": \"2020-12-04T00:00:00\", \"variable\": \"near_min\", \"value\": 0.29}, {\"date\": \"2020-12-07T00:00:00\", \"variable\": \"near_min\", \"value\": 0.29}, {\"date\": \"2020-12-08T00:00:00\", \"variable\": \"near_min\", \"value\": 0.14}, {\"date\": \"2020-12-09T00:00:00\", \"variable\": \"near_min\", \"value\": 0.29}, {\"date\": \"2020-12-10T00:00:00\", \"variable\": \"near_min\", \"value\": 0.0}, {\"date\": \"2020-12-11T00:00:00\", \"variable\": \"near_min\", \"value\": 0.0}, {\"date\": \"2020-12-14T00:00:00\", \"variable\": \"near_min\", \"value\": 0.14}, {\"date\": \"2020-12-15T00:00:00\", \"variable\": \"near_min\", \"value\": 0.14}, {\"date\": \"2020-12-16T00:00:00\", \"variable\": \"near_min\", \"value\": 0.14}, {\"date\": \"2020-12-17T00:00:00\", \"variable\": \"near_min\", \"value\": 0.14}, {\"date\": \"2020-12-18T00:00:00\", \"variable\": \"near_min\", \"value\": 0.14}, {\"date\": \"2020-12-21T00:00:00\", \"variable\": \"near_min\", \"value\": 0.14}, {\"date\": \"2020-12-22T00:00:00\", \"variable\": \"near_min\", \"value\": 0.14}, {\"date\": \"2020-12-23T00:00:00\", \"variable\": \"near_min\", \"value\": 0.14}, {\"date\": \"2020-12-24T00:00:00\", \"variable\": \"near_min\", \"value\": 0.14}, {\"date\": \"2020-12-28T00:00:00\", \"variable\": \"near_min\", \"value\": 0.14}, {\"date\": \"2020-12-29T00:00:00\", \"variable\": \"near_min\", \"value\": 0.14}, {\"date\": \"2020-12-30T00:00:00\", \"variable\": \"near_min\", \"value\": 0.14}, {\"date\": \"2020-12-31T00:00:00\", \"variable\": \"near_min\", \"value\": 0.14}]}}, {\"mode\": \"vega-lite\"});\n",
       "</script>"
      ],
      "text/plain": [
       "alt.Chart(...)"
      ]
     },
     "execution_count": 87,
     "metadata": {},
     "output_type": "execute_result"
    }
   ],
   "source": [
    "# https://github.com/altair-viz/altair/issues/968\n",
    "\n",
    "\n",
    "# Create a selection that chooses the nearest point & selects based on x-value\n",
    "# nearest = alt.selection(type='single', nearest=True, on='mouseover',\n",
    "#                         fields=['date'], empty='none')\n",
    "\n",
    "df_alt = df_res.dropna(thresh=1)\n",
    "data_alt = df_alt.reset_index().melt('date')\n",
    "cat_chart = alt.Chart(data_alt).mark_line().encode(\n",
    "    x='date',\n",
    "    y='value',\n",
    "    color='variable'\n",
    ")\n",
    "cat_chart"
   ]
  },
  {
   "cell_type": "code",
   "execution_count": 97,
   "metadata": {},
   "outputs": [],
   "source": [
    "# https://altair-viz.github.io/gallery/multiline_tooltip.html\n",
    "\n",
    "import altair as alt\n",
    "import pandas as pd\n",
    "\n",
    "# Create a selection that chooses the nearest point & selects based on x-value\n",
    "nearest = alt.selection(type='single', nearest=True, on='mouseover',\n",
    "                        fields=['date'], empty='none')\n",
    "\n",
    "# The basic line\n",
    "line = alt.Chart(data_alt).mark_line(interpolate='basis').encode(\n",
    "    x='date:T',\n",
    "    y='value:Q',\n",
    "    color='variable:N'\n",
    ")\n",
    "\n",
    "# Transparent selectors across the chart. This is what tells us\n",
    "# the x-value of the cursor\n",
    "selectors = alt.Chart(data_alt).mark_point().encode(\n",
    "    x='date:T',\n",
    "    opacity=alt.value(0),\n",
    ").add_selection(\n",
    "    nearest\n",
    ")\n",
    "\n",
    "# Draw points on the line, and highlight based on selection\n",
    "points = line.mark_point().encode(\n",
    "    opacity=alt.condition(nearest, alt.value(1), alt.value(0))\n",
    ")\n",
    "\n",
    "# Draw text labels near the points, and highlight based on selection\n",
    "text = line.mark_text(align='left', dx=5, dy=-5).encode(\n",
    "    text=alt.condition(nearest, 'value:Q', alt.value(' '))\n",
    ")\n",
    "\n",
    "# Draw a rule at the location of the selection\n",
    "rules = alt.Chart(data_alt).mark_rule(color='gray').encode(\n",
    "    x='date:T',\n",
    ").transform_filter(\n",
    "    nearest\n",
    ")\n",
    "\n",
    "# Put the five layers into a chart and bind the data\n",
    "alt.layer(\n",
    "    line, selectors, points, rules, text\n",
    ").properties(\n",
    "    width=600, height=300\n",
    ").save('chart.html', embed_options={'renderer':'svg'})"
   ]
  },
  {
   "cell_type": "code",
   "execution_count": 94,
   "metadata": {},
   "outputs": [
    {
     "ename": "AttributeError",
     "evalue": "module 'altair' has no attribute 'save'",
     "output_type": "error",
     "traceback": [
      "\u001b[0;31m---------------------------------------------------------------------------\u001b[0m",
      "\u001b[0;31mAttributeError\u001b[0m                            Traceback (most recent call last)",
      "\u001b[0;32m<ipython-input-94-6289354efda7>\u001b[0m in \u001b[0;36m<module>\u001b[0;34m\u001b[0m\n\u001b[0;32m----> 1\u001b[0;31m \u001b[0malt\u001b[0m\u001b[0;34m.\u001b[0m\u001b[0msave\u001b[0m\u001b[0;34m(\u001b[0m\u001b[0;34m'chart.html'\u001b[0m\u001b[0;34m,\u001b[0m \u001b[0membed_options\u001b[0m\u001b[0;34m=\u001b[0m\u001b[0;34m{\u001b[0m\u001b[0;34m'renderer'\u001b[0m\u001b[0;34m:\u001b[0m\u001b[0;34m'svg'\u001b[0m\u001b[0;34m}\u001b[0m\u001b[0;34m)\u001b[0m\u001b[0;34m\u001b[0m\u001b[0;34m\u001b[0m\u001b[0m\n\u001b[0m",
      "\u001b[0;31mAttributeError\u001b[0m: module 'altair' has no attribute 'save'"
     ]
    }
   ],
   "source": [
    "alt"
   ]
  }
 ],
 "metadata": {
  "kernelspec": {
   "display_name": "Python 3",
   "language": "python",
   "name": "python3"
  },
  "language_info": {
   "codemirror_mode": {
    "name": "ipython",
    "version": 3
   },
   "file_extension": ".py",
   "mimetype": "text/x-python",
   "name": "python",
   "nbconvert_exporter": "python",
   "pygments_lexer": "ipython3",
   "version": "3.7.7"
  }
 },
 "nbformat": 4,
 "nbformat_minor": 4
}
