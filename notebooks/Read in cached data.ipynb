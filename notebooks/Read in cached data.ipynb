{
 "cells": [
  {
   "cell_type": "code",
   "execution_count": 4,
   "id": "annoying-assurance",
   "metadata": {},
   "outputs": [],
   "source": [
    "import pandas as pd\n",
    "# store = pd.HDFStore(\"/Volumes/GCS/bucket/iex_store.h5\")\n",
    "store = pd.HDFStore(\"/Users/olshansky/Downloads/iex_store.h5\")"
   ]
  },
  {
   "cell_type": "code",
   "execution_count": 5,
   "id": "endless-leave",
   "metadata": {},
   "outputs": [
    {
     "data": {
      "text/plain": [
       "<class 'pandas.io.pytables.HDFStore'>\n",
       "File path: /Users/olshansky/Downloads/iex_store.h5"
      ]
     },
     "execution_count": 5,
     "metadata": {},
     "output_type": "execute_result"
    }
   ],
   "source": [
    "store"
   ]
  },
  {
   "cell_type": "code",
   "execution_count": 6,
   "id": "human-calgary",
   "metadata": {},
   "outputs": [
    {
     "data": {
      "text/plain": [
       "(Timestamp('2014-09-08 00:00:00'), Timestamp('2021-03-19 00:00:00'))"
      ]
     },
     "execution_count": 6,
     "metadata": {},
     "output_type": "execute_result"
    }
   ],
   "source": [
    "stock = 'GOOG'\n",
    "min_date = min(store[stock].index)\n",
    "max_date = max(store[stock].index)\n",
    "(min_date, max_date)"
   ]
  },
  {
   "cell_type": "code",
   "execution_count": null,
   "id": "daily-peeing",
   "metadata": {},
   "outputs": [],
   "source": []
  }
 ],
 "metadata": {
  "kernelspec": {
   "display_name": "Python 3",
   "language": "python",
   "name": "python3"
  },
  "language_info": {
   "codemirror_mode": {
    "name": "ipython",
    "version": 3
   },
   "file_extension": ".py",
   "mimetype": "text/x-python",
   "name": "python",
   "nbconvert_exporter": "python",
   "pygments_lexer": "ipython3",
   "version": "3.6.12"
  }
 },
 "nbformat": 4,
 "nbformat_minor": 5
}
