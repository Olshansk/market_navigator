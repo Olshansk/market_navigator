{
 "cells": [
  {
   "cell_type": "code",
   "execution_count": 1,
   "metadata": {},
   "outputs": [],
   "source": [
    "%load_ext autoreload\n",
    "%autoreload 2"
   ]
  },
  {
   "cell_type": "code",
   "execution_count": 22,
   "metadata": {},
   "outputs": [],
   "source": [
    "from iexfinance.refdata import get_symbols, get_iex_symbols\n",
    "\n",
    "import os\n",
    "import sys\n",
    "import pandas as pd\n",
    "import altair as alt\n",
    "import datetime as dt\n",
    "\n",
    "from pandas import to_datetime\n",
    "from datetime import datetime, date\n",
    "from iexfinance.stocks import get_historical_data\n",
    "from dateutil.relativedelta import relativedelta\n",
    "\n",
    "sys.path.append('..')\n",
    "os.environ[\"START_DATE\"] = \"2010-08-25\"\n",
    "os.environ[\"END_DATE\"] = \"2020-08-25\"\n",
    "\n",
    "from analysis.src.per_high_low import get_min_max_dfs, compute_near_max_min, save_daily_results"
   ]
  },
  {
   "cell_type": "code",
   "execution_count": 23,
   "metadata": {},
   "outputs": [
    {
     "name": "stderr",
     "output_type": "stream",
     "text": [
      "DEBUG:root:test\n"
     ]
    }
   ],
   "source": [
    "# Used to log the `MESSAGES USED` in `_IEXBAse`.\n",
    "# https://addisonlynch.github.io/iexfinance/stable/logging.html\n",
    "import logging\n",
    "logger = logging.getLogger()\n",
    "logger.setLevel(logging.DEBUG)\n",
    "logging.debug(\"test\")\n",
    "os.environ[\"IEX_LOG_LEVEL\"] = \"DEBUG\""
   ]
  },
  {
   "cell_type": "code",
   "execution_count": 27,
   "metadata": {},
   "outputs": [],
   "source": [
    "IEX_TOKEN = \"Tpk_57fa15c2c86b4dadbb31e0c1ad1db895\"\n",
    "os.environ[\"IEX_API_VERSION\"] = \"iexcloud-sandbox\"\n",
    "store = pd.HDFStore('dev_iex_store.h5')"
   ]
  },
  {
   "cell_type": "code",
   "execution_count": 28,
   "metadata": {},
   "outputs": [],
   "source": [
    "all_symbols = store.keys()"
   ]
  },
  {
   "cell_type": "code",
   "execution_count": 29,
   "metadata": {},
   "outputs": [
    {
     "name": "stdout",
     "output_type": "stream",
     "text": [
      "2006-12-29 00:00:00\n",
      "2020-12-24 00:00:00\n",
      "2006-12-29 00:00:00\n"
     ]
    }
   ],
   "source": [
    "print(store['AAPL'].index.min())\n",
    "print(store['AAPL'].index.max())\n",
    "print(store['NTZ'].index.min())"
   ]
  },
  {
   "cell_type": "code",
   "execution_count": 30,
   "metadata": {},
   "outputs": [],
   "source": [
    "import random\n",
    "RANDOM_SAMPLE_SIZE = 3\n",
    "symbols = random.sample(all_symbols, RANDOM_SAMPLE_SIZE)\n",
    "symbols = ['AAPL'] + [symbol[1:] for symbol in symbols]"
   ]
  },
  {
   "cell_type": "code",
   "execution_count": 31,
   "metadata": {},
   "outputs": [
    {
     "name": "stdout",
     "output_type": "stream",
     "text": [
      "AAPL: Trying to access historical data between 2010-08-25 00:00:00 and 2020-08-25 00:00:00.\n",
      "AAPL: Data is catched between 2006-12-26 00:00:00 and 2020-12-29 00:00:00.\n",
      "Successfully processed AAPL\n",
      "SSSS: Trying to access historical data between 2010-08-25 00:00:00 and 2020-08-25 00:00:00.\n",
      "SSSS: Data is catched between 2006-12-28 00:00:00 and 2020-12-28 00:00:00.\n",
      "Successfully processed SSSS\n",
      "SNPE: Trying to access historical data between 2010-08-25 00:00:00 and 2020-08-25 00:00:00.\n",
      "SNPE: Data is catched between 2006-12-28 00:00:00 and 2020-12-28 00:00:00.\n",
      "Successfully processed SNPE\n",
      "PFSI: Trying to access historical data between 2010-08-25 00:00:00 and 2020-08-25 00:00:00.\n",
      "PFSI: Data is catched between 2006-12-28 00:00:00 and 2020-12-29 00:00:00.\n",
      "Successfully processed PFSI\n",
      "DONE computing min & max for 0.1\n",
      "DONE computing min & max for 0.2\n"
     ]
    },
    {
     "data": {
      "text/plain": [
       "{0.1:             near_min  near_max\n",
       " date                          \n",
       " 2018-11-01       NaN       NaN\n",
       " 2018-11-02       NaN       NaN\n",
       " 2018-11-05       NaN       NaN\n",
       " 2018-11-06       NaN       NaN\n",
       " 2018-11-07       NaN       NaN\n",
       " ...              ...       ...\n",
       " 2020-12-21       0.0       1.0\n",
       " 2020-12-22       0.0       1.0\n",
       " 2020-12-23       0.0       1.0\n",
       " 2020-12-24       0.0       1.0\n",
       " 2020-12-28       0.0       1.0\n",
       " \n",
       " [542 rows x 2 columns],\n",
       " 0.2:             near_min  near_max\n",
       " date                          \n",
       " 2018-11-01       NaN       NaN\n",
       " 2018-11-02       NaN       NaN\n",
       " 2018-11-05       NaN       NaN\n",
       " 2018-11-06       NaN       NaN\n",
       " 2018-11-07       NaN       NaN\n",
       " ...              ...       ...\n",
       " 2020-12-21       0.0       1.0\n",
       " 2020-12-22       0.0       1.0\n",
       " 2020-12-23       0.0       1.0\n",
       " 2020-12-24       0.0       1.0\n",
       " 2020-12-28       0.0       1.0\n",
       " \n",
       " [542 rows x 2 columns]}"
      ]
     },
     "execution_count": 31,
     "metadata": {},
     "output_type": "execute_result"
    }
   ],
   "source": [
    "dfs_res = compute_near_max_min(symbols)\n",
    "dfs_res"
   ]
  },
  {
   "cell_type": "code",
   "execution_count": 32,
   "metadata": {},
   "outputs": [],
   "source": [
    "# https://github.com/altair-viz/altair/issues/968\n",
    "df_res = dfs_res[0.1]\n",
    "df_alt = df_res.dropna(thresh=1)\n",
    "df_alt = df_alt[df_alt.index>'2012-01-01']\n",
    "data_alt = df_alt.reset_index().melt('date')"
   ]
  },
  {
   "cell_type": "code",
   "execution_count": 33,
   "metadata": {},
   "outputs": [
    {
     "data": {
      "text/plain": [
       "0.024054982817869417"
      ]
     },
     "execution_count": 33,
     "metadata": {},
     "output_type": "execute_result"
    }
   ],
   "source": [
    "data_alt[data_alt['variable'] == 'near_min'].value.mean()"
   ]
  },
  {
   "cell_type": "code",
   "execution_count": 34,
   "metadata": {},
   "outputs": [
    {
     "data": {
      "text/html": [
       "\n",
       "<div id=\"altair-viz-a9d2555004c34c358b068fd1fad86701\"></div>\n",
       "<script type=\"text/javascript\">\n",
       "  (function(spec, embedOpt){\n",
       "    let outputDiv = document.currentScript.previousElementSibling;\n",
       "    if (outputDiv.id !== \"altair-viz-a9d2555004c34c358b068fd1fad86701\") {\n",
       "      outputDiv = document.getElementById(\"altair-viz-a9d2555004c34c358b068fd1fad86701\");\n",
       "    }\n",
       "    const paths = {\n",
       "      \"vega\": \"https://cdn.jsdelivr.net/npm//vega@5?noext\",\n",
       "      \"vega-lib\": \"https://cdn.jsdelivr.net/npm//vega-lib?noext\",\n",
       "      \"vega-lite\": \"https://cdn.jsdelivr.net/npm//vega-lite@4.8.1?noext\",\n",
       "      \"vega-embed\": \"https://cdn.jsdelivr.net/npm//vega-embed@6?noext\",\n",
       "    };\n",
       "\n",
       "    function loadScript(lib) {\n",
       "      return new Promise(function(resolve, reject) {\n",
       "        var s = document.createElement('script');\n",
       "        s.src = paths[lib];\n",
       "        s.async = true;\n",
       "        s.onload = () => resolve(paths[lib]);\n",
       "        s.onerror = () => reject(`Error loading script: ${paths[lib]}`);\n",
       "        document.getElementsByTagName(\"head\")[0].appendChild(s);\n",
       "      });\n",
       "    }\n",
       "\n",
       "    function showError(err) {\n",
       "      outputDiv.innerHTML = `<div class=\"error\" style=\"color:red;\">${err}</div>`;\n",
       "      throw err;\n",
       "    }\n",
       "\n",
       "    function displayChart(vegaEmbed) {\n",
       "      vegaEmbed(outputDiv, spec, embedOpt)\n",
       "        .catch(err => showError(`Javascript Error: ${err.message}<br>This usually means there's a typo in your chart specification. See the javascript console for the full traceback.`));\n",
       "    }\n",
       "\n",
       "    if(typeof define === \"function\" && define.amd) {\n",
       "      requirejs.config({paths});\n",
       "      require([\"vega-embed\"], displayChart, err => showError(`Error loading script: ${err.message}`));\n",
       "    } else if (typeof vegaEmbed === \"function\") {\n",
       "      displayChart(vegaEmbed);\n",
       "    } else {\n",
       "      loadScript(\"vega\")\n",
       "        .then(() => loadScript(\"vega-lite\"))\n",
       "        .then(() => loadScript(\"vega-embed\"))\n",
       "        .catch(showError)\n",
       "        .then(() => displayChart(vegaEmbed));\n",
       "    }\n",
       "  })({\"config\": {\"view\": {\"continuousWidth\": 400, \"continuousHeight\": 300}}, \"layer\": [{\"data\": {\"name\": \"data-5ab5fc388c2967c989b09f1c8dd589f4\"}, \"mark\": {\"type\": \"line\", \"interpolate\": \"basis\"}, \"encoding\": {\"color\": {\"type\": \"nominal\", \"field\": \"variable\"}, \"x\": {\"type\": \"temporal\", \"field\": \"date\"}, \"y\": {\"type\": \"quantitative\", \"field\": \"value\"}}}, {\"data\": {\"name\": \"data-5ab5fc388c2967c989b09f1c8dd589f4\"}, \"mark\": \"point\", \"encoding\": {\"opacity\": {\"value\": 0}, \"x\": {\"type\": \"temporal\", \"field\": \"date\"}}, \"selection\": {\"selector001\": {\"type\": \"single\", \"nearest\": true, \"on\": \"mouseover\", \"fields\": [\"date\"], \"empty\": \"none\"}}}, {\"data\": {\"name\": \"data-5ab5fc388c2967c989b09f1c8dd589f4\"}, \"mark\": \"point\", \"encoding\": {\"color\": {\"type\": \"nominal\", \"field\": \"variable\"}, \"opacity\": {\"condition\": {\"value\": 1, \"selection\": \"selector001\"}, \"value\": 0}, \"x\": {\"type\": \"temporal\", \"field\": \"date\"}, \"y\": {\"type\": \"quantitative\", \"field\": \"value\"}}}, {\"data\": {\"name\": \"data-5ab5fc388c2967c989b09f1c8dd589f4\"}, \"mark\": {\"type\": \"rule\", \"color\": \"gray\"}, \"encoding\": {\"x\": {\"type\": \"temporal\", \"field\": \"date\"}}, \"transform\": [{\"filter\": {\"selection\": \"selector001\"}}]}, {\"data\": {\"name\": \"data-5ab5fc388c2967c989b09f1c8dd589f4\"}, \"mark\": {\"type\": \"text\", \"align\": \"left\", \"dx\": 5, \"dy\": -5}, \"encoding\": {\"color\": {\"type\": \"nominal\", \"field\": \"variable\"}, \"text\": {\"condition\": {\"type\": \"quantitative\", \"field\": \"value\", \"selection\": \"selector001\"}, \"value\": \" \"}, \"x\": {\"type\": \"temporal\", \"field\": \"date\"}, \"y\": {\"type\": \"quantitative\", \"field\": \"value\"}}}, {\"data\": {\"name\": \"data-54ce6dcf121f4c14d7d78e29b56b403a\"}, \"mark\": {\"type\": \"rule\", \"strokeDash\": [5, 5]}, \"encoding\": {\"y\": {\"type\": \"quantitative\", \"field\": \"value\"}}}, {\"data\": {\"name\": \"data-2fc0736198c15e1a8eef55c398557896\"}, \"mark\": {\"type\": \"rule\", \"strokeDash\": [5, 5]}, \"encoding\": {\"y\": {\"type\": \"quantitative\", \"field\": \"value\"}}}], \"height\": 300, \"width\": 600, \"$schema\": \"https://vega.github.io/schema/vega-lite/v4.8.1.json\", \"datasets\": {\"data-5ab5fc388c2967c989b09f1c8dd589f4\": [{\"date\": \"2019-11-01T00:00:00\", \"variable\": \"near_min\", \"value\": 0.0}, {\"date\": \"2019-11-04T00:00:00\", \"variable\": \"near_min\", \"value\": 0.0}, {\"date\": \"2019-11-05T00:00:00\", \"variable\": \"near_min\", \"value\": 0.0}, {\"date\": \"2019-11-06T00:00:00\", \"variable\": \"near_min\", \"value\": 0.0}, {\"date\": \"2019-11-07T00:00:00\", \"variable\": \"near_min\", \"value\": 0.0}, {\"date\": \"2019-11-08T00:00:00\", \"variable\": \"near_min\", \"value\": 0.0}, {\"date\": \"2019-11-11T00:00:00\", \"variable\": \"near_min\", \"value\": 0.0}, {\"date\": \"2019-11-12T00:00:00\", \"variable\": \"near_min\", \"value\": 0.0}, {\"date\": \"2019-11-13T00:00:00\", \"variable\": \"near_min\", \"value\": 0.0}, {\"date\": \"2019-11-14T00:00:00\", \"variable\": \"near_min\", \"value\": 0.0}, {\"date\": \"2019-11-15T00:00:00\", \"variable\": \"near_min\", \"value\": 0.0}, {\"date\": \"2019-11-18T00:00:00\", \"variable\": \"near_min\", \"value\": 0.0}, {\"date\": \"2019-11-19T00:00:00\", \"variable\": \"near_min\", \"value\": 0.0}, {\"date\": \"2019-11-20T00:00:00\", \"variable\": \"near_min\", \"value\": 0.0}, {\"date\": \"2019-11-21T00:00:00\", \"variable\": \"near_min\", \"value\": 0.0}, {\"date\": \"2019-11-22T00:00:00\", \"variable\": \"near_min\", \"value\": 0.0}, {\"date\": \"2019-11-25T00:00:00\", \"variable\": \"near_min\", \"value\": 0.0}, {\"date\": \"2019-11-26T00:00:00\", \"variable\": \"near_min\", \"value\": 0.0}, {\"date\": \"2019-11-27T00:00:00\", \"variable\": \"near_min\", \"value\": 0.0}, {\"date\": \"2019-11-29T00:00:00\", \"variable\": \"near_min\", \"value\": 0.0}, {\"date\": \"2019-12-02T00:00:00\", \"variable\": \"near_min\", \"value\": 0.0}, {\"date\": \"2019-12-03T00:00:00\", \"variable\": \"near_min\", \"value\": 0.0}, {\"date\": \"2019-12-04T00:00:00\", \"variable\": \"near_min\", \"value\": 0.0}, {\"date\": \"2019-12-05T00:00:00\", \"variable\": \"near_min\", \"value\": 0.0}, {\"date\": \"2019-12-06T00:00:00\", \"variable\": \"near_min\", \"value\": 0.0}, {\"date\": \"2019-12-09T00:00:00\", \"variable\": \"near_min\", \"value\": 0.0}, {\"date\": \"2019-12-10T00:00:00\", \"variable\": \"near_min\", \"value\": 0.0}, {\"date\": \"2019-12-11T00:00:00\", \"variable\": \"near_min\", \"value\": 0.0}, {\"date\": \"2019-12-12T00:00:00\", \"variable\": \"near_min\", \"value\": 0.0}, {\"date\": \"2019-12-13T00:00:00\", \"variable\": \"near_min\", \"value\": 0.0}, {\"date\": \"2019-12-16T00:00:00\", \"variable\": \"near_min\", \"value\": 0.0}, {\"date\": \"2019-12-17T00:00:00\", \"variable\": \"near_min\", \"value\": 0.0}, {\"date\": \"2019-12-18T00:00:00\", \"variable\": \"near_min\", \"value\": 0.0}, {\"date\": \"2019-12-19T00:00:00\", \"variable\": \"near_min\", \"value\": 0.0}, {\"date\": \"2019-12-20T00:00:00\", \"variable\": \"near_min\", \"value\": 0.0}, {\"date\": \"2019-12-23T00:00:00\", \"variable\": \"near_min\", \"value\": 0.0}, {\"date\": \"2019-12-24T00:00:00\", \"variable\": \"near_min\", \"value\": 0.0}, {\"date\": \"2019-12-26T00:00:00\", \"variable\": \"near_min\", \"value\": 0.0}, {\"date\": \"2019-12-27T00:00:00\", \"variable\": \"near_min\", \"value\": 0.0}, {\"date\": \"2019-12-30T00:00:00\", \"variable\": \"near_min\", \"value\": 0.0}, {\"date\": \"2019-12-31T00:00:00\", \"variable\": \"near_min\", \"value\": 0.0}, {\"date\": \"2020-01-02T00:00:00\", \"variable\": \"near_min\", \"value\": 0.0}, {\"date\": \"2020-01-03T00:00:00\", \"variable\": \"near_min\", \"value\": 0.0}, {\"date\": \"2020-01-06T00:00:00\", \"variable\": \"near_min\", \"value\": 0.0}, {\"date\": \"2020-01-07T00:00:00\", \"variable\": \"near_min\", \"value\": 0.0}, {\"date\": \"2020-01-08T00:00:00\", \"variable\": \"near_min\", \"value\": 0.0}, {\"date\": \"2020-01-09T00:00:00\", \"variable\": \"near_min\", \"value\": 0.0}, {\"date\": \"2020-01-10T00:00:00\", \"variable\": \"near_min\", \"value\": 0.0}, {\"date\": \"2020-01-13T00:00:00\", \"variable\": \"near_min\", \"value\": 0.0}, {\"date\": \"2020-01-14T00:00:00\", \"variable\": \"near_min\", \"value\": 0.0}, {\"date\": \"2020-01-15T00:00:00\", \"variable\": \"near_min\", \"value\": 0.0}, {\"date\": \"2020-01-16T00:00:00\", \"variable\": \"near_min\", \"value\": 0.0}, {\"date\": \"2020-01-17T00:00:00\", \"variable\": \"near_min\", \"value\": 0.0}, {\"date\": \"2020-01-21T00:00:00\", \"variable\": \"near_min\", \"value\": 0.0}, {\"date\": \"2020-01-22T00:00:00\", \"variable\": \"near_min\", \"value\": 0.0}, {\"date\": \"2020-01-23T00:00:00\", \"variable\": \"near_min\", \"value\": 0.0}, {\"date\": \"2020-01-24T00:00:00\", \"variable\": \"near_min\", \"value\": 0.0}, {\"date\": \"2020-01-27T00:00:00\", \"variable\": \"near_min\", \"value\": 0.0}, {\"date\": \"2020-01-28T00:00:00\", \"variable\": \"near_min\", \"value\": 0.0}, {\"date\": \"2020-01-29T00:00:00\", \"variable\": \"near_min\", \"value\": 0.0}, {\"date\": \"2020-01-30T00:00:00\", \"variable\": \"near_min\", \"value\": 0.0}, {\"date\": \"2020-01-31T00:00:00\", \"variable\": \"near_min\", \"value\": 0.0}, {\"date\": \"2020-02-03T00:00:00\", \"variable\": \"near_min\", \"value\": 0.0}, {\"date\": \"2020-02-04T00:00:00\", \"variable\": \"near_min\", \"value\": 0.0}, {\"date\": \"2020-02-05T00:00:00\", \"variable\": \"near_min\", \"value\": 0.0}, {\"date\": \"2020-02-06T00:00:00\", \"variable\": \"near_min\", \"value\": 0.0}, {\"date\": \"2020-02-07T00:00:00\", \"variable\": \"near_min\", \"value\": 0.0}, {\"date\": \"2020-02-10T00:00:00\", \"variable\": \"near_min\", \"value\": 0.0}, {\"date\": \"2020-02-11T00:00:00\", \"variable\": \"near_min\", \"value\": 0.0}, {\"date\": \"2020-02-12T00:00:00\", \"variable\": \"near_min\", \"value\": 0.0}, {\"date\": \"2020-02-13T00:00:00\", \"variable\": \"near_min\", \"value\": 0.0}, {\"date\": \"2020-02-14T00:00:00\", \"variable\": \"near_min\", \"value\": 0.0}, {\"date\": \"2020-02-18T00:00:00\", \"variable\": \"near_min\", \"value\": 0.0}, {\"date\": \"2020-02-19T00:00:00\", \"variable\": \"near_min\", \"value\": 0.0}, {\"date\": \"2020-02-20T00:00:00\", \"variable\": \"near_min\", \"value\": 0.0}, {\"date\": \"2020-02-21T00:00:00\", \"variable\": \"near_min\", \"value\": 0.0}, {\"date\": \"2020-02-24T00:00:00\", \"variable\": \"near_min\", \"value\": 0.0}, {\"date\": \"2020-02-25T00:00:00\", \"variable\": \"near_min\", \"value\": 0.0}, {\"date\": \"2020-02-26T00:00:00\", \"variable\": \"near_min\", \"value\": 0.0}, {\"date\": \"2020-02-27T00:00:00\", \"variable\": \"near_min\", \"value\": 0.0}, {\"date\": \"2020-02-28T00:00:00\", \"variable\": \"near_min\", \"value\": 0.0}, {\"date\": \"2020-03-02T00:00:00\", \"variable\": \"near_min\", \"value\": 0.0}, {\"date\": \"2020-03-03T00:00:00\", \"variable\": \"near_min\", \"value\": 0.0}, {\"date\": \"2020-03-04T00:00:00\", \"variable\": \"near_min\", \"value\": 0.0}, {\"date\": \"2020-03-05T00:00:00\", \"variable\": \"near_min\", \"value\": 0.0}, {\"date\": \"2020-03-06T00:00:00\", \"variable\": \"near_min\", \"value\": 0.0}, {\"date\": \"2020-03-09T00:00:00\", \"variable\": \"near_min\", \"value\": 0.0}, {\"date\": \"2020-03-10T00:00:00\", \"variable\": \"near_min\", \"value\": 0.0}, {\"date\": \"2020-03-11T00:00:00\", \"variable\": \"near_min\", \"value\": 0.0}, {\"date\": \"2020-03-12T00:00:00\", \"variable\": \"near_min\", \"value\": 0.0}, {\"date\": \"2020-03-13T00:00:00\", \"variable\": \"near_min\", \"value\": 0.0}, {\"date\": \"2020-03-16T00:00:00\", \"variable\": \"near_min\", \"value\": 1.0}, {\"date\": \"2020-03-17T00:00:00\", \"variable\": \"near_min\", \"value\": 0.0}, {\"date\": \"2020-03-18T00:00:00\", \"variable\": \"near_min\", \"value\": 1.0}, {\"date\": \"2020-03-19T00:00:00\", \"variable\": \"near_min\", \"value\": 1.0}, {\"date\": \"2020-03-20T00:00:00\", \"variable\": \"near_min\", \"value\": 1.0}, {\"date\": \"2020-03-23T00:00:00\", \"variable\": \"near_min\", \"value\": 0.0}, {\"date\": \"2020-03-24T00:00:00\", \"variable\": \"near_min\", \"value\": 0.0}, {\"date\": \"2020-03-25T00:00:00\", \"variable\": \"near_min\", \"value\": 0.0}, {\"date\": \"2020-03-26T00:00:00\", \"variable\": \"near_min\", \"value\": 0.0}, {\"date\": \"2020-03-27T00:00:00\", \"variable\": \"near_min\", \"value\": 0.0}, {\"date\": \"2020-03-30T00:00:00\", \"variable\": \"near_min\", \"value\": 0.0}, {\"date\": \"2020-03-31T00:00:00\", \"variable\": \"near_min\", \"value\": 0.0}, {\"date\": \"2020-04-01T00:00:00\", \"variable\": \"near_min\", \"value\": 1.0}, {\"date\": \"2020-04-02T00:00:00\", \"variable\": \"near_min\", \"value\": 1.0}, {\"date\": \"2020-04-03T00:00:00\", \"variable\": \"near_min\", \"value\": 1.0}, {\"date\": \"2020-04-06T00:00:00\", \"variable\": \"near_min\", \"value\": 0.0}, {\"date\": \"2020-04-07T00:00:00\", \"variable\": \"near_min\", \"value\": 0.0}, {\"date\": \"2020-04-08T00:00:00\", \"variable\": \"near_min\", \"value\": 0.0}, {\"date\": \"2020-04-09T00:00:00\", \"variable\": \"near_min\", \"value\": 0.0}, {\"date\": \"2020-04-13T00:00:00\", \"variable\": \"near_min\", \"value\": 0.0}, {\"date\": \"2020-04-14T00:00:00\", \"variable\": \"near_min\", \"value\": 0.0}, {\"date\": \"2020-04-15T00:00:00\", \"variable\": \"near_min\", \"value\": 0.0}, {\"date\": \"2020-04-16T00:00:00\", \"variable\": \"near_min\", \"value\": 0.0}, {\"date\": \"2020-04-17T00:00:00\", \"variable\": \"near_min\", \"value\": 0.0}, {\"date\": \"2020-04-20T00:00:00\", \"variable\": \"near_min\", \"value\": 0.0}, {\"date\": \"2020-04-21T00:00:00\", \"variable\": \"near_min\", \"value\": 0.0}, {\"date\": \"2020-04-22T00:00:00\", \"variable\": \"near_min\", \"value\": 0.0}, {\"date\": \"2020-04-23T00:00:00\", \"variable\": \"near_min\", \"value\": 0.0}, {\"date\": \"2020-04-24T00:00:00\", \"variable\": \"near_min\", \"value\": 0.0}, {\"date\": \"2020-04-27T00:00:00\", \"variable\": \"near_min\", \"value\": 0.0}, {\"date\": \"2020-04-28T00:00:00\", \"variable\": \"near_min\", \"value\": 0.0}, {\"date\": \"2020-04-29T00:00:00\", \"variable\": \"near_min\", \"value\": 0.0}, {\"date\": \"2020-04-30T00:00:00\", \"variable\": \"near_min\", \"value\": 0.0}, {\"date\": \"2020-05-01T00:00:00\", \"variable\": \"near_min\", \"value\": 0.0}, {\"date\": \"2020-05-04T00:00:00\", \"variable\": \"near_min\", \"value\": 0.0}, {\"date\": \"2020-05-05T00:00:00\", \"variable\": \"near_min\", \"value\": 0.0}, {\"date\": \"2020-05-06T00:00:00\", \"variable\": \"near_min\", \"value\": 0.0}, {\"date\": \"2020-05-07T00:00:00\", \"variable\": \"near_min\", \"value\": 0.0}, {\"date\": \"2020-05-08T00:00:00\", \"variable\": \"near_min\", \"value\": 0.0}, {\"date\": \"2020-05-11T00:00:00\", \"variable\": \"near_min\", \"value\": 0.0}, {\"date\": \"2020-05-12T00:00:00\", \"variable\": \"near_min\", \"value\": 0.0}, {\"date\": \"2020-05-13T00:00:00\", \"variable\": \"near_min\", \"value\": 0.0}, {\"date\": \"2020-05-14T00:00:00\", \"variable\": \"near_min\", \"value\": 0.0}, {\"date\": \"2020-05-15T00:00:00\", \"variable\": \"near_min\", \"value\": 0.0}, {\"date\": \"2020-05-18T00:00:00\", \"variable\": \"near_min\", \"value\": 0.0}, {\"date\": \"2020-05-19T00:00:00\", \"variable\": \"near_min\", \"value\": 0.0}, {\"date\": \"2020-05-20T00:00:00\", \"variable\": \"near_min\", \"value\": 0.0}, {\"date\": \"2020-05-21T00:00:00\", \"variable\": \"near_min\", \"value\": 0.0}, {\"date\": \"2020-05-22T00:00:00\", \"variable\": \"near_min\", \"value\": 0.0}, {\"date\": \"2020-05-26T00:00:00\", \"variable\": \"near_min\", \"value\": 0.0}, {\"date\": \"2020-05-27T00:00:00\", \"variable\": \"near_min\", \"value\": 0.0}, {\"date\": \"2020-05-28T00:00:00\", \"variable\": \"near_min\", \"value\": 0.0}, {\"date\": \"2020-05-29T00:00:00\", \"variable\": \"near_min\", \"value\": 0.0}, {\"date\": \"2020-06-01T00:00:00\", \"variable\": \"near_min\", \"value\": 0.0}, {\"date\": \"2020-06-02T00:00:00\", \"variable\": \"near_min\", \"value\": 0.0}, {\"date\": \"2020-06-03T00:00:00\", \"variable\": \"near_min\", \"value\": 0.0}, {\"date\": \"2020-06-04T00:00:00\", \"variable\": \"near_min\", \"value\": 0.0}, {\"date\": \"2020-06-05T00:00:00\", \"variable\": \"near_min\", \"value\": 0.0}, {\"date\": \"2020-06-08T00:00:00\", \"variable\": \"near_min\", \"value\": 0.0}, {\"date\": \"2020-06-09T00:00:00\", \"variable\": \"near_min\", \"value\": 0.0}, {\"date\": \"2020-06-10T00:00:00\", \"variable\": \"near_min\", \"value\": 0.0}, {\"date\": \"2020-06-11T00:00:00\", \"variable\": \"near_min\", \"value\": 0.0}, {\"date\": \"2020-06-12T00:00:00\", \"variable\": \"near_min\", \"value\": 0.0}, {\"date\": \"2020-06-15T00:00:00\", \"variable\": \"near_min\", \"value\": 0.0}, {\"date\": \"2020-06-16T00:00:00\", \"variable\": \"near_min\", \"value\": 0.0}, {\"date\": \"2020-06-17T00:00:00\", \"variable\": \"near_min\", \"value\": 0.0}, {\"date\": \"2020-06-18T00:00:00\", \"variable\": \"near_min\", \"value\": 0.0}, {\"date\": \"2020-06-19T00:00:00\", \"variable\": \"near_min\", \"value\": 0.0}, {\"date\": \"2020-06-22T00:00:00\", \"variable\": \"near_min\", \"value\": 0.0}, {\"date\": \"2020-06-23T00:00:00\", \"variable\": \"near_min\", \"value\": 0.0}, {\"date\": \"2020-06-24T00:00:00\", \"variable\": \"near_min\", \"value\": 0.0}, {\"date\": \"2020-06-25T00:00:00\", \"variable\": \"near_min\", \"value\": 0.0}, {\"date\": \"2020-06-26T00:00:00\", \"variable\": \"near_min\", \"value\": 0.0}, {\"date\": \"2020-06-29T00:00:00\", \"variable\": \"near_min\", \"value\": 0.0}, {\"date\": \"2020-06-30T00:00:00\", \"variable\": \"near_min\", \"value\": 0.0}, {\"date\": \"2020-07-01T00:00:00\", \"variable\": \"near_min\", \"value\": 0.0}, {\"date\": \"2020-07-02T00:00:00\", \"variable\": \"near_min\", \"value\": 0.0}, {\"date\": \"2020-07-06T00:00:00\", \"variable\": \"near_min\", \"value\": 0.0}, {\"date\": \"2020-07-07T00:00:00\", \"variable\": \"near_min\", \"value\": 0.0}, {\"date\": \"2020-07-08T00:00:00\", \"variable\": \"near_min\", \"value\": 0.0}, {\"date\": \"2020-07-09T00:00:00\", \"variable\": \"near_min\", \"value\": 0.0}, {\"date\": \"2020-07-10T00:00:00\", \"variable\": \"near_min\", \"value\": 0.0}, {\"date\": \"2020-07-13T00:00:00\", \"variable\": \"near_min\", \"value\": 0.0}, {\"date\": \"2020-07-14T00:00:00\", \"variable\": \"near_min\", \"value\": 0.0}, {\"date\": \"2020-07-15T00:00:00\", \"variable\": \"near_min\", \"value\": 0.0}, {\"date\": \"2020-07-16T00:00:00\", \"variable\": \"near_min\", \"value\": 0.0}, {\"date\": \"2020-07-17T00:00:00\", \"variable\": \"near_min\", \"value\": 0.0}, {\"date\": \"2020-07-20T00:00:00\", \"variable\": \"near_min\", \"value\": 0.0}, {\"date\": \"2020-07-21T00:00:00\", \"variable\": \"near_min\", \"value\": 0.0}, {\"date\": \"2020-07-22T00:00:00\", \"variable\": \"near_min\", \"value\": 0.0}, {\"date\": \"2020-07-23T00:00:00\", \"variable\": \"near_min\", \"value\": 0.0}, {\"date\": \"2020-07-24T00:00:00\", \"variable\": \"near_min\", \"value\": 0.0}, {\"date\": \"2020-07-27T00:00:00\", \"variable\": \"near_min\", \"value\": 0.0}, {\"date\": \"2020-07-28T00:00:00\", \"variable\": \"near_min\", \"value\": 0.0}, {\"date\": \"2020-07-29T00:00:00\", \"variable\": \"near_min\", \"value\": 0.0}, {\"date\": \"2020-07-30T00:00:00\", \"variable\": \"near_min\", \"value\": 0.0}, {\"date\": \"2020-07-31T00:00:00\", \"variable\": \"near_min\", \"value\": 0.0}, {\"date\": \"2020-08-03T00:00:00\", \"variable\": \"near_min\", \"value\": 0.0}, {\"date\": \"2020-08-04T00:00:00\", \"variable\": \"near_min\", \"value\": 0.0}, {\"date\": \"2020-08-05T00:00:00\", \"variable\": \"near_min\", \"value\": 0.0}, {\"date\": \"2020-08-06T00:00:00\", \"variable\": \"near_min\", \"value\": 0.0}, {\"date\": \"2020-08-07T00:00:00\", \"variable\": \"near_min\", \"value\": 0.0}, {\"date\": \"2020-08-10T00:00:00\", \"variable\": \"near_min\", \"value\": 0.0}, {\"date\": \"2020-08-11T00:00:00\", \"variable\": \"near_min\", \"value\": 0.0}, {\"date\": \"2020-08-12T00:00:00\", \"variable\": \"near_min\", \"value\": 0.0}, {\"date\": \"2020-08-13T00:00:00\", \"variable\": \"near_min\", \"value\": 0.0}, {\"date\": \"2020-08-14T00:00:00\", \"variable\": \"near_min\", \"value\": 0.0}, {\"date\": \"2020-08-17T00:00:00\", \"variable\": \"near_min\", \"value\": 0.0}, {\"date\": \"2020-08-18T00:00:00\", \"variable\": \"near_min\", \"value\": 0.0}, {\"date\": \"2020-08-19T00:00:00\", \"variable\": \"near_min\", \"value\": 0.0}, {\"date\": \"2020-08-20T00:00:00\", \"variable\": \"near_min\", \"value\": 0.0}, {\"date\": \"2020-08-21T00:00:00\", \"variable\": \"near_min\", \"value\": 0.0}, {\"date\": \"2020-08-24T00:00:00\", \"variable\": \"near_min\", \"value\": 0.0}, {\"date\": \"2020-08-25T00:00:00\", \"variable\": \"near_min\", \"value\": 0.0}, {\"date\": \"2020-08-26T00:00:00\", \"variable\": \"near_min\", \"value\": 0.0}, {\"date\": \"2020-08-27T00:00:00\", \"variable\": \"near_min\", \"value\": 0.0}, {\"date\": \"2020-08-28T00:00:00\", \"variable\": \"near_min\", \"value\": 0.0}, {\"date\": \"2020-08-31T00:00:00\", \"variable\": \"near_min\", \"value\": 0.0}, {\"date\": \"2020-09-01T00:00:00\", \"variable\": \"near_min\", \"value\": 0.0}, {\"date\": \"2020-09-02T00:00:00\", \"variable\": \"near_min\", \"value\": 0.0}, {\"date\": \"2020-09-03T00:00:00\", \"variable\": \"near_min\", \"value\": 0.0}, {\"date\": \"2020-09-04T00:00:00\", \"variable\": \"near_min\", \"value\": 0.0}, {\"date\": \"2020-09-08T00:00:00\", \"variable\": \"near_min\", \"value\": 0.0}, {\"date\": \"2020-09-09T00:00:00\", \"variable\": \"near_min\", \"value\": 0.0}, {\"date\": \"2020-09-10T00:00:00\", \"variable\": \"near_min\", \"value\": 0.0}, {\"date\": \"2020-09-11T00:00:00\", \"variable\": \"near_min\", \"value\": 0.0}, {\"date\": \"2020-09-14T00:00:00\", \"variable\": \"near_min\", \"value\": 0.0}, {\"date\": \"2020-09-15T00:00:00\", \"variable\": \"near_min\", \"value\": 0.0}, {\"date\": \"2020-09-16T00:00:00\", \"variable\": \"near_min\", \"value\": 0.0}, {\"date\": \"2020-09-17T00:00:00\", \"variable\": \"near_min\", \"value\": 0.0}, {\"date\": \"2020-09-18T00:00:00\", \"variable\": \"near_min\", \"value\": 0.0}, {\"date\": \"2020-09-21T00:00:00\", \"variable\": \"near_min\", \"value\": 0.0}, {\"date\": \"2020-09-22T00:00:00\", \"variable\": \"near_min\", \"value\": 0.0}, {\"date\": \"2020-09-23T00:00:00\", \"variable\": \"near_min\", \"value\": 0.0}, {\"date\": \"2020-09-24T00:00:00\", \"variable\": \"near_min\", \"value\": 0.0}, {\"date\": \"2020-09-25T00:00:00\", \"variable\": \"near_min\", \"value\": 0.0}, {\"date\": \"2020-09-28T00:00:00\", \"variable\": \"near_min\", \"value\": 0.0}, {\"date\": \"2020-09-29T00:00:00\", \"variable\": \"near_min\", \"value\": 0.0}, {\"date\": \"2020-09-30T00:00:00\", \"variable\": \"near_min\", \"value\": 0.0}, {\"date\": \"2020-10-01T00:00:00\", \"variable\": \"near_min\", \"value\": 0.0}, {\"date\": \"2020-10-02T00:00:00\", \"variable\": \"near_min\", \"value\": 0.0}, {\"date\": \"2020-10-05T00:00:00\", \"variable\": \"near_min\", \"value\": 0.0}, {\"date\": \"2020-10-06T00:00:00\", \"variable\": \"near_min\", \"value\": 0.0}, {\"date\": \"2020-10-07T00:00:00\", \"variable\": \"near_min\", \"value\": 0.0}, {\"date\": \"2020-10-08T00:00:00\", \"variable\": \"near_min\", \"value\": 0.0}, {\"date\": \"2020-10-09T00:00:00\", \"variable\": \"near_min\", \"value\": 0.0}, {\"date\": \"2020-10-12T00:00:00\", \"variable\": \"near_min\", \"value\": 0.0}, {\"date\": \"2020-10-13T00:00:00\", \"variable\": \"near_min\", \"value\": 0.0}, {\"date\": \"2020-10-14T00:00:00\", \"variable\": \"near_min\", \"value\": 0.0}, {\"date\": \"2020-10-15T00:00:00\", \"variable\": \"near_min\", \"value\": 0.0}, {\"date\": \"2020-10-16T00:00:00\", \"variable\": \"near_min\", \"value\": 0.0}, {\"date\": \"2020-10-19T00:00:00\", \"variable\": \"near_min\", \"value\": 0.0}, {\"date\": \"2020-10-20T00:00:00\", \"variable\": \"near_min\", \"value\": 0.0}, {\"date\": \"2020-10-21T00:00:00\", \"variable\": \"near_min\", \"value\": 0.0}, {\"date\": \"2020-10-22T00:00:00\", \"variable\": \"near_min\", \"value\": 0.0}, {\"date\": \"2020-10-23T00:00:00\", \"variable\": \"near_min\", \"value\": 0.0}, {\"date\": \"2020-10-26T00:00:00\", \"variable\": \"near_min\", \"value\": 0.0}, {\"date\": \"2020-10-27T00:00:00\", \"variable\": \"near_min\", \"value\": 0.0}, {\"date\": \"2020-10-28T00:00:00\", \"variable\": \"near_min\", \"value\": 0.0}, {\"date\": \"2020-10-29T00:00:00\", \"variable\": \"near_min\", \"value\": 0.0}, {\"date\": \"2020-10-30T00:00:00\", \"variable\": \"near_min\", \"value\": 0.0}, {\"date\": \"2020-11-02T00:00:00\", \"variable\": \"near_min\", \"value\": 0.0}, {\"date\": \"2020-11-03T00:00:00\", \"variable\": \"near_min\", \"value\": 0.0}, {\"date\": \"2020-11-04T00:00:00\", \"variable\": \"near_min\", \"value\": 0.0}, {\"date\": \"2020-11-05T00:00:00\", \"variable\": \"near_min\", \"value\": 0.0}, {\"date\": \"2020-11-06T00:00:00\", \"variable\": \"near_min\", \"value\": 0.0}, {\"date\": \"2020-11-09T00:00:00\", \"variable\": \"near_min\", \"value\": 0.0}, {\"date\": \"2020-11-10T00:00:00\", \"variable\": \"near_min\", \"value\": 0.0}, {\"date\": \"2020-11-11T00:00:00\", \"variable\": \"near_min\", \"value\": 0.0}, {\"date\": \"2020-11-12T00:00:00\", \"variable\": \"near_min\", \"value\": 0.0}, {\"date\": \"2020-11-13T00:00:00\", \"variable\": \"near_min\", \"value\": 0.0}, {\"date\": \"2020-11-16T00:00:00\", \"variable\": \"near_min\", \"value\": 0.0}, {\"date\": \"2020-11-17T00:00:00\", \"variable\": \"near_min\", \"value\": 0.0}, {\"date\": \"2020-11-18T00:00:00\", \"variable\": \"near_min\", \"value\": 0.0}, {\"date\": \"2020-11-19T00:00:00\", \"variable\": \"near_min\", \"value\": 0.0}, {\"date\": \"2020-11-20T00:00:00\", \"variable\": \"near_min\", \"value\": 0.0}, {\"date\": \"2020-11-23T00:00:00\", \"variable\": \"near_min\", \"value\": 0.0}, {\"date\": \"2020-11-24T00:00:00\", \"variable\": \"near_min\", \"value\": 0.0}, {\"date\": \"2020-11-25T00:00:00\", \"variable\": \"near_min\", \"value\": 0.0}, {\"date\": \"2020-11-27T00:00:00\", \"variable\": \"near_min\", \"value\": 0.0}, {\"date\": \"2020-11-30T00:00:00\", \"variable\": \"near_min\", \"value\": 0.0}, {\"date\": \"2020-12-01T00:00:00\", \"variable\": \"near_min\", \"value\": 0.0}, {\"date\": \"2020-12-02T00:00:00\", \"variable\": \"near_min\", \"value\": 0.0}, {\"date\": \"2020-12-03T00:00:00\", \"variable\": \"near_min\", \"value\": 0.0}, {\"date\": \"2020-12-04T00:00:00\", \"variable\": \"near_min\", \"value\": 0.0}, {\"date\": \"2020-12-07T00:00:00\", \"variable\": \"near_min\", \"value\": 0.0}, {\"date\": \"2020-12-08T00:00:00\", \"variable\": \"near_min\", \"value\": 0.0}, {\"date\": \"2020-12-09T00:00:00\", \"variable\": \"near_min\", \"value\": 0.0}, {\"date\": \"2020-12-10T00:00:00\", \"variable\": \"near_min\", \"value\": 0.0}, {\"date\": \"2020-12-11T00:00:00\", \"variable\": \"near_min\", \"value\": 0.0}, {\"date\": \"2020-12-14T00:00:00\", \"variable\": \"near_min\", \"value\": 0.0}, {\"date\": \"2020-12-15T00:00:00\", \"variable\": \"near_min\", \"value\": 0.0}, {\"date\": \"2020-12-16T00:00:00\", \"variable\": \"near_min\", \"value\": 0.0}, {\"date\": \"2020-12-17T00:00:00\", \"variable\": \"near_min\", \"value\": 0.0}, {\"date\": \"2020-12-18T00:00:00\", \"variable\": \"near_min\", \"value\": 0.0}, {\"date\": \"2020-12-21T00:00:00\", \"variable\": \"near_min\", \"value\": 0.0}, {\"date\": \"2020-12-22T00:00:00\", \"variable\": \"near_min\", \"value\": 0.0}, {\"date\": \"2020-12-23T00:00:00\", \"variable\": \"near_min\", \"value\": 0.0}, {\"date\": \"2020-12-24T00:00:00\", \"variable\": \"near_min\", \"value\": 0.0}, {\"date\": \"2020-12-28T00:00:00\", \"variable\": \"near_min\", \"value\": 0.0}, {\"date\": \"2019-11-01T00:00:00\", \"variable\": \"near_max\", \"value\": 1.0}, {\"date\": \"2019-11-04T00:00:00\", \"variable\": \"near_max\", \"value\": 0.0}, {\"date\": \"2019-11-05T00:00:00\", \"variable\": \"near_max\", \"value\": 1.0}, {\"date\": \"2019-11-06T00:00:00\", \"variable\": \"near_max\", \"value\": 1.0}, {\"date\": \"2019-11-07T00:00:00\", \"variable\": \"near_max\", \"value\": 1.0}, {\"date\": \"2019-11-08T00:00:00\", \"variable\": \"near_max\", \"value\": 1.0}, {\"date\": \"2019-11-11T00:00:00\", \"variable\": \"near_max\", \"value\": 1.0}, {\"date\": \"2019-11-12T00:00:00\", \"variable\": \"near_max\", \"value\": 1.0}, {\"date\": \"2019-11-13T00:00:00\", \"variable\": \"near_max\", \"value\": 1.0}, {\"date\": \"2019-11-14T00:00:00\", \"variable\": \"near_max\", \"value\": 1.0}, {\"date\": \"2019-11-15T00:00:00\", \"variable\": \"near_max\", \"value\": 1.0}, {\"date\": \"2019-11-18T00:00:00\", \"variable\": \"near_max\", \"value\": 1.0}, {\"date\": \"2019-11-19T00:00:00\", \"variable\": \"near_max\", \"value\": 1.0}, {\"date\": \"2019-11-20T00:00:00\", \"variable\": \"near_max\", \"value\": 1.0}, {\"date\": \"2019-11-21T00:00:00\", \"variable\": \"near_max\", \"value\": 1.0}, {\"date\": \"2019-11-22T00:00:00\", \"variable\": \"near_max\", \"value\": 1.0}, {\"date\": \"2019-11-25T00:00:00\", \"variable\": \"near_max\", \"value\": 1.0}, {\"date\": \"2019-11-26T00:00:00\", \"variable\": \"near_max\", \"value\": 1.0}, {\"date\": \"2019-11-27T00:00:00\", \"variable\": \"near_max\", \"value\": 1.0}, {\"date\": \"2019-11-29T00:00:00\", \"variable\": \"near_max\", \"value\": 1.0}, {\"date\": \"2019-12-02T00:00:00\", \"variable\": \"near_max\", \"value\": 1.0}, {\"date\": \"2019-12-03T00:00:00\", \"variable\": \"near_max\", \"value\": 1.0}, {\"date\": \"2019-12-04T00:00:00\", \"variable\": \"near_max\", \"value\": 1.0}, {\"date\": \"2019-12-05T00:00:00\", \"variable\": \"near_max\", \"value\": 1.0}, {\"date\": \"2019-12-06T00:00:00\", \"variable\": \"near_max\", \"value\": 1.0}, {\"date\": \"2019-12-09T00:00:00\", \"variable\": \"near_max\", \"value\": 1.0}, {\"date\": \"2019-12-10T00:00:00\", \"variable\": \"near_max\", \"value\": 1.0}, {\"date\": \"2019-12-11T00:00:00\", \"variable\": \"near_max\", \"value\": 1.0}, {\"date\": \"2019-12-12T00:00:00\", \"variable\": \"near_max\", \"value\": 1.0}, {\"date\": \"2019-12-13T00:00:00\", \"variable\": \"near_max\", \"value\": 1.0}, {\"date\": \"2019-12-16T00:00:00\", \"variable\": \"near_max\", \"value\": 1.0}, {\"date\": \"2019-12-17T00:00:00\", \"variable\": \"near_max\", \"value\": 1.0}, {\"date\": \"2019-12-18T00:00:00\", \"variable\": \"near_max\", \"value\": 1.0}, {\"date\": \"2019-12-19T00:00:00\", \"variable\": \"near_max\", \"value\": 1.0}, {\"date\": \"2019-12-20T00:00:00\", \"variable\": \"near_max\", \"value\": 1.0}, {\"date\": \"2019-12-23T00:00:00\", \"variable\": \"near_max\", \"value\": 1.0}, {\"date\": \"2019-12-24T00:00:00\", \"variable\": \"near_max\", \"value\": 1.0}, {\"date\": \"2019-12-26T00:00:00\", \"variable\": \"near_max\", \"value\": 1.0}, {\"date\": \"2019-12-27T00:00:00\", \"variable\": \"near_max\", \"value\": 1.0}, {\"date\": \"2019-12-30T00:00:00\", \"variable\": \"near_max\", \"value\": 1.0}, {\"date\": \"2019-12-31T00:00:00\", \"variable\": \"near_max\", \"value\": 1.0}, {\"date\": \"2020-01-02T00:00:00\", \"variable\": \"near_max\", \"value\": 1.0}, {\"date\": \"2020-01-03T00:00:00\", \"variable\": \"near_max\", \"value\": 1.0}, {\"date\": \"2020-01-06T00:00:00\", \"variable\": \"near_max\", \"value\": 1.0}, {\"date\": \"2020-01-07T00:00:00\", \"variable\": \"near_max\", \"value\": 1.0}, {\"date\": \"2020-01-08T00:00:00\", \"variable\": \"near_max\", \"value\": 1.0}, {\"date\": \"2020-01-09T00:00:00\", \"variable\": \"near_max\", \"value\": 1.0}, {\"date\": \"2020-01-10T00:00:00\", \"variable\": \"near_max\", \"value\": 1.0}, {\"date\": \"2020-01-13T00:00:00\", \"variable\": \"near_max\", \"value\": 1.0}, {\"date\": \"2020-01-14T00:00:00\", \"variable\": \"near_max\", \"value\": 1.0}, {\"date\": \"2020-01-15T00:00:00\", \"variable\": \"near_max\", \"value\": 1.0}, {\"date\": \"2020-01-16T00:00:00\", \"variable\": \"near_max\", \"value\": 1.0}, {\"date\": \"2020-01-17T00:00:00\", \"variable\": \"near_max\", \"value\": 1.0}, {\"date\": \"2020-01-21T00:00:00\", \"variable\": \"near_max\", \"value\": 1.0}, {\"date\": \"2020-01-22T00:00:00\", \"variable\": \"near_max\", \"value\": 1.0}, {\"date\": \"2020-01-23T00:00:00\", \"variable\": \"near_max\", \"value\": 1.0}, {\"date\": \"2020-01-24T00:00:00\", \"variable\": \"near_max\", \"value\": 1.0}, {\"date\": \"2020-01-27T00:00:00\", \"variable\": \"near_max\", \"value\": 1.0}, {\"date\": \"2020-01-28T00:00:00\", \"variable\": \"near_max\", \"value\": 1.0}, {\"date\": \"2020-01-29T00:00:00\", \"variable\": \"near_max\", \"value\": 1.0}, {\"date\": \"2020-01-30T00:00:00\", \"variable\": \"near_max\", \"value\": 1.0}, {\"date\": \"2020-01-31T00:00:00\", \"variable\": \"near_max\", \"value\": 1.0}, {\"date\": \"2020-02-03T00:00:00\", \"variable\": \"near_max\", \"value\": 1.0}, {\"date\": \"2020-02-04T00:00:00\", \"variable\": \"near_max\", \"value\": 1.0}, {\"date\": \"2020-02-05T00:00:00\", \"variable\": \"near_max\", \"value\": 1.0}, {\"date\": \"2020-02-06T00:00:00\", \"variable\": \"near_max\", \"value\": 1.0}, {\"date\": \"2020-02-07T00:00:00\", \"variable\": \"near_max\", \"value\": 1.0}, {\"date\": \"2020-02-10T00:00:00\", \"variable\": \"near_max\", \"value\": 1.0}, {\"date\": \"2020-02-11T00:00:00\", \"variable\": \"near_max\", \"value\": 1.0}, {\"date\": \"2020-02-12T00:00:00\", \"variable\": \"near_max\", \"value\": 1.0}, {\"date\": \"2020-02-13T00:00:00\", \"variable\": \"near_max\", \"value\": 1.0}, {\"date\": \"2020-02-14T00:00:00\", \"variable\": \"near_max\", \"value\": 0.0}, {\"date\": \"2020-02-18T00:00:00\", \"variable\": \"near_max\", \"value\": 0.0}, {\"date\": \"2020-02-19T00:00:00\", \"variable\": \"near_max\", \"value\": 0.0}, {\"date\": \"2020-02-20T00:00:00\", \"variable\": \"near_max\", \"value\": 0.0}, {\"date\": \"2020-02-21T00:00:00\", \"variable\": \"near_max\", \"value\": 1.0}, {\"date\": \"2020-02-24T00:00:00\", \"variable\": \"near_max\", \"value\": 1.0}, {\"date\": \"2020-02-25T00:00:00\", \"variable\": \"near_max\", \"value\": 1.0}, {\"date\": \"2020-02-26T00:00:00\", \"variable\": \"near_max\", \"value\": 0.0}, {\"date\": \"2020-02-27T00:00:00\", \"variable\": \"near_max\", \"value\": 0.0}, {\"date\": \"2020-02-28T00:00:00\", \"variable\": \"near_max\", \"value\": 0.0}, {\"date\": \"2020-03-02T00:00:00\", \"variable\": \"near_max\", \"value\": 1.0}, {\"date\": \"2020-03-03T00:00:00\", \"variable\": \"near_max\", \"value\": 1.0}, {\"date\": \"2020-03-04T00:00:00\", \"variable\": \"near_max\", \"value\": 1.0}, {\"date\": \"2020-03-05T00:00:00\", \"variable\": \"near_max\", \"value\": 1.0}, {\"date\": \"2020-03-06T00:00:00\", \"variable\": \"near_max\", \"value\": 1.0}, {\"date\": \"2020-03-09T00:00:00\", \"variable\": \"near_max\", \"value\": 1.0}, {\"date\": \"2020-03-10T00:00:00\", \"variable\": \"near_max\", \"value\": 1.0}, {\"date\": \"2020-03-11T00:00:00\", \"variable\": \"near_max\", \"value\": 0.0}, {\"date\": \"2020-03-12T00:00:00\", \"variable\": \"near_max\", \"value\": 0.0}, {\"date\": \"2020-03-13T00:00:00\", \"variable\": \"near_max\", \"value\": 0.0}, {\"date\": \"2020-03-16T00:00:00\", \"variable\": \"near_max\", \"value\": 0.0}, {\"date\": \"2020-03-17T00:00:00\", \"variable\": \"near_max\", \"value\": 0.0}, {\"date\": \"2020-03-18T00:00:00\", \"variable\": \"near_max\", \"value\": 0.0}, {\"date\": \"2020-03-19T00:00:00\", \"variable\": \"near_max\", \"value\": 0.0}, {\"date\": \"2020-03-20T00:00:00\", \"variable\": \"near_max\", \"value\": 0.0}, {\"date\": \"2020-03-23T00:00:00\", \"variable\": \"near_max\", \"value\": 0.0}, {\"date\": \"2020-03-24T00:00:00\", \"variable\": \"near_max\", \"value\": 0.0}, {\"date\": \"2020-03-25T00:00:00\", \"variable\": \"near_max\", \"value\": 0.0}, {\"date\": \"2020-03-26T00:00:00\", \"variable\": \"near_max\", \"value\": 0.0}, {\"date\": \"2020-03-27T00:00:00\", \"variable\": \"near_max\", \"value\": 0.0}, {\"date\": \"2020-03-30T00:00:00\", \"variable\": \"near_max\", \"value\": 0.0}, {\"date\": \"2020-03-31T00:00:00\", \"variable\": \"near_max\", \"value\": 0.0}, {\"date\": \"2020-04-01T00:00:00\", \"variable\": \"near_max\", \"value\": 0.0}, {\"date\": \"2020-04-02T00:00:00\", \"variable\": \"near_max\", \"value\": 0.0}, {\"date\": \"2020-04-03T00:00:00\", \"variable\": \"near_max\", \"value\": 0.0}, {\"date\": \"2020-04-06T00:00:00\", \"variable\": \"near_max\", \"value\": 0.0}, {\"date\": \"2020-04-07T00:00:00\", \"variable\": \"near_max\", \"value\": 0.0}, {\"date\": \"2020-04-08T00:00:00\", \"variable\": \"near_max\", \"value\": 0.0}, {\"date\": \"2020-04-09T00:00:00\", \"variable\": \"near_max\", \"value\": 0.0}, {\"date\": \"2020-04-13T00:00:00\", \"variable\": \"near_max\", \"value\": 0.0}, {\"date\": \"2020-04-14T00:00:00\", \"variable\": \"near_max\", \"value\": 0.0}, {\"date\": \"2020-04-15T00:00:00\", \"variable\": \"near_max\", \"value\": 0.0}, {\"date\": \"2020-04-16T00:00:00\", \"variable\": \"near_max\", \"value\": 0.0}, {\"date\": \"2020-04-17T00:00:00\", \"variable\": \"near_max\", \"value\": 0.0}, {\"date\": \"2020-04-20T00:00:00\", \"variable\": \"near_max\", \"value\": 0.0}, {\"date\": \"2020-04-21T00:00:00\", \"variable\": \"near_max\", \"value\": 0.0}, {\"date\": \"2020-04-22T00:00:00\", \"variable\": \"near_max\", \"value\": 0.0}, {\"date\": \"2020-04-23T00:00:00\", \"variable\": \"near_max\", \"value\": 0.0}, {\"date\": \"2020-04-24T00:00:00\", \"variable\": \"near_max\", \"value\": 0.0}, {\"date\": \"2020-04-27T00:00:00\", \"variable\": \"near_max\", \"value\": 0.0}, {\"date\": \"2020-04-28T00:00:00\", \"variable\": \"near_max\", \"value\": 0.0}, {\"date\": \"2020-04-29T00:00:00\", \"variable\": \"near_max\", \"value\": 0.0}, {\"date\": \"2020-04-30T00:00:00\", \"variable\": \"near_max\", \"value\": 0.0}, {\"date\": \"2020-05-01T00:00:00\", \"variable\": \"near_max\", \"value\": 0.0}, {\"date\": \"2020-05-04T00:00:00\", \"variable\": \"near_max\", \"value\": 0.0}, {\"date\": \"2020-05-05T00:00:00\", \"variable\": \"near_max\", \"value\": 0.0}, {\"date\": \"2020-05-06T00:00:00\", \"variable\": \"near_max\", \"value\": 0.0}, {\"date\": \"2020-05-07T00:00:00\", \"variable\": \"near_max\", \"value\": 0.0}, {\"date\": \"2020-05-08T00:00:00\", \"variable\": \"near_max\", \"value\": 0.0}, {\"date\": \"2020-05-11T00:00:00\", \"variable\": \"near_max\", \"value\": 0.0}, {\"date\": \"2020-05-12T00:00:00\", \"variable\": \"near_max\", \"value\": 0.0}, {\"date\": \"2020-05-13T00:00:00\", \"variable\": \"near_max\", \"value\": 0.0}, {\"date\": \"2020-05-14T00:00:00\", \"variable\": \"near_max\", \"value\": 0.0}, {\"date\": \"2020-05-15T00:00:00\", \"variable\": \"near_max\", \"value\": 0.0}, {\"date\": \"2020-05-18T00:00:00\", \"variable\": \"near_max\", \"value\": 0.0}, {\"date\": \"2020-05-19T00:00:00\", \"variable\": \"near_max\", \"value\": 0.0}, {\"date\": \"2020-05-20T00:00:00\", \"variable\": \"near_max\", \"value\": 0.0}, {\"date\": \"2020-05-21T00:00:00\", \"variable\": \"near_max\", \"value\": 0.0}, {\"date\": \"2020-05-22T00:00:00\", \"variable\": \"near_max\", \"value\": 0.0}, {\"date\": \"2020-05-26T00:00:00\", \"variable\": \"near_max\", \"value\": 0.0}, {\"date\": \"2020-05-27T00:00:00\", \"variable\": \"near_max\", \"value\": 0.0}, {\"date\": \"2020-05-28T00:00:00\", \"variable\": \"near_max\", \"value\": 0.0}, {\"date\": \"2020-05-29T00:00:00\", \"variable\": \"near_max\", \"value\": 0.0}, {\"date\": \"2020-06-01T00:00:00\", \"variable\": \"near_max\", \"value\": 0.0}, {\"date\": \"2020-06-02T00:00:00\", \"variable\": \"near_max\", \"value\": 0.0}, {\"date\": \"2020-06-03T00:00:00\", \"variable\": \"near_max\", \"value\": 0.0}, {\"date\": \"2020-06-04T00:00:00\", \"variable\": \"near_max\", \"value\": 1.0}, {\"date\": \"2020-06-05T00:00:00\", \"variable\": \"near_max\", \"value\": 0.0}, {\"date\": \"2020-06-08T00:00:00\", \"variable\": \"near_max\", \"value\": 1.0}, {\"date\": \"2020-06-09T00:00:00\", \"variable\": \"near_max\", \"value\": 1.0}, {\"date\": \"2020-06-10T00:00:00\", \"variable\": \"near_max\", \"value\": 1.0}, {\"date\": \"2020-06-11T00:00:00\", \"variable\": \"near_max\", \"value\": 1.0}, {\"date\": \"2020-06-12T00:00:00\", \"variable\": \"near_max\", \"value\": 1.0}, {\"date\": \"2020-06-15T00:00:00\", \"variable\": \"near_max\", \"value\": 1.0}, {\"date\": \"2020-06-16T00:00:00\", \"variable\": \"near_max\", \"value\": 1.0}, {\"date\": \"2020-06-17T00:00:00\", \"variable\": \"near_max\", \"value\": 1.0}, {\"date\": \"2020-06-18T00:00:00\", \"variable\": \"near_max\", \"value\": 1.0}, {\"date\": \"2020-06-19T00:00:00\", \"variable\": \"near_max\", \"value\": 1.0}, {\"date\": \"2020-06-22T00:00:00\", \"variable\": \"near_max\", \"value\": 1.0}, {\"date\": \"2020-06-23T00:00:00\", \"variable\": \"near_max\", \"value\": 1.0}, {\"date\": \"2020-06-24T00:00:00\", \"variable\": \"near_max\", \"value\": 1.0}, {\"date\": \"2020-06-25T00:00:00\", \"variable\": \"near_max\", \"value\": 1.0}, {\"date\": \"2020-06-26T00:00:00\", \"variable\": \"near_max\", \"value\": 1.0}, {\"date\": \"2020-06-29T00:00:00\", \"variable\": \"near_max\", \"value\": 1.0}, {\"date\": \"2020-06-30T00:00:00\", \"variable\": \"near_max\", \"value\": 1.0}, {\"date\": \"2020-07-01T00:00:00\", \"variable\": \"near_max\", \"value\": 1.0}, {\"date\": \"2020-07-02T00:00:00\", \"variable\": \"near_max\", \"value\": 1.0}, {\"date\": \"2020-07-06T00:00:00\", \"variable\": \"near_max\", \"value\": 1.0}, {\"date\": \"2020-07-07T00:00:00\", \"variable\": \"near_max\", \"value\": 1.0}, {\"date\": \"2020-07-08T00:00:00\", \"variable\": \"near_max\", \"value\": 1.0}, {\"date\": \"2020-07-09T00:00:00\", \"variable\": \"near_max\", \"value\": 1.0}, {\"date\": \"2020-07-10T00:00:00\", \"variable\": \"near_max\", \"value\": 1.0}, {\"date\": \"2020-07-13T00:00:00\", \"variable\": \"near_max\", \"value\": 1.0}, {\"date\": \"2020-07-14T00:00:00\", \"variable\": \"near_max\", \"value\": 1.0}, {\"date\": \"2020-07-15T00:00:00\", \"variable\": \"near_max\", \"value\": 1.0}, {\"date\": \"2020-07-16T00:00:00\", \"variable\": \"near_max\", \"value\": 1.0}, {\"date\": \"2020-07-17T00:00:00\", \"variable\": \"near_max\", \"value\": 1.0}, {\"date\": \"2020-07-20T00:00:00\", \"variable\": \"near_max\", \"value\": 1.0}, {\"date\": \"2020-07-21T00:00:00\", \"variable\": \"near_max\", \"value\": 1.0}, {\"date\": \"2020-07-22T00:00:00\", \"variable\": \"near_max\", \"value\": 1.0}, {\"date\": \"2020-07-23T00:00:00\", \"variable\": \"near_max\", \"value\": 1.0}, {\"date\": \"2020-07-24T00:00:00\", \"variable\": \"near_max\", \"value\": 1.0}, {\"date\": \"2020-07-27T00:00:00\", \"variable\": \"near_max\", \"value\": 1.0}, {\"date\": \"2020-07-28T00:00:00\", \"variable\": \"near_max\", \"value\": 1.0}, {\"date\": \"2020-07-29T00:00:00\", \"variable\": \"near_max\", \"value\": 1.0}, {\"date\": \"2020-07-30T00:00:00\", \"variable\": \"near_max\", \"value\": 1.0}, {\"date\": \"2020-07-31T00:00:00\", \"variable\": \"near_max\", \"value\": 1.0}, {\"date\": \"2020-08-03T00:00:00\", \"variable\": \"near_max\", \"value\": 1.0}, {\"date\": \"2020-08-04T00:00:00\", \"variable\": \"near_max\", \"value\": 1.0}, {\"date\": \"2020-08-05T00:00:00\", \"variable\": \"near_max\", \"value\": 1.0}, {\"date\": \"2020-08-06T00:00:00\", \"variable\": \"near_max\", \"value\": 1.0}, {\"date\": \"2020-08-07T00:00:00\", \"variable\": \"near_max\", \"value\": 1.0}, {\"date\": \"2020-08-10T00:00:00\", \"variable\": \"near_max\", \"value\": 1.0}, {\"date\": \"2020-08-11T00:00:00\", \"variable\": \"near_max\", \"value\": 1.0}, {\"date\": \"2020-08-12T00:00:00\", \"variable\": \"near_max\", \"value\": 1.0}, {\"date\": \"2020-08-13T00:00:00\", \"variable\": \"near_max\", \"value\": 1.0}, {\"date\": \"2020-08-14T00:00:00\", \"variable\": \"near_max\", \"value\": 1.0}, {\"date\": \"2020-08-17T00:00:00\", \"variable\": \"near_max\", \"value\": 1.0}, {\"date\": \"2020-08-18T00:00:00\", \"variable\": \"near_max\", \"value\": 1.0}, {\"date\": \"2020-08-19T00:00:00\", \"variable\": \"near_max\", \"value\": 1.0}, {\"date\": \"2020-08-20T00:00:00\", \"variable\": \"near_max\", \"value\": 1.0}, {\"date\": \"2020-08-21T00:00:00\", \"variable\": \"near_max\", \"value\": 1.0}, {\"date\": \"2020-08-24T00:00:00\", \"variable\": \"near_max\", \"value\": 1.0}, {\"date\": \"2020-08-25T00:00:00\", \"variable\": \"near_max\", \"value\": 1.0}, {\"date\": \"2020-08-26T00:00:00\", \"variable\": \"near_max\", \"value\": 1.0}, {\"date\": \"2020-08-27T00:00:00\", \"variable\": \"near_max\", \"value\": 1.0}, {\"date\": \"2020-08-28T00:00:00\", \"variable\": \"near_max\", \"value\": 1.0}, {\"date\": \"2020-08-31T00:00:00\", \"variable\": \"near_max\", \"value\": 1.0}, {\"date\": \"2020-09-01T00:00:00\", \"variable\": \"near_max\", \"value\": 1.0}, {\"date\": \"2020-09-02T00:00:00\", \"variable\": \"near_max\", \"value\": 1.0}, {\"date\": \"2020-09-03T00:00:00\", \"variable\": \"near_max\", \"value\": 1.0}, {\"date\": \"2020-09-04T00:00:00\", \"variable\": \"near_max\", \"value\": 1.0}, {\"date\": \"2020-09-08T00:00:00\", \"variable\": \"near_max\", \"value\": 1.0}, {\"date\": \"2020-09-09T00:00:00\", \"variable\": \"near_max\", \"value\": 1.0}, {\"date\": \"2020-09-10T00:00:00\", \"variable\": \"near_max\", \"value\": 1.0}, {\"date\": \"2020-09-11T00:00:00\", \"variable\": \"near_max\", \"value\": 1.0}, {\"date\": \"2020-09-14T00:00:00\", \"variable\": \"near_max\", \"value\": 1.0}, {\"date\": \"2020-09-15T00:00:00\", \"variable\": \"near_max\", \"value\": 1.0}, {\"date\": \"2020-09-16T00:00:00\", \"variable\": \"near_max\", \"value\": 1.0}, {\"date\": \"2020-09-17T00:00:00\", \"variable\": \"near_max\", \"value\": 1.0}, {\"date\": \"2020-09-18T00:00:00\", \"variable\": \"near_max\", \"value\": 1.0}, {\"date\": \"2020-09-21T00:00:00\", \"variable\": \"near_max\", \"value\": 1.0}, {\"date\": \"2020-09-22T00:00:00\", \"variable\": \"near_max\", \"value\": 1.0}, {\"date\": \"2020-09-23T00:00:00\", \"variable\": \"near_max\", \"value\": 1.0}, {\"date\": \"2020-09-24T00:00:00\", \"variable\": \"near_max\", \"value\": 1.0}, {\"date\": \"2020-09-25T00:00:00\", \"variable\": \"near_max\", \"value\": 1.0}, {\"date\": \"2020-09-28T00:00:00\", \"variable\": \"near_max\", \"value\": 1.0}, {\"date\": \"2020-09-29T00:00:00\", \"variable\": \"near_max\", \"value\": 1.0}, {\"date\": \"2020-09-30T00:00:00\", \"variable\": \"near_max\", \"value\": 1.0}, {\"date\": \"2020-10-01T00:00:00\", \"variable\": \"near_max\", \"value\": 1.0}, {\"date\": \"2020-10-02T00:00:00\", \"variable\": \"near_max\", \"value\": 1.0}, {\"date\": \"2020-10-05T00:00:00\", \"variable\": \"near_max\", \"value\": 1.0}, {\"date\": \"2020-10-06T00:00:00\", \"variable\": \"near_max\", \"value\": 1.0}, {\"date\": \"2020-10-07T00:00:00\", \"variable\": \"near_max\", \"value\": 1.0}, {\"date\": \"2020-10-08T00:00:00\", \"variable\": \"near_max\", \"value\": 1.0}, {\"date\": \"2020-10-09T00:00:00\", \"variable\": \"near_max\", \"value\": 1.0}, {\"date\": \"2020-10-12T00:00:00\", \"variable\": \"near_max\", \"value\": 1.0}, {\"date\": \"2020-10-13T00:00:00\", \"variable\": \"near_max\", \"value\": 1.0}, {\"date\": \"2020-10-14T00:00:00\", \"variable\": \"near_max\", \"value\": 1.0}, {\"date\": \"2020-10-15T00:00:00\", \"variable\": \"near_max\", \"value\": 1.0}, {\"date\": \"2020-10-16T00:00:00\", \"variable\": \"near_max\", \"value\": 1.0}, {\"date\": \"2020-10-19T00:00:00\", \"variable\": \"near_max\", \"value\": 1.0}, {\"date\": \"2020-10-20T00:00:00\", \"variable\": \"near_max\", \"value\": 1.0}, {\"date\": \"2020-10-21T00:00:00\", \"variable\": \"near_max\", \"value\": 0.0}, {\"date\": \"2020-10-22T00:00:00\", \"variable\": \"near_max\", \"value\": 0.0}, {\"date\": \"2020-10-23T00:00:00\", \"variable\": \"near_max\", \"value\": 0.0}, {\"date\": \"2020-10-26T00:00:00\", \"variable\": \"near_max\", \"value\": 0.0}, {\"date\": \"2020-10-27T00:00:00\", \"variable\": \"near_max\", \"value\": 0.0}, {\"date\": \"2020-10-28T00:00:00\", \"variable\": \"near_max\", \"value\": 0.0}, {\"date\": \"2020-10-29T00:00:00\", \"variable\": \"near_max\", \"value\": 0.0}, {\"date\": \"2020-10-30T00:00:00\", \"variable\": \"near_max\", \"value\": 0.0}, {\"date\": \"2020-11-02T00:00:00\", \"variable\": \"near_max\", \"value\": 0.0}, {\"date\": \"2020-11-03T00:00:00\", \"variable\": \"near_max\", \"value\": 0.0}, {\"date\": \"2020-11-04T00:00:00\", \"variable\": \"near_max\", \"value\": 0.0}, {\"date\": \"2020-11-05T00:00:00\", \"variable\": \"near_max\", \"value\": 0.0}, {\"date\": \"2020-11-06T00:00:00\", \"variable\": \"near_max\", \"value\": 0.0}, {\"date\": \"2020-11-09T00:00:00\", \"variable\": \"near_max\", \"value\": 0.0}, {\"date\": \"2020-11-10T00:00:00\", \"variable\": \"near_max\", \"value\": 0.0}, {\"date\": \"2020-11-11T00:00:00\", \"variable\": \"near_max\", \"value\": 0.0}, {\"date\": \"2020-11-12T00:00:00\", \"variable\": \"near_max\", \"value\": 0.0}, {\"date\": \"2020-11-13T00:00:00\", \"variable\": \"near_max\", \"value\": 0.0}, {\"date\": \"2020-11-16T00:00:00\", \"variable\": \"near_max\", \"value\": 0.0}, {\"date\": \"2020-11-17T00:00:00\", \"variable\": \"near_max\", \"value\": 0.0}, {\"date\": \"2020-11-18T00:00:00\", \"variable\": \"near_max\", \"value\": 0.0}, {\"date\": \"2020-11-19T00:00:00\", \"variable\": \"near_max\", \"value\": 0.0}, {\"date\": \"2020-11-20T00:00:00\", \"variable\": \"near_max\", \"value\": 0.0}, {\"date\": \"2020-11-23T00:00:00\", \"variable\": \"near_max\", \"value\": 0.0}, {\"date\": \"2020-11-24T00:00:00\", \"variable\": \"near_max\", \"value\": 0.0}, {\"date\": \"2020-11-25T00:00:00\", \"variable\": \"near_max\", \"value\": 0.0}, {\"date\": \"2020-11-27T00:00:00\", \"variable\": \"near_max\", \"value\": 0.0}, {\"date\": \"2020-11-30T00:00:00\", \"variable\": \"near_max\", \"value\": 0.0}, {\"date\": \"2020-12-01T00:00:00\", \"variable\": \"near_max\", \"value\": 0.0}, {\"date\": \"2020-12-02T00:00:00\", \"variable\": \"near_max\", \"value\": 0.0}, {\"date\": \"2020-12-03T00:00:00\", \"variable\": \"near_max\", \"value\": 0.0}, {\"date\": \"2020-12-04T00:00:00\", \"variable\": \"near_max\", \"value\": 0.0}, {\"date\": \"2020-12-07T00:00:00\", \"variable\": \"near_max\", \"value\": 0.0}, {\"date\": \"2020-12-08T00:00:00\", \"variable\": \"near_max\", \"value\": 0.0}, {\"date\": \"2020-12-09T00:00:00\", \"variable\": \"near_max\", \"value\": 0.0}, {\"date\": \"2020-12-10T00:00:00\", \"variable\": \"near_max\", \"value\": 0.0}, {\"date\": \"2020-12-11T00:00:00\", \"variable\": \"near_max\", \"value\": 0.0}, {\"date\": \"2020-12-14T00:00:00\", \"variable\": \"near_max\", \"value\": 0.0}, {\"date\": \"2020-12-15T00:00:00\", \"variable\": \"near_max\", \"value\": 1.0}, {\"date\": \"2020-12-16T00:00:00\", \"variable\": \"near_max\", \"value\": 1.0}, {\"date\": \"2020-12-17T00:00:00\", \"variable\": \"near_max\", \"value\": 1.0}, {\"date\": \"2020-12-18T00:00:00\", \"variable\": \"near_max\", \"value\": 1.0}, {\"date\": \"2020-12-21T00:00:00\", \"variable\": \"near_max\", \"value\": 1.0}, {\"date\": \"2020-12-22T00:00:00\", \"variable\": \"near_max\", \"value\": 1.0}, {\"date\": \"2020-12-23T00:00:00\", \"variable\": \"near_max\", \"value\": 1.0}, {\"date\": \"2020-12-24T00:00:00\", \"variable\": \"near_max\", \"value\": 1.0}, {\"date\": \"2020-12-28T00:00:00\", \"variable\": \"near_max\", \"value\": 1.0}], \"data-54ce6dcf121f4c14d7d78e29b56b403a\": [{\"value\": 0.024054982817869417}], \"data-2fc0736198c15e1a8eef55c398557896\": [{\"value\": 0.6357388316151202}]}}, {\"mode\": \"vega-lite\"});\n",
       "</script>"
      ],
      "text/plain": [
       "alt.LayerChart(...)"
      ]
     },
     "metadata": {},
     "output_type": "display_data"
    }
   ],
   "source": [
    "# https://altair-viz.github.io/gallery/multiline_tooltip.html\n",
    "\n",
    "import altair as alt\n",
    "import pandas as pd\n",
    "\n",
    "# Create a selection that chooses the nearest point & selects based on x-value\n",
    "nearest = alt.selection(type='single', nearest=True, on='mouseover',\n",
    "                        fields=['date'], empty='none')\n",
    "\n",
    "# The basic line\n",
    "line = alt.Chart(data_alt).mark_line(interpolate='basis').encode(\n",
    "    x='date:T',\n",
    "    y='value:Q',\n",
    "#     color=alt.Color('color:N', scale = None)\n",
    "    color='variable:N'\n",
    ")\n",
    "\n",
    "# Transparent selectors across the chart. This is what tells us\n",
    "# the x-value of the cursor\n",
    "selectors = alt.Chart(data_alt).mark_point().encode(\n",
    "    x='date:T',\n",
    "    opacity=alt.value(0),\n",
    ").add_selection(\n",
    "    nearest\n",
    ")\n",
    "\n",
    "# Draw points on the line, and highlight based on selection\n",
    "points = line.mark_point().encode(\n",
    "    opacity=alt.condition(nearest, alt.value(1), alt.value(0))\n",
    ")\n",
    "\n",
    "# Draw text labels near the points, and highlight based on selection\n",
    "text = line.mark_text(align='left', dx=5, dy=-5).encode(\n",
    "    text=alt.condition(nearest, 'value:Q', alt.value(' '))\n",
    ")\n",
    "\n",
    "# Draw a rule at the location of the selection\n",
    "rules = alt.Chart(data_alt).mark_rule(color='gray').encode(\n",
    "    x='date:T',\n",
    ").transform_filter(\n",
    "    nearest\n",
    ")\n",
    "\n",
    "# Horizontal average lines\n",
    "avg_min = data_alt[data_alt['variable'] == 'near_min'].value.mean()\n",
    "avg_max = data_alt[data_alt['variable'] == 'near_max'].value.mean()\n",
    "\n",
    "line_avg_min = alt.Chart(pd.DataFrame({'value': [avg_min]})).mark_rule(strokeDash=[5,5]).encode(y='value')\n",
    "line_avg_max = alt.Chart(pd.DataFrame({'value': [avg_max]})).mark_rule(strokeDash=[5,5]).encode(y='value')\n",
    "\n",
    "# Put the five layers into a chart and bind the data\n",
    "chart = alt.layer(\n",
    "    line, selectors, points, rules, text, line_avg_min, line_avg_max\n",
    ").properties(\n",
    "    width=600, height=300\n",
    ")\n",
    "\n",
    "\n",
    "with alt.data_transformers.enable(max_rows=None):\n",
    "    chart.display()\n",
    "    #.save('chart.html', embed_options={'renderer':'svg'})"
   ]
  },
  {
   "cell_type": "code",
   "execution_count": 35,
   "metadata": {},
   "outputs": [
    {
     "name": "stdout",
     "output_type": "stream",
     "text": [
      "AAPL: Trying to access historical data between 2010-08-25 00:00:00 and 2020-08-25 00:00:00.\n",
      "AAPL: Data is catched between 2006-12-26 00:00:00 and 2020-12-29 00:00:00.\n",
      "Successfully processed AAPL\n",
      "SSSS: Trying to access historical data between 2010-08-25 00:00:00 and 2020-08-25 00:00:00.\n",
      "SSSS: Data is catched between 2006-12-28 00:00:00 and 2020-12-28 00:00:00.\n",
      "Successfully processed SSSS\n",
      "SNPE: Trying to access historical data between 2010-08-25 00:00:00 and 2020-08-25 00:00:00.\n",
      "SNPE: Data is catched between 2006-12-28 00:00:00 and 2020-12-28 00:00:00.\n",
      "Successfully processed SNPE\n",
      "PFSI: Trying to access historical data between 2010-08-25 00:00:00 and 2020-08-25 00:00:00.\n",
      "PFSI: Data is catched between 2006-12-28 00:00:00 and 2020-12-29 00:00:00.\n",
      "Successfully processed PFSI\n",
      "DONE computing min & max for 0.1\n",
      "DONE computing min & max for 0.2\n"
     ]
    }
   ],
   "source": [
    "dfs_res = compute_near_max_min(symbols)"
   ]
  },
  {
   "cell_type": "code",
   "execution_count": 36,
   "metadata": {},
   "outputs": [
    {
     "data": {
      "text/html": [
       "<div>\n",
       "<style scoped>\n",
       "    .dataframe tbody tr th:only-of-type {\n",
       "        vertical-align: middle;\n",
       "    }\n",
       "\n",
       "    .dataframe tbody tr th {\n",
       "        vertical-align: top;\n",
       "    }\n",
       "\n",
       "    .dataframe thead th {\n",
       "        text-align: right;\n",
       "    }\n",
       "</style>\n",
       "<table border=\"1\" class=\"dataframe\">\n",
       "  <thead>\n",
       "    <tr style=\"text-align: right;\">\n",
       "      <th></th>\n",
       "      <th>near_min</th>\n",
       "      <th>near_max</th>\n",
       "    </tr>\n",
       "    <tr>\n",
       "      <th>date</th>\n",
       "      <th></th>\n",
       "      <th></th>\n",
       "    </tr>\n",
       "  </thead>\n",
       "  <tbody>\n",
       "    <tr>\n",
       "      <th>2018-11-01</th>\n",
       "      <td>NaN</td>\n",
       "      <td>NaN</td>\n",
       "    </tr>\n",
       "    <tr>\n",
       "      <th>2018-11-02</th>\n",
       "      <td>NaN</td>\n",
       "      <td>NaN</td>\n",
       "    </tr>\n",
       "    <tr>\n",
       "      <th>2018-11-05</th>\n",
       "      <td>NaN</td>\n",
       "      <td>NaN</td>\n",
       "    </tr>\n",
       "    <tr>\n",
       "      <th>2018-11-06</th>\n",
       "      <td>NaN</td>\n",
       "      <td>NaN</td>\n",
       "    </tr>\n",
       "    <tr>\n",
       "      <th>2018-11-07</th>\n",
       "      <td>NaN</td>\n",
       "      <td>NaN</td>\n",
       "    </tr>\n",
       "    <tr>\n",
       "      <th>...</th>\n",
       "      <td>...</td>\n",
       "      <td>...</td>\n",
       "    </tr>\n",
       "    <tr>\n",
       "      <th>2020-12-21</th>\n",
       "      <td>0.0</td>\n",
       "      <td>1.0</td>\n",
       "    </tr>\n",
       "    <tr>\n",
       "      <th>2020-12-22</th>\n",
       "      <td>0.0</td>\n",
       "      <td>1.0</td>\n",
       "    </tr>\n",
       "    <tr>\n",
       "      <th>2020-12-23</th>\n",
       "      <td>0.0</td>\n",
       "      <td>1.0</td>\n",
       "    </tr>\n",
       "    <tr>\n",
       "      <th>2020-12-24</th>\n",
       "      <td>0.0</td>\n",
       "      <td>1.0</td>\n",
       "    </tr>\n",
       "    <tr>\n",
       "      <th>2020-12-28</th>\n",
       "      <td>0.0</td>\n",
       "      <td>1.0</td>\n",
       "    </tr>\n",
       "  </tbody>\n",
       "</table>\n",
       "<p>542 rows × 2 columns</p>\n",
       "</div>"
      ],
      "text/plain": [
       "            near_min  near_max\n",
       "date                          \n",
       "2018-11-01       NaN       NaN\n",
       "2018-11-02       NaN       NaN\n",
       "2018-11-05       NaN       NaN\n",
       "2018-11-06       NaN       NaN\n",
       "2018-11-07       NaN       NaN\n",
       "...              ...       ...\n",
       "2020-12-21       0.0       1.0\n",
       "2020-12-22       0.0       1.0\n",
       "2020-12-23       0.0       1.0\n",
       "2020-12-24       0.0       1.0\n",
       "2020-12-28       0.0       1.0\n",
       "\n",
       "[542 rows x 2 columns]"
      ]
     },
     "execution_count": 36,
     "metadata": {},
     "output_type": "execute_result"
    }
   ],
   "source": [
    "dfs_res[0.1]"
   ]
  },
  {
   "cell_type": "code",
   "execution_count": 37,
   "metadata": {},
   "outputs": [
    {
     "name": "stdout",
     "output_type": "stream",
     "text": [
      "./dev_per_high_low_2021_05_25.html\n",
      "Blob name must be an absolute path\n",
      "Blob name must be an absolute path\n",
      "./dev_per_high_low_2021_05_25.html\n",
      "Blob name must be an absolute path\n",
      "Blob name must be an absolute path\n"
     ]
    }
   ],
   "source": [
    "for delta in dfs_res.keys(): save_daily_results(dfs_res[delta], delta)"
   ]
  }
 ],
 "metadata": {
  "kernelspec": {
   "display_name": "market_navigator_env",
   "language": "python",
   "name": "market_navigator_env"
  },
  "language_info": {
   "codemirror_mode": {
    "name": "ipython",
    "version": 3
   },
   "file_extension": ".py",
   "mimetype": "text/x-python",
   "name": "python",
   "nbconvert_exporter": "python",
   "pygments_lexer": "ipython3",
   "version": "3.7.7"
  }
 },
 "nbformat": 4,
 "nbformat_minor": 4
}
